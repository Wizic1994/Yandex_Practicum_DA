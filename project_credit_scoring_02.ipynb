{
 "cells": [
  {
   "cell_type": "markdown",
   "id": "386f2ae7",
   "metadata": {
    "deletable": false,
    "editable": false,
    "id": "386f2ae7"
   },
   "source": [
    "# Исследование надежности заемщиков\n"
   ]
  },
  {
   "cell_type": "markdown",
   "id": "60d98308",
   "metadata": {},
   "source": [
    "**Цель:** разобраться, влияет ли семейное положение и количество детей клиента на факт погашения кредита в срок. Входные данные от банка — статистика о платёжеспособности клиентов.\n",
    "Результаты исследования будут учтены при построении модели кредитного скоринга — специальной системы, которая оценивает способность потенциального заёмщика вернуть кредит банку.\n",
    "\n",
    "Описание данных:\n",
    "    \n",
    "- **children** — количество детей в семье\n",
    "\n",
    "- **days_employed** — общий трудовой стаж в днях\n",
    "\n",
    "- **dob_years** — возраст клиента в годах\n",
    "\n",
    "- **education** — уровень образования клиента\n",
    "\n",
    "- **education_id** — идентификатор уровня образования\n",
    "\n",
    "- **family_status** — семейное положение\n",
    "\n",
    "- **family_status_id** — идентификатор семейного положения\n",
    "\n",
    "- **gender** — пол клиента\n",
    "\n",
    "- **income_type** — тип занятости\n",
    "\n",
    "- **debt** — имел ли задолженность по возврату кредитов\n",
    "\n",
    "- **total_income** — ежемесячный доход\n",
    "\n",
    "- **purpose** — цель получения кредита"
   ]
  },
  {
   "cell_type": "markdown",
   "id": "ffe86f65",
   "metadata": {
    "deletable": false,
    "editable": false,
    "id": "ffe86f65"
   },
   "source": [
    "Во второй части проекта вы выполните шаги 3 и 4. Их вручную проверит ревьюер.\n",
    "Чтобы вам не пришлось писать код заново для шагов 1 и 2, мы добавили авторские решения в ячейки с кодом. \n",
    "\n"
   ]
  },
  {
   "cell_type": "markdown",
   "id": "26613308",
   "metadata": {
    "deletable": false,
    "editable": false,
    "id": "26613308"
   },
   "source": [
    "## Откройте таблицу и изучите общую информацию о данных"
   ]
  },
  {
   "cell_type": "markdown",
   "id": "3c9f838e",
   "metadata": {
    "deletable": false,
    "editable": false,
    "id": "3c9f838e"
   },
   "source": [
    "**Задание 1. Импортируйте библиотеку pandas. Считайте данные из csv-файла в датафрейм и сохраните в переменную `data`. Путь к файлу:**\n",
    "\n",
    "`/datasets/data.csv`"
   ]
  },
  {
   "cell_type": "code",
   "execution_count": 1,
   "id": "77a68a90",
   "metadata": {
    "deletable": false,
    "id": "77a68a90"
   },
   "outputs": [],
   "source": [
    "import pandas as pd\n",
    "import seaborn as sns\n",
    "import matplotlib.pyplot as plt\n",
    "import os"
   ]
  },
  {
   "cell_type": "code",
   "execution_count": 2,
   "id": "f2efdb9c",
   "metadata": {},
   "outputs": [],
   "source": [
    "pth1 = '/datasets/data.csv'\n",
    "pth2 = 'https://code.s3.yandex.net/datasets/data.csv'\n",
    "\n",
    "if os.path.exists(pth1):\n",
    "    data = pd.read_csv(pth1)\n",
    "elif os.path.exists(pth2):\n",
    "    data = pd.read_csv(pth2)\n",
    "else:\n",
    "    print('Something is wrong')"
   ]
  },
  {
   "cell_type": "markdown",
   "id": "45365635",
   "metadata": {
    "deletable": false,
    "editable": false,
    "id": "45365635"
   },
   "source": [
    "**Задание 2. Выведите первые 20 строчек датафрейма `data` на экран.**"
   ]
  },
  {
   "cell_type": "code",
   "execution_count": 3,
   "id": "b0451a9a",
   "metadata": {
    "deletable": false,
    "id": "b0451a9a",
    "outputId": "1a8f3ef2-d323-4ec2-ddf7-89670b5944c4"
   },
   "outputs": [
    {
     "data": {
      "text/html": [
       "<div>\n",
       "<style scoped>\n",
       "    .dataframe tbody tr th:only-of-type {\n",
       "        vertical-align: middle;\n",
       "    }\n",
       "\n",
       "    .dataframe tbody tr th {\n",
       "        vertical-align: top;\n",
       "    }\n",
       "\n",
       "    .dataframe thead th {\n",
       "        text-align: right;\n",
       "    }\n",
       "</style>\n",
       "<table border=\"1\" class=\"dataframe\">\n",
       "  <thead>\n",
       "    <tr style=\"text-align: right;\">\n",
       "      <th></th>\n",
       "      <th>children</th>\n",
       "      <th>days_employed</th>\n",
       "      <th>dob_years</th>\n",
       "      <th>education</th>\n",
       "      <th>education_id</th>\n",
       "      <th>family_status</th>\n",
       "      <th>family_status_id</th>\n",
       "      <th>gender</th>\n",
       "      <th>income_type</th>\n",
       "      <th>debt</th>\n",
       "      <th>total_income</th>\n",
       "      <th>purpose</th>\n",
       "    </tr>\n",
       "  </thead>\n",
       "  <tbody>\n",
       "    <tr>\n",
       "      <th>0</th>\n",
       "      <td>1</td>\n",
       "      <td>-8437.673028</td>\n",
       "      <td>42</td>\n",
       "      <td>высшее</td>\n",
       "      <td>0</td>\n",
       "      <td>женат / замужем</td>\n",
       "      <td>0</td>\n",
       "      <td>F</td>\n",
       "      <td>сотрудник</td>\n",
       "      <td>0</td>\n",
       "      <td>253875.639453</td>\n",
       "      <td>покупка жилья</td>\n",
       "    </tr>\n",
       "    <tr>\n",
       "      <th>1</th>\n",
       "      <td>1</td>\n",
       "      <td>-4024.803754</td>\n",
       "      <td>36</td>\n",
       "      <td>среднее</td>\n",
       "      <td>1</td>\n",
       "      <td>женат / замужем</td>\n",
       "      <td>0</td>\n",
       "      <td>F</td>\n",
       "      <td>сотрудник</td>\n",
       "      <td>0</td>\n",
       "      <td>112080.014102</td>\n",
       "      <td>приобретение автомобиля</td>\n",
       "    </tr>\n",
       "    <tr>\n",
       "      <th>2</th>\n",
       "      <td>0</td>\n",
       "      <td>-5623.422610</td>\n",
       "      <td>33</td>\n",
       "      <td>Среднее</td>\n",
       "      <td>1</td>\n",
       "      <td>женат / замужем</td>\n",
       "      <td>0</td>\n",
       "      <td>M</td>\n",
       "      <td>сотрудник</td>\n",
       "      <td>0</td>\n",
       "      <td>145885.952297</td>\n",
       "      <td>покупка жилья</td>\n",
       "    </tr>\n",
       "    <tr>\n",
       "      <th>3</th>\n",
       "      <td>3</td>\n",
       "      <td>-4124.747207</td>\n",
       "      <td>32</td>\n",
       "      <td>среднее</td>\n",
       "      <td>1</td>\n",
       "      <td>женат / замужем</td>\n",
       "      <td>0</td>\n",
       "      <td>M</td>\n",
       "      <td>сотрудник</td>\n",
       "      <td>0</td>\n",
       "      <td>267628.550329</td>\n",
       "      <td>дополнительное образование</td>\n",
       "    </tr>\n",
       "    <tr>\n",
       "      <th>4</th>\n",
       "      <td>0</td>\n",
       "      <td>340266.072047</td>\n",
       "      <td>53</td>\n",
       "      <td>среднее</td>\n",
       "      <td>1</td>\n",
       "      <td>гражданский брак</td>\n",
       "      <td>1</td>\n",
       "      <td>F</td>\n",
       "      <td>пенсионер</td>\n",
       "      <td>0</td>\n",
       "      <td>158616.077870</td>\n",
       "      <td>сыграть свадьбу</td>\n",
       "    </tr>\n",
       "    <tr>\n",
       "      <th>5</th>\n",
       "      <td>0</td>\n",
       "      <td>-926.185831</td>\n",
       "      <td>27</td>\n",
       "      <td>высшее</td>\n",
       "      <td>0</td>\n",
       "      <td>гражданский брак</td>\n",
       "      <td>1</td>\n",
       "      <td>M</td>\n",
       "      <td>компаньон</td>\n",
       "      <td>0</td>\n",
       "      <td>255763.565419</td>\n",
       "      <td>покупка жилья</td>\n",
       "    </tr>\n",
       "    <tr>\n",
       "      <th>6</th>\n",
       "      <td>0</td>\n",
       "      <td>-2879.202052</td>\n",
       "      <td>43</td>\n",
       "      <td>высшее</td>\n",
       "      <td>0</td>\n",
       "      <td>женат / замужем</td>\n",
       "      <td>0</td>\n",
       "      <td>F</td>\n",
       "      <td>компаньон</td>\n",
       "      <td>0</td>\n",
       "      <td>240525.971920</td>\n",
       "      <td>операции с жильем</td>\n",
       "    </tr>\n",
       "    <tr>\n",
       "      <th>7</th>\n",
       "      <td>0</td>\n",
       "      <td>-152.779569</td>\n",
       "      <td>50</td>\n",
       "      <td>СРЕДНЕЕ</td>\n",
       "      <td>1</td>\n",
       "      <td>женат / замужем</td>\n",
       "      <td>0</td>\n",
       "      <td>M</td>\n",
       "      <td>сотрудник</td>\n",
       "      <td>0</td>\n",
       "      <td>135823.934197</td>\n",
       "      <td>образование</td>\n",
       "    </tr>\n",
       "    <tr>\n",
       "      <th>8</th>\n",
       "      <td>2</td>\n",
       "      <td>-6929.865299</td>\n",
       "      <td>35</td>\n",
       "      <td>ВЫСШЕЕ</td>\n",
       "      <td>0</td>\n",
       "      <td>гражданский брак</td>\n",
       "      <td>1</td>\n",
       "      <td>F</td>\n",
       "      <td>сотрудник</td>\n",
       "      <td>0</td>\n",
       "      <td>95856.832424</td>\n",
       "      <td>на проведение свадьбы</td>\n",
       "    </tr>\n",
       "    <tr>\n",
       "      <th>9</th>\n",
       "      <td>0</td>\n",
       "      <td>-2188.756445</td>\n",
       "      <td>41</td>\n",
       "      <td>среднее</td>\n",
       "      <td>1</td>\n",
       "      <td>женат / замужем</td>\n",
       "      <td>0</td>\n",
       "      <td>M</td>\n",
       "      <td>сотрудник</td>\n",
       "      <td>0</td>\n",
       "      <td>144425.938277</td>\n",
       "      <td>покупка жилья для семьи</td>\n",
       "    </tr>\n",
       "    <tr>\n",
       "      <th>10</th>\n",
       "      <td>2</td>\n",
       "      <td>-4171.483647</td>\n",
       "      <td>36</td>\n",
       "      <td>высшее</td>\n",
       "      <td>0</td>\n",
       "      <td>женат / замужем</td>\n",
       "      <td>0</td>\n",
       "      <td>M</td>\n",
       "      <td>компаньон</td>\n",
       "      <td>0</td>\n",
       "      <td>113943.491460</td>\n",
       "      <td>покупка недвижимости</td>\n",
       "    </tr>\n",
       "    <tr>\n",
       "      <th>11</th>\n",
       "      <td>0</td>\n",
       "      <td>-792.701887</td>\n",
       "      <td>40</td>\n",
       "      <td>среднее</td>\n",
       "      <td>1</td>\n",
       "      <td>женат / замужем</td>\n",
       "      <td>0</td>\n",
       "      <td>F</td>\n",
       "      <td>сотрудник</td>\n",
       "      <td>0</td>\n",
       "      <td>77069.234271</td>\n",
       "      <td>покупка коммерческой недвижимости</td>\n",
       "    </tr>\n",
       "    <tr>\n",
       "      <th>12</th>\n",
       "      <td>0</td>\n",
       "      <td>NaN</td>\n",
       "      <td>65</td>\n",
       "      <td>среднее</td>\n",
       "      <td>1</td>\n",
       "      <td>гражданский брак</td>\n",
       "      <td>1</td>\n",
       "      <td>M</td>\n",
       "      <td>пенсионер</td>\n",
       "      <td>0</td>\n",
       "      <td>NaN</td>\n",
       "      <td>сыграть свадьбу</td>\n",
       "    </tr>\n",
       "    <tr>\n",
       "      <th>13</th>\n",
       "      <td>0</td>\n",
       "      <td>-1846.641941</td>\n",
       "      <td>54</td>\n",
       "      <td>неоконченное высшее</td>\n",
       "      <td>2</td>\n",
       "      <td>женат / замужем</td>\n",
       "      <td>0</td>\n",
       "      <td>F</td>\n",
       "      <td>сотрудник</td>\n",
       "      <td>0</td>\n",
       "      <td>130458.228857</td>\n",
       "      <td>приобретение автомобиля</td>\n",
       "    </tr>\n",
       "    <tr>\n",
       "      <th>14</th>\n",
       "      <td>0</td>\n",
       "      <td>-1844.956182</td>\n",
       "      <td>56</td>\n",
       "      <td>высшее</td>\n",
       "      <td>0</td>\n",
       "      <td>гражданский брак</td>\n",
       "      <td>1</td>\n",
       "      <td>F</td>\n",
       "      <td>компаньон</td>\n",
       "      <td>1</td>\n",
       "      <td>165127.911772</td>\n",
       "      <td>покупка жилой недвижимости</td>\n",
       "    </tr>\n",
       "    <tr>\n",
       "      <th>15</th>\n",
       "      <td>1</td>\n",
       "      <td>-972.364419</td>\n",
       "      <td>26</td>\n",
       "      <td>среднее</td>\n",
       "      <td>1</td>\n",
       "      <td>женат / замужем</td>\n",
       "      <td>0</td>\n",
       "      <td>F</td>\n",
       "      <td>сотрудник</td>\n",
       "      <td>0</td>\n",
       "      <td>116820.904450</td>\n",
       "      <td>строительство собственной недвижимости</td>\n",
       "    </tr>\n",
       "    <tr>\n",
       "      <th>16</th>\n",
       "      <td>0</td>\n",
       "      <td>-1719.934226</td>\n",
       "      <td>35</td>\n",
       "      <td>среднее</td>\n",
       "      <td>1</td>\n",
       "      <td>женат / замужем</td>\n",
       "      <td>0</td>\n",
       "      <td>F</td>\n",
       "      <td>сотрудник</td>\n",
       "      <td>0</td>\n",
       "      <td>289202.704229</td>\n",
       "      <td>недвижимость</td>\n",
       "    </tr>\n",
       "    <tr>\n",
       "      <th>17</th>\n",
       "      <td>0</td>\n",
       "      <td>-2369.999720</td>\n",
       "      <td>33</td>\n",
       "      <td>высшее</td>\n",
       "      <td>0</td>\n",
       "      <td>гражданский брак</td>\n",
       "      <td>1</td>\n",
       "      <td>M</td>\n",
       "      <td>сотрудник</td>\n",
       "      <td>0</td>\n",
       "      <td>90410.586745</td>\n",
       "      <td>строительство недвижимости</td>\n",
       "    </tr>\n",
       "    <tr>\n",
       "      <th>18</th>\n",
       "      <td>0</td>\n",
       "      <td>400281.136913</td>\n",
       "      <td>53</td>\n",
       "      <td>среднее</td>\n",
       "      <td>1</td>\n",
       "      <td>вдовец / вдова</td>\n",
       "      <td>2</td>\n",
       "      <td>F</td>\n",
       "      <td>пенсионер</td>\n",
       "      <td>0</td>\n",
       "      <td>56823.777243</td>\n",
       "      <td>на покупку подержанного автомобиля</td>\n",
       "    </tr>\n",
       "    <tr>\n",
       "      <th>19</th>\n",
       "      <td>0</td>\n",
       "      <td>-10038.818549</td>\n",
       "      <td>48</td>\n",
       "      <td>СРЕДНЕЕ</td>\n",
       "      <td>1</td>\n",
       "      <td>в разводе</td>\n",
       "      <td>3</td>\n",
       "      <td>F</td>\n",
       "      <td>сотрудник</td>\n",
       "      <td>0</td>\n",
       "      <td>242831.107982</td>\n",
       "      <td>на покупку своего автомобиля</td>\n",
       "    </tr>\n",
       "  </tbody>\n",
       "</table>\n",
       "</div>"
      ],
      "text/plain": [
       "    children  days_employed  dob_years            education  education_id  \\\n",
       "0          1   -8437.673028         42               высшее             0   \n",
       "1          1   -4024.803754         36              среднее             1   \n",
       "2          0   -5623.422610         33              Среднее             1   \n",
       "3          3   -4124.747207         32              среднее             1   \n",
       "4          0  340266.072047         53              среднее             1   \n",
       "5          0    -926.185831         27               высшее             0   \n",
       "6          0   -2879.202052         43               высшее             0   \n",
       "7          0    -152.779569         50              СРЕДНЕЕ             1   \n",
       "8          2   -6929.865299         35               ВЫСШЕЕ             0   \n",
       "9          0   -2188.756445         41              среднее             1   \n",
       "10         2   -4171.483647         36               высшее             0   \n",
       "11         0    -792.701887         40              среднее             1   \n",
       "12         0            NaN         65              среднее             1   \n",
       "13         0   -1846.641941         54  неоконченное высшее             2   \n",
       "14         0   -1844.956182         56               высшее             0   \n",
       "15         1    -972.364419         26              среднее             1   \n",
       "16         0   -1719.934226         35              среднее             1   \n",
       "17         0   -2369.999720         33               высшее             0   \n",
       "18         0  400281.136913         53              среднее             1   \n",
       "19         0  -10038.818549         48              СРЕДНЕЕ             1   \n",
       "\n",
       "       family_status  family_status_id gender income_type  debt  \\\n",
       "0    женат / замужем                 0      F   сотрудник     0   \n",
       "1    женат / замужем                 0      F   сотрудник     0   \n",
       "2    женат / замужем                 0      M   сотрудник     0   \n",
       "3    женат / замужем                 0      M   сотрудник     0   \n",
       "4   гражданский брак                 1      F   пенсионер     0   \n",
       "5   гражданский брак                 1      M   компаньон     0   \n",
       "6    женат / замужем                 0      F   компаньон     0   \n",
       "7    женат / замужем                 0      M   сотрудник     0   \n",
       "8   гражданский брак                 1      F   сотрудник     0   \n",
       "9    женат / замужем                 0      M   сотрудник     0   \n",
       "10   женат / замужем                 0      M   компаньон     0   \n",
       "11   женат / замужем                 0      F   сотрудник     0   \n",
       "12  гражданский брак                 1      M   пенсионер     0   \n",
       "13   женат / замужем                 0      F   сотрудник     0   \n",
       "14  гражданский брак                 1      F   компаньон     1   \n",
       "15   женат / замужем                 0      F   сотрудник     0   \n",
       "16   женат / замужем                 0      F   сотрудник     0   \n",
       "17  гражданский брак                 1      M   сотрудник     0   \n",
       "18    вдовец / вдова                 2      F   пенсионер     0   \n",
       "19         в разводе                 3      F   сотрудник     0   \n",
       "\n",
       "     total_income                                 purpose  \n",
       "0   253875.639453                           покупка жилья  \n",
       "1   112080.014102                 приобретение автомобиля  \n",
       "2   145885.952297                           покупка жилья  \n",
       "3   267628.550329              дополнительное образование  \n",
       "4   158616.077870                         сыграть свадьбу  \n",
       "5   255763.565419                           покупка жилья  \n",
       "6   240525.971920                       операции с жильем  \n",
       "7   135823.934197                             образование  \n",
       "8    95856.832424                   на проведение свадьбы  \n",
       "9   144425.938277                 покупка жилья для семьи  \n",
       "10  113943.491460                    покупка недвижимости  \n",
       "11   77069.234271       покупка коммерческой недвижимости  \n",
       "12            NaN                         сыграть свадьбу  \n",
       "13  130458.228857                 приобретение автомобиля  \n",
       "14  165127.911772              покупка жилой недвижимости  \n",
       "15  116820.904450  строительство собственной недвижимости  \n",
       "16  289202.704229                            недвижимость  \n",
       "17   90410.586745              строительство недвижимости  \n",
       "18   56823.777243      на покупку подержанного автомобиля  \n",
       "19  242831.107982            на покупку своего автомобиля  "
      ]
     },
     "execution_count": 3,
     "metadata": {},
     "output_type": "execute_result"
    }
   ],
   "source": [
    "data.head(20)"
   ]
  },
  {
   "cell_type": "markdown",
   "id": "0ed8f27f",
   "metadata": {
    "deletable": false,
    "editable": false,
    "id": "0ed8f27f"
   },
   "source": [
    "**Задание 3. Выведите основную информацию о датафрейме с помощью метода `info()`.**"
   ]
  },
  {
   "cell_type": "code",
   "execution_count": 4,
   "id": "ab3f863b",
   "metadata": {
    "deletable": false,
    "id": "ab3f863b",
    "outputId": "15376089-8dad-46c9-b520-c05248d43158"
   },
   "outputs": [
    {
     "name": "stdout",
     "output_type": "stream",
     "text": [
      "<class 'pandas.core.frame.DataFrame'>\n",
      "RangeIndex: 21525 entries, 0 to 21524\n",
      "Data columns (total 12 columns):\n",
      " #   Column            Non-Null Count  Dtype  \n",
      "---  ------            --------------  -----  \n",
      " 0   children          21525 non-null  int64  \n",
      " 1   days_employed     19351 non-null  float64\n",
      " 2   dob_years         21525 non-null  int64  \n",
      " 3   education         21525 non-null  object \n",
      " 4   education_id      21525 non-null  int64  \n",
      " 5   family_status     21525 non-null  object \n",
      " 6   family_status_id  21525 non-null  int64  \n",
      " 7   gender            21525 non-null  object \n",
      " 8   income_type       21525 non-null  object \n",
      " 9   debt              21525 non-null  int64  \n",
      " 10  total_income      19351 non-null  float64\n",
      " 11  purpose           21525 non-null  object \n",
      "dtypes: float64(2), int64(5), object(5)\n",
      "memory usage: 2.0+ MB\n"
     ]
    }
   ],
   "source": [
    "data.info()"
   ]
  },
  {
   "cell_type": "markdown",
   "id": "60e3e22d",
   "metadata": {
    "deletable": false,
    "editable": false,
    "id": "60e3e22d"
   },
   "source": [
    "## Предобработка данных"
   ]
  },
  {
   "cell_type": "markdown",
   "id": "03dc170c",
   "metadata": {
    "deletable": false,
    "editable": false,
    "id": "03dc170c"
   },
   "source": [
    "### Удаление пропусков"
   ]
  },
  {
   "cell_type": "markdown",
   "id": "a4f54eef",
   "metadata": {
    "deletable": false,
    "editable": false,
    "id": "a4f54eef"
   },
   "source": [
    "**Задание 4. Выведите количество пропущенных значений для каждого столбца. Используйте комбинацию двух методов.**"
   ]
  },
  {
   "cell_type": "code",
   "execution_count": 5,
   "id": "2dc372b2",
   "metadata": {
    "deletable": false,
    "id": "2dc372b2",
    "outputId": "81f4d817-781c-465c-ed15-91ce4446810d"
   },
   "outputs": [
    {
     "data": {
      "text/html": [
       "<style  type=\"text/css\" >\n",
       "#T_ff7af_row0_col0,#T_ff7af_row2_col0,#T_ff7af_row3_col0,#T_ff7af_row4_col0,#T_ff7af_row5_col0,#T_ff7af_row6_col0,#T_ff7af_row7_col0,#T_ff7af_row8_col0,#T_ff7af_row9_col0,#T_ff7af_row11_col0{\n",
       "            background-color:  #3b4cc0;\n",
       "            color:  #f1f1f1;\n",
       "        }#T_ff7af_row1_col0,#T_ff7af_row10_col0{\n",
       "            background-color:  #b40426;\n",
       "            color:  #f1f1f1;\n",
       "        }</style><table id=\"T_ff7af_\" ><thead>    <tr>        <th class=\"blank level0\" ></th>        <th class=\"col_heading level0 col0\" >0</th>    </tr></thead><tbody>\n",
       "                <tr>\n",
       "                        <th id=\"T_ff7af_level0_row0\" class=\"row_heading level0 row0\" >children</th>\n",
       "                        <td id=\"T_ff7af_row0_col0\" class=\"data row0 col0\" >0.0</td>\n",
       "            </tr>\n",
       "            <tr>\n",
       "                        <th id=\"T_ff7af_level0_row1\" class=\"row_heading level0 row1\" >days_employed</th>\n",
       "                        <td id=\"T_ff7af_row1_col0\" class=\"data row1 col0\" >10.1</td>\n",
       "            </tr>\n",
       "            <tr>\n",
       "                        <th id=\"T_ff7af_level0_row2\" class=\"row_heading level0 row2\" >dob_years</th>\n",
       "                        <td id=\"T_ff7af_row2_col0\" class=\"data row2 col0\" >0.0</td>\n",
       "            </tr>\n",
       "            <tr>\n",
       "                        <th id=\"T_ff7af_level0_row3\" class=\"row_heading level0 row3\" >education</th>\n",
       "                        <td id=\"T_ff7af_row3_col0\" class=\"data row3 col0\" >0.0</td>\n",
       "            </tr>\n",
       "            <tr>\n",
       "                        <th id=\"T_ff7af_level0_row4\" class=\"row_heading level0 row4\" >education_id</th>\n",
       "                        <td id=\"T_ff7af_row4_col0\" class=\"data row4 col0\" >0.0</td>\n",
       "            </tr>\n",
       "            <tr>\n",
       "                        <th id=\"T_ff7af_level0_row5\" class=\"row_heading level0 row5\" >family_status</th>\n",
       "                        <td id=\"T_ff7af_row5_col0\" class=\"data row5 col0\" >0.0</td>\n",
       "            </tr>\n",
       "            <tr>\n",
       "                        <th id=\"T_ff7af_level0_row6\" class=\"row_heading level0 row6\" >family_status_id</th>\n",
       "                        <td id=\"T_ff7af_row6_col0\" class=\"data row6 col0\" >0.0</td>\n",
       "            </tr>\n",
       "            <tr>\n",
       "                        <th id=\"T_ff7af_level0_row7\" class=\"row_heading level0 row7\" >gender</th>\n",
       "                        <td id=\"T_ff7af_row7_col0\" class=\"data row7 col0\" >0.0</td>\n",
       "            </tr>\n",
       "            <tr>\n",
       "                        <th id=\"T_ff7af_level0_row8\" class=\"row_heading level0 row8\" >income_type</th>\n",
       "                        <td id=\"T_ff7af_row8_col0\" class=\"data row8 col0\" >0.0</td>\n",
       "            </tr>\n",
       "            <tr>\n",
       "                        <th id=\"T_ff7af_level0_row9\" class=\"row_heading level0 row9\" >debt</th>\n",
       "                        <td id=\"T_ff7af_row9_col0\" class=\"data row9 col0\" >0.0</td>\n",
       "            </tr>\n",
       "            <tr>\n",
       "                        <th id=\"T_ff7af_level0_row10\" class=\"row_heading level0 row10\" >total_income</th>\n",
       "                        <td id=\"T_ff7af_row10_col0\" class=\"data row10 col0\" >10.1</td>\n",
       "            </tr>\n",
       "            <tr>\n",
       "                        <th id=\"T_ff7af_level0_row11\" class=\"row_heading level0 row11\" >purpose</th>\n",
       "                        <td id=\"T_ff7af_row11_col0\" class=\"data row11 col0\" >0.0</td>\n",
       "            </tr>\n",
       "    </tbody></table>"
      ],
      "text/plain": [
       "<pandas.io.formats.style.Styler at 0x7fcae4959af0>"
      ]
     },
     "execution_count": 5,
     "metadata": {},
     "output_type": "execute_result"
    }
   ],
   "source": [
    "data.isna().sum()\n",
    "pd.DataFrame(data.isna().mean()*100).style.set_precision(1).background_gradient('coolwarm')"
   ]
  },
  {
   "cell_type": "markdown",
   "id": "14f011b1",
   "metadata": {
    "deletable": false,
    "editable": false,
    "id": "14f011b1"
   },
   "source": [
    "**Задание 5. В двух столбцах есть пропущенные значения. Один из них — `days_employed`. Пропуски в этом столбце вы обработаете на следующем этапе. Другой столбец с пропущенными значениями — `total_income` — хранит данные о доходах. На сумму дохода сильнее всего влияет тип занятости, поэтому заполнить пропуски в этом столбце нужно медианным значением по каждому типу из столбца `income_type`. Например, у человека с типом занятости `сотрудник` пропуск в столбце `total_income` должен быть заполнен медианным доходом среди всех записей с тем же типом.**"
   ]
  },
  {
   "cell_type": "code",
   "execution_count": 6,
   "id": "bdabfb6e",
   "metadata": {
    "deletable": false,
    "id": "bdabfb6e"
   },
   "outputs": [],
   "source": [
    "for t in data['income_type'].unique():\n",
    "    data.loc[(data['income_type'] == t) & (data['total_income'].isna()), 'total_income'] = \\\n",
    "    data.loc[(data['income_type'] == t), 'total_income'].median()"
   ]
  },
  {
   "cell_type": "markdown",
   "id": "5be34059",
   "metadata": {
    "deletable": false,
    "editable": false,
    "id": "5be34059"
   },
   "source": [
    "### Обработка аномальных значений"
   ]
  },
  {
   "cell_type": "markdown",
   "id": "a87606cb",
   "metadata": {
    "deletable": false,
    "editable": false,
    "id": "a87606cb"
   },
   "source": [
    "**Задание 6. В данных могут встречаться артефакты (аномалии) — значения, которые не отражают действительность и появились по какой-то ошибке. таким артефактом будет отрицательное количество дней трудового стажа в столбце `days_employed`. Для реальных данных это нормально. Обработайте значения в этом столбце: замените все отрицательные значения положительными с помощью метода `abs()`.**"
   ]
  },
  {
   "cell_type": "code",
   "execution_count": 7,
   "id": "020c46cc",
   "metadata": {
    "deletable": false,
    "id": "020c46cc"
   },
   "outputs": [],
   "source": [
    "data['days_employed'] = data['days_employed'].abs()"
   ]
  },
  {
   "cell_type": "markdown",
   "id": "45538a3a",
   "metadata": {
    "deletable": false,
    "editable": false,
    "id": "45538a3a"
   },
   "source": [
    "**Задание 7. Для каждого типа занятости выведите медианное значение трудового стажа `days_employed` в днях.**"
   ]
  },
  {
   "cell_type": "code",
   "execution_count": 8,
   "id": "cd3e6328",
   "metadata": {
    "deletable": false,
    "id": "cd3e6328",
    "outputId": "801ef80e-522b-4668-f34e-565af7432bcf"
   },
   "outputs": [
    {
     "data": {
      "text/plain": [
       "income_type\n",
       "безработный        366413.652744\n",
       "в декрете            3296.759962\n",
       "госслужащий          2689.368353\n",
       "компаньон            1547.382223\n",
       "пенсионер          365213.306266\n",
       "предприниматель       520.848083\n",
       "сотрудник            1574.202821\n",
       "студент               578.751554\n",
       "Name: days_employed, dtype: float64"
      ]
     },
     "execution_count": 8,
     "metadata": {},
     "output_type": "execute_result"
    }
   ],
   "source": [
    "data.groupby('income_type')['days_employed'].agg('median')"
   ]
  },
  {
   "cell_type": "markdown",
   "id": "90c5f058",
   "metadata": {
    "deletable": false,
    "editable": false,
    "id": "90c5f058"
   },
   "source": [
    "У двух типов (безработные и пенсионеры) получатся аномально большие значения. Исправить такие значения сложно, поэтому оставьте их как есть."
   ]
  },
  {
   "cell_type": "markdown",
   "id": "9652e50d",
   "metadata": {
    "deletable": false,
    "editable": false,
    "id": "9652e50d"
   },
   "source": [
    "**Задание 8. Выведите перечень уникальных значений столбца `children`.**"
   ]
  },
  {
   "cell_type": "code",
   "execution_count": 9,
   "id": "dbb37b8e",
   "metadata": {
    "deletable": false,
    "id": "dbb37b8e",
    "outputId": "6975b15c-7f95-4697-d16d-a0c79b657b03"
   },
   "outputs": [
    {
     "data": {
      "text/plain": [
       "array([ 1,  0,  3,  2, -1,  4, 20,  5])"
      ]
     },
     "execution_count": 9,
     "metadata": {},
     "output_type": "execute_result"
    }
   ],
   "source": [
    "data['children'].unique()"
   ]
  },
  {
   "cell_type": "markdown",
   "id": "2b8b0715",
   "metadata": {
    "deletable": false,
    "editable": false,
    "id": "2b8b0715"
   },
   "source": [
    "**Задание 9. В столбце `children` есть два аномальных значения. Удалите строки, в которых встречаются такие аномальные значения из датафрейма `data`.**"
   ]
  },
  {
   "cell_type": "code",
   "execution_count": 10,
   "id": "20009df8",
   "metadata": {
    "deletable": false,
    "id": "20009df8"
   },
   "outputs": [],
   "source": [
    "data = data[(data['children'] != -1) & (data['children'] != 20)]"
   ]
  },
  {
   "cell_type": "markdown",
   "id": "8c6ac9f1",
   "metadata": {
    "deletable": false,
    "editable": false,
    "id": "8c6ac9f1"
   },
   "source": [
    "**Задание 10. Ещё раз выведите перечень уникальных значений столбца `children`, чтобы убедиться, что артефакты удалены.**"
   ]
  },
  {
   "cell_type": "code",
   "execution_count": 11,
   "id": "07337b81",
   "metadata": {
    "deletable": false,
    "id": "07337b81",
    "outputId": "b2097101-d49d-44d9-901b-32a65c9463d1"
   },
   "outputs": [
    {
     "data": {
      "text/plain": [
       "array([1, 0, 3, 2, 4, 5])"
      ]
     },
     "execution_count": 11,
     "metadata": {},
     "output_type": "execute_result"
    }
   ],
   "source": [
    "data['children'].unique()"
   ]
  },
  {
   "cell_type": "markdown",
   "id": "ee3f52d4",
   "metadata": {
    "deletable": false,
    "editable": false,
    "id": "ee3f52d4"
   },
   "source": [
    "### Удаление пропусков (продолжение)"
   ]
  },
  {
   "cell_type": "markdown",
   "id": "a700b0e4",
   "metadata": {
    "deletable": false,
    "editable": false,
    "id": "a700b0e4"
   },
   "source": [
    "**Задание 11. Заполните пропуски в столбце `days_employed` медианными значениями по каждого типа занятости `income_type`.**"
   ]
  },
  {
   "cell_type": "code",
   "execution_count": 12,
   "id": "61946b83",
   "metadata": {
    "deletable": false,
    "id": "61946b83"
   },
   "outputs": [],
   "source": [
    "for t in data['income_type'].unique():\n",
    "    data.loc[(data['income_type'] == t) & (data['days_employed'].isna()), 'days_employed'] = \\\n",
    "    data.loc[(data['income_type'] == t), 'days_employed'].median()"
   ]
  },
  {
   "cell_type": "markdown",
   "id": "550dcd9b",
   "metadata": {
    "deletable": false,
    "editable": false,
    "id": "550dcd9b"
   },
   "source": [
    "**Задание 12. Убедитесь, что все пропуски заполнены. Проверьте себя и ещё раз выведите количество пропущенных значений для каждого столбца с помощью двух методов.**"
   ]
  },
  {
   "cell_type": "code",
   "execution_count": 13,
   "id": "937c7014",
   "metadata": {
    "deletable": false,
    "id": "937c7014",
    "outputId": "8da1e4e1-358e-4e87-98c9-f261bce0a7b2"
   },
   "outputs": [
    {
     "data": {
      "text/plain": [
       "children            0\n",
       "days_employed       0\n",
       "dob_years           0\n",
       "education           0\n",
       "education_id        0\n",
       "family_status       0\n",
       "family_status_id    0\n",
       "gender              0\n",
       "income_type         0\n",
       "debt                0\n",
       "total_income        0\n",
       "purpose             0\n",
       "dtype: int64"
      ]
     },
     "execution_count": 13,
     "metadata": {},
     "output_type": "execute_result"
    }
   ],
   "source": [
    "data.isna().sum()"
   ]
  },
  {
   "cell_type": "markdown",
   "id": "d522e295",
   "metadata": {
    "deletable": false,
    "editable": false,
    "id": "d522e295"
   },
   "source": [
    "### Изменение типов данных"
   ]
  },
  {
   "cell_type": "markdown",
   "id": "c229c581",
   "metadata": {
    "deletable": false,
    "editable": false,
    "id": "c229c581"
   },
   "source": [
    "**Задание 13. Замените вещественный тип данных в столбце `total_income` на целочисленный с помощью метода `astype()`.**"
   ]
  },
  {
   "cell_type": "code",
   "execution_count": 14,
   "id": "31036462",
   "metadata": {
    "deletable": false,
    "id": "31036462"
   },
   "outputs": [],
   "source": [
    "data['total_income'] = data['total_income'].astype(int)"
   ]
  },
  {
   "cell_type": "markdown",
   "id": "b8e3d1d9",
   "metadata": {
    "deletable": false,
    "editable": false,
    "id": "b8e3d1d9"
   },
   "source": [
    "### Обработка дубликатов"
   ]
  },
  {
   "cell_type": "markdown",
   "id": "9be53c49",
   "metadata": {
    "deletable": false,
    "editable": false,
    "id": "9be53c49"
   },
   "source": [
    "**Задание 14. Обработайте неявные дубликаты в столбце `education`. В этом столбце есть одни и те же значения, но записанные по-разному: с использованием заглавных и строчных букв. Приведите их к нижнему регистру.**"
   ]
  },
  {
   "cell_type": "code",
   "execution_count": 15,
   "id": "d89e73e1",
   "metadata": {
    "deletable": false,
    "id": "d89e73e1"
   },
   "outputs": [],
   "source": [
    "data['education'] = data['education'].str.lower()"
   ]
  },
  {
   "cell_type": "markdown",
   "id": "01d4500e",
   "metadata": {
    "deletable": false,
    "editable": false,
    "id": "01d4500e"
   },
   "source": [
    "**Задание 15. Выведите на экран количество строк-дубликатов в данных. Если такие строки присутствуют, удалите их.**"
   ]
  },
  {
   "cell_type": "code",
   "execution_count": 16,
   "id": "e10efb23",
   "metadata": {
    "deletable": false,
    "id": "e10efb23",
    "outputId": "9684deba-1934-42d1-99e1-cda61740f822"
   },
   "outputs": [
    {
     "data": {
      "text/plain": [
       "71"
      ]
     },
     "execution_count": 16,
     "metadata": {},
     "output_type": "execute_result"
    }
   ],
   "source": [
    "data.duplicated().sum()"
   ]
  },
  {
   "cell_type": "code",
   "execution_count": 17,
   "id": "df853f20",
   "metadata": {
    "deletable": false,
    "id": "df853f20"
   },
   "outputs": [],
   "source": [
    "data = data.drop_duplicates()"
   ]
  },
  {
   "cell_type": "markdown",
   "id": "627be38f",
   "metadata": {
    "deletable": false,
    "editable": false,
    "id": "627be38f"
   },
   "source": [
    "### Категоризация данных"
   ]
  },
  {
   "cell_type": "markdown",
   "id": "4684c3e0",
   "metadata": {
    "deletable": false,
    "editable": false,
    "id": "4684c3e0"
   },
   "source": [
    "**Задание 16. На основании диапазонов, указанных ниже, создайте в датафрейме `data` столбец `total_income_category` с категориями:**\n",
    "\n",
    "- 0–30000 — `'E'`;\n",
    "- 30001–50000 — `'D'`;\n",
    "- 50001–200000 — `'C'`;\n",
    "- 200001–1000000 — `'B'`;\n",
    "- 1000001 и выше — `'A'`.\n",
    "\n",
    "\n",
    "**Например, кредитополучателю с доходом 25000 нужно назначить категорию `'E'`, а клиенту, получающему 235000, — `'B'`. Используйте собственную функцию с именем `categorize_income()` и метод `apply()`.**"
   ]
  },
  {
   "cell_type": "code",
   "execution_count": 18,
   "id": "78965238",
   "metadata": {
    "deletable": false,
    "id": "78965238"
   },
   "outputs": [],
   "source": [
    "def categorize_income(income):\n",
    "    try:\n",
    "        if 0 <= income <= 30000:\n",
    "            return 'E'\n",
    "        elif 30001 <= income <= 50000:\n",
    "            return 'D'\n",
    "        elif 50001 <= income <= 200000:\n",
    "            return 'C'\n",
    "        elif 200001 <= income <= 1000000:\n",
    "            return 'B'\n",
    "        elif income >= 1000001:\n",
    "            return 'A'\n",
    "    except:\n",
    "        pass"
   ]
  },
  {
   "cell_type": "code",
   "execution_count": 19,
   "id": "0980ada1",
   "metadata": {
    "deletable": false,
    "id": "0980ada1"
   },
   "outputs": [],
   "source": [
    "data['total_income_category'] = data['total_income'].apply(categorize_income)"
   ]
  },
  {
   "cell_type": "markdown",
   "id": "9917bba0",
   "metadata": {
    "deletable": false,
    "editable": false,
    "id": "9917bba0"
   },
   "source": [
    "**Задание 17. Выведите на экран перечень уникальных целей взятия кредита из столбца `purpose`.**"
   ]
  },
  {
   "cell_type": "code",
   "execution_count": 20,
   "id": "ee07b65e",
   "metadata": {
    "deletable": false,
    "id": "ee07b65e",
    "outputId": "673c12d9-7d7e-4ae0-9812-c622c89dd244"
   },
   "outputs": [
    {
     "data": {
      "text/plain": [
       "array(['покупка жилья', 'приобретение автомобиля',\n",
       "       'дополнительное образование', 'сыграть свадьбу',\n",
       "       'операции с жильем', 'образование', 'на проведение свадьбы',\n",
       "       'покупка жилья для семьи', 'покупка недвижимости',\n",
       "       'покупка коммерческой недвижимости', 'покупка жилой недвижимости',\n",
       "       'строительство собственной недвижимости', 'недвижимость',\n",
       "       'строительство недвижимости', 'на покупку подержанного автомобиля',\n",
       "       'на покупку своего автомобиля',\n",
       "       'операции с коммерческой недвижимостью',\n",
       "       'строительство жилой недвижимости', 'жилье',\n",
       "       'операции со своей недвижимостью', 'автомобили',\n",
       "       'заняться образованием', 'сделка с подержанным автомобилем',\n",
       "       'получение образования', 'автомобиль', 'свадьба',\n",
       "       'получение дополнительного образования', 'покупка своего жилья',\n",
       "       'операции с недвижимостью', 'получение высшего образования',\n",
       "       'свой автомобиль', 'сделка с автомобилем',\n",
       "       'профильное образование', 'высшее образование',\n",
       "       'покупка жилья для сдачи', 'на покупку автомобиля', 'ремонт жилью',\n",
       "       'заняться высшим образованием'], dtype=object)"
      ]
     },
     "execution_count": 20,
     "metadata": {},
     "output_type": "execute_result"
    }
   ],
   "source": [
    "data['purpose'].unique()"
   ]
  },
  {
   "cell_type": "markdown",
   "id": "52b79d56",
   "metadata": {
    "deletable": false,
    "editable": false,
    "id": "52b79d56"
   },
   "source": [
    "**Задание 18. Создайте функцию, которая на основании данных из столбца `purpose` сформирует новый столбец `purpose_category`, в который войдут следующие категории:**\n",
    "\n",
    "- `'операции с автомобилем'`,\n",
    "- `'операции с недвижимостью'`,\n",
    "- `'проведение свадьбы'`,\n",
    "- `'получение образования'`.\n",
    "\n",
    "**Например, если в столбце `purpose` находится подстрока `'на покупку автомобиля'`, то в столбце `purpose_category` должна появиться строка `'операции с автомобилем'`.**\n",
    "\n",
    "**Используйте собственную функцию с именем `categorize_purpose()` и метод `apply()`. Изучите данные в столбце `purpose` и определите, какие подстроки помогут вам правильно определить категорию.**"
   ]
  },
  {
   "cell_type": "code",
   "execution_count": 21,
   "id": "be41da5d",
   "metadata": {
    "deletable": false,
    "id": "be41da5d"
   },
   "outputs": [],
   "source": [
    "def categorize_purpose(row):\n",
    "    try:\n",
    "        if 'автом' in row:\n",
    "            return 'операции с автомобилем'\n",
    "        elif 'жил' in row or 'недвиж' in row:\n",
    "            return 'операции с недвижимостью'\n",
    "        elif 'свад' in row:\n",
    "            return 'проведение свадьбы'\n",
    "        elif 'образов' in row:\n",
    "            return 'получение образования'\n",
    "    except:\n",
    "        return 'нет категории'"
   ]
  },
  {
   "cell_type": "code",
   "execution_count": 22,
   "id": "94c4a19a",
   "metadata": {
    "deletable": false,
    "id": "94c4a19a"
   },
   "outputs": [],
   "source": [
    "data['purpose_category'] = data['purpose'].apply(categorize_purpose)"
   ]
  },
  {
   "cell_type": "markdown",
   "id": "3d596c34",
   "metadata": {
    "deletable": false,
    "editable": false,
    "id": "3d596c34"
   },
   "source": [
    "### Шаг 3. Исследуйте данные и ответьте на вопросы"
   ]
  },
  {
   "cell_type": "markdown",
   "id": "648db036",
   "metadata": {
    "deletable": false,
    "editable": false,
    "id": "648db036"
   },
   "source": [
    "#### 3.1 Есть ли зависимость между количеством детей и возвратом кредита в срок?"
   ]
  },
  {
   "cell_type": "code",
   "execution_count": 23,
   "id": "7fcff25e",
   "metadata": {
    "deletable": false,
    "id": "7fcff25e"
   },
   "outputs": [],
   "source": [
    "children_rating = data.groupby('children')['debt'].agg(['sum', 'count', 'mean']).reset_index()\n",
    "children_rating['mean'] = children_rating['mean']*100"
   ]
  },
  {
   "cell_type": "markdown",
   "id": "6e5feba9",
   "metadata": {
    "scrolled": true
   },
   "source": [
    "*Расчитал количество просроченных кредитов, общее количество кредитов и отношение просроченных кредитов к общему количеству займов по каждой категории.*"
   ]
  },
  {
   "cell_type": "code",
   "execution_count": 24,
   "id": "00e93729",
   "metadata": {
    "scrolled": false
   },
   "outputs": [
    {
     "name": "stdout",
     "output_type": "stream",
     "text": [
      "0.017814448455299798\n"
     ]
    },
    {
     "data": {
      "text/html": [
       "<div>\n",
       "<style scoped>\n",
       "    .dataframe tbody tr th:only-of-type {\n",
       "        vertical-align: middle;\n",
       "    }\n",
       "\n",
       "    .dataframe tbody tr th {\n",
       "        vertical-align: top;\n",
       "    }\n",
       "\n",
       "    .dataframe thead th {\n",
       "        text-align: right;\n",
       "    }\n",
       "</style>\n",
       "<table border=\"1\" class=\"dataframe\">\n",
       "  <thead>\n",
       "    <tr style=\"text-align: right;\">\n",
       "      <th></th>\n",
       "      <th>children</th>\n",
       "      <th>sum</th>\n",
       "      <th>count</th>\n",
       "      <th>mean</th>\n",
       "    </tr>\n",
       "  </thead>\n",
       "  <tbody>\n",
       "    <tr>\n",
       "      <th>0</th>\n",
       "      <td>0</td>\n",
       "      <td>1063</td>\n",
       "      <td>14091</td>\n",
       "      <td>7.543822</td>\n",
       "    </tr>\n",
       "    <tr>\n",
       "      <th>1</th>\n",
       "      <td>1</td>\n",
       "      <td>444</td>\n",
       "      <td>4808</td>\n",
       "      <td>9.234609</td>\n",
       "    </tr>\n",
       "    <tr>\n",
       "      <th>2</th>\n",
       "      <td>2</td>\n",
       "      <td>194</td>\n",
       "      <td>2052</td>\n",
       "      <td>9.454191</td>\n",
       "    </tr>\n",
       "    <tr>\n",
       "      <th>3</th>\n",
       "      <td>3</td>\n",
       "      <td>27</td>\n",
       "      <td>330</td>\n",
       "      <td>8.181818</td>\n",
       "    </tr>\n",
       "    <tr>\n",
       "      <th>4</th>\n",
       "      <td>4</td>\n",
       "      <td>4</td>\n",
       "      <td>41</td>\n",
       "      <td>9.756098</td>\n",
       "    </tr>\n",
       "    <tr>\n",
       "      <th>5</th>\n",
       "      <td>5</td>\n",
       "      <td>0</td>\n",
       "      <td>9</td>\n",
       "      <td>0.000000</td>\n",
       "    </tr>\n",
       "  </tbody>\n",
       "</table>\n",
       "</div>"
      ],
      "text/plain": [
       "   children   sum  count      mean\n",
       "0         0  1063  14091  7.543822\n",
       "1         1   444   4808  9.234609\n",
       "2         2   194   2052  9.454191\n",
       "3         3    27    330  8.181818\n",
       "4         4     4     41  9.756098\n",
       "5         5     0      9  0.000000"
      ]
     },
     "execution_count": 24,
     "metadata": {},
     "output_type": "execute_result"
    },
    {
     "data": {
      "image/png": "[encoded data removed]",
      "text/plain": [
       "<Figure size 432x288 with 1 Axes>"
      ]
     },
     "metadata": {
      "needs_background": "light"
     },
     "output_type": "display_data"
    }
   ],
   "source": [
    "sns.barplot(data=children_rating, x='children', y='mean')\n",
    "children_rating_sum = children_rating['count'].sum() \n",
    "children_rating_s = (330+41+9)/children_rating_sum\n",
    "print (children_rating_s)\n",
    "children_rating"
   ]
  },
  {
   "cell_type": "markdown",
   "id": "38de2efa",
   "metadata": {},
   "source": [
    "*Построил диаграмму для наглядности показателей.*"
   ]
  },
  {
   "cell_type": "markdown",
   "id": "8f7c7fd5",
   "metadata": {
    "deletable": false,
    "id": "2eb9088e"
   },
   "source": [
    "**Вывод: В категориях от 3 до 5 детей суммарное количество кредитов меньше 2% от общего количества, поэтому рассматривать эти категории не будем. Больше всего кредитов берут заемщики без детей и возвращают их стабильнее, процент просрочек в этой категории 7.5%, что почти на 2% ниже, чем в двух других категориях. Категории заемщиков с 1 и 2-мя детьми имеют почти одинаковый процент просрочек 9.23% и 9.45%.** "
   ]
  },
  {
   "cell_type": "markdown",
   "id": "74c9b3a7",
   "metadata": {
    "deletable": false,
    "editable": false,
    "id": "74c9b3a7"
   },
   "source": [
    "#### 3.2 Есть ли зависимость между семейным положением и возвратом кредита в срок?"
   ]
  },
  {
   "cell_type": "code",
   "execution_count": 25,
   "id": "8098ab3b",
   "metadata": {
    "deletable": false,
    "id": "8098ab3b",
    "scrolled": true
   },
   "outputs": [
    {
     "data": {
      "text/html": [
       "<div>\n",
       "<style scoped>\n",
       "    .dataframe tbody tr th:only-of-type {\n",
       "        vertical-align: middle;\n",
       "    }\n",
       "\n",
       "    .dataframe tbody tr th {\n",
       "        vertical-align: top;\n",
       "    }\n",
       "\n",
       "    .dataframe thead th {\n",
       "        text-align: right;\n",
       "    }\n",
       "</style>\n",
       "<table border=\"1\" class=\"dataframe\">\n",
       "  <thead>\n",
       "    <tr style=\"text-align: right;\">\n",
       "      <th></th>\n",
       "      <th>family_status</th>\n",
       "      <th>sum</th>\n",
       "      <th>count</th>\n",
       "      <th>mean</th>\n",
       "    </tr>\n",
       "  </thead>\n",
       "  <tbody>\n",
       "    <tr>\n",
       "      <th>0</th>\n",
       "      <td>Не женат / не замужем</td>\n",
       "      <td>273</td>\n",
       "      <td>2796</td>\n",
       "      <td>9.763948</td>\n",
       "    </tr>\n",
       "    <tr>\n",
       "      <th>1</th>\n",
       "      <td>в разводе</td>\n",
       "      <td>84</td>\n",
       "      <td>1189</td>\n",
       "      <td>7.064760</td>\n",
       "    </tr>\n",
       "    <tr>\n",
       "      <th>2</th>\n",
       "      <td>вдовец / вдова</td>\n",
       "      <td>63</td>\n",
       "      <td>951</td>\n",
       "      <td>6.624606</td>\n",
       "    </tr>\n",
       "    <tr>\n",
       "      <th>3</th>\n",
       "      <td>гражданский брак</td>\n",
       "      <td>385</td>\n",
       "      <td>4134</td>\n",
       "      <td>9.313014</td>\n",
       "    </tr>\n",
       "    <tr>\n",
       "      <th>4</th>\n",
       "      <td>женат / замужем</td>\n",
       "      <td>927</td>\n",
       "      <td>12261</td>\n",
       "      <td>7.560558</td>\n",
       "    </tr>\n",
       "  </tbody>\n",
       "</table>\n",
       "</div>"
      ],
      "text/plain": [
       "           family_status  sum  count      mean\n",
       "0  Не женат / не замужем  273   2796  9.763948\n",
       "1              в разводе   84   1189  7.064760\n",
       "2         вдовец / вдова   63    951  6.624606\n",
       "3       гражданский брак  385   4134  9.313014\n",
       "4        женат / замужем  927  12261  7.560558"
      ]
     },
     "execution_count": 25,
     "metadata": {},
     "output_type": "execute_result"
    }
   ],
   "source": [
    "family_status_rating = data.groupby('family_status')['debt'].agg(['sum', 'count', 'mean']).reset_index()\n",
    "family_status_rating['mean'] = family_status_rating['mean']*100\n",
    "family_status_rating"
   ]
  },
  {
   "cell_type": "code",
   "execution_count": 26,
   "id": "623e5250",
   "metadata": {},
   "outputs": [
    {
     "data": {
      "text/html": [
       "<div>\n",
       "<style scoped>\n",
       "    .dataframe tbody tr th:only-of-type {\n",
       "        vertical-align: middle;\n",
       "    }\n",
       "\n",
       "    .dataframe tbody tr th {\n",
       "        vertical-align: top;\n",
       "    }\n",
       "\n",
       "    .dataframe thead th {\n",
       "        text-align: right;\n",
       "    }\n",
       "</style>\n",
       "<table border=\"1\" class=\"dataframe\">\n",
       "  <thead>\n",
       "    <tr style=\"text-align: right;\">\n",
       "      <th></th>\n",
       "      <th>family_status</th>\n",
       "      <th>sum</th>\n",
       "      <th>count</th>\n",
       "      <th>mean</th>\n",
       "    </tr>\n",
       "  </thead>\n",
       "  <tbody>\n",
       "    <tr>\n",
       "      <th>0</th>\n",
       "      <td>Не женат / не замужем</td>\n",
       "      <td>273</td>\n",
       "      <td>2796</td>\n",
       "      <td>9.763948</td>\n",
       "    </tr>\n",
       "    <tr>\n",
       "      <th>1</th>\n",
       "      <td>в разводе</td>\n",
       "      <td>84</td>\n",
       "      <td>1189</td>\n",
       "      <td>7.064760</td>\n",
       "    </tr>\n",
       "    <tr>\n",
       "      <th>2</th>\n",
       "      <td>вдовец / вдова</td>\n",
       "      <td>63</td>\n",
       "      <td>951</td>\n",
       "      <td>6.624606</td>\n",
       "    </tr>\n",
       "    <tr>\n",
       "      <th>3</th>\n",
       "      <td>гражданский брак</td>\n",
       "      <td>385</td>\n",
       "      <td>4134</td>\n",
       "      <td>9.313014</td>\n",
       "    </tr>\n",
       "    <tr>\n",
       "      <th>4</th>\n",
       "      <td>женат / замужем</td>\n",
       "      <td>927</td>\n",
       "      <td>12261</td>\n",
       "      <td>7.560558</td>\n",
       "    </tr>\n",
       "  </tbody>\n",
       "</table>\n",
       "</div>"
      ],
      "text/plain": [
       "           family_status  sum  count      mean\n",
       "0  Не женат / не замужем  273   2796  9.763948\n",
       "1              в разводе   84   1189  7.064760\n",
       "2         вдовец / вдова   63    951  6.624606\n",
       "3       гражданский брак  385   4134  9.313014\n",
       "4        женат / замужем  927  12261  7.560558"
      ]
     },
     "execution_count": 26,
     "metadata": {},
     "output_type": "execute_result"
    },
    {
     "data": {
      "image/png": "[encoded data removed]",
      "text/plain": [
       "<Figure size 432x288 with 1 Axes>"
      ]
     },
     "metadata": {
      "needs_background": "light"
     },
     "output_type": "display_data"
    }
   ],
   "source": [
    "sns.barplot(data=family_status_rating, x='family_status', y='mean')\n",
    "plt.xticks(rotation=45)\n",
    "family_status_rating"
   ]
  },
  {
   "cell_type": "markdown",
   "id": "56cf49d8",
   "metadata": {},
   "source": [
    "*Построил диаграмму для наглядности показателей.*"
   ]
  },
  {
   "cell_type": "markdown",
   "id": "3cdcaaf1",
   "metadata": {
    "deletable": false,
    "id": "c389ca63"
   },
   "source": [
    " **Вывод:\n",
    " В худшую сторону выделяются категории \"Не женат / не замужем\" и \"гражданский брак\", в них просрочки почти на 2% выше, относительно ближайшей к ним категории \"женат / замужем\" (7,56%). Самая ненадежная категория \"Не женат / не замужем\" в ней процент просрочек 9.76%. Чаще всего выплачивают кредит вовремя заемщики из категории \"вдовец / вдова\".** "
   ]
  },
  {
   "cell_type": "markdown",
   "id": "9529de68",
   "metadata": {
    "deletable": false,
    "editable": false,
    "id": "9529de68"
   },
   "source": [
    "#### 3.3 Есть ли зависимость между уровнем дохода и возвратом кредита в срок?"
   ]
  },
  {
   "cell_type": "code",
   "execution_count": 27,
   "id": "8787f44a",
   "metadata": {
    "deletable": false,
    "id": "8787f44a"
   },
   "outputs": [],
   "source": [
    "income_rating = data.groupby('total_income_category')['debt'].agg(['sum', 'count', 'mean']).reset_index()\n",
    "income_rating['mean'] = income_rating['mean']*100"
   ]
  },
  {
   "cell_type": "markdown",
   "id": "74f6adfc",
   "metadata": {},
   "source": [
    "*Расчитал количество просроченных кредитов, общее количество кредитов и отношение просроченных кредитов к общему количеству займов по каждой категории.*"
   ]
  },
  {
   "cell_type": "code",
   "execution_count": 28,
   "id": "44458779",
   "metadata": {},
   "outputs": [
    {
     "data": {
      "text/html": [
       "<div>\n",
       "<style scoped>\n",
       "    .dataframe tbody tr th:only-of-type {\n",
       "        vertical-align: middle;\n",
       "    }\n",
       "\n",
       "    .dataframe tbody tr th {\n",
       "        vertical-align: top;\n",
       "    }\n",
       "\n",
       "    .dataframe thead th {\n",
       "        text-align: right;\n",
       "    }\n",
       "</style>\n",
       "<table border=\"1\" class=\"dataframe\">\n",
       "  <thead>\n",
       "    <tr style=\"text-align: right;\">\n",
       "      <th></th>\n",
       "      <th>total_income_category</th>\n",
       "      <th>sum</th>\n",
       "      <th>count</th>\n",
       "      <th>mean</th>\n",
       "    </tr>\n",
       "  </thead>\n",
       "  <tbody>\n",
       "    <tr>\n",
       "      <th>0</th>\n",
       "      <td>A</td>\n",
       "      <td>2</td>\n",
       "      <td>25</td>\n",
       "      <td>8.000000</td>\n",
       "    </tr>\n",
       "    <tr>\n",
       "      <th>1</th>\n",
       "      <td>B</td>\n",
       "      <td>354</td>\n",
       "      <td>5014</td>\n",
       "      <td>7.060231</td>\n",
       "    </tr>\n",
       "    <tr>\n",
       "      <th>2</th>\n",
       "      <td>C</td>\n",
       "      <td>1353</td>\n",
       "      <td>15921</td>\n",
       "      <td>8.498210</td>\n",
       "    </tr>\n",
       "    <tr>\n",
       "      <th>3</th>\n",
       "      <td>D</td>\n",
       "      <td>21</td>\n",
       "      <td>349</td>\n",
       "      <td>6.017192</td>\n",
       "    </tr>\n",
       "    <tr>\n",
       "      <th>4</th>\n",
       "      <td>E</td>\n",
       "      <td>2</td>\n",
       "      <td>22</td>\n",
       "      <td>9.090909</td>\n",
       "    </tr>\n",
       "  </tbody>\n",
       "</table>\n",
       "</div>"
      ],
      "text/plain": [
       "  total_income_category   sum  count      mean\n",
       "0                     A     2     25  8.000000\n",
       "1                     B   354   5014  7.060231\n",
       "2                     C  1353  15921  8.498210\n",
       "3                     D    21    349  6.017192\n",
       "4                     E     2     22  9.090909"
      ]
     },
     "execution_count": 28,
     "metadata": {},
     "output_type": "execute_result"
    },
    {
     "data": {
      "image/png": "[encoded data removed]",
      "text/plain": [
       "<Figure size 432x288 with 1 Axes>"
      ]
     },
     "metadata": {
      "needs_background": "light"
     },
     "output_type": "display_data"
    }
   ],
   "source": [
    "sns.barplot(data=income_rating, x='total_income_category', y='mean')\n",
    "income_rating"
   ]
  },
  {
   "cell_type": "markdown",
   "id": "d3cac5c6",
   "metadata": {},
   "source": [
    "*Построил диаграмму для наглядности показателей.*"
   ]
  },
  {
   "cell_type": "markdown",
   "id": "6dd14b57",
   "metadata": {
    "deletable": false,
    "id": "6dd14b57"
   },
   "source": [
    "**Вывод: Больше всего кредитов берут заемщики из \"средней\" категории \"С\" с доходом от 50 до 200 т.р., в этой же категории самый высокий процент просрочек -  8.5%, что на 1.5% выше чем в второй учитываемой категории \"B\" (7.06%). Остальные 3 категории мы не сравниваем, так как общее количество займов в них не превышает 1% от всех кредитов.**"
   ]
  },
  {
   "cell_type": "markdown",
   "id": "1dcc9b12",
   "metadata": {
    "deletable": false,
    "editable": false,
    "id": "1dcc9b12"
   },
   "source": [
    "#### 3.4 Как разные цели кредита влияют на его возврат в срок?"
   ]
  },
  {
   "cell_type": "code",
   "execution_count": 29,
   "id": "c602bc8b",
   "metadata": {
    "deletable": false,
    "id": "c602bc8b"
   },
   "outputs": [],
   "source": [
    "purpose_category_rating = data.groupby('purpose_category')['debt'].agg(['sum', 'count', 'mean']).reset_index()\n",
    "purpose_category_rating['mean'] = purpose_category_rating['mean']*100"
   ]
  },
  {
   "cell_type": "markdown",
   "id": "2ddd9824",
   "metadata": {},
   "source": [
    "*Расчитал количество просроченных кредитов, общее количество кредитов и отношение просроченных кредитов к общему количеству займов по каждой категории.*"
   ]
  },
  {
   "cell_type": "code",
   "execution_count": 30,
   "id": "1c969cfe",
   "metadata": {
    "scrolled": false
   },
   "outputs": [
    {
     "data": {
      "text/html": [
       "<div>\n",
       "<style scoped>\n",
       "    .dataframe tbody tr th:only-of-type {\n",
       "        vertical-align: middle;\n",
       "    }\n",
       "\n",
       "    .dataframe tbody tr th {\n",
       "        vertical-align: top;\n",
       "    }\n",
       "\n",
       "    .dataframe thead th {\n",
       "        text-align: right;\n",
       "    }\n",
       "</style>\n",
       "<table border=\"1\" class=\"dataframe\">\n",
       "  <thead>\n",
       "    <tr style=\"text-align: right;\">\n",
       "      <th></th>\n",
       "      <th>purpose_category</th>\n",
       "      <th>sum</th>\n",
       "      <th>count</th>\n",
       "      <th>mean</th>\n",
       "    </tr>\n",
       "  </thead>\n",
       "  <tbody>\n",
       "    <tr>\n",
       "      <th>0</th>\n",
       "      <td>операции с автомобилем</td>\n",
       "      <td>400</td>\n",
       "      <td>4279</td>\n",
       "      <td>9.347978</td>\n",
       "    </tr>\n",
       "    <tr>\n",
       "      <th>1</th>\n",
       "      <td>операции с недвижимостью</td>\n",
       "      <td>780</td>\n",
       "      <td>10751</td>\n",
       "      <td>7.255139</td>\n",
       "    </tr>\n",
       "    <tr>\n",
       "      <th>2</th>\n",
       "      <td>получение образования</td>\n",
       "      <td>369</td>\n",
       "      <td>3988</td>\n",
       "      <td>9.252758</td>\n",
       "    </tr>\n",
       "    <tr>\n",
       "      <th>3</th>\n",
       "      <td>проведение свадьбы</td>\n",
       "      <td>183</td>\n",
       "      <td>2313</td>\n",
       "      <td>7.911803</td>\n",
       "    </tr>\n",
       "  </tbody>\n",
       "</table>\n",
       "</div>"
      ],
      "text/plain": [
       "           purpose_category  sum  count      mean\n",
       "0    операции с автомобилем  400   4279  9.347978\n",
       "1  операции с недвижимостью  780  10751  7.255139\n",
       "2     получение образования  369   3988  9.252758\n",
       "3        проведение свадьбы  183   2313  7.911803"
      ]
     },
     "execution_count": 30,
     "metadata": {},
     "output_type": "execute_result"
    },
    {
     "data": {
      "image/png": "[encoded data removed]",
      "text/plain": [
       "<Figure size 432x288 with 1 Axes>"
      ]
     },
     "metadata": {
      "needs_background": "light"
     },
     "output_type": "display_data"
    }
   ],
   "source": [
    "sns.barplot(data=purpose_category_rating, x='purpose_category', y='mean')\n",
    "plt.xticks(rotation=45)\n",
    "purpose_category_rating"
   ]
  },
  {
   "cell_type": "markdown",
   "id": "bf99a450",
   "metadata": {},
   "source": [
    "*Построил диаграмму для наглядности показателей.*"
   ]
  },
  {
   "cell_type": "markdown",
   "id": "cf05ed63",
   "metadata": {
    "deletable": false,
    "id": "cf05ed63"
   },
   "source": [
    "**Вывод: Чаще остальных допускают просрочку кредитов, взятых в категориях \"операции с автомобилем\" и \"получение образования\": 9.34% и 9.25%. Самая надежная категория - \"операции с недвижимостью\", в ней процент просрочек составил всего 7.25%.** "
   ]
  },
  {
   "cell_type": "markdown",
   "id": "46c1f10b",
   "metadata": {
    "deletable": false,
    "editable": false,
    "id": "46c1f10b"
   },
   "source": [
    "#### 3.5 Приведите возможные причины появления пропусков в исходных данных."
   ]
  },
  {
   "cell_type": "markdown",
   "id": "3697d2a9",
   "metadata": {
    "deletable": false,
    "id": "3697d2a9"
   },
   "source": [
    "*Ответ: В таблице пропуски были в столбцах с трудовым стажем и доходом. Это может быть связано с отсутствием дохода/стажа. Так же это может быть человеческий фактор, какие-то данный могли пропустить.* "
   ]
  },
  {
   "cell_type": "markdown",
   "id": "3137d257",
   "metadata": {
    "deletable": false,
    "editable": false,
    "id": "3137d257"
   },
   "source": [
    "#### 3.6 Объясните, почему заполнить пропуски медианным значением — лучшее решение для количественных переменных."
   ]
  },
  {
   "cell_type": "markdown",
   "id": "cf40012a",
   "metadata": {
    "deletable": false,
    "id": "cf40012a"
   },
   "source": [
    "*Ответ: В данных могут быть аномалии, расчет среднего арифметического может исказить общую картину и повлиять на результат исследования.* "
   ]
  },
  {
   "cell_type": "markdown",
   "id": "57bc304e",
   "metadata": {
    "deletable": false,
    "editable": false,
    "id": "57bc304e"
   },
   "source": [
    "### Шаг 4: общий вывод."
   ]
  },
  {
   "cell_type": "markdown",
   "id": "1ab75d1c",
   "metadata": {
    "deletable": false,
    "id": "1ab75d1c"
   },
   "source": [
    "Перед поиском ответов на поставленные вопросы, потребовалось обработать данные в начальной. Были выполнены следующие действия:\n",
    "    \n",
    "1. В столбцах с доходами (total_income) и трудовым стажем (days_employed) были пропуски, их заполнил медианными значениями        по типу занятости\n",
    "    \n",
    "2. Были аномальные значения количества детей (children), строки с этими значениями удалил, так как их было крайне мало.\n",
    "    \n",
    "3. Для удобства анализа были добавлены новые категории по уровню дохода и цели кредита.\n",
    "   \n",
    "    \n",
    "В результате анализа были сделаны следующие выводы:\n",
    "    \n",
    "1. Зависимость от количества детей есть. Заемщики без детей берут кредиты чаще и отдают чаще без просрочек, чем заемщики с     одним-двумя детьми. Заемщиков с количеством детей от 3 до 5 не рассматривал, так как их суммарное количество меньше 2%.\n",
    "    \n",
    "2. Чаще допускают просрочку заемщики состоящие или состоявшие в браке, максимальный процент просрочек по этим категориям       7.6%, в то время как в категориях \"Не женат / не замужем\" и \"гражданский брак\" просрочку допускают 9.8% и 9.3%.\n",
    "    \n",
    "3. По уровню дохода больше всего кредитов берут заемщики из \"средней\" категории \"С\" с доходом от 50 до 200 т.р., в этой же     категории самый высокий процент просрочек -  8.5%, что на 1.5% выше чем в второй учитываемой категории \"B\" (7.06%).             Остальные 3 категории мы не сравниваем, так как общее количество займов в них не превышает 1% от всех кредитов.\n",
    "    \n",
    "4. В зависимости от цели кредита чаще остальных допускают просрочку кредитов, взятых в категориях \"операции с автомобилем\"     и \"получение образования\": 9.34% и 9.25%. Самая надежная категория - \"операции с недвижимостью\", в ней процент просрочек       составил всего 7.25%.\n"
   ]
  }
 ],
 "metadata": {
  "ExecuteTimeLog": [
   {
    "duration": 41,
    "start_time": "2023-04-14T11:52:00.185Z"
   },
   {
    "duration": 475,
    "start_time": "2023-04-14T11:52:07.107Z"
   },
   {
    "duration": 32,
    "start_time": "2023-04-14T11:52:07.584Z"
   },
   {
    "duration": 21,
    "start_time": "2023-04-14T11:52:07.618Z"
   },
   {
    "duration": 10,
    "start_time": "2023-04-14T11:52:07.641Z"
   },
   {
    "duration": 51,
    "start_time": "2023-04-14T11:52:07.652Z"
   },
   {
    "duration": 5,
    "start_time": "2023-04-14T11:52:07.705Z"
   },
   {
    "duration": 13,
    "start_time": "2023-04-14T11:52:07.711Z"
   },
   {
    "duration": 20,
    "start_time": "2023-04-14T11:52:07.725Z"
   },
   {
    "duration": 11,
    "start_time": "2023-04-14T11:52:07.747Z"
   },
   {
    "duration": 13,
    "start_time": "2023-04-14T11:52:07.761Z"
   },
   {
    "duration": 33,
    "start_time": "2023-04-14T11:52:07.775Z"
   },
   {
    "duration": 9,
    "start_time": "2023-04-14T11:52:07.810Z"
   },
   {
    "duration": 16,
    "start_time": "2023-04-14T11:52:07.820Z"
   },
   {
    "duration": 13,
    "start_time": "2023-04-14T11:52:07.838Z"
   },
   {
    "duration": 19,
    "start_time": "2023-04-14T11:52:07.852Z"
   },
   {
    "duration": 15,
    "start_time": "2023-04-14T11:52:07.872Z"
   },
   {
    "duration": 3,
    "start_time": "2023-04-14T11:52:07.888Z"
   },
   {
    "duration": 10,
    "start_time": "2023-04-14T11:52:07.893Z"
   },
   {
    "duration": 8,
    "start_time": "2023-04-14T11:52:07.904Z"
   },
   {
    "duration": 23,
    "start_time": "2023-04-14T11:52:07.914Z"
   },
   {
    "duration": 17,
    "start_time": "2023-04-14T11:52:07.939Z"
   },
   {
    "duration": 22,
    "start_time": "2023-04-14T11:52:07.958Z"
   },
   {
    "duration": 6,
    "start_time": "2023-04-14T11:52:07.982Z"
   },
   {
    "duration": 12,
    "start_time": "2023-04-14T11:52:07.989Z"
   },
   {
    "duration": 16,
    "start_time": "2023-04-14T11:52:08.002Z"
   },
   {
    "duration": 47,
    "start_time": "2023-04-15T10:32:03.408Z"
   },
   {
    "duration": 742,
    "start_time": "2023-04-15T10:32:08.542Z"
   },
   {
    "duration": 21,
    "start_time": "2023-04-15T10:32:09.286Z"
   },
   {
    "duration": 13,
    "start_time": "2023-04-15T10:32:09.309Z"
   },
   {
    "duration": 8,
    "start_time": "2023-04-15T10:32:09.324Z"
   },
   {
    "duration": 38,
    "start_time": "2023-04-15T10:32:09.334Z"
   },
   {
    "duration": 3,
    "start_time": "2023-04-15T10:32:09.374Z"
   },
   {
    "duration": 18,
    "start_time": "2023-04-15T10:32:09.379Z"
   },
   {
    "duration": 4,
    "start_time": "2023-04-15T10:32:09.399Z"
   },
   {
    "duration": 8,
    "start_time": "2023-04-15T10:32:09.404Z"
   },
   {
    "duration": 4,
    "start_time": "2023-04-15T10:32:09.414Z"
   },
   {
    "duration": 53,
    "start_time": "2023-04-15T10:32:09.419Z"
   },
   {
    "duration": 13,
    "start_time": "2023-04-15T10:32:09.473Z"
   },
   {
    "duration": 11,
    "start_time": "2023-04-15T10:32:09.488Z"
   },
   {
    "duration": 26,
    "start_time": "2023-04-15T10:32:09.501Z"
   },
   {
    "duration": 19,
    "start_time": "2023-04-15T10:32:09.529Z"
   },
   {
    "duration": 23,
    "start_time": "2023-04-15T10:32:09.549Z"
   },
   {
    "duration": 4,
    "start_time": "2023-04-15T10:32:09.573Z"
   },
   {
    "duration": 20,
    "start_time": "2023-04-15T10:32:09.579Z"
   },
   {
    "duration": 7,
    "start_time": "2023-04-15T10:32:09.601Z"
   },
   {
    "duration": 3,
    "start_time": "2023-04-15T10:32:09.609Z"
   },
   {
    "duration": 11,
    "start_time": "2023-04-15T10:32:09.613Z"
   },
   {
    "duration": 5,
    "start_time": "2023-04-15T10:32:09.626Z"
   },
   {
    "duration": 4,
    "start_time": "2023-04-15T10:32:09.632Z"
   },
   {
    "duration": 5,
    "start_time": "2023-04-15T10:32:09.637Z"
   },
   {
    "duration": 4,
    "start_time": "2023-04-15T10:32:09.643Z"
   },
   {
    "duration": 5,
    "start_time": "2023-04-15T10:37:13.734Z"
   },
   {
    "duration": 6,
    "start_time": "2023-04-15T10:39:16.845Z"
   },
   {
    "duration": 7,
    "start_time": "2023-04-15T10:40:22.388Z"
   },
   {
    "duration": 5,
    "start_time": "2023-04-15T10:47:27.686Z"
   },
   {
    "duration": 6,
    "start_time": "2023-04-15T10:47:30.622Z"
   },
   {
    "duration": 9,
    "start_time": "2023-04-15T10:53:02.907Z"
   },
   {
    "duration": 10,
    "start_time": "2023-04-15T10:53:25.045Z"
   },
   {
    "duration": 67,
    "start_time": "2023-04-15T10:54:47.370Z"
   },
   {
    "duration": 1325,
    "start_time": "2023-04-15T10:54:54.404Z"
   },
   {
    "duration": 19,
    "start_time": "2023-04-15T10:54:55.731Z"
   },
   {
    "duration": 21,
    "start_time": "2023-04-15T10:54:55.752Z"
   },
   {
    "duration": 46,
    "start_time": "2023-04-15T10:54:55.775Z"
   },
   {
    "duration": 42,
    "start_time": "2023-04-15T10:54:55.822Z"
   },
   {
    "duration": 2,
    "start_time": "2023-04-15T10:54:55.866Z"
   },
   {
    "duration": 8,
    "start_time": "2023-04-15T10:54:55.870Z"
   },
   {
    "duration": 4,
    "start_time": "2023-04-15T10:54:55.879Z"
   },
   {
    "duration": 7,
    "start_time": "2023-04-15T10:54:55.884Z"
   },
   {
    "duration": 4,
    "start_time": "2023-04-15T10:54:55.893Z"
   },
   {
    "duration": 36,
    "start_time": "2023-04-15T10:54:55.898Z"
   },
   {
    "duration": 10,
    "start_time": "2023-04-15T10:54:55.936Z"
   },
   {
    "duration": 7,
    "start_time": "2023-04-15T10:54:55.948Z"
   },
   {
    "duration": 13,
    "start_time": "2023-04-15T10:54:55.972Z"
   },
   {
    "duration": 38,
    "start_time": "2023-04-15T10:54:55.987Z"
   },
   {
    "duration": 20,
    "start_time": "2023-04-15T10:54:56.027Z"
   },
   {
    "duration": 5,
    "start_time": "2023-04-15T10:54:56.049Z"
   },
   {
    "duration": 26,
    "start_time": "2023-04-15T10:54:56.055Z"
   },
   {
    "duration": 15,
    "start_time": "2023-04-15T10:54:56.082Z"
   },
   {
    "duration": 11,
    "start_time": "2023-04-15T10:54:56.099Z"
   },
   {
    "duration": 13,
    "start_time": "2023-04-15T10:54:56.111Z"
   },
   {
    "duration": 129,
    "start_time": "2023-04-15T10:54:56.126Z"
   },
   {
    "duration": 0,
    "start_time": "2023-04-15T10:54:56.256Z"
   },
   {
    "duration": 0,
    "start_time": "2023-04-15T10:54:56.257Z"
   },
   {
    "duration": 0,
    "start_time": "2023-04-15T10:54:56.258Z"
   },
   {
    "duration": 121,
    "start_time": "2023-04-15T10:59:22.189Z"
   },
   {
    "duration": 11,
    "start_time": "2023-04-15T11:00:50.121Z"
   },
   {
    "duration": 14,
    "start_time": "2023-04-15T11:00:57.149Z"
   },
   {
    "duration": 11,
    "start_time": "2023-04-15T11:01:51.257Z"
   },
   {
    "duration": 1283,
    "start_time": "2023-04-15T11:02:06.942Z"
   },
   {
    "duration": 8,
    "start_time": "2023-04-15T11:02:30.910Z"
   },
   {
    "duration": 1741,
    "start_time": "2023-04-15T11:02:44.638Z"
   },
   {
    "duration": 1360,
    "start_time": "2023-04-15T11:02:52.497Z"
   },
   {
    "duration": 1892,
    "start_time": "2023-04-15T11:03:14.609Z"
   },
   {
    "duration": 8,
    "start_time": "2023-04-15T11:03:21.491Z"
   },
   {
    "duration": 1556,
    "start_time": "2023-04-15T11:03:47.161Z"
   },
   {
    "duration": 16,
    "start_time": "2023-04-15T11:05:26.228Z"
   },
   {
    "duration": 9,
    "start_time": "2023-04-15T11:06:25.816Z"
   },
   {
    "duration": 9,
    "start_time": "2023-04-15T11:06:48.789Z"
   },
   {
    "duration": 1572,
    "start_time": "2023-04-15T11:07:26.897Z"
   },
   {
    "duration": 1990,
    "start_time": "2023-04-15T11:07:34.895Z"
   },
   {
    "duration": 107,
    "start_time": "2023-04-15T11:09:08.239Z"
   },
   {
    "duration": 113,
    "start_time": "2023-04-15T11:09:47.678Z"
   },
   {
    "duration": 21,
    "start_time": "2023-04-15T11:10:38.129Z"
   },
   {
    "duration": 16,
    "start_time": "2023-04-15T11:12:42.612Z"
   },
   {
    "duration": 12,
    "start_time": "2023-04-15T11:13:53.189Z"
   },
   {
    "duration": 7,
    "start_time": "2023-04-15T11:14:01.408Z"
   },
   {
    "duration": 11,
    "start_time": "2023-04-15T11:14:22.928Z"
   },
   {
    "duration": 115,
    "start_time": "2023-04-15T11:15:02.821Z"
   },
   {
    "duration": 109,
    "start_time": "2023-04-15T11:15:36.753Z"
   },
   {
    "duration": 116,
    "start_time": "2023-04-15T11:15:57.270Z"
   },
   {
    "duration": 10,
    "start_time": "2023-04-15T11:16:45.693Z"
   },
   {
    "duration": 9,
    "start_time": "2023-04-15T11:17:06.873Z"
   },
   {
    "duration": 13,
    "start_time": "2023-04-15T11:18:58.968Z"
   },
   {
    "duration": 71,
    "start_time": "2023-04-15T11:23:51.643Z"
   },
   {
    "duration": 1234,
    "start_time": "2023-04-15T11:24:00.413Z"
   },
   {
    "duration": 4,
    "start_time": "2023-04-15T11:26:05.927Z"
   },
   {
    "duration": 71,
    "start_time": "2023-04-15T11:26:16.094Z"
   },
   {
    "duration": 82,
    "start_time": "2023-04-15T11:26:21.269Z"
   },
   {
    "duration": 1152,
    "start_time": "2023-04-15T11:26:26.435Z"
   },
   {
    "duration": 285,
    "start_time": "2023-04-15T11:26:36.811Z"
   },
   {
    "duration": 15,
    "start_time": "2023-04-15T11:27:02.983Z"
   },
   {
    "duration": 11,
    "start_time": "2023-04-15T11:28:20.984Z"
   },
   {
    "duration": 10,
    "start_time": "2023-04-15T11:28:24.420Z"
   },
   {
    "duration": 10,
    "start_time": "2023-04-15T11:28:33.085Z"
   },
   {
    "duration": 13,
    "start_time": "2023-04-15T11:28:37.552Z"
   },
   {
    "duration": 12,
    "start_time": "2023-04-15T11:33:05.971Z"
   },
   {
    "duration": 135,
    "start_time": "2023-04-15T11:34:45.879Z"
   },
   {
    "duration": 118,
    "start_time": "2023-04-15T11:34:57.559Z"
   },
   {
    "duration": 115,
    "start_time": "2023-04-15T11:35:14.716Z"
   },
   {
    "duration": 180,
    "start_time": "2023-04-15T11:38:00.093Z"
   },
   {
    "duration": 167,
    "start_time": "2023-04-15T11:40:28.814Z"
   },
   {
    "duration": 145,
    "start_time": "2023-04-15T11:40:56.773Z"
   },
   {
    "duration": 100,
    "start_time": "2023-04-15T11:41:19.300Z"
   },
   {
    "duration": 103,
    "start_time": "2023-04-15T11:41:42.370Z"
   },
   {
    "duration": 148,
    "start_time": "2023-04-15T11:42:22.101Z"
   },
   {
    "duration": 135,
    "start_time": "2023-04-15T11:42:34.891Z"
   },
   {
    "duration": 119,
    "start_time": "2023-04-15T11:43:10.319Z"
   },
   {
    "duration": 111,
    "start_time": "2023-04-15T11:43:32.718Z"
   },
   {
    "duration": 129,
    "start_time": "2023-04-15T11:43:38.324Z"
   },
   {
    "duration": 113,
    "start_time": "2023-04-15T11:43:49.530Z"
   },
   {
    "duration": 233,
    "start_time": "2023-04-15T11:45:36.132Z"
   },
   {
    "duration": 154,
    "start_time": "2023-04-15T11:45:53.283Z"
   },
   {
    "duration": 126,
    "start_time": "2023-04-15T11:46:08.313Z"
   },
   {
    "duration": 112,
    "start_time": "2023-04-15T11:52:19.644Z"
   },
   {
    "duration": 102,
    "start_time": "2023-04-15T11:57:33.832Z"
   },
   {
    "duration": 110,
    "start_time": "2023-04-15T11:57:58.896Z"
   },
   {
    "duration": 112,
    "start_time": "2023-04-15T11:58:09.925Z"
   },
   {
    "duration": 13,
    "start_time": "2023-04-15T11:58:31.532Z"
   },
   {
    "duration": 119,
    "start_time": "2023-04-15T11:59:06.898Z"
   },
   {
    "duration": 107,
    "start_time": "2023-04-15T11:59:10.229Z"
   },
   {
    "duration": 12,
    "start_time": "2023-04-15T11:59:55.622Z"
   },
   {
    "duration": 88,
    "start_time": "2023-04-15T12:00:47.374Z"
   },
   {
    "duration": 79,
    "start_time": "2023-04-15T12:00:57.471Z"
   },
   {
    "duration": 7,
    "start_time": "2023-04-15T12:01:15.572Z"
   },
   {
    "duration": 10,
    "start_time": "2023-04-15T12:02:06.398Z"
   },
   {
    "duration": 108,
    "start_time": "2023-04-15T12:02:18.219Z"
   },
   {
    "duration": 101,
    "start_time": "2023-04-15T12:03:03.849Z"
   },
   {
    "duration": 100,
    "start_time": "2023-04-15T12:03:57.850Z"
   },
   {
    "duration": 129,
    "start_time": "2023-04-15T12:04:37.726Z"
   },
   {
    "duration": 183,
    "start_time": "2023-04-15T12:05:10.318Z"
   },
   {
    "duration": 99,
    "start_time": "2023-04-15T12:05:19.446Z"
   },
   {
    "duration": 100,
    "start_time": "2023-04-15T12:07:10.625Z"
   },
   {
    "duration": 103,
    "start_time": "2023-04-15T12:07:57.776Z"
   },
   {
    "duration": 99,
    "start_time": "2023-04-15T12:13:29.299Z"
   },
   {
    "duration": 98,
    "start_time": "2023-04-15T12:13:32.649Z"
   },
   {
    "duration": 115,
    "start_time": "2023-04-15T12:16:27.833Z"
   },
   {
    "duration": 106,
    "start_time": "2023-04-15T12:16:58.822Z"
   },
   {
    "duration": 104,
    "start_time": "2023-04-15T12:17:21.949Z"
   },
   {
    "duration": 118,
    "start_time": "2023-04-15T12:17:25.613Z"
   },
   {
    "duration": 109,
    "start_time": "2023-04-15T12:17:29.998Z"
   },
   {
    "duration": 136,
    "start_time": "2023-04-15T12:18:55.732Z"
   },
   {
    "duration": 111,
    "start_time": "2023-04-15T12:21:14.464Z"
   },
   {
    "duration": 102,
    "start_time": "2023-04-15T12:22:53.646Z"
   },
   {
    "duration": 157,
    "start_time": "2023-04-15T12:23:47.776Z"
   },
   {
    "duration": 14,
    "start_time": "2023-04-15T12:24:10.429Z"
   },
   {
    "duration": 14,
    "start_time": "2023-04-15T12:24:23.312Z"
   },
   {
    "duration": 254,
    "start_time": "2023-04-15T12:28:09.612Z"
   },
   {
    "duration": 28,
    "start_time": "2023-04-15T12:30:57.642Z"
   },
   {
    "duration": 32,
    "start_time": "2023-04-15T12:33:11.826Z"
   },
   {
    "duration": 165,
    "start_time": "2023-04-15T12:33:48.196Z"
   },
   {
    "duration": 40,
    "start_time": "2023-04-15T12:35:27.029Z"
   },
   {
    "duration": 24,
    "start_time": "2023-04-15T12:36:25.601Z"
   },
   {
    "duration": 28,
    "start_time": "2023-04-15T12:37:03.397Z"
   },
   {
    "duration": 153,
    "start_time": "2023-04-15T12:39:39.513Z"
   },
   {
    "duration": 21,
    "start_time": "2023-04-15T12:40:27.005Z"
   },
   {
    "duration": 29,
    "start_time": "2023-04-15T12:40:31.134Z"
   },
   {
    "duration": 23,
    "start_time": "2023-04-15T12:40:45.969Z"
   },
   {
    "duration": 102,
    "start_time": "2023-04-15T12:42:32.508Z"
   },
   {
    "duration": 72,
    "start_time": "2023-04-15T12:43:25.324Z"
   },
   {
    "duration": 28,
    "start_time": "2023-04-15T12:43:56.644Z"
   },
   {
    "duration": 32,
    "start_time": "2023-04-15T12:44:05.968Z"
   },
   {
    "duration": 31,
    "start_time": "2023-04-15T12:44:19.483Z"
   },
   {
    "duration": 30,
    "start_time": "2023-04-15T12:44:33.941Z"
   },
   {
    "duration": 21,
    "start_time": "2023-04-15T12:45:08.003Z"
   },
   {
    "duration": 35,
    "start_time": "2023-04-15T12:45:39.234Z"
   },
   {
    "duration": 24,
    "start_time": "2023-04-15T12:46:28.034Z"
   },
   {
    "duration": 22,
    "start_time": "2023-04-15T12:46:42.809Z"
   },
   {
    "duration": 33,
    "start_time": "2023-04-15T12:47:24.130Z"
   },
   {
    "duration": 80,
    "start_time": "2023-04-15T12:50:32.920Z"
   },
   {
    "duration": 14,
    "start_time": "2023-04-15T12:51:36.628Z"
   },
   {
    "duration": 136,
    "start_time": "2023-04-15T12:51:42.256Z"
   },
   {
    "duration": 130,
    "start_time": "2023-04-15T12:52:03.467Z"
   },
   {
    "duration": 180,
    "start_time": "2023-04-15T12:53:05.979Z"
   },
   {
    "duration": 111,
    "start_time": "2023-04-15T12:55:09.537Z"
   },
   {
    "duration": 111,
    "start_time": "2023-04-15T12:55:40.009Z"
   },
   {
    "duration": 123,
    "start_time": "2023-04-15T12:56:38.251Z"
   },
   {
    "duration": 99,
    "start_time": "2023-04-15T12:56:50.397Z"
   },
   {
    "duration": 20,
    "start_time": "2023-04-15T12:57:48.055Z"
   },
   {
    "duration": 12,
    "start_time": "2023-04-15T12:59:31.055Z"
   },
   {
    "duration": 85,
    "start_time": "2023-04-15T13:00:39.125Z"
   },
   {
    "duration": 21,
    "start_time": "2023-04-15T13:00:51.624Z"
   },
   {
    "duration": 35,
    "start_time": "2023-04-15T13:12:35.663Z"
   },
   {
    "duration": 34,
    "start_time": "2023-04-15T13:12:41.636Z"
   },
   {
    "duration": 32,
    "start_time": "2023-04-15T13:13:51.634Z"
   },
   {
    "duration": 14,
    "start_time": "2023-04-15T13:15:57.402Z"
   },
   {
    "duration": 97,
    "start_time": "2023-04-15T13:17:57.485Z"
   },
   {
    "duration": 20,
    "start_time": "2023-04-15T13:18:28.665Z"
   },
   {
    "duration": 138,
    "start_time": "2023-04-15T13:20:37.280Z"
   },
   {
    "duration": 117,
    "start_time": "2023-04-15T13:21:03.280Z"
   },
   {
    "duration": 123,
    "start_time": "2023-04-15T13:24:19.150Z"
   },
   {
    "duration": 110,
    "start_time": "2023-04-15T13:24:21.802Z"
   },
   {
    "duration": 1282,
    "start_time": "2023-04-15T13:25:45.038Z"
   },
   {
    "duration": 25,
    "start_time": "2023-04-15T13:25:46.323Z"
   },
   {
    "duration": 33,
    "start_time": "2023-04-15T13:25:46.350Z"
   },
   {
    "duration": 48,
    "start_time": "2023-04-15T13:25:46.385Z"
   },
   {
    "duration": 47,
    "start_time": "2023-04-15T13:25:46.435Z"
   },
   {
    "duration": 4,
    "start_time": "2023-04-15T13:25:46.484Z"
   },
   {
    "duration": 13,
    "start_time": "2023-04-15T13:25:46.489Z"
   },
   {
    "duration": 4,
    "start_time": "2023-04-15T13:25:46.504Z"
   },
   {
    "duration": 23,
    "start_time": "2023-04-15T13:25:46.510Z"
   },
   {
    "duration": 11,
    "start_time": "2023-04-15T13:25:46.536Z"
   },
   {
    "duration": 63,
    "start_time": "2023-04-15T13:25:46.549Z"
   },
   {
    "duration": 14,
    "start_time": "2023-04-15T13:25:46.614Z"
   },
   {
    "duration": 4,
    "start_time": "2023-04-15T13:25:46.630Z"
   },
   {
    "duration": 18,
    "start_time": "2023-04-15T13:25:46.636Z"
   },
   {
    "duration": 65,
    "start_time": "2023-04-15T13:25:46.656Z"
   },
   {
    "duration": 19,
    "start_time": "2023-04-15T13:25:46.723Z"
   },
   {
    "duration": 3,
    "start_time": "2023-04-15T13:25:46.744Z"
   },
   {
    "duration": 14,
    "start_time": "2023-04-15T13:25:46.749Z"
   },
   {
    "duration": 23,
    "start_time": "2023-04-15T13:25:46.764Z"
   },
   {
    "duration": 20,
    "start_time": "2023-04-15T13:25:46.789Z"
   },
   {
    "duration": 19,
    "start_time": "2023-04-15T13:25:46.811Z"
   },
   {
    "duration": 181,
    "start_time": "2023-04-15T13:25:46.832Z"
   },
   {
    "duration": 169,
    "start_time": "2023-04-15T13:25:47.015Z"
   },
   {
    "duration": 0,
    "start_time": "2023-04-15T13:25:47.186Z"
   },
   {
    "duration": 0,
    "start_time": "2023-04-15T13:25:47.187Z"
   },
   {
    "duration": 30,
    "start_time": "2023-04-15T13:26:18.609Z"
   },
   {
    "duration": 160,
    "start_time": "2023-04-15T13:26:31.049Z"
   },
   {
    "duration": 105,
    "start_time": "2023-04-15T13:26:36.326Z"
   },
   {
    "duration": 106,
    "start_time": "2023-04-15T13:31:54.559Z"
   },
   {
    "duration": 125,
    "start_time": "2023-04-15T13:35:40.477Z"
   },
   {
    "duration": 141,
    "start_time": "2023-04-15T13:35:46.420Z"
   },
   {
    "duration": 167,
    "start_time": "2023-04-15T13:36:19.646Z"
   },
   {
    "duration": 183,
    "start_time": "2023-04-15T13:39:49.850Z"
   },
   {
    "duration": 161,
    "start_time": "2023-04-15T13:40:15.639Z"
   },
   {
    "duration": 195,
    "start_time": "2023-04-15T13:40:45.199Z"
   },
   {
    "duration": 23,
    "start_time": "2023-04-15T13:42:09.520Z"
   },
   {
    "duration": 144,
    "start_time": "2023-04-15T13:42:28.450Z"
   },
   {
    "duration": 134,
    "start_time": "2023-04-15T13:42:44.989Z"
   },
   {
    "duration": 32,
    "start_time": "2023-04-15T14:17:49.867Z"
   },
   {
    "duration": 1604,
    "start_time": "2023-04-17T11:28:27.187Z"
   },
   {
    "duration": 31,
    "start_time": "2023-04-17T11:28:28.794Z"
   },
   {
    "duration": 25,
    "start_time": "2023-04-17T11:28:28.828Z"
   },
   {
    "duration": 31,
    "start_time": "2023-04-17T11:28:28.856Z"
   },
   {
    "duration": 35,
    "start_time": "2023-04-17T11:28:28.890Z"
   },
   {
    "duration": 4,
    "start_time": "2023-04-17T11:28:28.927Z"
   },
   {
    "duration": 13,
    "start_time": "2023-04-17T11:28:28.933Z"
   },
   {
    "duration": 37,
    "start_time": "2023-04-17T11:28:28.948Z"
   },
   {
    "duration": 10,
    "start_time": "2023-04-17T11:28:28.988Z"
   },
   {
    "duration": 6,
    "start_time": "2023-04-17T11:28:29.000Z"
   },
   {
    "duration": 48,
    "start_time": "2023-04-17T11:28:29.008Z"
   },
   {
    "duration": 33,
    "start_time": "2023-04-17T11:28:29.057Z"
   },
   {
    "duration": 6,
    "start_time": "2023-04-17T11:28:29.092Z"
   },
   {
    "duration": 20,
    "start_time": "2023-04-17T11:28:29.100Z"
   },
   {
    "duration": 20,
    "start_time": "2023-04-17T11:28:29.122Z"
   },
   {
    "duration": 24,
    "start_time": "2023-04-17T11:28:29.144Z"
   },
   {
    "duration": 18,
    "start_time": "2023-04-17T11:28:29.170Z"
   },
   {
    "duration": 17,
    "start_time": "2023-04-17T11:28:29.190Z"
   },
   {
    "duration": 8,
    "start_time": "2023-04-17T11:28:29.209Z"
   },
   {
    "duration": 5,
    "start_time": "2023-04-17T11:28:29.219Z"
   },
   {
    "duration": 19,
    "start_time": "2023-04-17T11:28:29.226Z"
   },
   {
    "duration": 175,
    "start_time": "2023-04-17T11:28:29.247Z"
   },
   {
    "duration": 21,
    "start_time": "2023-04-17T11:28:29.424Z"
   },
   {
    "duration": 143,
    "start_time": "2023-04-17T11:28:29.447Z"
   },
   {
    "duration": 142,
    "start_time": "2023-04-17T11:28:29.592Z"
   },
   {
    "duration": 22,
    "start_time": "2023-04-17T11:29:47.804Z"
   },
   {
    "duration": 8,
    "start_time": "2023-04-17T11:31:43.224Z"
   },
   {
    "duration": 18,
    "start_time": "2023-04-17T11:32:20.415Z"
   },
   {
    "duration": 11,
    "start_time": "2023-04-17T11:33:53.104Z"
   },
   {
    "duration": 9,
    "start_time": "2023-04-17T11:33:54.376Z"
   },
   {
    "duration": 7,
    "start_time": "2023-04-17T11:40:20.586Z"
   },
   {
    "duration": 10,
    "start_time": "2023-04-17T11:40:48.804Z"
   },
   {
    "duration": 13,
    "start_time": "2023-04-17T11:41:02.374Z"
   },
   {
    "duration": 28,
    "start_time": "2023-04-17T11:42:58.174Z"
   },
   {
    "duration": 141,
    "start_time": "2023-04-17T11:43:18.778Z"
   },
   {
    "duration": 22,
    "start_time": "2023-04-17T11:43:33.939Z"
   },
   {
    "duration": 146,
    "start_time": "2023-04-17T11:43:36.379Z"
   },
   {
    "duration": 895,
    "start_time": "2023-04-17T11:46:42.621Z"
   },
   {
    "duration": 26,
    "start_time": "2023-04-17T11:46:53.216Z"
   },
   {
    "duration": 19,
    "start_time": "2023-04-17T11:47:04.775Z"
   },
   {
    "duration": 16,
    "start_time": "2023-04-17T11:47:18.543Z"
   },
   {
    "duration": 20,
    "start_time": "2023-04-17T11:48:56.912Z"
   },
   {
    "duration": 20,
    "start_time": "2023-04-17T11:51:59.423Z"
   },
   {
    "duration": 19,
    "start_time": "2023-04-17T11:53:30.766Z"
   },
   {
    "duration": 23,
    "start_time": "2023-04-17T11:54:38.328Z"
   },
   {
    "duration": 28,
    "start_time": "2023-04-17T11:56:55.535Z"
   },
   {
    "duration": 15,
    "start_time": "2023-04-17T11:58:33.056Z"
   },
   {
    "duration": 20,
    "start_time": "2023-04-17T11:58:38.614Z"
   },
   {
    "duration": 18,
    "start_time": "2023-04-17T11:59:49.020Z"
   },
   {
    "duration": 20,
    "start_time": "2023-04-17T11:59:59.362Z"
   },
   {
    "duration": 19,
    "start_time": "2023-04-17T12:00:07.012Z"
   },
   {
    "duration": 19,
    "start_time": "2023-04-17T12:00:51.377Z"
   },
   {
    "duration": 15,
    "start_time": "2023-04-17T12:01:03.591Z"
   },
   {
    "duration": 20,
    "start_time": "2023-04-17T12:01:07.147Z"
   },
   {
    "duration": 27,
    "start_time": "2023-04-17T12:01:15.775Z"
   },
   {
    "duration": 19,
    "start_time": "2023-04-17T12:01:34.775Z"
   },
   {
    "duration": 19,
    "start_time": "2023-04-17T12:01:41.547Z"
   },
   {
    "duration": 19,
    "start_time": "2023-04-17T12:02:23.213Z"
   },
   {
    "duration": 19,
    "start_time": "2023-04-17T12:02:39.958Z"
   },
   {
    "duration": 19,
    "start_time": "2023-04-17T12:03:16.836Z"
   },
   {
    "duration": 56,
    "start_time": "2023-04-17T12:06:23.705Z"
   },
   {
    "duration": 18,
    "start_time": "2023-04-17T12:06:28.006Z"
   },
   {
    "duration": 19,
    "start_time": "2023-04-17T12:06:43.509Z"
   },
   {
    "duration": 19,
    "start_time": "2023-04-17T12:06:48.317Z"
   },
   {
    "duration": 8,
    "start_time": "2023-04-17T12:07:47.619Z"
   },
   {
    "duration": 132,
    "start_time": "2023-04-17T12:07:51.680Z"
   },
   {
    "duration": 117,
    "start_time": "2023-04-17T12:08:21.213Z"
   },
   {
    "duration": 125,
    "start_time": "2023-04-17T12:08:27.802Z"
   },
   {
    "duration": 893,
    "start_time": "2023-04-17T12:10:18.147Z"
   },
   {
    "duration": 1376,
    "start_time": "2023-04-17T12:10:31.383Z"
   },
   {
    "duration": 981,
    "start_time": "2023-04-17T12:11:15.541Z"
   },
   {
    "duration": 22,
    "start_time": "2023-04-17T12:11:27.115Z"
   },
   {
    "duration": 22,
    "start_time": "2023-04-17T12:11:52.409Z"
   },
   {
    "duration": 22,
    "start_time": "2023-04-17T12:11:56.978Z"
   },
   {
    "duration": 4,
    "start_time": "2023-04-17T12:13:37.307Z"
   },
   {
    "duration": 20,
    "start_time": "2023-04-17T12:13:45.393Z"
   },
   {
    "duration": 20,
    "start_time": "2023-04-17T12:14:01.400Z"
   },
   {
    "duration": 19,
    "start_time": "2023-04-17T12:14:15.286Z"
   },
   {
    "duration": 23,
    "start_time": "2023-04-17T12:14:44.301Z"
   },
   {
    "duration": 21,
    "start_time": "2023-04-17T12:15:11.605Z"
   },
   {
    "duration": 21,
    "start_time": "2023-04-17T12:15:41.734Z"
   },
   {
    "duration": 23,
    "start_time": "2023-04-17T12:15:53.049Z"
   },
   {
    "duration": 22,
    "start_time": "2023-04-17T12:16:23.206Z"
   },
   {
    "duration": 20,
    "start_time": "2023-04-17T12:16:39.255Z"
   },
   {
    "duration": 24,
    "start_time": "2023-04-17T12:16:47.236Z"
   },
   {
    "duration": 23,
    "start_time": "2023-04-17T12:16:57.419Z"
   },
   {
    "duration": 24,
    "start_time": "2023-04-17T12:17:05.114Z"
   },
   {
    "duration": 24,
    "start_time": "2023-04-17T12:17:58.702Z"
   },
   {
    "duration": 10,
    "start_time": "2023-04-17T12:23:13.156Z"
   },
   {
    "duration": 6,
    "start_time": "2023-04-17T12:23:41.803Z"
   },
   {
    "duration": 1226,
    "start_time": "2023-04-17T12:25:00.878Z"
   },
   {
    "duration": 20,
    "start_time": "2023-04-17T12:25:02.106Z"
   },
   {
    "duration": 50,
    "start_time": "2023-04-17T12:25:02.129Z"
   },
   {
    "duration": 25,
    "start_time": "2023-04-17T12:25:02.182Z"
   },
   {
    "duration": 50,
    "start_time": "2023-04-17T12:25:02.210Z"
   },
   {
    "duration": 4,
    "start_time": "2023-04-17T12:25:02.262Z"
   },
   {
    "duration": 25,
    "start_time": "2023-04-17T12:25:02.267Z"
   },
   {
    "duration": 17,
    "start_time": "2023-04-17T12:25:02.294Z"
   },
   {
    "duration": 15,
    "start_time": "2023-04-17T12:25:02.313Z"
   },
   {
    "duration": 15,
    "start_time": "2023-04-17T12:25:02.330Z"
   },
   {
    "duration": 57,
    "start_time": "2023-04-17T12:25:02.347Z"
   },
   {
    "duration": 11,
    "start_time": "2023-04-17T12:25:02.405Z"
   },
   {
    "duration": 22,
    "start_time": "2023-04-17T12:25:02.418Z"
   },
   {
    "duration": 23,
    "start_time": "2023-04-17T12:25:02.443Z"
   },
   {
    "duration": 34,
    "start_time": "2023-04-17T12:25:02.467Z"
   },
   {
    "duration": 17,
    "start_time": "2023-04-17T12:25:02.503Z"
   },
   {
    "duration": 4,
    "start_time": "2023-04-17T12:25:02.521Z"
   },
   {
    "duration": 32,
    "start_time": "2023-04-17T12:25:02.526Z"
   },
   {
    "duration": 17,
    "start_time": "2023-04-17T12:25:02.560Z"
   },
   {
    "duration": 4,
    "start_time": "2023-04-17T12:25:02.579Z"
   },
   {
    "duration": 28,
    "start_time": "2023-04-17T12:25:02.584Z"
   },
   {
    "duration": 44,
    "start_time": "2023-04-17T12:25:02.613Z"
   },
   {
    "duration": 19,
    "start_time": "2023-04-17T12:25:02.658Z"
   },
   {
    "duration": 155,
    "start_time": "2023-04-17T12:25:02.678Z"
   },
   {
    "duration": 9,
    "start_time": "2023-04-17T12:25:02.835Z"
   },
   {
    "duration": 64,
    "start_time": "2023-04-17T12:25:02.845Z"
   },
   {
    "duration": 120,
    "start_time": "2023-04-17T12:25:02.911Z"
   },
   {
    "duration": 0,
    "start_time": "2023-04-17T12:25:03.033Z"
   },
   {
    "duration": 0,
    "start_time": "2023-04-17T12:25:03.034Z"
   },
   {
    "duration": 0,
    "start_time": "2023-04-17T12:25:03.035Z"
   },
   {
    "duration": 0,
    "start_time": "2023-04-17T12:25:03.036Z"
   },
   {
    "duration": 0,
    "start_time": "2023-04-17T12:25:03.037Z"
   },
   {
    "duration": 1425,
    "start_time": "2023-04-18T08:10:11.770Z"
   },
   {
    "duration": 28,
    "start_time": "2023-04-18T08:10:13.198Z"
   },
   {
    "duration": 15,
    "start_time": "2023-04-18T08:10:13.228Z"
   },
   {
    "duration": 14,
    "start_time": "2023-04-18T08:10:13.245Z"
   },
   {
    "duration": 71,
    "start_time": "2023-04-18T08:10:13.261Z"
   },
   {
    "duration": 3,
    "start_time": "2023-04-18T08:10:13.333Z"
   },
   {
    "duration": 9,
    "start_time": "2023-04-18T08:10:13.338Z"
   },
   {
    "duration": 4,
    "start_time": "2023-04-18T08:10:13.349Z"
   },
   {
    "duration": 17,
    "start_time": "2023-04-18T08:10:13.355Z"
   },
   {
    "duration": 21,
    "start_time": "2023-04-18T08:10:13.375Z"
   },
   {
    "duration": 34,
    "start_time": "2023-04-18T08:10:13.397Z"
   },
   {
    "duration": 10,
    "start_time": "2023-04-18T08:10:13.433Z"
   },
   {
    "duration": 5,
    "start_time": "2023-04-18T08:10:13.445Z"
   },
   {
    "duration": 25,
    "start_time": "2023-04-18T08:10:13.451Z"
   },
   {
    "duration": 34,
    "start_time": "2023-04-18T08:10:13.478Z"
   },
   {
    "duration": 17,
    "start_time": "2023-04-18T08:10:13.514Z"
   },
   {
    "duration": 3,
    "start_time": "2023-04-18T08:10:13.532Z"
   },
   {
    "duration": 23,
    "start_time": "2023-04-18T08:10:13.537Z"
   },
   {
    "duration": 22,
    "start_time": "2023-04-18T08:10:13.562Z"
   },
   {
    "duration": 5,
    "start_time": "2023-04-18T08:10:13.585Z"
   },
   {
    "duration": 14,
    "start_time": "2023-04-18T08:10:13.591Z"
   },
   {
    "duration": 24,
    "start_time": "2023-04-18T08:10:13.607Z"
   },
   {
    "duration": 6,
    "start_time": "2023-04-18T08:10:13.633Z"
   },
   {
    "duration": 136,
    "start_time": "2023-04-18T08:10:13.640Z"
   },
   {
    "duration": 18,
    "start_time": "2023-04-18T08:10:13.778Z"
   },
   {
    "duration": 24,
    "start_time": "2023-04-18T08:10:13.797Z"
   },
   {
    "duration": 114,
    "start_time": "2023-04-18T08:10:13.822Z"
   },
   {
    "duration": 0,
    "start_time": "2023-04-18T08:10:13.938Z"
   },
   {
    "duration": 0,
    "start_time": "2023-04-18T08:10:13.939Z"
   },
   {
    "duration": 0,
    "start_time": "2023-04-18T08:10:13.940Z"
   },
   {
    "duration": 0,
    "start_time": "2023-04-18T08:10:13.941Z"
   },
   {
    "duration": 0,
    "start_time": "2023-04-18T08:10:13.942Z"
   },
   {
    "duration": 15,
    "start_time": "2023-04-18T08:12:14.131Z"
   },
   {
    "duration": 10,
    "start_time": "2023-04-18T08:14:11.002Z"
   },
   {
    "duration": 11,
    "start_time": "2023-04-18T08:14:53.114Z"
   },
   {
    "duration": 12,
    "start_time": "2023-04-18T08:19:29.839Z"
   },
   {
    "duration": 8,
    "start_time": "2023-04-18T08:19:40.415Z"
   },
   {
    "duration": 13,
    "start_time": "2023-04-18T08:20:49.138Z"
   },
   {
    "duration": 8,
    "start_time": "2023-04-18T08:20:51.475Z"
   },
   {
    "duration": 104,
    "start_time": "2023-04-18T08:20:57.044Z"
   },
   {
    "duration": 59,
    "start_time": "2023-04-18T08:25:10.603Z"
   },
   {
    "duration": 18,
    "start_time": "2023-04-18T08:33:02.016Z"
   },
   {
    "duration": 31,
    "start_time": "2023-04-18T08:36:52.755Z"
   },
   {
    "duration": 19,
    "start_time": "2023-04-18T08:36:58.437Z"
   },
   {
    "duration": 20,
    "start_time": "2023-04-18T08:37:20.173Z"
   },
   {
    "duration": 34,
    "start_time": "2023-04-18T08:37:25.769Z"
   },
   {
    "duration": 31,
    "start_time": "2023-04-18T08:38:04.269Z"
   },
   {
    "duration": 23,
    "start_time": "2023-04-18T08:38:10.154Z"
   },
   {
    "duration": 20,
    "start_time": "2023-04-18T08:38:15.021Z"
   },
   {
    "duration": 10,
    "start_time": "2023-04-18T08:42:44.571Z"
   },
   {
    "duration": 145,
    "start_time": "2023-04-18T08:42:48.465Z"
   },
   {
    "duration": 13,
    "start_time": "2023-04-18T08:45:05.550Z"
   },
   {
    "duration": 125,
    "start_time": "2023-04-18T08:46:56.248Z"
   },
   {
    "duration": 9,
    "start_time": "2023-04-18T08:47:04.475Z"
   },
   {
    "duration": 126,
    "start_time": "2023-04-18T08:47:06.410Z"
   },
   {
    "duration": 16,
    "start_time": "2023-04-18T08:47:27.741Z"
   },
   {
    "duration": 126,
    "start_time": "2023-04-18T08:47:31.312Z"
   },
   {
    "duration": 49,
    "start_time": "2023-04-18T08:53:51.050Z"
   },
   {
    "duration": 13,
    "start_time": "2023-04-18T08:53:58.169Z"
   },
   {
    "duration": 110,
    "start_time": "2023-04-18T08:54:13.179Z"
   },
   {
    "duration": 10,
    "start_time": "2023-04-18T08:54:17.323Z"
   },
   {
    "duration": 8,
    "start_time": "2023-04-18T08:55:53.672Z"
   },
   {
    "duration": 146,
    "start_time": "2023-04-18T08:55:55.961Z"
   },
   {
    "duration": 71,
    "start_time": "2023-04-18T08:57:25.520Z"
   },
   {
    "duration": 27,
    "start_time": "2023-04-18T09:03:27.331Z"
   },
   {
    "duration": 33,
    "start_time": "2023-04-18T09:03:31.820Z"
   },
   {
    "duration": 20,
    "start_time": "2023-04-18T09:03:49.284Z"
   },
   {
    "duration": 15,
    "start_time": "2023-04-18T09:05:07.456Z"
   },
   {
    "duration": 17,
    "start_time": "2023-04-18T09:05:26.414Z"
   },
   {
    "duration": 1240,
    "start_time": "2023-04-18T09:05:44.375Z"
   },
   {
    "duration": 19,
    "start_time": "2023-04-18T09:05:45.617Z"
   },
   {
    "duration": 17,
    "start_time": "2023-04-18T09:05:45.638Z"
   },
   {
    "duration": 22,
    "start_time": "2023-04-18T09:05:45.658Z"
   },
   {
    "duration": 45,
    "start_time": "2023-04-18T09:05:45.681Z"
   },
   {
    "duration": 4,
    "start_time": "2023-04-18T09:05:45.728Z"
   },
   {
    "duration": 20,
    "start_time": "2023-04-18T09:05:45.734Z"
   },
   {
    "duration": 6,
    "start_time": "2023-04-18T09:05:45.756Z"
   },
   {
    "duration": 31,
    "start_time": "2023-04-18T09:05:45.763Z"
   },
   {
    "duration": 5,
    "start_time": "2023-04-18T09:05:45.799Z"
   },
   {
    "duration": 49,
    "start_time": "2023-04-18T09:05:45.806Z"
   },
   {
    "duration": 14,
    "start_time": "2023-04-18T09:05:45.858Z"
   },
   {
    "duration": 4,
    "start_time": "2023-04-18T09:05:45.894Z"
   },
   {
    "duration": 17,
    "start_time": "2023-04-18T09:05:45.900Z"
   },
   {
    "duration": 30,
    "start_time": "2023-04-18T09:05:45.920Z"
   },
   {
    "duration": 16,
    "start_time": "2023-04-18T09:05:45.951Z"
   },
   {
    "duration": 28,
    "start_time": "2023-04-18T09:05:45.969Z"
   },
   {
    "duration": 10,
    "start_time": "2023-04-18T09:05:45.999Z"
   },
   {
    "duration": 6,
    "start_time": "2023-04-18T09:05:46.011Z"
   },
   {
    "duration": 5,
    "start_time": "2023-04-18T09:05:46.019Z"
   },
   {
    "duration": 9,
    "start_time": "2023-04-18T09:05:46.025Z"
   },
   {
    "duration": 10,
    "start_time": "2023-04-18T09:05:46.035Z"
   },
   {
    "duration": 168,
    "start_time": "2023-04-18T09:05:46.046Z"
   },
   {
    "duration": 20,
    "start_time": "2023-04-18T09:05:46.216Z"
   },
   {
    "duration": 164,
    "start_time": "2023-04-18T09:05:46.238Z"
   },
   {
    "duration": 9,
    "start_time": "2023-04-18T09:05:46.404Z"
   },
   {
    "duration": 127,
    "start_time": "2023-04-18T09:05:46.414Z"
   },
   {
    "duration": 9,
    "start_time": "2023-04-18T09:05:46.544Z"
   },
   {
    "duration": 124,
    "start_time": "2023-04-18T09:05:46.554Z"
   },
   {
    "duration": 144,
    "start_time": "2023-04-18T09:19:33.857Z"
   },
   {
    "duration": 131,
    "start_time": "2023-04-18T09:19:52.440Z"
   },
   {
    "duration": 1202,
    "start_time": "2023-04-18T09:20:19.521Z"
   },
   {
    "duration": 1051,
    "start_time": "2023-04-18T09:20:26.384Z"
   },
   {
    "duration": 162,
    "start_time": "2023-04-18T09:20:34.920Z"
   },
   {
    "duration": 254,
    "start_time": "2023-04-18T09:20:44.685Z"
   },
   {
    "duration": 139,
    "start_time": "2023-04-18T09:20:57.929Z"
   },
   {
    "duration": 1187,
    "start_time": "2023-04-18T09:44:54.490Z"
   },
   {
    "duration": 17,
    "start_time": "2023-04-18T09:44:55.679Z"
   },
   {
    "duration": 14,
    "start_time": "2023-04-18T09:44:55.697Z"
   },
   {
    "duration": 11,
    "start_time": "2023-04-18T09:44:55.713Z"
   },
   {
    "duration": 30,
    "start_time": "2023-04-18T09:44:55.725Z"
   },
   {
    "duration": 3,
    "start_time": "2023-04-18T09:44:55.757Z"
   },
   {
    "duration": 10,
    "start_time": "2023-04-18T09:44:55.761Z"
   },
   {
    "duration": 4,
    "start_time": "2023-04-18T09:44:55.794Z"
   },
   {
    "duration": 9,
    "start_time": "2023-04-18T09:44:55.800Z"
   },
   {
    "duration": 5,
    "start_time": "2023-04-18T09:44:55.812Z"
   },
   {
    "duration": 35,
    "start_time": "2023-04-18T09:44:55.818Z"
   },
   {
    "duration": 10,
    "start_time": "2023-04-18T09:44:55.855Z"
   },
   {
    "duration": 4,
    "start_time": "2023-04-18T09:44:55.895Z"
   },
   {
    "duration": 13,
    "start_time": "2023-04-18T09:44:55.900Z"
   },
   {
    "duration": 32,
    "start_time": "2023-04-18T09:44:55.915Z"
   },
   {
    "duration": 18,
    "start_time": "2023-04-18T09:44:55.948Z"
   },
   {
    "duration": 27,
    "start_time": "2023-04-18T09:44:55.968Z"
   },
   {
    "duration": 13,
    "start_time": "2023-04-18T09:44:55.996Z"
   },
   {
    "duration": 6,
    "start_time": "2023-04-18T09:44:56.011Z"
   },
   {
    "duration": 4,
    "start_time": "2023-04-18T09:44:56.018Z"
   },
   {
    "duration": 11,
    "start_time": "2023-04-18T09:44:56.023Z"
   },
   {
    "duration": 7,
    "start_time": "2023-04-18T09:44:56.035Z"
   },
   {
    "duration": 176,
    "start_time": "2023-04-18T09:44:56.044Z"
   },
   {
    "duration": 21,
    "start_time": "2023-04-18T09:44:56.221Z"
   },
   {
    "duration": 155,
    "start_time": "2023-04-18T09:44:56.244Z"
   },
   {
    "duration": 10,
    "start_time": "2023-04-18T09:44:56.400Z"
   },
   {
    "duration": 153,
    "start_time": "2023-04-18T09:44:56.411Z"
   },
   {
    "duration": 9,
    "start_time": "2023-04-18T09:44:56.567Z"
   },
   {
    "duration": 134,
    "start_time": "2023-04-18T09:44:56.578Z"
   },
   {
    "duration": 191,
    "start_time": "2023-04-18T10:47:36.022Z"
   },
   {
    "duration": 1151,
    "start_time": "2023-04-18T10:47:44.919Z"
   },
   {
    "duration": 17,
    "start_time": "2023-04-18T10:47:46.072Z"
   },
   {
    "duration": 15,
    "start_time": "2023-04-18T10:47:46.091Z"
   },
   {
    "duration": 8,
    "start_time": "2023-04-18T10:47:46.107Z"
   },
   {
    "duration": 28,
    "start_time": "2023-04-18T10:47:46.117Z"
   },
   {
    "duration": 3,
    "start_time": "2023-04-18T10:47:46.147Z"
   },
   {
    "duration": 9,
    "start_time": "2023-04-18T10:47:46.151Z"
   },
   {
    "duration": 3,
    "start_time": "2023-04-18T10:47:46.162Z"
   },
   {
    "duration": 30,
    "start_time": "2023-04-18T10:47:46.167Z"
   },
   {
    "duration": 4,
    "start_time": "2023-04-18T10:47:46.198Z"
   },
   {
    "duration": 31,
    "start_time": "2023-04-18T10:47:46.203Z"
   },
   {
    "duration": 8,
    "start_time": "2023-04-18T10:47:46.236Z"
   },
   {
    "duration": 3,
    "start_time": "2023-04-18T10:47:46.245Z"
   },
   {
    "duration": 10,
    "start_time": "2023-04-18T10:47:46.250Z"
   },
   {
    "duration": 44,
    "start_time": "2023-04-18T10:47:46.261Z"
   },
   {
    "duration": 16,
    "start_time": "2023-04-18T10:47:46.306Z"
   },
   {
    "duration": 4,
    "start_time": "2023-04-18T10:47:46.323Z"
   },
   {
    "duration": 10,
    "start_time": "2023-04-18T10:47:46.328Z"
   },
   {
    "duration": 5,
    "start_time": "2023-04-18T10:47:46.339Z"
   },
   {
    "duration": 4,
    "start_time": "2023-04-18T10:47:46.345Z"
   },
   {
    "duration": 9,
    "start_time": "2023-04-18T10:47:46.350Z"
   },
   {
    "duration": 34,
    "start_time": "2023-04-18T10:47:46.360Z"
   },
   {
    "duration": 125,
    "start_time": "2023-04-18T10:47:46.396Z"
   },
   {
    "duration": 20,
    "start_time": "2023-04-18T10:47:46.522Z"
   },
   {
    "duration": 127,
    "start_time": "2023-04-18T10:47:46.543Z"
   },
   {
    "duration": 9,
    "start_time": "2023-04-18T10:47:46.671Z"
   },
   {
    "duration": 108,
    "start_time": "2023-04-18T10:47:46.693Z"
   },
   {
    "duration": 8,
    "start_time": "2023-04-18T10:47:46.803Z"
   },
   {
    "duration": 203,
    "start_time": "2023-04-18T10:47:46.812Z"
   },
   {
    "duration": 108,
    "start_time": "2023-04-18T10:48:52.821Z"
   },
   {
    "duration": 1137,
    "start_time": "2023-04-18T10:49:42.126Z"
   },
   {
    "duration": 20,
    "start_time": "2023-04-18T10:49:43.265Z"
   },
   {
    "duration": 14,
    "start_time": "2023-04-18T10:49:43.286Z"
   },
   {
    "duration": 9,
    "start_time": "2023-04-18T10:49:43.302Z"
   },
   {
    "duration": 41,
    "start_time": "2023-04-18T10:49:43.312Z"
   },
   {
    "duration": 3,
    "start_time": "2023-04-18T10:49:43.354Z"
   },
   {
    "duration": 27,
    "start_time": "2023-04-18T10:49:43.359Z"
   },
   {
    "duration": 14,
    "start_time": "2023-04-18T10:49:43.387Z"
   },
   {
    "duration": 14,
    "start_time": "2023-04-18T10:49:43.402Z"
   },
   {
    "duration": 16,
    "start_time": "2023-04-18T10:49:43.419Z"
   },
   {
    "duration": 35,
    "start_time": "2023-04-18T10:49:43.437Z"
   },
   {
    "duration": 10,
    "start_time": "2023-04-18T10:49:43.474Z"
   },
   {
    "duration": 23,
    "start_time": "2023-04-18T10:49:43.485Z"
   },
   {
    "duration": 27,
    "start_time": "2023-04-18T10:49:43.510Z"
   },
   {
    "duration": 32,
    "start_time": "2023-04-18T10:49:43.538Z"
   },
   {
    "duration": 17,
    "start_time": "2023-04-18T10:49:43.572Z"
   },
   {
    "duration": 3,
    "start_time": "2023-04-18T10:49:43.591Z"
   },
   {
    "duration": 17,
    "start_time": "2023-04-18T10:49:43.596Z"
   },
   {
    "duration": 15,
    "start_time": "2023-04-18T10:49:43.614Z"
   },
   {
    "duration": 20,
    "start_time": "2023-04-18T10:49:43.630Z"
   },
   {
    "duration": 21,
    "start_time": "2023-04-18T10:49:43.651Z"
   },
   {
    "duration": 21,
    "start_time": "2023-04-18T10:49:43.673Z"
   },
   {
    "duration": 149,
    "start_time": "2023-04-18T10:49:43.696Z"
   },
   {
    "duration": 21,
    "start_time": "2023-04-18T10:49:43.847Z"
   },
   {
    "duration": 145,
    "start_time": "2023-04-18T10:49:43.870Z"
   },
   {
    "duration": 8,
    "start_time": "2023-04-18T10:49:44.017Z"
   },
   {
    "duration": 150,
    "start_time": "2023-04-18T10:49:44.027Z"
   },
   {
    "duration": 20,
    "start_time": "2023-04-18T10:49:44.183Z"
   },
   {
    "duration": 146,
    "start_time": "2023-04-18T10:49:44.205Z"
   },
   {
    "duration": 122,
    "start_time": "2023-04-18T10:51:06.923Z"
   },
   {
    "duration": 115,
    "start_time": "2023-04-18T10:51:17.538Z"
   },
   {
    "duration": 1133,
    "start_time": "2023-04-18T10:51:22.723Z"
   },
   {
    "duration": 18,
    "start_time": "2023-04-18T10:51:23.858Z"
   },
   {
    "duration": 13,
    "start_time": "2023-04-18T10:51:23.877Z"
   },
   {
    "duration": 37,
    "start_time": "2023-04-18T10:51:23.892Z"
   },
   {
    "duration": 30,
    "start_time": "2023-04-18T10:51:23.932Z"
   },
   {
    "duration": 3,
    "start_time": "2023-04-18T10:51:23.963Z"
   },
   {
    "duration": 12,
    "start_time": "2023-04-18T10:51:23.968Z"
   },
   {
    "duration": 4,
    "start_time": "2023-04-18T10:51:23.981Z"
   },
   {
    "duration": 22,
    "start_time": "2023-04-18T10:51:23.986Z"
   },
   {
    "duration": 16,
    "start_time": "2023-04-18T10:51:24.009Z"
   },
   {
    "duration": 41,
    "start_time": "2023-04-18T10:51:24.027Z"
   },
   {
    "duration": 10,
    "start_time": "2023-04-18T10:51:24.070Z"
   },
   {
    "duration": 14,
    "start_time": "2023-04-18T10:51:24.082Z"
   },
   {
    "duration": 16,
    "start_time": "2023-04-18T10:51:24.099Z"
   },
   {
    "duration": 22,
    "start_time": "2023-04-18T10:51:24.117Z"
   },
   {
    "duration": 19,
    "start_time": "2023-04-18T10:51:24.141Z"
   },
   {
    "duration": 4,
    "start_time": "2023-04-18T10:51:24.162Z"
   },
   {
    "duration": 33,
    "start_time": "2023-04-18T10:51:24.168Z"
   },
   {
    "duration": 15,
    "start_time": "2023-04-18T10:51:24.203Z"
   },
   {
    "duration": 4,
    "start_time": "2023-04-18T10:51:24.221Z"
   },
   {
    "duration": 16,
    "start_time": "2023-04-18T10:51:24.227Z"
   },
   {
    "duration": 14,
    "start_time": "2023-04-18T10:51:24.245Z"
   },
   {
    "duration": 119,
    "start_time": "2023-04-18T10:51:24.260Z"
   },
   {
    "duration": 28,
    "start_time": "2023-04-18T10:51:24.381Z"
   },
   {
    "duration": 130,
    "start_time": "2023-04-18T10:51:24.411Z"
   },
   {
    "duration": 8,
    "start_time": "2023-04-18T10:51:24.543Z"
   },
   {
    "duration": 124,
    "start_time": "2023-04-18T10:51:24.553Z"
   },
   {
    "duration": 25,
    "start_time": "2023-04-18T10:51:24.678Z"
   },
   {
    "duration": 141,
    "start_time": "2023-04-18T10:51:24.705Z"
   },
   {
    "duration": 3,
    "start_time": "2023-04-18T10:55:51.314Z"
   },
   {
    "duration": 286,
    "start_time": "2023-04-18T10:55:59.314Z"
   },
   {
    "duration": 883,
    "start_time": "2023-04-18T10:56:20.096Z"
   },
   {
    "duration": 50,
    "start_time": "2023-04-18T10:56:26.358Z"
   },
   {
    "duration": 15,
    "start_time": "2023-04-18T10:56:34.212Z"
   },
   {
    "duration": 1135,
    "start_time": "2023-04-18T10:57:03.335Z"
   },
   {
    "duration": 23,
    "start_time": "2023-04-18T10:57:04.474Z"
   },
   {
    "duration": 24,
    "start_time": "2023-04-18T10:57:04.500Z"
   },
   {
    "duration": 17,
    "start_time": "2023-04-18T10:57:04.527Z"
   },
   {
    "duration": 35,
    "start_time": "2023-04-18T10:57:04.547Z"
   },
   {
    "duration": 11,
    "start_time": "2023-04-18T10:57:04.585Z"
   },
   {
    "duration": 20,
    "start_time": "2023-04-18T10:57:04.598Z"
   },
   {
    "duration": 6,
    "start_time": "2023-04-18T10:57:04.620Z"
   },
   {
    "duration": 15,
    "start_time": "2023-04-18T10:57:04.627Z"
   },
   {
    "duration": 5,
    "start_time": "2023-04-18T10:57:04.645Z"
   },
   {
    "duration": 46,
    "start_time": "2023-04-18T10:57:04.652Z"
   },
   {
    "duration": 9,
    "start_time": "2023-04-18T10:57:04.700Z"
   },
   {
    "duration": 7,
    "start_time": "2023-04-18T10:57:04.710Z"
   },
   {
    "duration": 23,
    "start_time": "2023-04-18T10:57:04.718Z"
   },
   {
    "duration": 34,
    "start_time": "2023-04-18T10:57:04.743Z"
   },
   {
    "duration": 19,
    "start_time": "2023-04-18T10:57:04.779Z"
   },
   {
    "duration": 4,
    "start_time": "2023-04-18T10:57:04.799Z"
   },
   {
    "duration": 14,
    "start_time": "2023-04-18T10:57:04.804Z"
   },
   {
    "duration": 9,
    "start_time": "2023-04-18T10:57:04.820Z"
   },
   {
    "duration": 20,
    "start_time": "2023-04-18T10:57:04.831Z"
   },
   {
    "duration": 9,
    "start_time": "2023-04-18T10:57:04.853Z"
   },
   {
    "duration": 7,
    "start_time": "2023-04-18T10:57:04.864Z"
   },
   {
    "duration": 96,
    "start_time": "2023-04-18T10:57:04.872Z"
   },
   {
    "duration": 0,
    "start_time": "2023-04-18T10:57:04.969Z"
   },
   {
    "duration": 0,
    "start_time": "2023-04-18T10:57:04.970Z"
   },
   {
    "duration": 0,
    "start_time": "2023-04-18T10:57:04.971Z"
   },
   {
    "duration": 0,
    "start_time": "2023-04-18T10:57:04.972Z"
   },
   {
    "duration": 0,
    "start_time": "2023-04-18T10:57:04.973Z"
   },
   {
    "duration": 0,
    "start_time": "2023-04-18T10:57:04.974Z"
   },
   {
    "duration": 11,
    "start_time": "2023-04-18T10:57:14.244Z"
   },
   {
    "duration": 1146,
    "start_time": "2023-04-18T10:57:19.631Z"
   },
   {
    "duration": 18,
    "start_time": "2023-04-18T10:57:20.779Z"
   },
   {
    "duration": 13,
    "start_time": "2023-04-18T10:57:20.801Z"
   },
   {
    "duration": 16,
    "start_time": "2023-04-18T10:57:20.816Z"
   },
   {
    "duration": 43,
    "start_time": "2023-04-18T10:57:20.833Z"
   },
   {
    "duration": 3,
    "start_time": "2023-04-18T10:57:20.878Z"
   },
   {
    "duration": 33,
    "start_time": "2023-04-18T10:57:20.882Z"
   },
   {
    "duration": 4,
    "start_time": "2023-04-18T10:57:20.917Z"
   },
   {
    "duration": 13,
    "start_time": "2023-04-18T10:57:20.923Z"
   },
   {
    "duration": 5,
    "start_time": "2023-04-18T10:57:20.937Z"
   },
   {
    "duration": 48,
    "start_time": "2023-04-18T10:57:20.943Z"
   },
   {
    "duration": 10,
    "start_time": "2023-04-18T10:57:20.992Z"
   },
   {
    "duration": 40,
    "start_time": "2023-04-18T10:57:21.004Z"
   },
   {
    "duration": 47,
    "start_time": "2023-04-18T10:57:21.045Z"
   },
   {
    "duration": 29,
    "start_time": "2023-04-18T10:57:21.093Z"
   },
   {
    "duration": 17,
    "start_time": "2023-04-18T10:57:21.123Z"
   },
   {
    "duration": 6,
    "start_time": "2023-04-18T10:57:21.142Z"
   },
   {
    "duration": 24,
    "start_time": "2023-04-18T10:57:21.149Z"
   },
   {
    "duration": 16,
    "start_time": "2023-04-18T10:57:21.175Z"
   },
   {
    "duration": 15,
    "start_time": "2023-04-18T10:57:21.192Z"
   },
   {
    "duration": 40,
    "start_time": "2023-04-18T10:57:21.208Z"
   },
   {
    "duration": 42,
    "start_time": "2023-04-18T10:57:21.250Z"
   },
   {
    "duration": 100,
    "start_time": "2023-04-18T10:57:21.294Z"
   },
   {
    "duration": 0,
    "start_time": "2023-04-18T10:57:21.396Z"
   },
   {
    "duration": 0,
    "start_time": "2023-04-18T10:57:21.397Z"
   },
   {
    "duration": 0,
    "start_time": "2023-04-18T10:57:21.399Z"
   },
   {
    "duration": 0,
    "start_time": "2023-04-18T10:57:21.400Z"
   },
   {
    "duration": 0,
    "start_time": "2023-04-18T10:57:21.401Z"
   },
   {
    "duration": 0,
    "start_time": "2023-04-18T10:57:21.402Z"
   },
   {
    "duration": 1186,
    "start_time": "2023-04-18T10:57:55.128Z"
   },
   {
    "duration": 20,
    "start_time": "2023-04-18T10:57:56.316Z"
   },
   {
    "duration": 15,
    "start_time": "2023-04-18T10:57:56.338Z"
   },
   {
    "duration": 9,
    "start_time": "2023-04-18T10:57:56.355Z"
   },
   {
    "duration": 52,
    "start_time": "2023-04-18T10:57:56.366Z"
   },
   {
    "duration": 4,
    "start_time": "2023-04-18T10:57:56.420Z"
   },
   {
    "duration": 11,
    "start_time": "2023-04-18T10:57:56.425Z"
   },
   {
    "duration": 4,
    "start_time": "2023-04-18T10:57:56.437Z"
   },
   {
    "duration": 7,
    "start_time": "2023-04-18T10:57:56.443Z"
   },
   {
    "duration": 4,
    "start_time": "2023-04-18T10:57:56.453Z"
   },
   {
    "duration": 66,
    "start_time": "2023-04-18T10:57:56.458Z"
   },
   {
    "duration": 9,
    "start_time": "2023-04-18T10:57:56.526Z"
   },
   {
    "duration": 4,
    "start_time": "2023-04-18T10:57:56.536Z"
   },
   {
    "duration": 12,
    "start_time": "2023-04-18T10:57:56.542Z"
   },
   {
    "duration": 40,
    "start_time": "2023-04-18T10:57:56.556Z"
   },
   {
    "duration": 17,
    "start_time": "2023-04-18T10:57:56.598Z"
   },
   {
    "duration": 4,
    "start_time": "2023-04-18T10:57:56.616Z"
   },
   {
    "duration": 17,
    "start_time": "2023-04-18T10:57:56.622Z"
   },
   {
    "duration": 6,
    "start_time": "2023-04-18T10:57:56.640Z"
   },
   {
    "duration": 3,
    "start_time": "2023-04-18T10:57:56.647Z"
   },
   {
    "duration": 10,
    "start_time": "2023-04-18T10:57:56.652Z"
   },
   {
    "duration": 32,
    "start_time": "2023-04-18T10:57:56.664Z"
   },
   {
    "duration": 139,
    "start_time": "2023-04-18T10:57:56.698Z"
   },
   {
    "duration": 23,
    "start_time": "2023-04-18T10:57:56.839Z"
   },
   {
    "duration": 144,
    "start_time": "2023-04-18T10:57:56.864Z"
   },
   {
    "duration": 9,
    "start_time": "2023-04-18T10:57:57.010Z"
   },
   {
    "duration": 121,
    "start_time": "2023-04-18T10:57:57.020Z"
   },
   {
    "duration": 10,
    "start_time": "2023-04-18T10:57:57.144Z"
   },
   {
    "duration": 148,
    "start_time": "2023-04-18T10:57:57.156Z"
   },
   {
    "duration": 17,
    "start_time": "2023-04-18T11:01:08.402Z"
   },
   {
    "duration": 124,
    "start_time": "2023-04-18T11:01:09.708Z"
   },
   {
    "duration": 15,
    "start_time": "2023-04-18T11:01:19.810Z"
   },
   {
    "duration": 119,
    "start_time": "2023-04-18T11:01:21.165Z"
   },
   {
    "duration": 1182,
    "start_time": "2023-04-18T11:16:02.315Z"
   },
   {
    "duration": 25,
    "start_time": "2023-04-18T11:16:03.501Z"
   },
   {
    "duration": 15,
    "start_time": "2023-04-18T11:16:03.529Z"
   },
   {
    "duration": 10,
    "start_time": "2023-04-18T11:16:03.546Z"
   },
   {
    "duration": 57,
    "start_time": "2023-04-18T11:16:03.558Z"
   },
   {
    "duration": 4,
    "start_time": "2023-04-18T11:16:03.617Z"
   },
   {
    "duration": 18,
    "start_time": "2023-04-18T11:16:03.623Z"
   },
   {
    "duration": 6,
    "start_time": "2023-04-18T11:16:03.642Z"
   },
   {
    "duration": 12,
    "start_time": "2023-04-18T11:16:03.650Z"
   },
   {
    "duration": 26,
    "start_time": "2023-04-18T11:16:03.663Z"
   },
   {
    "duration": 34,
    "start_time": "2023-04-18T11:16:03.690Z"
   },
   {
    "duration": 10,
    "start_time": "2023-04-18T11:16:03.726Z"
   },
   {
    "duration": 6,
    "start_time": "2023-04-18T11:16:03.738Z"
   },
   {
    "duration": 29,
    "start_time": "2023-04-18T11:16:03.746Z"
   },
   {
    "duration": 22,
    "start_time": "2023-04-18T11:16:03.776Z"
   },
   {
    "duration": 21,
    "start_time": "2023-04-18T11:16:03.800Z"
   },
   {
    "duration": 8,
    "start_time": "2023-04-18T11:16:03.822Z"
   },
   {
    "duration": 22,
    "start_time": "2023-04-18T11:16:03.832Z"
   },
   {
    "duration": 9,
    "start_time": "2023-04-18T11:16:03.856Z"
   },
   {
    "duration": 13,
    "start_time": "2023-04-18T11:16:03.867Z"
   },
   {
    "duration": 17,
    "start_time": "2023-04-18T11:16:03.881Z"
   },
   {
    "duration": 31,
    "start_time": "2023-04-18T11:16:03.899Z"
   },
   {
    "duration": 122,
    "start_time": "2023-04-18T11:16:03.932Z"
   },
   {
    "duration": 18,
    "start_time": "2023-04-18T11:16:04.056Z"
   },
   {
    "duration": 152,
    "start_time": "2023-04-18T11:16:04.076Z"
   },
   {
    "duration": 12,
    "start_time": "2023-04-18T11:16:04.230Z"
   },
   {
    "duration": 183,
    "start_time": "2023-04-18T11:16:04.245Z"
   },
   {
    "duration": 12,
    "start_time": "2023-04-18T11:16:04.430Z"
   },
   {
    "duration": 164,
    "start_time": "2023-04-18T11:16:04.444Z"
   },
   {
    "duration": 2127,
    "start_time": "2023-04-18T11:28:15.186Z"
   },
   {
    "duration": 23,
    "start_time": "2023-04-18T11:28:17.315Z"
   },
   {
    "duration": 24,
    "start_time": "2023-04-18T11:28:17.341Z"
   },
   {
    "duration": 23,
    "start_time": "2023-04-18T11:28:17.369Z"
   },
   {
    "duration": 47,
    "start_time": "2023-04-18T11:28:17.395Z"
   },
   {
    "duration": 6,
    "start_time": "2023-04-18T11:28:17.444Z"
   },
   {
    "duration": 59,
    "start_time": "2023-04-18T11:28:17.452Z"
   },
   {
    "duration": 23,
    "start_time": "2023-04-18T11:28:17.513Z"
   },
   {
    "duration": 50,
    "start_time": "2023-04-18T11:28:17.538Z"
   },
   {
    "duration": 13,
    "start_time": "2023-04-18T11:28:17.589Z"
   },
   {
    "duration": 60,
    "start_time": "2023-04-18T11:28:17.604Z"
   },
   {
    "duration": 16,
    "start_time": "2023-04-18T11:28:17.666Z"
   },
   {
    "duration": 16,
    "start_time": "2023-04-18T11:28:17.684Z"
   },
   {
    "duration": 26,
    "start_time": "2023-04-18T11:28:17.704Z"
   },
   {
    "duration": 82,
    "start_time": "2023-04-18T11:28:17.733Z"
   },
   {
    "duration": 21,
    "start_time": "2023-04-18T11:28:17.818Z"
   },
   {
    "duration": 14,
    "start_time": "2023-04-18T11:28:17.841Z"
   },
   {
    "duration": 32,
    "start_time": "2023-04-18T11:28:17.860Z"
   },
   {
    "duration": 7,
    "start_time": "2023-04-18T11:28:17.894Z"
   },
   {
    "duration": 6,
    "start_time": "2023-04-18T11:28:17.903Z"
   },
   {
    "duration": 22,
    "start_time": "2023-04-18T11:28:17.911Z"
   },
   {
    "duration": 40,
    "start_time": "2023-04-18T11:28:17.935Z"
   },
   {
    "duration": 159,
    "start_time": "2023-04-18T11:28:17.977Z"
   },
   {
    "duration": 34,
    "start_time": "2023-04-18T11:28:18.147Z"
   },
   {
    "duration": 173,
    "start_time": "2023-04-18T11:28:18.183Z"
   },
   {
    "duration": 13,
    "start_time": "2023-04-18T11:28:18.363Z"
   },
   {
    "duration": 155,
    "start_time": "2023-04-18T11:28:18.378Z"
   },
   {
    "duration": 16,
    "start_time": "2023-04-18T11:28:18.540Z"
   },
   {
    "duration": 170,
    "start_time": "2023-04-18T11:28:18.558Z"
   },
   {
    "duration": 1317,
    "start_time": "2023-04-18T13:06:57.715Z"
   },
   {
    "duration": 125,
    "start_time": "2023-04-18T13:06:59.035Z"
   },
   {
    "duration": 22,
    "start_time": "2023-04-18T13:06:59.161Z"
   },
   {
    "duration": 18,
    "start_time": "2023-04-18T13:06:59.185Z"
   },
   {
    "duration": 23,
    "start_time": "2023-04-18T13:06:59.205Z"
   },
   {
    "duration": 53,
    "start_time": "2023-04-18T13:06:59.230Z"
   },
   {
    "duration": 3,
    "start_time": "2023-04-18T13:06:59.285Z"
   },
   {
    "duration": 10,
    "start_time": "2023-04-18T13:06:59.290Z"
   },
   {
    "duration": 4,
    "start_time": "2023-04-18T13:06:59.302Z"
   },
   {
    "duration": 10,
    "start_time": "2023-04-18T13:06:59.307Z"
   },
   {
    "duration": 17,
    "start_time": "2023-04-18T13:06:59.319Z"
   },
   {
    "duration": 47,
    "start_time": "2023-04-18T13:06:59.338Z"
   },
   {
    "duration": 10,
    "start_time": "2023-04-18T13:06:59.387Z"
   },
   {
    "duration": 6,
    "start_time": "2023-04-18T13:06:59.400Z"
   },
   {
    "duration": 22,
    "start_time": "2023-04-18T13:06:59.408Z"
   },
   {
    "duration": 25,
    "start_time": "2023-04-18T13:06:59.432Z"
   },
   {
    "duration": 31,
    "start_time": "2023-04-18T13:06:59.458Z"
   },
   {
    "duration": 4,
    "start_time": "2023-04-18T13:06:59.491Z"
   },
   {
    "duration": 26,
    "start_time": "2023-04-18T13:06:59.496Z"
   },
   {
    "duration": 14,
    "start_time": "2023-04-18T13:06:59.524Z"
   },
   {
    "duration": 5,
    "start_time": "2023-04-18T13:06:59.540Z"
   },
   {
    "duration": 22,
    "start_time": "2023-04-18T13:06:59.546Z"
   },
   {
    "duration": 17,
    "start_time": "2023-04-18T13:06:59.569Z"
   },
   {
    "duration": 142,
    "start_time": "2023-04-18T13:06:59.588Z"
   },
   {
    "duration": 21,
    "start_time": "2023-04-18T13:06:59.732Z"
   },
   {
    "duration": 153,
    "start_time": "2023-04-18T13:06:59.755Z"
   },
   {
    "duration": 9,
    "start_time": "2023-04-18T13:06:59.910Z"
   },
   {
    "duration": 136,
    "start_time": "2023-04-18T13:06:59.920Z"
   },
   {
    "duration": 9,
    "start_time": "2023-04-18T13:07:00.058Z"
   },
   {
    "duration": 142,
    "start_time": "2023-04-18T13:07:00.068Z"
   },
   {
    "duration": 12,
    "start_time": "2023-04-18T13:08:47.674Z"
   },
   {
    "duration": 63,
    "start_time": "2023-04-18T13:08:51.015Z"
   },
   {
    "duration": 1291,
    "start_time": "2023-04-18T13:09:02.070Z"
   },
   {
    "duration": 49,
    "start_time": "2023-04-18T13:09:03.363Z"
   },
   {
    "duration": 0,
    "start_time": "2023-04-18T13:09:03.415Z"
   },
   {
    "duration": 0,
    "start_time": "2023-04-18T13:09:03.416Z"
   },
   {
    "duration": 0,
    "start_time": "2023-04-18T13:09:03.417Z"
   },
   {
    "duration": 0,
    "start_time": "2023-04-18T13:09:03.418Z"
   },
   {
    "duration": 0,
    "start_time": "2023-04-18T13:09:03.420Z"
   },
   {
    "duration": 0,
    "start_time": "2023-04-18T13:09:03.421Z"
   },
   {
    "duration": 0,
    "start_time": "2023-04-18T13:09:03.423Z"
   },
   {
    "duration": 0,
    "start_time": "2023-04-18T13:09:03.424Z"
   },
   {
    "duration": 0,
    "start_time": "2023-04-18T13:09:03.424Z"
   },
   {
    "duration": 0,
    "start_time": "2023-04-18T13:09:03.425Z"
   },
   {
    "duration": 0,
    "start_time": "2023-04-18T13:09:03.426Z"
   },
   {
    "duration": 0,
    "start_time": "2023-04-18T13:09:03.427Z"
   },
   {
    "duration": 0,
    "start_time": "2023-04-18T13:09:03.429Z"
   },
   {
    "duration": 0,
    "start_time": "2023-04-18T13:09:03.430Z"
   },
   {
    "duration": 0,
    "start_time": "2023-04-18T13:09:03.431Z"
   },
   {
    "duration": 0,
    "start_time": "2023-04-18T13:09:03.433Z"
   },
   {
    "duration": 0,
    "start_time": "2023-04-18T13:09:03.434Z"
   },
   {
    "duration": 0,
    "start_time": "2023-04-18T13:09:03.435Z"
   },
   {
    "duration": 0,
    "start_time": "2023-04-18T13:09:03.436Z"
   },
   {
    "duration": 0,
    "start_time": "2023-04-18T13:09:03.437Z"
   },
   {
    "duration": 0,
    "start_time": "2023-04-18T13:09:03.438Z"
   },
   {
    "duration": 0,
    "start_time": "2023-04-18T13:09:03.439Z"
   },
   {
    "duration": 0,
    "start_time": "2023-04-18T13:09:03.440Z"
   },
   {
    "duration": 0,
    "start_time": "2023-04-18T13:09:03.441Z"
   },
   {
    "duration": 0,
    "start_time": "2023-04-18T13:09:03.442Z"
   },
   {
    "duration": 0,
    "start_time": "2023-04-18T13:09:03.443Z"
   },
   {
    "duration": 0,
    "start_time": "2023-04-18T13:09:03.444Z"
   },
   {
    "duration": 0,
    "start_time": "2023-04-18T13:09:03.445Z"
   },
   {
    "duration": 74,
    "start_time": "2023-04-18T13:09:28.018Z"
   },
   {
    "duration": 102,
    "start_time": "2023-04-18T13:09:33.174Z"
   },
   {
    "duration": 0,
    "start_time": "2023-04-18T13:09:33.285Z"
   },
   {
    "duration": 0,
    "start_time": "2023-04-18T13:09:33.287Z"
   },
   {
    "duration": 0,
    "start_time": "2023-04-18T13:09:33.288Z"
   },
   {
    "duration": 0,
    "start_time": "2023-04-18T13:09:33.289Z"
   },
   {
    "duration": 0,
    "start_time": "2023-04-18T13:09:33.290Z"
   },
   {
    "duration": 0,
    "start_time": "2023-04-18T13:09:33.291Z"
   },
   {
    "duration": 0,
    "start_time": "2023-04-18T13:09:33.292Z"
   },
   {
    "duration": 0,
    "start_time": "2023-04-18T13:09:33.293Z"
   },
   {
    "duration": 0,
    "start_time": "2023-04-18T13:09:33.294Z"
   },
   {
    "duration": 0,
    "start_time": "2023-04-18T13:09:33.295Z"
   },
   {
    "duration": 0,
    "start_time": "2023-04-18T13:09:33.297Z"
   },
   {
    "duration": 0,
    "start_time": "2023-04-18T13:09:33.298Z"
   },
   {
    "duration": 0,
    "start_time": "2023-04-18T13:09:33.299Z"
   },
   {
    "duration": 0,
    "start_time": "2023-04-18T13:09:33.300Z"
   },
   {
    "duration": 0,
    "start_time": "2023-04-18T13:09:33.301Z"
   },
   {
    "duration": 0,
    "start_time": "2023-04-18T13:09:33.303Z"
   },
   {
    "duration": 0,
    "start_time": "2023-04-18T13:09:33.304Z"
   },
   {
    "duration": 0,
    "start_time": "2023-04-18T13:09:33.305Z"
   },
   {
    "duration": 0,
    "start_time": "2023-04-18T13:09:33.305Z"
   },
   {
    "duration": 0,
    "start_time": "2023-04-18T13:09:33.307Z"
   },
   {
    "duration": 0,
    "start_time": "2023-04-18T13:09:33.308Z"
   },
   {
    "duration": 0,
    "start_time": "2023-04-18T13:09:33.309Z"
   },
   {
    "duration": 0,
    "start_time": "2023-04-18T13:09:33.311Z"
   },
   {
    "duration": 0,
    "start_time": "2023-04-18T13:09:33.312Z"
   },
   {
    "duration": 0,
    "start_time": "2023-04-18T13:09:33.313Z"
   },
   {
    "duration": 0,
    "start_time": "2023-04-18T13:09:33.314Z"
   },
   {
    "duration": 0,
    "start_time": "2023-04-18T13:09:33.315Z"
   },
   {
    "duration": 1187,
    "start_time": "2023-04-18T13:09:41.259Z"
   },
   {
    "duration": 74,
    "start_time": "2023-04-18T13:09:42.448Z"
   },
   {
    "duration": 106,
    "start_time": "2023-04-18T13:09:42.524Z"
   },
   {
    "duration": 0,
    "start_time": "2023-04-18T13:09:42.632Z"
   },
   {
    "duration": 0,
    "start_time": "2023-04-18T13:09:42.634Z"
   },
   {
    "duration": 0,
    "start_time": "2023-04-18T13:09:42.635Z"
   },
   {
    "duration": 0,
    "start_time": "2023-04-18T13:09:42.636Z"
   },
   {
    "duration": 0,
    "start_time": "2023-04-18T13:09:42.637Z"
   },
   {
    "duration": 0,
    "start_time": "2023-04-18T13:09:42.638Z"
   },
   {
    "duration": 0,
    "start_time": "2023-04-18T13:09:42.639Z"
   },
   {
    "duration": 0,
    "start_time": "2023-04-18T13:09:42.640Z"
   },
   {
    "duration": 0,
    "start_time": "2023-04-18T13:09:42.642Z"
   },
   {
    "duration": 0,
    "start_time": "2023-04-18T13:09:42.643Z"
   },
   {
    "duration": 0,
    "start_time": "2023-04-18T13:09:42.644Z"
   },
   {
    "duration": 0,
    "start_time": "2023-04-18T13:09:42.645Z"
   },
   {
    "duration": 0,
    "start_time": "2023-04-18T13:09:42.645Z"
   },
   {
    "duration": 0,
    "start_time": "2023-04-18T13:09:42.647Z"
   },
   {
    "duration": 1,
    "start_time": "2023-04-18T13:09:42.647Z"
   },
   {
    "duration": 0,
    "start_time": "2023-04-18T13:09:42.649Z"
   },
   {
    "duration": 0,
    "start_time": "2023-04-18T13:09:42.650Z"
   },
   {
    "duration": 0,
    "start_time": "2023-04-18T13:09:42.651Z"
   },
   {
    "duration": 0,
    "start_time": "2023-04-18T13:09:42.685Z"
   },
   {
    "duration": 0,
    "start_time": "2023-04-18T13:09:42.686Z"
   },
   {
    "duration": 0,
    "start_time": "2023-04-18T13:09:42.687Z"
   },
   {
    "duration": 0,
    "start_time": "2023-04-18T13:09:42.689Z"
   },
   {
    "duration": 0,
    "start_time": "2023-04-18T13:09:42.690Z"
   },
   {
    "duration": 0,
    "start_time": "2023-04-18T13:09:42.692Z"
   },
   {
    "duration": 0,
    "start_time": "2023-04-18T13:09:42.694Z"
   },
   {
    "duration": 0,
    "start_time": "2023-04-18T13:09:42.695Z"
   },
   {
    "duration": 0,
    "start_time": "2023-04-18T13:09:42.696Z"
   },
   {
    "duration": 1134,
    "start_time": "2023-04-18T13:10:18.604Z"
   },
   {
    "duration": 73,
    "start_time": "2023-04-18T13:10:19.740Z"
   },
   {
    "duration": 23,
    "start_time": "2023-04-18T13:10:19.815Z"
   },
   {
    "duration": 16,
    "start_time": "2023-04-18T13:10:19.839Z"
   },
   {
    "duration": 75,
    "start_time": "2023-04-18T13:10:19.857Z"
   },
   {
    "duration": 34,
    "start_time": "2023-04-18T13:10:19.934Z"
   },
   {
    "duration": 19,
    "start_time": "2023-04-18T13:10:19.970Z"
   },
   {
    "duration": 30,
    "start_time": "2023-04-18T13:10:19.990Z"
   },
   {
    "duration": 5,
    "start_time": "2023-04-18T13:10:20.021Z"
   },
   {
    "duration": 8,
    "start_time": "2023-04-18T13:10:20.028Z"
   },
   {
    "duration": 5,
    "start_time": "2023-04-18T13:10:20.038Z"
   },
   {
    "duration": 40,
    "start_time": "2023-04-18T13:10:20.045Z"
   },
   {
    "duration": 9,
    "start_time": "2023-04-18T13:10:20.087Z"
   },
   {
    "duration": 3,
    "start_time": "2023-04-18T13:10:20.099Z"
   },
   {
    "duration": 17,
    "start_time": "2023-04-18T13:10:20.104Z"
   },
   {
    "duration": 20,
    "start_time": "2023-04-18T13:10:20.123Z"
   },
   {
    "duration": 43,
    "start_time": "2023-04-18T13:10:20.145Z"
   },
   {
    "duration": 4,
    "start_time": "2023-04-18T13:10:20.190Z"
   },
   {
    "duration": 15,
    "start_time": "2023-04-18T13:10:20.195Z"
   },
   {
    "duration": 8,
    "start_time": "2023-04-18T13:10:20.212Z"
   },
   {
    "duration": 4,
    "start_time": "2023-04-18T13:10:20.221Z"
   },
   {
    "duration": 11,
    "start_time": "2023-04-18T13:10:20.226Z"
   },
   {
    "duration": 8,
    "start_time": "2023-04-18T13:10:20.238Z"
   },
   {
    "duration": 163,
    "start_time": "2023-04-18T13:10:20.247Z"
   },
   {
    "duration": 25,
    "start_time": "2023-04-18T13:10:20.412Z"
   },
   {
    "duration": 150,
    "start_time": "2023-04-18T13:10:20.445Z"
   },
   {
    "duration": 9,
    "start_time": "2023-04-18T13:10:20.597Z"
   },
   {
    "duration": 141,
    "start_time": "2023-04-18T13:10:20.608Z"
   },
   {
    "duration": 10,
    "start_time": "2023-04-18T13:10:20.751Z"
   },
   {
    "duration": 148,
    "start_time": "2023-04-18T13:10:20.763Z"
   },
   {
    "duration": 11,
    "start_time": "2023-04-18T13:12:38.857Z"
   },
   {
    "duration": 106,
    "start_time": "2023-04-18T13:12:40.772Z"
   },
   {
    "duration": 14,
    "start_time": "2023-04-18T13:12:51.425Z"
   },
   {
    "duration": 134,
    "start_time": "2023-04-18T13:13:14.531Z"
   },
   {
    "duration": 44,
    "start_time": "2023-04-18T13:28:13.900Z"
   },
   {
    "duration": 118,
    "start_time": "2023-04-18T14:29:25.703Z"
   },
   {
    "duration": 142,
    "start_time": "2023-04-18T14:29:39.061Z"
   },
   {
    "duration": 130,
    "start_time": "2023-04-18T14:30:40.238Z"
   },
   {
    "duration": 45,
    "start_time": "2023-04-18T14:50:45.962Z"
   },
   {
    "duration": 64,
    "start_time": "2023-04-18T14:51:53.978Z"
   },
   {
    "duration": 16,
    "start_time": "2023-04-18T15:04:19.324Z"
   },
   {
    "duration": 1249,
    "start_time": "2023-04-18T15:39:27.366Z"
   },
   {
    "duration": 84,
    "start_time": "2023-04-18T15:39:28.617Z"
   },
   {
    "duration": 21,
    "start_time": "2023-04-18T15:39:28.702Z"
   },
   {
    "duration": 16,
    "start_time": "2023-04-18T15:39:28.725Z"
   },
   {
    "duration": 76,
    "start_time": "2023-04-18T15:39:28.743Z"
   },
   {
    "duration": 34,
    "start_time": "2023-04-18T15:39:28.820Z"
   },
   {
    "duration": 3,
    "start_time": "2023-04-18T15:39:28.856Z"
   },
   {
    "duration": 29,
    "start_time": "2023-04-18T15:39:28.861Z"
   },
   {
    "duration": 6,
    "start_time": "2023-04-18T15:39:28.892Z"
   },
   {
    "duration": 11,
    "start_time": "2023-04-18T15:39:28.901Z"
   },
   {
    "duration": 7,
    "start_time": "2023-04-18T15:39:28.914Z"
   },
   {
    "duration": 62,
    "start_time": "2023-04-18T15:39:28.923Z"
   },
   {
    "duration": 12,
    "start_time": "2023-04-18T15:39:28.987Z"
   },
   {
    "duration": 5,
    "start_time": "2023-04-18T15:39:29.001Z"
   },
   {
    "duration": 13,
    "start_time": "2023-04-18T15:39:29.008Z"
   },
   {
    "duration": 23,
    "start_time": "2023-04-18T15:39:29.022Z"
   },
   {
    "duration": 44,
    "start_time": "2023-04-18T15:39:29.047Z"
   },
   {
    "duration": 5,
    "start_time": "2023-04-18T15:39:29.093Z"
   },
   {
    "duration": 16,
    "start_time": "2023-04-18T15:39:29.100Z"
   },
   {
    "duration": 6,
    "start_time": "2023-04-18T15:39:29.118Z"
   },
   {
    "duration": 11,
    "start_time": "2023-04-18T15:39:29.126Z"
   },
   {
    "duration": 34,
    "start_time": "2023-04-18T15:39:29.138Z"
   },
   {
    "duration": 14,
    "start_time": "2023-04-18T15:39:29.174Z"
   },
   {
    "duration": 160,
    "start_time": "2023-04-18T15:39:29.190Z"
   },
   {
    "duration": 16,
    "start_time": "2023-04-18T15:39:29.352Z"
   },
   {
    "duration": 169,
    "start_time": "2023-04-18T15:39:29.370Z"
   },
   {
    "duration": 10,
    "start_time": "2023-04-18T15:39:29.540Z"
   },
   {
    "duration": 151,
    "start_time": "2023-04-18T15:39:29.553Z"
   },
   {
    "duration": 12,
    "start_time": "2023-04-18T15:39:29.705Z"
   },
   {
    "duration": 146,
    "start_time": "2023-04-18T15:39:29.719Z"
   },
   {
    "duration": 1369,
    "start_time": "2023-04-18T17:31:52.949Z"
   },
   {
    "duration": 164,
    "start_time": "2023-04-18T17:31:54.321Z"
   },
   {
    "duration": 25,
    "start_time": "2023-04-18T17:31:54.487Z"
   },
   {
    "duration": 21,
    "start_time": "2023-04-18T17:31:54.514Z"
   },
   {
    "duration": 86,
    "start_time": "2023-04-18T17:31:54.539Z"
   },
   {
    "duration": 35,
    "start_time": "2023-04-18T17:31:54.627Z"
   },
   {
    "duration": 4,
    "start_time": "2023-04-18T17:31:54.663Z"
   },
   {
    "duration": 8,
    "start_time": "2023-04-18T17:31:54.686Z"
   },
   {
    "duration": 4,
    "start_time": "2023-04-18T17:31:54.696Z"
   },
   {
    "duration": 6,
    "start_time": "2023-04-18T17:31:54.702Z"
   },
   {
    "duration": 5,
    "start_time": "2023-04-18T17:31:54.709Z"
   },
   {
    "duration": 73,
    "start_time": "2023-04-18T17:31:54.715Z"
   },
   {
    "duration": 10,
    "start_time": "2023-04-18T17:31:54.789Z"
   },
   {
    "duration": 6,
    "start_time": "2023-04-18T17:31:54.801Z"
   },
   {
    "duration": 18,
    "start_time": "2023-04-18T17:31:54.808Z"
   },
   {
    "duration": 20,
    "start_time": "2023-04-18T17:31:54.827Z"
   },
   {
    "duration": 38,
    "start_time": "2023-04-18T17:31:54.849Z"
   },
   {
    "duration": 4,
    "start_time": "2023-04-18T17:31:54.889Z"
   },
   {
    "duration": 16,
    "start_time": "2023-04-18T17:31:54.894Z"
   },
   {
    "duration": 11,
    "start_time": "2023-04-18T17:31:54.912Z"
   },
   {
    "duration": 4,
    "start_time": "2023-04-18T17:31:54.925Z"
   },
   {
    "duration": 21,
    "start_time": "2023-04-18T17:31:54.930Z"
   },
   {
    "duration": 15,
    "start_time": "2023-04-18T17:31:54.953Z"
   },
   {
    "duration": 156,
    "start_time": "2023-04-18T17:31:54.970Z"
   },
   {
    "duration": 14,
    "start_time": "2023-04-18T17:31:55.128Z"
   },
   {
    "duration": 150,
    "start_time": "2023-04-18T17:31:55.144Z"
   },
   {
    "duration": 9,
    "start_time": "2023-04-18T17:31:55.295Z"
   },
   {
    "duration": 129,
    "start_time": "2023-04-18T17:31:55.305Z"
   },
   {
    "duration": 10,
    "start_time": "2023-04-18T17:31:55.435Z"
   },
   {
    "duration": 138,
    "start_time": "2023-04-18T17:31:55.447Z"
   }
  ],
  "colab": {
   "provenance": []
  },
  "kernelspec": {
   "display_name": "Python 3 (ipykernel)",
   "language": "python",
   "name": "python3"
  },
  "language_info": {
   "codemirror_mode": {
    "name": "ipython",
    "version": 3
   },
   "file_extension": ".py",
   "mimetype": "text/x-python",
   "name": "python",
   "nbconvert_exporter": "python",
   "pygments_lexer": "ipython3",
   "version": "3.9.5"
  },
  "toc": {
   "base_numbering": 1,
   "nav_menu": {},
   "number_sections": true,
   "sideBar": true,
   "skip_h1_title": true,
   "title_cell": "Table of Contents",
   "title_sidebar": "Contents",
   "toc_cell": false,
   "toc_position": {
    "height": "calc(100% - 180px)",
    "left": "10px",
    "top": "150px",
    "width": "356.594px"
   },
   "toc_section_display": true,
   "toc_window_display": true
  }
 },
 "nbformat": 4,
 "nbformat_minor": 5
}
