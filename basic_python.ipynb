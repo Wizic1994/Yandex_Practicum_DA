{
 "cells": [
  {
   "cell_type": "markdown",
   "metadata": {
    "deletable": false,
    "editable": false,
    "id": "E0vqbgi9ay0H"
   },
   "source": [
    "# Яндекс.Музыка"
   ]
  },
  {
   "cell_type": "markdown",
   "metadata": {
    "deletable": false,
    "editable": false,
    "id": "VUC88oWjTJw2"
   },
   "source": [
    "Сравнение Москвы и Петербурга окружено мифами. Например:\n",
    " * Москва — мегаполис, подчинённый жёсткому ритму рабочей недели;\n",
    " * Петербург — культурная столица, со своими вкусами.\n",
    "\n",
    "На данных Яндекс Музыки вы сравните поведение пользователей двух столиц.\n",
    "\n",
    "**Цель исследования** — проверьте три гипотезы:\n",
    "1. Активность пользователей зависит от дня недели. Причём в Москве и Петербурге это проявляется по-разному.\n",
    "2. В понедельник утром в Москве преобладают одни жанры, а в Петербурге — другие. Так же и вечером пятницы преобладают разные жанры — в зависимости от города. \n",
    "3. Москва и Петербург предпочитают разные жанры музыки. В Москве чаще слушают поп-музыку, в Петербурге — русский рэп.\n",
    "\n",
    "**Ход исследования**\n",
    "\n",
    "Данные о поведении пользователей вы получите из файла `yandex_music_project.csv`. О качестве данных ничего не известно. Поэтому перед проверкой гипотез понадобится обзор данных. \n",
    "\n",
    "Вы проверите данные на ошибки и оцените их влияние на исследование. Затем, на этапе предобработки вы поищете возможность исправить самые критичные ошибки данных.\n",
    " \n",
    "Таким образом, исследование пройдёт в три этапа:\n",
    " 1. Обзор данных.\n",
    " 2. Предобработка данных.\n",
    " 3. Проверка гипотез.\n",
    "\n"
   ]
  },
  {
   "cell_type": "markdown",
   "metadata": {
    "deletable": false,
    "editable": false,
    "id": "Ml1hmfXC_Zcs"
   },
   "source": [
    "## Обзор данных\n",
    "\n",
    "Составьте первое представление о данных Яндекс Музыки.\n",
    "\n",
    "\n"
   ]
  },
  {
   "cell_type": "markdown",
   "metadata": {
    "deletable": false,
    "editable": false,
    "id": "57eAOGIz_Zcs",
    "tags": [
     "start_task"
    ]
   },
   "source": [
    "**Задание 1**\n",
    "\n",
    "Основной инструмент аналитика — `pandas`. Импортируйте эту библиотеку."
   ]
  },
  {
   "cell_type": "code",
   "execution_count": 1,
   "metadata": {
    "deletable": false,
    "id": "AXN7PHPN_Zcs"
   },
   "outputs": [],
   "source": [
    "import pandas as pd"
   ]
  },
  {
   "cell_type": "markdown",
   "metadata": {
    "deletable": false,
    "editable": false,
    "id": "SG23P8tt_Zcs",
    "tags": [
     "start_task"
    ]
   },
   "source": [
    "**Задание 2**\n",
    "\n",
    "Прочитайте файл `yandex_music_project.csv` из папки `/datasets` и сохраните его в переменной `df`:"
   ]
  },
  {
   "cell_type": "code",
   "execution_count": 2,
   "metadata": {
    "deletable": false,
    "id": "fFVu7vqh_Zct"
   },
   "outputs": [],
   "source": [
    "df = pd.read_csv('/datasets/yandex_music_project.csv')"
   ]
  },
  {
   "cell_type": "markdown",
   "metadata": {
    "deletable": false,
    "editable": false,
    "id": "rDoOMd3uTqnZ",
    "tags": [
     "start_task"
    ]
   },
   "source": [
    "**Задание 3**\n",
    "\n",
    "\n",
    "Выведите на экран первые десять строк таблицы:"
   ]
  },
  {
   "cell_type": "code",
   "execution_count": 3,
   "metadata": {
    "deletable": false,
    "id": "oWTVX3gW_Zct"
   },
   "outputs": [
    {
     "data": {
      "text/html": [
       "<div>\n",
       "<style scoped>\n",
       "    .dataframe tbody tr th:only-of-type {\n",
       "        vertical-align: middle;\n",
       "    }\n",
       "\n",
       "    .dataframe tbody tr th {\n",
       "        vertical-align: top;\n",
       "    }\n",
       "\n",
       "    .dataframe thead th {\n",
       "        text-align: right;\n",
       "    }\n",
       "</style>\n",
       "<table border=\"1\" class=\"dataframe\">\n",
       "  <thead>\n",
       "    <tr style=\"text-align: right;\">\n",
       "      <th></th>\n",
       "      <th>userID</th>\n",
       "      <th>Track</th>\n",
       "      <th>artist</th>\n",
       "      <th>genre</th>\n",
       "      <th>City</th>\n",
       "      <th>time</th>\n",
       "      <th>Day</th>\n",
       "    </tr>\n",
       "  </thead>\n",
       "  <tbody>\n",
       "    <tr>\n",
       "      <th>0</th>\n",
       "      <td>FFB692EC</td>\n",
       "      <td>Kamigata To Boots</td>\n",
       "      <td>The Mass Missile</td>\n",
       "      <td>rock</td>\n",
       "      <td>Saint-Petersburg</td>\n",
       "      <td>20:28:33</td>\n",
       "      <td>Wednesday</td>\n",
       "    </tr>\n",
       "    <tr>\n",
       "      <th>1</th>\n",
       "      <td>55204538</td>\n",
       "      <td>Delayed Because of Accident</td>\n",
       "      <td>Andreas Rönnberg</td>\n",
       "      <td>rock</td>\n",
       "      <td>Moscow</td>\n",
       "      <td>14:07:09</td>\n",
       "      <td>Friday</td>\n",
       "    </tr>\n",
       "    <tr>\n",
       "      <th>2</th>\n",
       "      <td>20EC38</td>\n",
       "      <td>Funiculì funiculà</td>\n",
       "      <td>Mario Lanza</td>\n",
       "      <td>pop</td>\n",
       "      <td>Saint-Petersburg</td>\n",
       "      <td>20:58:07</td>\n",
       "      <td>Wednesday</td>\n",
       "    </tr>\n",
       "    <tr>\n",
       "      <th>3</th>\n",
       "      <td>A3DD03C9</td>\n",
       "      <td>Dragons in the Sunset</td>\n",
       "      <td>Fire + Ice</td>\n",
       "      <td>folk</td>\n",
       "      <td>Saint-Petersburg</td>\n",
       "      <td>08:37:09</td>\n",
       "      <td>Monday</td>\n",
       "    </tr>\n",
       "    <tr>\n",
       "      <th>4</th>\n",
       "      <td>E2DC1FAE</td>\n",
       "      <td>Soul People</td>\n",
       "      <td>Space Echo</td>\n",
       "      <td>dance</td>\n",
       "      <td>Moscow</td>\n",
       "      <td>08:34:34</td>\n",
       "      <td>Monday</td>\n",
       "    </tr>\n",
       "    <tr>\n",
       "      <th>5</th>\n",
       "      <td>842029A1</td>\n",
       "      <td>Преданная</td>\n",
       "      <td>IMPERVTOR</td>\n",
       "      <td>rusrap</td>\n",
       "      <td>Saint-Petersburg</td>\n",
       "      <td>13:09:41</td>\n",
       "      <td>Friday</td>\n",
       "    </tr>\n",
       "    <tr>\n",
       "      <th>6</th>\n",
       "      <td>4CB90AA5</td>\n",
       "      <td>True</td>\n",
       "      <td>Roman Messer</td>\n",
       "      <td>dance</td>\n",
       "      <td>Moscow</td>\n",
       "      <td>13:00:07</td>\n",
       "      <td>Wednesday</td>\n",
       "    </tr>\n",
       "    <tr>\n",
       "      <th>7</th>\n",
       "      <td>F03E1C1F</td>\n",
       "      <td>Feeling This Way</td>\n",
       "      <td>Polina Griffith</td>\n",
       "      <td>dance</td>\n",
       "      <td>Moscow</td>\n",
       "      <td>20:47:49</td>\n",
       "      <td>Wednesday</td>\n",
       "    </tr>\n",
       "    <tr>\n",
       "      <th>8</th>\n",
       "      <td>8FA1D3BE</td>\n",
       "      <td>И вновь продолжается бой</td>\n",
       "      <td>NaN</td>\n",
       "      <td>ruspop</td>\n",
       "      <td>Moscow</td>\n",
       "      <td>09:17:40</td>\n",
       "      <td>Friday</td>\n",
       "    </tr>\n",
       "    <tr>\n",
       "      <th>9</th>\n",
       "      <td>E772D5C0</td>\n",
       "      <td>Pessimist</td>\n",
       "      <td>NaN</td>\n",
       "      <td>dance</td>\n",
       "      <td>Saint-Petersburg</td>\n",
       "      <td>21:20:49</td>\n",
       "      <td>Wednesday</td>\n",
       "    </tr>\n",
       "  </tbody>\n",
       "</table>\n",
       "</div>"
      ],
      "text/plain": [
       "     userID                        Track            artist   genre  \\\n",
       "0  FFB692EC            Kamigata To Boots  The Mass Missile    rock   \n",
       "1  55204538  Delayed Because of Accident  Andreas Rönnberg    rock   \n",
       "2    20EC38            Funiculì funiculà       Mario Lanza     pop   \n",
       "3  A3DD03C9        Dragons in the Sunset        Fire + Ice    folk   \n",
       "4  E2DC1FAE                  Soul People        Space Echo   dance   \n",
       "5  842029A1                    Преданная         IMPERVTOR  rusrap   \n",
       "6  4CB90AA5                         True      Roman Messer   dance   \n",
       "7  F03E1C1F             Feeling This Way   Polina Griffith   dance   \n",
       "8  8FA1D3BE     И вновь продолжается бой               NaN  ruspop   \n",
       "9  E772D5C0                    Pessimist               NaN   dance   \n",
       "\n",
       "             City        time        Day  \n",
       "0  Saint-Petersburg  20:28:33  Wednesday  \n",
       "1            Moscow  14:07:09     Friday  \n",
       "2  Saint-Petersburg  20:58:07  Wednesday  \n",
       "3  Saint-Petersburg  08:37:09     Monday  \n",
       "4            Moscow  08:34:34     Monday  \n",
       "5  Saint-Petersburg  13:09:41     Friday  \n",
       "6            Moscow  13:00:07  Wednesday  \n",
       "7            Moscow  20:47:49  Wednesday  \n",
       "8            Moscow  09:17:40     Friday  \n",
       "9  Saint-Petersburg  21:20:49  Wednesday  "
      ]
     },
     "execution_count": 3,
     "metadata": {},
     "output_type": "execute_result"
    }
   ],
   "source": [
    "df.head(10)"
   ]
  },
  {
   "cell_type": "markdown",
   "metadata": {
    "deletable": false,
    "editable": false,
    "id": "EO73Kwic_Zct",
    "tags": [
     "start_task"
    ]
   },
   "source": [
    "**Задание 4**\n",
    "\n",
    "\n",
    "Одной командой получить общую информацию о таблице c помощью метода `info()`:"
   ]
  },
  {
   "cell_type": "code",
   "execution_count": 4,
   "metadata": {
    "deletable": false,
    "id": "DSf2kIb-_Zct"
   },
   "outputs": [
    {
     "name": "stdout",
     "output_type": "stream",
     "text": [
      "<class 'pandas.core.frame.DataFrame'>\n",
      "RangeIndex: 65079 entries, 0 to 65078\n",
      "Data columns (total 7 columns):\n",
      " #   Column    Non-Null Count  Dtype \n",
      "---  ------    --------------  ----- \n",
      " 0     userID  65079 non-null  object\n",
      " 1   Track     63848 non-null  object\n",
      " 2   artist    57876 non-null  object\n",
      " 3   genre     63881 non-null  object\n",
      " 4     City    65079 non-null  object\n",
      " 5   time      65079 non-null  object\n",
      " 6   Day       65079 non-null  object\n",
      "dtypes: object(7)\n",
      "memory usage: 3.5+ MB\n"
     ]
    }
   ],
   "source": [
    "df.info()"
   ]
  },
  {
   "cell_type": "markdown",
   "metadata": {
    "deletable": false,
    "editable": false,
    "id": "TaQ2Iwbr_Zct"
   },
   "source": [
    "Итак, в таблице семь столбцов. Тип данных во всех столбцах — `object`.\n",
    "\n",
    "Согласно документации к данным:\n",
    "* `userID` — идентификатор пользователя;\n",
    "* `Track` — название трека;  \n",
    "* `artist` — имя исполнителя;\n",
    "* `genre` — название жанра;\n",
    "* `City` — город пользователя;\n",
    "* `time` — время начала прослушивания;\n",
    "* `Day` — день недели.\n",
    "\n",
    "Количество значений в столбцах различается. Значит, в данных есть пропущенные значения."
   ]
  },
  {
   "cell_type": "markdown",
   "metadata": {
    "deletable": false,
    "editable": false,
    "id": "4P0UCWzswgEm",
    "tags": [
     "start_task"
    ]
   },
   "source": [
    "**Задание 5**\n",
    "\n",
    "**Вопрос со свободной формой ответа**\n",
    "\n",
    "В названиях колонок видны три нарушения стиля:\n",
    "1. Строчные буквы сочетаются с прописными.\n",
    "2. Встречаются пробелы."
   ]
  },
  {
   "cell_type": "code",
   "execution_count": 5,
   "metadata": {
    "id": "c137-ZstwgEm"
   },
   "outputs": [],
   "source": [
    "# Заменить '  userID' на 'user_id', 'Track' на 'track', '  City' на 'city', 'Day' на 'day'"
   ]
  },
  {
   "cell_type": "markdown",
   "metadata": {
    "deletable": false,
    "editable": false,
    "id": "MCB6-dXG_Zct"
   },
   "source": [
    "**Выводы**\n",
    "\n",
    "В каждой строке таблицы — данные о прослушанном треке. Часть колонок описывает саму композицию: название, исполнителя и жанр. Остальные данные рассказывают о пользователе: из какого он города, когда он слушал музыку. \n",
    "\n",
    "Предварительно можно утверждать, что, данных достаточно для проверки гипотез. Но встречаются пропуски в данных, а в названиях колонок — расхождения с хорошим стилем.\n",
    "\n",
    "Чтобы двигаться дальше, нужно устранить проблемы в данных."
   ]
  },
  {
   "cell_type": "markdown",
   "metadata": {
    "deletable": false,
    "editable": false,
    "id": "SjYF6Ub9_Zct"
   },
   "source": [
    "## Предобработка данных\n",
    "Исправьте стиль в заголовках столбцов, исключите пропуски. Затем проверьте данные на дубликаты."
   ]
  },
  {
   "cell_type": "markdown",
   "metadata": {
    "deletable": false,
    "editable": false,
    "id": "dIaKXr29_Zct",
    "tags": [
     "start_task"
    ]
   },
   "source": [
    "### Стиль заголовков\n",
    "\n",
    "**Задание 6**\n",
    "\n",
    "Выведите на экран названия столбцов:"
   ]
  },
  {
   "cell_type": "code",
   "execution_count": 6,
   "metadata": {
    "deletable": false,
    "id": "oKOTdF_Q_Zct"
   },
   "outputs": [
    {
     "data": {
      "text/plain": [
       "Index(['  userID', 'Track', 'artist', 'genre', '  City  ', 'time', 'Day'], dtype='object')"
      ]
     },
     "execution_count": 6,
     "metadata": {},
     "output_type": "execute_result"
    }
   ],
   "source": [
    "df.columns"
   ]
  },
  {
   "cell_type": "markdown",
   "metadata": {
    "deletable": false,
    "editable": false,
    "id": "zj5534cv_Zct",
    "tags": [
     "start_task"
    ]
   },
   "source": [
    "**Задание 7**\n",
    "\n",
    "\n",
    "Приведите названия в соответствие с хорошим стилем:\n",
    "* несколько слов в названии запишите в «змеином_регистре»,\n",
    "* все символы сделайте строчными,\n",
    "* устраните пробелы.\n",
    "\n",
    "Для этого переименуйте колонки так:\n",
    "* `'  userID'` → `'user_id'`;\n",
    "* `'Track'` → `'track'`;\n",
    "* `'  City  '` → `'city'`;\n",
    "* `'Day'` → `'day'`."
   ]
  },
  {
   "cell_type": "code",
   "execution_count": 7,
   "metadata": {
    "deletable": false,
    "id": "ISlFqs5y_Zct"
   },
   "outputs": [],
   "source": [
    "df = df.rename(columns={'  userID':'user_id','Track':'track','  City  ':'city','Day':'day'})"
   ]
  },
  {
   "cell_type": "markdown",
   "metadata": {
    "deletable": false,
    "editable": false,
    "id": "1dqbh00J_Zct",
    "tags": [
     "start_task"
    ]
   },
   "source": [
    "**Задание 8**\n",
    "\n",
    "\n",
    "Проверьте результат. Для этого ещё раз выведите на экран названия столбцов:"
   ]
  },
  {
   "cell_type": "code",
   "execution_count": 8,
   "metadata": {
    "deletable": false,
    "id": "d4NOAmTW_Zct"
   },
   "outputs": [
    {
     "data": {
      "text/plain": [
       "Index(['user_id', 'track', 'artist', 'genre', 'city', 'time', 'day'], dtype='object')"
      ]
     },
     "execution_count": 8,
     "metadata": {},
     "output_type": "execute_result"
    }
   ],
   "source": [
    "df.columns"
   ]
  },
  {
   "cell_type": "markdown",
   "metadata": {
    "deletable": false,
    "editable": false,
    "id": "5ISfbcfY_Zct",
    "tags": [
     "start_task"
    ]
   },
   "source": [
    "### Пропуски значений\n",
    "\n",
    "**Задание 9**\n",
    "\n",
    "Сначала посчитайте, сколько в таблице пропущенных значений. Для этого достаточно двух методов `pandas`:"
   ]
  },
  {
   "cell_type": "code",
   "execution_count": 9,
   "metadata": {
    "deletable": false,
    "id": "RskX29qr_Zct"
   },
   "outputs": [
    {
     "data": {
      "text/plain": [
       "user_id       0\n",
       "track      1231\n",
       "artist     7203\n",
       "genre      1198\n",
       "city          0\n",
       "time          0\n",
       "day           0\n",
       "dtype: int64"
      ]
     },
     "execution_count": 9,
     "metadata": {},
     "output_type": "execute_result"
    }
   ],
   "source": [
    "df.isna().sum()"
   ]
  },
  {
   "cell_type": "markdown",
   "metadata": {
    "deletable": false,
    "editable": false,
    "id": "qubhgnlO_Zct"
   },
   "source": [
    "Не все пропущенные значения влияют на исследование. Так в `track` и `artist` пропуски не важны для вашей работы. Достаточно заменить их явными обозначениями.\n",
    "\n",
    "Но пропуски в `genre` могут помешать сравнению музыкальных вкусов в Москве и Санкт-Петербурге. На практике было бы правильно установить причину пропусков и восстановить данные. Такой возможности нет в учебном проекте. Придётся:\n",
    "* заполнить и эти пропуски явными обозначениями,\n",
    "* оценить, насколько они повредят расчётам. "
   ]
  },
  {
   "cell_type": "markdown",
   "metadata": {
    "deletable": false,
    "editable": false,
    "id": "fSv2laPA_Zct",
    "tags": [
     "start_task"
    ]
   },
   "source": [
    "**Задание 10**\n",
    "\n",
    "Замените пропущенные значения в столбцах `track`, `artist` и `genre` на строку `'unknown'`. Для этого создайте список `columns_to_replace`, переберите его элементы циклом `for` и для каждого столбца выполните замену пропущенных значений:"
   ]
  },
  {
   "cell_type": "code",
   "execution_count": 10,
   "metadata": {
    "deletable": false,
    "id": "KplB5qWs_Zct"
   },
   "outputs": [],
   "source": [
    "columns_to_replace = ['track', 'artist', 'genre']\n",
    "for column in columns_to_replace:\n",
    "    df[column] = df[column].fillna('unknown')"
   ]
  },
  {
   "cell_type": "markdown",
   "metadata": {
    "deletable": false,
    "editable": false,
    "id": "Ilsm-MZo_Zct",
    "tags": [
     "start_task"
    ]
   },
   "source": [
    "**Задание 11**\n",
    "\n",
    "Убедитесь, что в таблице не осталось пропусков. Для этого ещё раз посчитайте пропущенные значения."
   ]
  },
  {
   "cell_type": "code",
   "execution_count": 11,
   "metadata": {
    "deletable": false,
    "id": "Tq4nYRX4_Zct"
   },
   "outputs": [
    {
     "data": {
      "text/plain": [
       "user_id    0\n",
       "track      0\n",
       "artist     0\n",
       "genre      0\n",
       "city       0\n",
       "time       0\n",
       "day        0\n",
       "dtype: int64"
      ]
     },
     "execution_count": 11,
     "metadata": {},
     "output_type": "execute_result"
    }
   ],
   "source": [
    "df.isna().sum()"
   ]
  },
  {
   "cell_type": "markdown",
   "metadata": {
    "deletable": false,
    "editable": false,
    "id": "BWKRtBJ3_Zct",
    "tags": [
     "start_task"
    ]
   },
   "source": [
    "### Дубликаты\n",
    "\n",
    "**Задание 12**\n",
    "\n",
    "Посчитайте явные дубликаты в таблице одной командой:"
   ]
  },
  {
   "cell_type": "code",
   "execution_count": 12,
   "metadata": {
    "deletable": false,
    "id": "36eES_S0_Zct"
   },
   "outputs": [
    {
     "data": {
      "text/plain": [
       "3826"
      ]
     },
     "execution_count": 12,
     "metadata": {},
     "output_type": "execute_result"
    }
   ],
   "source": [
    "df.duplicated().sum()"
   ]
  },
  {
   "cell_type": "markdown",
   "metadata": {
    "deletable": false,
    "editable": false,
    "id": "Ot25h6XR_Zct",
    "tags": [
     "start_task"
    ]
   },
   "source": [
    "**Задание 13**\n",
    "\n",
    "Вызовите специальный метод `pandas`, чтобы удалить явные дубликаты:"
   ]
  },
  {
   "cell_type": "code",
   "execution_count": 13,
   "metadata": {
    "deletable": false,
    "id": "exFHq6tt_Zct"
   },
   "outputs": [],
   "source": [
    "df = df.drop_duplicates()"
   ]
  },
  {
   "cell_type": "markdown",
   "metadata": {
    "deletable": false,
    "editable": false,
    "id": "Im2YwBEG_Zct",
    "tags": [
     "start_task"
    ]
   },
   "source": [
    "**Задание 14**\n",
    "\n",
    "Ещё раз посчитайте явные дубликаты в таблице — убедитесь, что полностью от них избавились:"
   ]
  },
  {
   "cell_type": "code",
   "execution_count": 14,
   "metadata": {
    "deletable": false,
    "id": "-8PuNWQ0_Zct"
   },
   "outputs": [
    {
     "data": {
      "text/plain": [
       "0"
      ]
     },
     "execution_count": 14,
     "metadata": {},
     "output_type": "execute_result"
    }
   ],
   "source": [
    "df.duplicated().sum()"
   ]
  },
  {
   "cell_type": "markdown",
   "metadata": {
    "deletable": false,
    "editable": false,
    "id": "QlFBsxAr_Zct"
   },
   "source": [
    "Теперь избавьтесь от неявных дубликатов в колонке `genre`. Например, название одного и того же жанра может быть записано немного по-разному. Такие ошибки тоже повлияют на результат исследования."
   ]
  },
  {
   "cell_type": "markdown",
   "metadata": {
    "deletable": false,
    "editable": false,
    "id": "eSjWwsOh_Zct",
    "tags": [
     "start_task"
    ]
   },
   "source": [
    "**Задание 15**\n",
    "\n",
    "Выведите на экран список уникальных названий жанров, отсортированный в алфавитном порядке. Для этого:\n",
    "* извлеките нужный столбец датафрейма, \n",
    "* примените к нему метод сортировки,\n",
    "* для отсортированного столбца вызовите метод, который вернёт уникальные значения из столбца."
   ]
  },
  {
   "cell_type": "code",
   "execution_count": 15,
   "metadata": {
    "deletable": false,
    "id": "JIUcqzZN_Zct",
    "scrolled": true
   },
   "outputs": [
    {
     "data": {
      "text/plain": [
       "array(['acid', 'acoustic', 'action', 'adult', 'africa', 'afrikaans',\n",
       "       'alternative', 'alternativepunk', 'ambient', 'americana',\n",
       "       'animated', 'anime', 'arabesk', 'arabic', 'arena',\n",
       "       'argentinetango', 'art', 'audiobook', 'author', 'avantgarde',\n",
       "       'axé', 'baile', 'balkan', 'beats', 'bigroom', 'black', 'bluegrass',\n",
       "       'blues', 'bollywood', 'bossa', 'brazilian', 'breakbeat', 'breaks',\n",
       "       'broadway', 'cantautori', 'cantopop', 'canzone', 'caribbean',\n",
       "       'caucasian', 'celtic', 'chamber', 'chanson', 'children', 'chill',\n",
       "       'chinese', 'choral', 'christian', 'christmas', 'classical',\n",
       "       'classicmetal', 'club', 'colombian', 'comedy', 'conjazz',\n",
       "       'contemporary', 'country', 'cuban', 'dance', 'dancehall',\n",
       "       'dancepop', 'dark', 'death', 'deep', 'deutschrock', 'deutschspr',\n",
       "       'dirty', 'disco', 'dnb', 'documentary', 'downbeat', 'downtempo',\n",
       "       'drum', 'dub', 'dubstep', 'eastern', 'easy', 'electronic',\n",
       "       'electropop', 'emo', 'entehno', 'epicmetal', 'estrada', 'ethnic',\n",
       "       'eurofolk', 'european', 'experimental', 'extrememetal', 'fado',\n",
       "       'fairytail', 'film', 'fitness', 'flamenco', 'folk', 'folklore',\n",
       "       'folkmetal', 'folkrock', 'folktronica', 'forró', 'frankreich',\n",
       "       'französisch', 'french', 'funk', 'future', 'gangsta', 'garage',\n",
       "       'german', 'ghazal', 'gitarre', 'glitch', 'gospel', 'gothic',\n",
       "       'grime', 'grunge', 'gypsy', 'handsup', \"hard'n'heavy\", 'hardcore',\n",
       "       'hardstyle', 'hardtechno', 'hip', 'hip-hop', 'hiphop',\n",
       "       'historisch', 'holiday', 'hop', 'horror', 'house', 'hymn', 'idm',\n",
       "       'independent', 'indian', 'indie', 'indipop', 'industrial',\n",
       "       'inspirational', 'instrumental', 'international', 'irish', 'jam',\n",
       "       'japanese', 'jazz', 'jewish', 'jpop', 'jungle', 'k-pop',\n",
       "       'karadeniz', 'karaoke', 'kayokyoku', 'korean', 'laiko', 'latin',\n",
       "       'latino', 'leftfield', 'local', 'lounge', 'loungeelectronic',\n",
       "       'lovers', 'malaysian', 'mandopop', 'marschmusik', 'meditative',\n",
       "       'mediterranean', 'melodic', 'metal', 'metalcore', 'mexican',\n",
       "       'middle', 'minimal', 'miscellaneous', 'modern', 'mood', 'mpb',\n",
       "       'muslim', 'native', 'neoklassik', 'neue', 'new', 'newage',\n",
       "       'newwave', 'nu', 'nujazz', 'numetal', 'oceania', 'old', 'opera',\n",
       "       'orchestral', 'other', 'piano', 'podcasts', 'pop', 'popdance',\n",
       "       'popelectronic', 'popeurodance', 'poprussian', 'post',\n",
       "       'posthardcore', 'postrock', 'power', 'progmetal', 'progressive',\n",
       "       'psychedelic', 'punjabi', 'punk', 'quebecois', 'ragga', 'ram',\n",
       "       'rancheras', 'rap', 'rave', 'reggae', 'reggaeton', 'regional',\n",
       "       'relax', 'religious', 'retro', 'rhythm', 'rnb', 'rnr', 'rock',\n",
       "       'rockabilly', 'rockalternative', 'rockindie', 'rockother',\n",
       "       'romance', 'roots', 'ruspop', 'rusrap', 'rusrock', 'russian',\n",
       "       'salsa', 'samba', 'scenic', 'schlager', 'self', 'sertanejo',\n",
       "       'shanson', 'shoegazing', 'showtunes', 'singer', 'ska', 'skarock',\n",
       "       'slow', 'smooth', 'soft', 'soul', 'soulful', 'sound', 'soundtrack',\n",
       "       'southern', 'specialty', 'speech', 'spiritual', 'sport',\n",
       "       'stonerrock', 'surf', 'swing', 'synthpop', 'synthrock',\n",
       "       'sängerportrait', 'tango', 'tanzorchester', 'taraftar', 'tatar',\n",
       "       'tech', 'techno', 'teen', 'thrash', 'top', 'traditional',\n",
       "       'tradjazz', 'trance', 'tribal', 'trip', 'triphop', 'tropical',\n",
       "       'türk', 'türkçe', 'ukrrock', 'unknown', 'urban', 'uzbek',\n",
       "       'variété', 'vi', 'videogame', 'vocal', 'western', 'world',\n",
       "       'worldbeat', 'ïîï', 'электроника'], dtype=object)"
      ]
     },
     "execution_count": 15,
     "metadata": {},
     "output_type": "execute_result"
    }
   ],
   "source": [
    "df_genres = df['genre'].sort_values()\n",
    "df_genres.unique()\n"
   ]
  },
  {
   "cell_type": "markdown",
   "metadata": {
    "deletable": false,
    "editable": false,
    "id": "qej-Qmuo_Zct",
    "tags": [
     "start_task"
    ]
   },
   "source": [
    "**Задание 16**\n",
    "\n",
    "Просмотрите список и найдите неявные дубликаты названия `hiphop`. Это могут быть названия с ошибками или альтернативные названия того же жанра.\n",
    "\n",
    "Вы увидите следующие неявные дубликаты:\n",
    "* *hip*,\n",
    "* *hop*,\n",
    "* *hip-hop*.\n",
    "\n",
    "Чтобы очистить от них таблицу используйте метод `replace()` с двумя аргументами: списком строк-дубликатов (включащий *hip*, *hop* и *hip-hop*) и строкой с правильным значением. Вам нужно исправить колонку `genre` в таблице `df`: заменить каждое значение из списка дубликатов на верное. Вместо `hip`, `hop` и `hip-hop` в таблице должно быть значение `hiphop`:"
   ]
  },
  {
   "cell_type": "code",
   "execution_count": 16,
   "metadata": {
    "deletable": false,
    "id": "ErNDkmns_Zct"
   },
   "outputs": [],
   "source": [
    "hiphop_replace = ['hip','hop', 'hip-hop']\n",
    "for item in hiphop_replace:\n",
    "    df=df.replace(item, 'hiphop')"
   ]
  },
  {
   "cell_type": "markdown",
   "metadata": {
    "deletable": false,
    "editable": false,
    "id": "zQKF16_RG15m",
    "tags": [
     "start_task"
    ]
   },
   "source": [
    "**Задание 17**\n",
    "\n",
    "Проверьте, что заменили неправильные названия:\n",
    "\n",
    "*   hip\n",
    "*   hop\n",
    "*   hip-hop\n",
    "\n",
    "Выведите отсортированный список уникальных значений столбца `genre`:"
   ]
  },
  {
   "cell_type": "code",
   "execution_count": 17,
   "metadata": {
    "deletable": false,
    "id": "wvixALnFG15m"
   },
   "outputs": [
    {
     "data": {
      "text/plain": [
       "array(['acid', 'acoustic', 'action', 'adult', 'africa', 'afrikaans',\n",
       "       'alternative', 'alternativepunk', 'ambient', 'americana',\n",
       "       'animated', 'anime', 'arabesk', 'arabic', 'arena',\n",
       "       'argentinetango', 'art', 'audiobook', 'author', 'avantgarde',\n",
       "       'axé', 'baile', 'balkan', 'beats', 'bigroom', 'black', 'bluegrass',\n",
       "       'blues', 'bollywood', 'bossa', 'brazilian', 'breakbeat', 'breaks',\n",
       "       'broadway', 'cantautori', 'cantopop', 'canzone', 'caribbean',\n",
       "       'caucasian', 'celtic', 'chamber', 'chanson', 'children', 'chill',\n",
       "       'chinese', 'choral', 'christian', 'christmas', 'classical',\n",
       "       'classicmetal', 'club', 'colombian', 'comedy', 'conjazz',\n",
       "       'contemporary', 'country', 'cuban', 'dance', 'dancehall',\n",
       "       'dancepop', 'dark', 'death', 'deep', 'deutschrock', 'deutschspr',\n",
       "       'dirty', 'disco', 'dnb', 'documentary', 'downbeat', 'downtempo',\n",
       "       'drum', 'dub', 'dubstep', 'eastern', 'easy', 'electronic',\n",
       "       'electropop', 'emo', 'entehno', 'epicmetal', 'estrada', 'ethnic',\n",
       "       'eurofolk', 'european', 'experimental', 'extrememetal', 'fado',\n",
       "       'fairytail', 'film', 'fitness', 'flamenco', 'folk', 'folklore',\n",
       "       'folkmetal', 'folkrock', 'folktronica', 'forró', 'frankreich',\n",
       "       'französisch', 'french', 'funk', 'future', 'gangsta', 'garage',\n",
       "       'german', 'ghazal', 'gitarre', 'glitch', 'gospel', 'gothic',\n",
       "       'grime', 'grunge', 'gypsy', 'handsup', \"hard'n'heavy\", 'hardcore',\n",
       "       'hardstyle', 'hardtechno', 'hiphop', 'historisch', 'holiday',\n",
       "       'horror', 'house', 'hymn', 'idm', 'independent', 'indian', 'indie',\n",
       "       'indipop', 'industrial', 'inspirational', 'instrumental',\n",
       "       'international', 'irish', 'jam', 'japanese', 'jazz', 'jewish',\n",
       "       'jpop', 'jungle', 'k-pop', 'karadeniz', 'karaoke', 'kayokyoku',\n",
       "       'korean', 'laiko', 'latin', 'latino', 'leftfield', 'local',\n",
       "       'lounge', 'loungeelectronic', 'lovers', 'malaysian', 'mandopop',\n",
       "       'marschmusik', 'meditative', 'mediterranean', 'melodic', 'metal',\n",
       "       'metalcore', 'mexican', 'middle', 'minimal', 'miscellaneous',\n",
       "       'modern', 'mood', 'mpb', 'muslim', 'native', 'neoklassik', 'neue',\n",
       "       'new', 'newage', 'newwave', 'nu', 'nujazz', 'numetal', 'oceania',\n",
       "       'old', 'opera', 'orchestral', 'other', 'piano', 'podcasts', 'pop',\n",
       "       'popdance', 'popelectronic', 'popeurodance', 'poprussian', 'post',\n",
       "       'posthardcore', 'postrock', 'power', 'progmetal', 'progressive',\n",
       "       'psychedelic', 'punjabi', 'punk', 'quebecois', 'ragga', 'ram',\n",
       "       'rancheras', 'rap', 'rave', 'reggae', 'reggaeton', 'regional',\n",
       "       'relax', 'religious', 'retro', 'rhythm', 'rnb', 'rnr', 'rock',\n",
       "       'rockabilly', 'rockalternative', 'rockindie', 'rockother',\n",
       "       'romance', 'roots', 'ruspop', 'rusrap', 'rusrock', 'russian',\n",
       "       'salsa', 'samba', 'scenic', 'schlager', 'self', 'sertanejo',\n",
       "       'shanson', 'shoegazing', 'showtunes', 'singer', 'ska', 'skarock',\n",
       "       'slow', 'smooth', 'soft', 'soul', 'soulful', 'sound', 'soundtrack',\n",
       "       'southern', 'specialty', 'speech', 'spiritual', 'sport',\n",
       "       'stonerrock', 'surf', 'swing', 'synthpop', 'synthrock',\n",
       "       'sängerportrait', 'tango', 'tanzorchester', 'taraftar', 'tatar',\n",
       "       'tech', 'techno', 'teen', 'thrash', 'top', 'traditional',\n",
       "       'tradjazz', 'trance', 'tribal', 'trip', 'triphop', 'tropical',\n",
       "       'türk', 'türkçe', 'ukrrock', 'unknown', 'urban', 'uzbek',\n",
       "       'variété', 'vi', 'videogame', 'vocal', 'western', 'world',\n",
       "       'worldbeat', 'ïîï', 'электроника'], dtype=object)"
      ]
     },
     "execution_count": 17,
     "metadata": {},
     "output_type": "execute_result"
    }
   ],
   "source": [
    "df_genres = df['genre'].sort_values()\n",
    "df_genres.unique()"
   ]
  },
  {
   "cell_type": "markdown",
   "metadata": {
    "deletable": false,
    "editable": false,
    "id": "jz6a9-7HQUDd"
   },
   "source": [
    "**Выводы**\n",
    "\n",
    "Предобработка обнаружила три проблемы в данных:\n",
    "\n",
    "- нарушения в стиле заголовков,\n",
    "- пропущенные значения,\n",
    "- дубликаты — явные и неявные.\n",
    "\n",
    "Вы исправили заголовки, чтобы упростить работу с таблицей. Без дубликатов исследование станет более точным.\n",
    "\n",
    "Пропущенные значения вы заменили на `'unknown'`. Ещё предстоит увидеть, не повредят ли исследованию пропуски в колонке `genre`.\n",
    "\n",
    "Теперь можно перейти к проверке гипотез. "
   ]
  },
  {
   "cell_type": "markdown",
   "metadata": {
    "deletable": false,
    "editable": false,
    "id": "WttZHXH0SqKk"
   },
   "source": [
    "## Проверка гипотез"
   ]
  },
  {
   "cell_type": "markdown",
   "metadata": {
    "deletable": false,
    "editable": false,
    "id": "Im936VVi_Zcu"
   },
   "source": [
    "### Сравнение поведения пользователей двух столиц"
   ]
  },
  {
   "cell_type": "markdown",
   "metadata": {
    "deletable": false,
    "editable": false,
    "id": "nwt_MuaL_Zcu"
   },
   "source": [
    "Первая гипотеза утверждает, что пользователи по-разному слушают музыку в Москве и Санкт-Петербурге. Проверьте это предположение по данным о трёх днях недели — понедельнике, среде и пятнице. Для этого:\n",
    "\n",
    "* Разделите пользователей Москвы и Санкт-Петербурга\n",
    "* Сравните, сколько треков послушала каждая группа пользователей в понедельник, среду и пятницу.\n"
   ]
  },
  {
   "cell_type": "markdown",
   "metadata": {
    "deletable": false,
    "editable": false,
    "id": "8Dw_YMmT_Zcu",
    "tags": [
     "start_task"
    ]
   },
   "source": [
    "**Задание 18**\n",
    "\n",
    "Для тренировки сначала выполните каждый из расчётов по отдельности. \n",
    "\n",
    "Оцените активность пользователей в каждом городе. Сгруппируйте данные по городу и посчитайте прослушивания в каждой группе.\n",
    "\n"
   ]
  },
  {
   "cell_type": "code",
   "execution_count": 18,
   "metadata": {
    "deletable": false,
    "id": "0_Qs96oh_Zcu"
   },
   "outputs": [
    {
     "data": {
      "text/plain": [
       "city\n",
       "Moscow              42741\n",
       "Saint-Petersburg    18512\n",
       "Name: track, dtype: int64"
      ]
     },
     "execution_count": 18,
     "metadata": {},
     "output_type": "execute_result"
    }
   ],
   "source": [
    "total_by_city = df.groupby('city')['track'].count()\n",
    "total_by_city"
   ]
  },
  {
   "cell_type": "markdown",
   "metadata": {
    "deletable": false,
    "editable": false,
    "id": "dzli3w8o_Zcu",
    "tags": [
     "start_task"
    ]
   },
   "source": [
    "В Москве прослушиваний больше, чем в Петербурге. Из этого не следует, что московские пользователи чаще слушают музыку. Просто самих пользователей в Москве больше.\n",
    "\n",
    "**Задание 19**\n",
    "\n",
    "Теперь сгруппируйте данные по дню недели и подсчитайте прослушивания в понедельник, среду и пятницу. Учтите, что в данных есть информация только о прослушиваниях только за эти дни.\n"
   ]
  },
  {
   "cell_type": "code",
   "execution_count": 19,
   "metadata": {
    "deletable": false,
    "id": "uZMKjiJz_Zcu"
   },
   "outputs": [
    {
     "data": {
      "text/plain": [
       "day\n",
       "Friday       21840\n",
       "Monday       21354\n",
       "Wednesday    18059\n",
       "Name: track, dtype: int64"
      ]
     },
     "execution_count": 19,
     "metadata": {},
     "output_type": "execute_result"
    }
   ],
   "source": [
    "total_by_day = df.groupby('day')['track'].count()\n",
    "total_by_day"
   ]
  },
  {
   "cell_type": "markdown",
   "metadata": {
    "deletable": false,
    "editable": false,
    "id": "cC2tNrlL_Zcu"
   },
   "source": [
    "В среднем пользователи из двух городов менее активны по средам. Но картина может измениться, если рассмотреть каждый город в отдельности."
   ]
  },
  {
   "cell_type": "markdown",
   "metadata": {
    "deletable": false,
    "editable": false,
    "id": "POzs8bGa_Zcu",
    "tags": [
     "start_task"
    ]
   },
   "source": [
    "**Задание 20**\n",
    "\n",
    "\n",
    "Вы видели, как работает группировка по городу и по дням недели. Теперь напишите функцию, которая объединит два эти расчёта.\n",
    "\n",
    "Создайте функцию `number_tracks()`, которая посчитает прослушивания для заданного дня и города. Ей понадобятся два параметра:\n",
    "* день недели,\n",
    "* название города.\n",
    "\n",
    "В функции сохраните в переменную строки исходной таблицы, у которых значение:\n",
    "  * в колонке `day` равно параметру `day`,\n",
    "  * в колонке `city` равно параметру `city`.\n",
    "\n",
    "Для этого примените последовательную фильтрацию с логической индексацией (или сложные логические выражения в одну строку, если вы уже знакомы с ними).\n",
    "\n",
    "Затем посчитайте значения в столбце `user_id` получившейся таблицы. Результат сохраните в новую переменную. Верните эту переменную из функции."
   ]
  },
  {
   "cell_type": "code",
   "execution_count": 20,
   "metadata": {
    "deletable": false,
    "id": "Nz3GdQB1_Zcu"
   },
   "outputs": [],
   "source": [
    "\n",
    "def number_tracks(day,city):\n",
    "    track_list = df[df['day']==day]\n",
    "    track_list = track_list[track_list['city']==city]\n",
    "    track_list_count = track_list['user_id'].count()\n",
    "    return track_list_count"
   ]
  },
  {
   "cell_type": "markdown",
   "metadata": {
    "deletable": false,
    "editable": false,
    "id": "ytf7xFrFJQ2r",
    "tags": [
     "start_task"
    ]
   },
   "source": [
    "**Задание 21**\n",
    "\n",
    "Вызовите `number_tracks()` шесть раз, меняя значение параметров — так, чтобы получить данные для каждого города в каждый из трёх дней."
   ]
  },
  {
   "cell_type": "code",
   "execution_count": 21,
   "metadata": {
    "deletable": false,
    "id": "rJcRATNQ_Zcu"
   },
   "outputs": [
    {
     "data": {
      "text/plain": [
       "15740"
      ]
     },
     "execution_count": 21,
     "metadata": {},
     "output_type": "execute_result"
    }
   ],
   "source": [
    "number_tracks('Monday','Moscow')"
   ]
  },
  {
   "cell_type": "code",
   "execution_count": 22,
   "metadata": {
    "deletable": false,
    "id": "hq_ncZ5T_Zcu"
   },
   "outputs": [
    {
     "data": {
      "text/plain": [
       "5614"
      ]
     },
     "execution_count": 22,
     "metadata": {},
     "output_type": "execute_result"
    }
   ],
   "source": [
    "number_tracks('Monday','Saint-Petersburg')"
   ]
  },
  {
   "cell_type": "code",
   "execution_count": 23,
   "metadata": {
    "deletable": false,
    "id": "_NTy2VPU_Zcu"
   },
   "outputs": [
    {
     "data": {
      "text/plain": [
       "11056"
      ]
     },
     "execution_count": 23,
     "metadata": {},
     "output_type": "execute_result"
    }
   ],
   "source": [
    "number_tracks('Wednesday','Moscow')"
   ]
  },
  {
   "cell_type": "code",
   "execution_count": 24,
   "metadata": {
    "deletable": false,
    "id": "j2y3TAwo_Zcu"
   },
   "outputs": [
    {
     "data": {
      "text/plain": [
       "7003"
      ]
     },
     "execution_count": 24,
     "metadata": {},
     "output_type": "execute_result"
    }
   ],
   "source": [
    "number_tracks('Wednesday','Saint-Petersburg')"
   ]
  },
  {
   "cell_type": "code",
   "execution_count": 25,
   "metadata": {
    "deletable": false,
    "id": "vYDw5u_K_Zcu"
   },
   "outputs": [
    {
     "data": {
      "text/plain": [
       "15945"
      ]
     },
     "execution_count": 25,
     "metadata": {},
     "output_type": "execute_result"
    }
   ],
   "source": [
    "number_tracks('Friday','Moscow')"
   ]
  },
  {
   "cell_type": "code",
   "execution_count": 26,
   "metadata": {
    "deletable": false,
    "id": "8_yzFtW3_Zcu"
   },
   "outputs": [
    {
     "data": {
      "text/plain": [
       "5895"
      ]
     },
     "execution_count": 26,
     "metadata": {},
     "output_type": "execute_result"
    }
   ],
   "source": [
    "number_tracks('Friday','Saint-Petersburg')"
   ]
  },
  {
   "cell_type": "markdown",
   "metadata": {
    "deletable": false,
    "editable": false,
    "id": "7QXffbO-_Zcu",
    "tags": [
     "start_task"
    ]
   },
   "source": [
    "**Задание 22**\n",
    "\n",
    "Создайте c помощью конструктора `pd.DataFrame` таблицу, где\n",
    "* названия колонок — `['city', 'monday', 'wednesday', 'friday']`;\n",
    "* данные — результаты, которые вы получили с помощью `number_tracks`."
   ]
  },
  {
   "cell_type": "code",
   "execution_count": 27,
   "metadata": {
    "deletable": false,
    "id": "APAcLpOr_Zcu"
   },
   "outputs": [
    {
     "data": {
      "text/html": [
       "<div>\n",
       "<style scoped>\n",
       "    .dataframe tbody tr th:only-of-type {\n",
       "        vertical-align: middle;\n",
       "    }\n",
       "\n",
       "    .dataframe tbody tr th {\n",
       "        vertical-align: top;\n",
       "    }\n",
       "\n",
       "    .dataframe thead th {\n",
       "        text-align: right;\n",
       "    }\n",
       "</style>\n",
       "<table border=\"1\" class=\"dataframe\">\n",
       "  <thead>\n",
       "    <tr style=\"text-align: right;\">\n",
       "      <th></th>\n",
       "      <th>city</th>\n",
       "      <th>monday</th>\n",
       "      <th>wednesday</th>\n",
       "      <th>friday</th>\n",
       "    </tr>\n",
       "  </thead>\n",
       "  <tbody>\n",
       "    <tr>\n",
       "      <th>0</th>\n",
       "      <td>Москва</td>\n",
       "      <td>15740</td>\n",
       "      <td>11056</td>\n",
       "      <td>15945</td>\n",
       "    </tr>\n",
       "    <tr>\n",
       "      <th>1</th>\n",
       "      <td>Санкт-Петербург</td>\n",
       "      <td>5614</td>\n",
       "      <td>7003</td>\n",
       "      <td>5895</td>\n",
       "    </tr>\n",
       "  </tbody>\n",
       "</table>\n",
       "</div>"
      ],
      "text/plain": [
       "              city  monday  wednesday  friday\n",
       "0           Москва   15740      11056   15945\n",
       "1  Санкт-Петербург    5614       7003    5895"
      ]
     },
     "execution_count": 27,
     "metadata": {},
     "output_type": "execute_result"
    }
   ],
   "source": [
    "columns = ['city', 'monday', 'wednesday', 'friday']\n",
    "info = pd.DataFrame(data=[['Москва',15740,11056,15945],['Санкт-Петербург', 5614, 7003, 5895]],columns=columns)\n",
    "info"
   ]
  },
  {
   "cell_type": "markdown",
   "metadata": {
    "deletable": false,
    "editable": false,
    "id": "-EgPIHYu_Zcu"
   },
   "source": [
    "**Выводы**\n",
    "\n",
    "Данные показывают разницу поведения пользователей:\n",
    "\n",
    "- В Москве пик прослушиваний приходится на понедельник и пятницу, а в среду заметен спад.\n",
    "- В Петербурге, наоборот, больше слушают музыку по средам. Активность в понедельник и пятницу здесь почти в равной мере уступает среде.\n",
    "\n",
    "Значит, данные говорят в пользу первой гипотезы."
   ]
  },
  {
   "cell_type": "markdown",
   "metadata": {
    "deletable": false,
    "editable": false,
    "id": "atZAxtq4_Zcu"
   },
   "source": [
    "### Музыка в начале и в конце недели"
   ]
  },
  {
   "cell_type": "markdown",
   "metadata": {
    "deletable": false,
    "editable": false,
    "id": "eXrQqXFH_Zcu"
   },
   "source": [
    "Согласно второй гипотезе, утром в понедельник в Москве преобладают одни жанры, а в Петербурге — другие. Так же и вечером пятницы преобладают разные жанры — в зависимости от города."
   ]
  },
  {
   "cell_type": "markdown",
   "metadata": {
    "deletable": false,
    "editable": false,
    "id": "S8UcW6Hw_Zcu",
    "tags": [
     "start_task"
    ]
   },
   "source": [
    "**Задание 23**\n",
    "\n",
    "Сохраните таблицы с данными в две переменные:\n",
    "* по Москве — в `moscow_general`;\n",
    "* по Санкт-Петербургу — в `spb_general`."
   ]
  },
  {
   "cell_type": "code",
   "execution_count": 28,
   "metadata": {
    "deletable": false,
    "id": "qeaFfM_P_Zcu"
   },
   "outputs": [],
   "source": [
    "# получение таблицы moscow_general из тех строк таблицы df, \n",
    "# для которых значение в столбце 'city' равно 'Moscow'\n",
    "moscow_general = df[df['city'] == 'Moscow']"
   ]
  },
  {
   "cell_type": "code",
   "execution_count": 29,
   "metadata": {
    "deletable": false,
    "id": "ORaVRKto_Zcu"
   },
   "outputs": [],
   "source": [
    "# получение таблицы spb_general из тех строк таблицы df,\n",
    "# для которых значение в столбце 'city' равно 'Saint-Petersburg'\n",
    "spb_general = df[df['city'] == 'Saint-Petersburg']"
   ]
  },
  {
   "cell_type": "markdown",
   "metadata": {
    "deletable": false,
    "id": "MEJV-CX2_Zcu",
    "tags": [
     "start_task"
    ]
   },
   "source": [
    "**Задание 24**\n",
    "\n",
    "Создайте функцию `genre_weekday()` с четырьмя параметрами:\n",
    "* таблица (датафрейм) с данными,\n",
    "* день недели,\n",
    "* начальная временная метка в формате 'hh:mm', \n",
    "* последняя временная метка в формате 'hh:mm'.\n",
    "\n",
    "Функция должна вернуть информацию о топ-10 жанров тех треков, которые прослушивали в указанный день, в промежутке между двумя отметками времени."
   ]
  },
  {
   "cell_type": "code",
   "execution_count": 30,
   "metadata": {
    "deletable": false,
    "id": "laJT9BYl_Zcu"
   },
   "outputs": [],
   "source": [
    "def genre_weekday(df, day, time1, time2):\n",
    "    genre_df = df[df['day']==day]\n",
    "    genre_df = genre_df[genre_df['time']<time2]\n",
    "    genre_df = genre_df[genre_df['time']>time1]\n",
    "    genre_df_grouped = genre_df.groupby('genre')['genre'].count()\n",
    "    genre_df_sorted = genre_df_grouped.sort_values(ascending=False)\n",
    "    return genre_df_sorted[:10]"
   ]
  },
  {
   "cell_type": "markdown",
   "metadata": {
    "deletable": false,
    "editable": false,
    "id": "la2s2_PF_Zcu",
    "tags": [
     "start_task"
    ]
   },
   "source": [
    "**Задание 25**\n",
    "\n",
    "\n",
    "Cравните результаты функции `genre_weekday()` для Москвы и Санкт-Петербурга в понедельник утром (с 7:00 до 11:00) и в пятницу вечером (с 17:00 до 23:00):"
   ]
  },
  {
   "cell_type": "code",
   "execution_count": 31,
   "metadata": {
    "deletable": false,
    "id": "yz7itPUQ_Zcu"
   },
   "outputs": [
    {
     "data": {
      "text/plain": [
       "genre\n",
       "pop            781\n",
       "dance          549\n",
       "electronic     480\n",
       "rock           474\n",
       "hiphop         286\n",
       "ruspop         186\n",
       "world          181\n",
       "rusrap         175\n",
       "alternative    164\n",
       "unknown        161\n",
       "Name: genre, dtype: int64"
      ]
     },
     "execution_count": 31,
     "metadata": {},
     "output_type": "execute_result"
    }
   ],
   "source": [
    "# вызов функции для утра понедельника в Москве (вместо df — таблица moscow_general)\n",
    "# объекты, хранящие время, являются строками и сравниваются как строки\n",
    "# пример вызова: genre_weekday(moscow_general, 'Monday', '07:00', '11:00')\n",
    "genre_weekday(moscow_general, 'Monday', '07:00', '11:00')"
   ]
  },
  {
   "cell_type": "code",
   "execution_count": 32,
   "metadata": {
    "deletable": false,
    "id": "kwUcHPdy_Zcu"
   },
   "outputs": [
    {
     "data": {
      "text/plain": [
       "genre\n",
       "pop            218\n",
       "dance          182\n",
       "rock           162\n",
       "electronic     147\n",
       "hiphop          80\n",
       "ruspop          64\n",
       "alternative     58\n",
       "rusrap          55\n",
       "jazz            44\n",
       "classical       40\n",
       "Name: genre, dtype: int64"
      ]
     },
     "execution_count": 32,
     "metadata": {},
     "output_type": "execute_result"
    }
   ],
   "source": [
    "# вызов функции для утра понедельника в Петербурге (вместо df — таблица spb_general)\n",
    "genre_weekday(spb_general, 'Monday', '07:00', '11:00')"
   ]
  },
  {
   "cell_type": "code",
   "execution_count": 33,
   "metadata": {
    "deletable": false,
    "id": "EzXVRE1o_Zcu"
   },
   "outputs": [
    {
     "data": {
      "text/plain": [
       "genre\n",
       "pop            713\n",
       "rock           517\n",
       "dance          495\n",
       "electronic     482\n",
       "hiphop         273\n",
       "world          208\n",
       "ruspop         170\n",
       "alternative    163\n",
       "classical      163\n",
       "rusrap         142\n",
       "Name: genre, dtype: int64"
      ]
     },
     "execution_count": 33,
     "metadata": {},
     "output_type": "execute_result"
    }
   ],
   "source": [
    "# вызов функции для вечера пятницы в Москве\n",
    "genre_weekday(moscow_general, 'Friday', '17:00', '23:00')"
   ]
  },
  {
   "cell_type": "code",
   "execution_count": 34,
   "metadata": {
    "deletable": false,
    "id": "JZaEKu5v_Zcu"
   },
   "outputs": [
    {
     "data": {
      "text/plain": [
       "genre\n",
       "pop            256\n",
       "electronic     216\n",
       "rock           216\n",
       "dance          210\n",
       "hiphop          97\n",
       "alternative     63\n",
       "jazz            61\n",
       "classical       60\n",
       "rusrap          59\n",
       "world           54\n",
       "Name: genre, dtype: int64"
      ]
     },
     "execution_count": 34,
     "metadata": {},
     "output_type": "execute_result"
    }
   ],
   "source": [
    "genre_weekday(spb_general, 'Friday', '17:00', '23:00')"
   ]
  },
  {
   "cell_type": "markdown",
   "metadata": {
    "deletable": false,
    "editable": false,
    "id": "wrCe4MNX_Zcu"
   },
   "source": [
    "**Выводы**\n",
    "\n",
    "Если сравнить топ-10 жанров в понедельник утром, можно сделать такие выводы:\n",
    "\n",
    "1. В Москве и Петербурге слушают похожую музыку. Единственное отличие — в московский рейтинг вошёл жанр “world”, а в петербургский — джаз и классика.\n",
    "\n",
    "2. В Москве пропущенных значений оказалось так много, что значение `'unknown'` заняло десятое место среди самых популярных жанров. Значит, пропущенные значения занимают существенную долю в данных и угрожают достоверности исследования.\n",
    "\n",
    "Вечер пятницы не меняет эту картину. Некоторые жанры поднимаются немного выше, другие спускаются, но в целом топ-10 остаётся тем же самым.\n",
    "\n",
    "Таким образом, вторая гипотеза подтвердилась лишь частично:\n",
    "* Пользователи слушают похожую музыку в начале недели и в конце.\n",
    "* Разница между Москвой и Петербургом не слишком выражена. В Москве чаще слушают русскую популярную музыку, в Петербурге — джаз.\n",
    "\n",
    "Однако пропуски в данных ставят под сомнение этот результат. В Москве их так много, что рейтинг топ-10 мог бы выглядеть иначе, если бы не утерянные  данные о жанрах."
   ]
  },
  {
   "cell_type": "markdown",
   "metadata": {
    "deletable": false,
    "editable": false,
    "id": "JolODAqr_Zcu"
   },
   "source": [
    "### Жанровые предпочтения в Москве и Петербурге\n",
    "\n",
    "Гипотеза: Петербург — столица рэпа, музыку этого жанра там слушают чаще, чем в Москве.  А Москва — город контрастов, в котором, тем не менее, преобладает поп-музыка."
   ]
  },
  {
   "cell_type": "markdown",
   "metadata": {
    "deletable": false,
    "editable": false,
    "id": "DlegSvaT_Zcu",
    "tags": [
     "start_task"
    ]
   },
   "source": [
    "**Задание 26**\n",
    "\n",
    "Сгруппируйте таблицу `moscow_general` по жанру и посчитайте прослушивания треков каждого жанра методом `count()`. Затем отсортируйте результат в порядке убывания и сохраните его в таблице `moscow_genres`."
   ]
  },
  {
   "cell_type": "code",
   "execution_count": 40,
   "metadata": {
    "deletable": false,
    "id": "r19lIPke_Zcu"
   },
   "outputs": [
    {
     "data": {
      "text/plain": [
       "genre\n",
       "pop            5892\n",
       "dance          4435\n",
       "rock           3965\n",
       "electronic     3786\n",
       "hiphop         2096\n",
       "               ... \n",
       "neoklassik        1\n",
       "mood              1\n",
       "metalcore         1\n",
       "marschmusik       1\n",
       "ïîï               1\n",
       "Name: genre, Length: 267, dtype: int64"
      ]
     },
     "execution_count": 40,
     "metadata": {},
     "output_type": "execute_result"
    }
   ],
   "source": [
    "moscow_genres = moscow_general.groupby('genre')['genre'].count()\n",
    "moscow_genres = moscow_genres.sort_values(ascending=False)\n",
    "\n"
   ]
  },
  {
   "cell_type": "markdown",
   "metadata": {
    "deletable": false,
    "editable": false,
    "id": "6kMuomxTiIr8",
    "tags": [
     "start_task"
    ]
   },
   "source": [
    "**Задание 27**\n",
    "\n",
    "Выведите на экран первые десять строк `moscow_genres`:"
   ]
  },
  {
   "cell_type": "code",
   "execution_count": 41,
   "metadata": {
    "deletable": false,
    "id": "WhCSooF8_Zcv"
   },
   "outputs": [
    {
     "data": {
      "text/plain": [
       "genre\n",
       "pop            5892\n",
       "dance          4435\n",
       "rock           3965\n",
       "electronic     3786\n",
       "hiphop         2096\n",
       "classical      1616\n",
       "world          1432\n",
       "alternative    1379\n",
       "ruspop         1372\n",
       "rusrap         1161\n",
       "Name: genre, dtype: int64"
      ]
     },
     "execution_count": 41,
     "metadata": {},
     "output_type": "execute_result"
    }
   ],
   "source": [
    "moscow_genres.head(10)"
   ]
  },
  {
   "cell_type": "markdown",
   "metadata": {
    "deletable": false,
    "editable": false,
    "id": "cnPG2vnN_Zcv",
    "tags": [
     "start_task"
    ]
   },
   "source": [
    "**Задание 28**\n",
    "\n",
    "\n",
    "Теперь повторите то же и для Петербурга.\n",
    "\n",
    "Сгруппируйте таблицу `spb_general` по жанру. Посчитайте прослушивания треков каждого жанра. Результат отсортируйте в порядке убывания и сохраните в таблице `spb_genres`:\n"
   ]
  },
  {
   "cell_type": "code",
   "execution_count": 37,
   "metadata": {
    "deletable": false,
    "id": "gluLIpE7_Zcv"
   },
   "outputs": [],
   "source": [
    "spb_genres = spb_general.groupby('genre')['genre'].count()\n",
    "spb_genres = spb_genres.sort_values(ascending=False)\n"
   ]
  },
  {
   "cell_type": "markdown",
   "metadata": {
    "deletable": false,
    "editable": false,
    "id": "5Doha_ODgyQ8",
    "tags": [
     "start_task"
    ]
   },
   "source": [
    "**Задание 29**\n",
    "\n",
    "Выведите на экран первые десять строк `spb_genres`:"
   ]
  },
  {
   "cell_type": "code",
   "execution_count": 38,
   "metadata": {
    "deletable": false,
    "id": "uaGJHjVU_Zcv"
   },
   "outputs": [],
   "source": [
    "spb_genres.head(10)"
   ]
  },
  {
   "cell_type": "markdown",
   "metadata": {
    "deletable": false,
    "editable": false,
    "id": "RY51YJYu_Zcv"
   },
   "source": [
    "**Выводы**"
   ]
  },
  {
   "cell_type": "markdown",
   "metadata": {
    "deletable": false,
    "editable": false,
    "id": "nVhnJEm__Zcv"
   },
   "source": [
    "Гипотеза частично подтвердилась:\n",
    "* Поп-музыка — самый популярный жанр в Москве, как и предполагала гипотеза. Более того, в топ-10 жанров встречается близкий жанр — русская популярная музыка.\n",
    "* Вопреки ожиданиям, рэп одинаково популярен в Москве и Петербурге. \n"
   ]
  },
  {
   "cell_type": "markdown",
   "metadata": {
    "deletable": false,
    "editable": false,
    "id": "ykKQ0N65_Zcv"
   },
   "source": [
    "## Итоги исследования"
   ]
  },
  {
   "cell_type": "markdown",
   "metadata": {
    "deletable": false,
    "editable": false,
    "id": "tjUwbHb3_Zcv"
   },
   "source": [
    "Вы проверили три гипотезы и установили:\n",
    "\n",
    "1. День недели по-разному влияет на активность пользователей в Москве и Петербурге. \n",
    "\n",
    "Первая гипотеза полностью подтвердилась.\n",
    "\n",
    "2. Музыкальные предпочтения не сильно меняются в течение недели — будь то Москва или Петербург. Небольшие различия заметны в начале недели, по понедельникам:\n",
    "* в Москве слушают музыку жанра “world”,\n",
    "* в Петербурге — джаз и классику.\n",
    "\n",
    "Таким образом, вторая гипотеза подтвердилась лишь отчасти. Этот результат мог оказаться иным, если бы не пропуски в данных.\n",
    "\n",
    "3. Во вкусах пользователей Москвы и Петербурга больше общего чем различий. Вопреки ожиданиям, предпочтения жанров в Петербурге напоминают московские.\n",
    "\n",
    "Третья гипотеза не подтвердилась. Если различия в предпочтениях и существуют, на основной массе пользователей они незаметны.\n",
    "\n",
    "**На практике исследования содержат проверки статистических гипотез.**\n",
    "Из данных одного сервиса не всегда можно сделать вывод о всех жителях города.\n",
    "Проверки статистических гипотез покажут, насколько они достоверны, исходя из имеющихся данных. \n",
    "С методами проверок гипотез вы ещё познакомитесь в следующих темах."
   ]
  }
 ],
 "metadata": {
  "ExecuteTimeLog": [
   {
    "duration": 390,
    "start_time": "2023-04-03T13:54:51.890Z"
   },
   {
    "duration": 63,
    "start_time": "2023-04-03T13:55:30.127Z"
   },
   {
    "duration": 174,
    "start_time": "2023-04-03T13:55:40.902Z"
   },
   {
    "duration": 19,
    "start_time": "2023-04-03T13:55:59.181Z"
   },
   {
    "duration": 27,
    "start_time": "2023-04-03T13:56:21.845Z"
   },
   {
    "duration": 9,
    "start_time": "2023-04-03T14:01:35.180Z"
   },
   {
    "duration": 4,
    "start_time": "2023-04-03T14:01:40.943Z"
   },
   {
    "duration": 21,
    "start_time": "2023-04-03T14:07:25.352Z"
   },
   {
    "duration": 3,
    "start_time": "2023-04-03T14:08:23.187Z"
   },
   {
    "duration": 2,
    "start_time": "2023-04-03T14:08:44.583Z"
   },
   {
    "duration": 182,
    "start_time": "2023-04-03T14:08:44.587Z"
   },
   {
    "duration": 11,
    "start_time": "2023-04-03T14:08:44.771Z"
   },
   {
    "duration": 31,
    "start_time": "2023-04-03T14:08:44.784Z"
   },
   {
    "duration": 3,
    "start_time": "2023-04-03T14:08:44.817Z"
   },
   {
    "duration": 16,
    "start_time": "2023-04-03T14:08:44.822Z"
   },
   {
    "duration": 29,
    "start_time": "2023-04-03T14:08:44.840Z"
   },
   {
    "duration": 401,
    "start_time": "2023-04-03T14:09:07.481Z"
   },
   {
    "duration": 170,
    "start_time": "2023-04-03T14:09:07.884Z"
   },
   {
    "duration": 20,
    "start_time": "2023-04-03T14:09:08.055Z"
   },
   {
    "duration": 27,
    "start_time": "2023-04-03T14:09:08.077Z"
   },
   {
    "duration": 2,
    "start_time": "2023-04-03T14:09:08.106Z"
   },
   {
    "duration": 15,
    "start_time": "2023-04-03T14:09:08.110Z"
   },
   {
    "duration": 16,
    "start_time": "2023-04-03T14:09:08.127Z"
   },
   {
    "duration": 3,
    "start_time": "2023-04-03T14:09:13.725Z"
   },
   {
    "duration": 179,
    "start_time": "2023-04-03T14:09:13.730Z"
   },
   {
    "duration": 15,
    "start_time": "2023-04-03T14:09:13.912Z"
   },
   {
    "duration": 52,
    "start_time": "2023-04-03T14:09:13.930Z"
   },
   {
    "duration": 12,
    "start_time": "2023-04-03T14:09:13.985Z"
   },
   {
    "duration": 12,
    "start_time": "2023-04-03T14:09:13.999Z"
   },
   {
    "duration": 11,
    "start_time": "2023-04-03T14:09:14.014Z"
   },
   {
    "duration": 5,
    "start_time": "2023-04-03T14:09:16.110Z"
   },
   {
    "duration": 27,
    "start_time": "2023-04-03T14:10:10.224Z"
   },
   {
    "duration": 38,
    "start_time": "2023-04-03T14:10:29.984Z"
   },
   {
    "duration": 73,
    "start_time": "2023-04-03T14:12:58.796Z"
   },
   {
    "duration": 9,
    "start_time": "2023-04-03T14:14:40.085Z"
   },
   {
    "duration": 3456,
    "start_time": "2023-04-03T14:15:00.921Z"
   },
   {
    "duration": 18,
    "start_time": "2023-04-03T14:17:02.211Z"
   },
   {
    "duration": 26,
    "start_time": "2023-04-03T14:17:22.987Z"
   },
   {
    "duration": 73,
    "start_time": "2023-04-03T14:18:17.352Z"
   },
   {
    "duration": 63,
    "start_time": "2023-04-03T14:18:27.096Z"
   },
   {
    "duration": 83,
    "start_time": "2023-04-03T14:19:04.894Z"
   },
   {
    "duration": 433,
    "start_time": "2023-04-03T14:19:39.439Z"
   },
   {
    "duration": 175,
    "start_time": "2023-04-03T14:19:39.874Z"
   },
   {
    "duration": 22,
    "start_time": "2023-04-03T14:19:40.051Z"
   },
   {
    "duration": 63,
    "start_time": "2023-04-03T14:19:40.075Z"
   },
   {
    "duration": 15,
    "start_time": "2023-04-03T14:19:40.140Z"
   },
   {
    "duration": 15,
    "start_time": "2023-04-03T14:19:40.157Z"
   },
   {
    "duration": 26,
    "start_time": "2023-04-03T14:19:40.174Z"
   },
   {
    "duration": 24,
    "start_time": "2023-04-03T14:19:40.202Z"
   },
   {
    "duration": 35,
    "start_time": "2023-04-03T14:19:40.228Z"
   },
   {
    "duration": 20,
    "start_time": "2023-04-03T14:19:40.265Z"
   },
   {
    "duration": 23,
    "start_time": "2023-04-03T14:19:40.287Z"
   },
   {
    "duration": 95,
    "start_time": "2023-04-03T14:19:40.312Z"
   },
   {
    "duration": 82,
    "start_time": "2023-04-03T14:19:56.941Z"
   },
   {
    "duration": 50,
    "start_time": "2023-04-03T14:20:28.339Z"
   },
   {
    "duration": 390,
    "start_time": "2023-04-03T14:20:34.718Z"
   },
   {
    "duration": 200,
    "start_time": "2023-04-03T14:20:35.110Z"
   },
   {
    "duration": 20,
    "start_time": "2023-04-03T14:20:35.312Z"
   },
   {
    "duration": 47,
    "start_time": "2023-04-03T14:20:35.334Z"
   },
   {
    "duration": 19,
    "start_time": "2023-04-03T14:20:35.383Z"
   },
   {
    "duration": 47,
    "start_time": "2023-04-03T14:20:35.404Z"
   },
   {
    "duration": 21,
    "start_time": "2023-04-03T14:20:35.453Z"
   },
   {
    "duration": 17,
    "start_time": "2023-04-03T14:20:35.476Z"
   },
   {
    "duration": 42,
    "start_time": "2023-04-03T14:20:35.495Z"
   },
   {
    "duration": 24,
    "start_time": "2023-04-03T14:20:35.539Z"
   },
   {
    "duration": 34,
    "start_time": "2023-04-03T14:20:35.565Z"
   },
   {
    "duration": 74,
    "start_time": "2023-04-03T14:20:35.601Z"
   },
   {
    "duration": 80,
    "start_time": "2023-04-03T14:20:38.390Z"
   },
   {
    "duration": 79,
    "start_time": "2023-04-03T14:21:35.721Z"
   },
   {
    "duration": 76,
    "start_time": "2023-04-03T14:21:43.749Z"
   },
   {
    "duration": 62,
    "start_time": "2023-04-03T14:21:45.808Z"
   },
   {
    "duration": 11,
    "start_time": "2023-04-03T14:22:23.702Z"
   },
   {
    "duration": 33,
    "start_time": "2023-04-03T14:23:26.952Z"
   },
   {
    "duration": 10,
    "start_time": "2023-04-03T14:24:23.178Z"
   },
   {
    "duration": 11,
    "start_time": "2023-04-03T14:25:41.120Z"
   },
   {
    "duration": 11,
    "start_time": "2023-04-03T14:26:05.202Z"
   },
   {
    "duration": 11,
    "start_time": "2023-04-03T14:26:33.266Z"
   },
   {
    "duration": 8,
    "start_time": "2023-04-03T14:26:54.950Z"
   },
   {
    "duration": 33,
    "start_time": "2023-04-03T14:27:29.233Z"
   },
   {
    "duration": 45,
    "start_time": "2023-04-03T14:30:38.032Z"
   },
   {
    "duration": 7,
    "start_time": "2023-04-03T14:31:47.848Z"
   },
   {
    "duration": 357,
    "start_time": "2023-04-03T14:32:06.015Z"
   },
   {
    "duration": 171,
    "start_time": "2023-04-03T14:32:06.374Z"
   },
   {
    "duration": 22,
    "start_time": "2023-04-03T14:32:06.546Z"
   },
   {
    "duration": 38,
    "start_time": "2023-04-03T14:32:06.570Z"
   },
   {
    "duration": 2,
    "start_time": "2023-04-03T14:32:06.610Z"
   },
   {
    "duration": 7,
    "start_time": "2023-04-03T14:32:06.614Z"
   },
   {
    "duration": 15,
    "start_time": "2023-04-03T14:32:06.622Z"
   },
   {
    "duration": 25,
    "start_time": "2023-04-03T14:32:06.639Z"
   },
   {
    "duration": 26,
    "start_time": "2023-04-03T14:32:06.666Z"
   },
   {
    "duration": 22,
    "start_time": "2023-04-03T14:32:06.694Z"
   },
   {
    "duration": 45,
    "start_time": "2023-04-03T14:32:06.717Z"
   },
   {
    "duration": 68,
    "start_time": "2023-04-03T14:32:06.764Z"
   },
   {
    "duration": 88,
    "start_time": "2023-04-03T14:32:06.834Z"
   },
   {
    "duration": 69,
    "start_time": "2023-04-03T14:32:06.925Z"
   },
   {
    "duration": 35,
    "start_time": "2023-04-03T14:32:06.996Z"
   },
   {
    "duration": 77,
    "start_time": "2023-04-03T14:32:07.033Z"
   },
   {
    "duration": 7,
    "start_time": "2023-04-03T14:32:11.008Z"
   },
   {
    "duration": 38,
    "start_time": "2023-04-03T14:33:06.706Z"
   },
   {
    "duration": 315,
    "start_time": "2023-04-03T14:47:09.474Z"
   },
   {
    "duration": 329,
    "start_time": "2023-04-03T14:47:12.417Z"
   },
   {
    "duration": 11,
    "start_time": "2023-04-03T14:47:48.201Z"
   },
   {
    "duration": 11,
    "start_time": "2023-04-03T14:48:30.682Z"
   },
   {
    "duration": 13,
    "start_time": "2023-04-03T14:49:36.399Z"
   },
   {
    "duration": 13,
    "start_time": "2023-04-03T14:50:40.717Z"
   },
   {
    "duration": 4,
    "start_time": "2023-04-03T14:57:52.129Z"
   },
   {
    "duration": 79,
    "start_time": "2023-04-03T15:17:42.975Z"
   },
   {
    "duration": 33,
    "start_time": "2023-04-03T15:18:33.986Z"
   },
   {
    "duration": 4,
    "start_time": "2023-04-03T15:21:23.795Z"
   },
   {
    "duration": 7,
    "start_time": "2023-04-03T15:22:32.894Z"
   },
   {
    "duration": 7,
    "start_time": "2023-04-03T15:23:59.543Z"
   },
   {
    "duration": 10,
    "start_time": "2023-04-03T15:24:50.493Z"
   },
   {
    "duration": 48,
    "start_time": "2023-04-03T15:25:10.404Z"
   },
   {
    "duration": 3,
    "start_time": "2023-04-03T15:25:19.096Z"
   },
   {
    "duration": 10,
    "start_time": "2023-04-03T15:25:21.280Z"
   },
   {
    "duration": 414,
    "start_time": "2023-04-03T15:25:34.196Z"
   },
   {
    "duration": 192,
    "start_time": "2023-04-03T15:25:34.612Z"
   },
   {
    "duration": 19,
    "start_time": "2023-04-03T15:25:34.806Z"
   },
   {
    "duration": 44,
    "start_time": "2023-04-03T15:25:34.827Z"
   },
   {
    "duration": 3,
    "start_time": "2023-04-03T15:25:34.874Z"
   },
   {
    "duration": 7,
    "start_time": "2023-04-03T15:25:34.878Z"
   },
   {
    "duration": 26,
    "start_time": "2023-04-03T15:25:34.886Z"
   },
   {
    "duration": 10,
    "start_time": "2023-04-03T15:25:34.914Z"
   },
   {
    "duration": 50,
    "start_time": "2023-04-03T15:25:34.926Z"
   },
   {
    "duration": 25,
    "start_time": "2023-04-03T15:25:34.977Z"
   },
   {
    "duration": 25,
    "start_time": "2023-04-03T15:25:35.004Z"
   },
   {
    "duration": 104,
    "start_time": "2023-04-03T15:25:35.031Z"
   },
   {
    "duration": 92,
    "start_time": "2023-04-03T15:25:35.137Z"
   },
   {
    "duration": 82,
    "start_time": "2023-04-03T15:25:35.233Z"
   },
   {
    "duration": 47,
    "start_time": "2023-04-03T15:25:35.317Z"
   },
   {
    "duration": 74,
    "start_time": "2023-04-03T15:25:35.366Z"
   },
   {
    "duration": 73,
    "start_time": "2023-04-03T15:25:35.442Z"
   },
   {
    "duration": 15,
    "start_time": "2023-04-03T15:25:35.517Z"
   },
   {
    "duration": 33,
    "start_time": "2023-04-03T15:25:35.534Z"
   },
   {
    "duration": 4,
    "start_time": "2023-04-03T15:25:35.569Z"
   },
   {
    "duration": 26,
    "start_time": "2023-04-03T15:25:37.824Z"
   },
   {
    "duration": 16,
    "start_time": "2023-04-03T15:27:06.434Z"
   },
   {
    "duration": 16,
    "start_time": "2023-04-03T15:27:07.653Z"
   },
   {
    "duration": 15,
    "start_time": "2023-04-03T15:27:08.773Z"
   },
   {
    "duration": 18,
    "start_time": "2023-04-03T15:27:09.597Z"
   },
   {
    "duration": 20,
    "start_time": "2023-04-03T15:27:10.283Z"
   },
   {
    "duration": 80,
    "start_time": "2023-04-03T15:28:51.772Z"
   },
   {
    "duration": 48,
    "start_time": "2023-04-03T15:31:05.019Z"
   },
   {
    "duration": 15,
    "start_time": "2023-04-03T15:31:18.876Z"
   },
   {
    "duration": 10,
    "start_time": "2023-04-03T15:33:41.149Z"
   },
   {
    "duration": 11,
    "start_time": "2023-04-03T15:35:54.786Z"
   },
   {
    "duration": 9,
    "start_time": "2023-04-03T15:35:57.631Z"
   },
   {
    "duration": 7,
    "start_time": "2023-04-03T15:43:16.447Z"
   },
   {
    "duration": 700,
    "start_time": "2023-04-03T15:48:46.507Z"
   },
   {
    "duration": 5,
    "start_time": "2023-04-03T15:51:43.302Z"
   },
   {
    "duration": 25,
    "start_time": "2023-04-03T15:51:45.381Z"
   },
   {
    "duration": 424,
    "start_time": "2023-04-03T15:52:44.366Z"
   },
   {
    "duration": 181,
    "start_time": "2023-04-03T15:52:44.792Z"
   },
   {
    "duration": 19,
    "start_time": "2023-04-03T15:52:44.974Z"
   },
   {
    "duration": 29,
    "start_time": "2023-04-03T15:52:44.995Z"
   },
   {
    "duration": 11,
    "start_time": "2023-04-03T15:52:45.026Z"
   },
   {
    "duration": 24,
    "start_time": "2023-04-03T15:52:45.039Z"
   },
   {
    "duration": 18,
    "start_time": "2023-04-03T15:52:45.065Z"
   },
   {
    "duration": 6,
    "start_time": "2023-04-03T15:52:45.086Z"
   },
   {
    "duration": 28,
    "start_time": "2023-04-03T15:52:45.094Z"
   },
   {
    "duration": 42,
    "start_time": "2023-04-03T15:52:45.125Z"
   },
   {
    "duration": 24,
    "start_time": "2023-04-03T15:52:45.169Z"
   },
   {
    "duration": 89,
    "start_time": "2023-04-03T15:52:45.196Z"
   },
   {
    "duration": 97,
    "start_time": "2023-04-03T15:52:45.289Z"
   },
   {
    "duration": 80,
    "start_time": "2023-04-03T15:52:45.388Z"
   },
   {
    "duration": 38,
    "start_time": "2023-04-03T15:52:45.469Z"
   },
   {
    "duration": 93,
    "start_time": "2023-04-03T15:52:45.509Z"
   },
   {
    "duration": 37,
    "start_time": "2023-04-03T15:52:45.604Z"
   },
   {
    "duration": 33,
    "start_time": "2023-04-03T15:52:45.643Z"
   },
   {
    "duration": 20,
    "start_time": "2023-04-03T15:52:45.679Z"
   },
   {
    "duration": 5,
    "start_time": "2023-04-03T15:52:45.700Z"
   },
   {
    "duration": 54,
    "start_time": "2023-04-03T15:52:45.707Z"
   },
   {
    "duration": 22,
    "start_time": "2023-04-03T15:52:45.764Z"
   },
   {
    "duration": 23,
    "start_time": "2023-04-03T15:52:45.788Z"
   },
   {
    "duration": 51,
    "start_time": "2023-04-03T15:52:45.814Z"
   },
   {
    "duration": 18,
    "start_time": "2023-04-03T15:52:45.867Z"
   },
   {
    "duration": 18,
    "start_time": "2023-04-03T15:52:45.886Z"
   },
   {
    "duration": 9,
    "start_time": "2023-04-03T15:52:45.905Z"
   },
   {
    "duration": 12,
    "start_time": "2023-04-03T15:52:45.917Z"
   },
   {
    "duration": 14,
    "start_time": "2023-04-03T15:52:45.963Z"
   },
   {
    "duration": 33,
    "start_time": "2023-04-03T15:52:45.979Z"
   },
   {
    "duration": 893,
    "start_time": "2023-04-03T15:52:46.014Z"
   },
   {
    "duration": 0,
    "start_time": "2023-04-03T15:52:46.910Z"
   },
   {
    "duration": 0,
    "start_time": "2023-04-03T15:52:46.911Z"
   },
   {
    "duration": 0,
    "start_time": "2023-04-03T15:52:46.913Z"
   },
   {
    "duration": 0,
    "start_time": "2023-04-03T15:52:46.914Z"
   },
   {
    "duration": 0,
    "start_time": "2023-04-03T15:52:46.915Z"
   },
   {
    "duration": 0,
    "start_time": "2023-04-03T15:52:46.916Z"
   },
   {
    "duration": 0,
    "start_time": "2023-04-03T15:52:46.917Z"
   },
   {
    "duration": 901,
    "start_time": "2023-04-03T17:24:14.656Z"
   },
   {
    "duration": 697,
    "start_time": "2023-04-03T17:27:43.937Z"
   },
   {
    "duration": 4,
    "start_time": "2023-04-03T17:27:53.650Z"
   },
   {
    "duration": 16,
    "start_time": "2023-04-03T17:27:56.836Z"
   },
   {
    "duration": 3,
    "start_time": "2023-04-03T17:28:07.946Z"
   },
   {
    "duration": 13,
    "start_time": "2023-04-03T17:28:22.615Z"
   },
   {
    "duration": 19,
    "start_time": "2023-04-03T17:28:47.322Z"
   },
   {
    "duration": 13,
    "start_time": "2023-04-03T17:28:57.448Z"
   },
   {
    "duration": 24,
    "start_time": "2023-04-03T17:29:34.071Z"
   },
   {
    "duration": 16,
    "start_time": "2023-04-03T17:29:35.542Z"
   },
   {
    "duration": 11,
    "start_time": "2023-04-03T17:33:24.895Z"
   },
   {
    "duration": 18,
    "start_time": "2023-04-03T17:33:32.800Z"
   },
   {
    "duration": 12,
    "start_time": "2023-04-03T17:33:40.558Z"
   },
   {
    "duration": 12,
    "start_time": "2023-04-03T17:34:23.776Z"
   },
   {
    "duration": 15,
    "start_time": "2023-04-03T17:35:36.824Z"
   },
   {
    "duration": 10,
    "start_time": "2023-04-03T17:35:55.818Z"
   },
   {
    "duration": 8,
    "start_time": "2023-04-03T17:36:05.455Z"
   },
   {
    "duration": 354,
    "start_time": "2023-04-03T17:37:03.410Z"
   },
   {
    "duration": 182,
    "start_time": "2023-04-03T17:37:03.767Z"
   },
   {
    "duration": 25,
    "start_time": "2023-04-03T17:37:03.952Z"
   },
   {
    "duration": 38,
    "start_time": "2023-04-03T17:37:03.979Z"
   },
   {
    "duration": 3,
    "start_time": "2023-04-03T17:37:04.019Z"
   },
   {
    "duration": 8,
    "start_time": "2023-04-03T17:37:04.024Z"
   },
   {
    "duration": 36,
    "start_time": "2023-04-03T17:37:04.035Z"
   },
   {
    "duration": 6,
    "start_time": "2023-04-03T17:37:04.074Z"
   },
   {
    "duration": 43,
    "start_time": "2023-04-03T17:37:04.082Z"
   },
   {
    "duration": 41,
    "start_time": "2023-04-03T17:37:04.127Z"
   },
   {
    "duration": 23,
    "start_time": "2023-04-03T17:37:04.170Z"
   },
   {
    "duration": 77,
    "start_time": "2023-04-03T17:37:04.195Z"
   },
   {
    "duration": 72,
    "start_time": "2023-04-03T17:37:04.274Z"
   },
   {
    "duration": 72,
    "start_time": "2023-04-03T17:37:04.350Z"
   },
   {
    "duration": 53,
    "start_time": "2023-04-03T17:37:04.424Z"
   },
   {
    "duration": 83,
    "start_time": "2023-04-03T17:37:04.479Z"
   },
   {
    "duration": 42,
    "start_time": "2023-04-03T17:37:04.564Z"
   },
   {
    "duration": 14,
    "start_time": "2023-04-03T17:37:04.608Z"
   },
   {
    "duration": 14,
    "start_time": "2023-04-03T17:37:04.624Z"
   },
   {
    "duration": 3,
    "start_time": "2023-04-03T17:37:04.662Z"
   },
   {
    "duration": 28,
    "start_time": "2023-04-03T17:37:04.666Z"
   },
   {
    "duration": 15,
    "start_time": "2023-04-03T17:37:04.696Z"
   },
   {
    "duration": 15,
    "start_time": "2023-04-03T17:37:04.713Z"
   },
   {
    "duration": 41,
    "start_time": "2023-04-03T17:37:04.730Z"
   },
   {
    "duration": 25,
    "start_time": "2023-04-03T17:37:04.773Z"
   },
   {
    "duration": 16,
    "start_time": "2023-04-03T17:37:04.800Z"
   },
   {
    "duration": 22,
    "start_time": "2023-04-03T17:37:04.818Z"
   },
   {
    "duration": 20,
    "start_time": "2023-04-03T17:37:04.842Z"
   },
   {
    "duration": 10,
    "start_time": "2023-04-03T17:37:04.864Z"
   },
   {
    "duration": 3,
    "start_time": "2023-04-03T17:37:04.876Z"
   },
   {
    "duration": 19,
    "start_time": "2023-04-03T17:37:04.881Z"
   },
   {
    "duration": 11,
    "start_time": "2023-04-03T17:37:04.902Z"
   },
   {
    "duration": 48,
    "start_time": "2023-04-03T17:37:04.915Z"
   },
   {
    "duration": 13,
    "start_time": "2023-04-03T17:37:04.965Z"
   },
   {
    "duration": 49,
    "start_time": "2023-04-03T17:37:04.979Z"
   },
   {
    "duration": 0,
    "start_time": "2023-04-03T17:37:05.029Z"
   },
   {
    "duration": 0,
    "start_time": "2023-04-03T17:37:05.031Z"
   },
   {
    "duration": 0,
    "start_time": "2023-04-03T17:37:05.032Z"
   },
   {
    "duration": 48,
    "start_time": "2023-04-03T17:37:17.239Z"
   },
   {
    "duration": 9,
    "start_time": "2023-04-03T17:37:27.857Z"
   },
   {
    "duration": 75,
    "start_time": "2023-04-03T17:39:15.919Z"
   },
   {
    "duration": 8,
    "start_time": "2023-04-03T17:39:36.471Z"
   },
   {
    "duration": 5,
    "start_time": "2023-04-03T17:39:54.138Z"
   },
   {
    "duration": 5,
    "start_time": "2023-04-03T17:40:14.123Z"
   },
   {
    "duration": 9,
    "start_time": "2023-04-03T17:40:46.629Z"
   },
   {
    "duration": 6,
    "start_time": "2023-04-03T17:40:54.598Z"
   },
   {
    "duration": 2,
    "start_time": "2023-04-03T17:41:29.804Z"
   },
   {
    "duration": 176,
    "start_time": "2023-04-03T17:41:29.808Z"
   },
   {
    "duration": 11,
    "start_time": "2023-04-03T17:41:29.986Z"
   },
   {
    "duration": 43,
    "start_time": "2023-04-03T17:41:29.998Z"
   },
   {
    "duration": 3,
    "start_time": "2023-04-03T17:41:30.044Z"
   },
   {
    "duration": 14,
    "start_time": "2023-04-03T17:41:30.048Z"
   },
   {
    "duration": 11,
    "start_time": "2023-04-03T17:41:30.064Z"
   },
   {
    "duration": 9,
    "start_time": "2023-04-03T17:41:30.076Z"
   },
   {
    "duration": 34,
    "start_time": "2023-04-03T17:41:30.087Z"
   },
   {
    "duration": 22,
    "start_time": "2023-04-03T17:41:30.123Z"
   },
   {
    "duration": 29,
    "start_time": "2023-04-03T17:41:30.147Z"
   },
   {
    "duration": 91,
    "start_time": "2023-04-03T17:41:30.177Z"
   },
   {
    "duration": 79,
    "start_time": "2023-04-03T17:41:30.270Z"
   },
   {
    "duration": 62,
    "start_time": "2023-04-03T17:41:30.363Z"
   },
   {
    "duration": 51,
    "start_time": "2023-04-03T17:41:30.427Z"
   },
   {
    "duration": 65,
    "start_time": "2023-04-03T17:41:30.480Z"
   },
   {
    "duration": 50,
    "start_time": "2023-04-03T17:41:30.546Z"
   },
   {
    "duration": 13,
    "start_time": "2023-04-03T17:41:30.598Z"
   },
   {
    "duration": 16,
    "start_time": "2023-04-03T17:41:30.612Z"
   },
   {
    "duration": 14,
    "start_time": "2023-04-03T17:41:30.629Z"
   },
   {
    "duration": 42,
    "start_time": "2023-04-03T17:41:30.645Z"
   },
   {
    "duration": 38,
    "start_time": "2023-04-03T17:41:30.689Z"
   },
   {
    "duration": 36,
    "start_time": "2023-04-03T17:41:30.728Z"
   },
   {
    "duration": 26,
    "start_time": "2023-04-03T17:41:30.765Z"
   },
   {
    "duration": 37,
    "start_time": "2023-04-03T17:41:30.793Z"
   },
   {
    "duration": 48,
    "start_time": "2023-04-03T17:41:30.832Z"
   },
   {
    "duration": 30,
    "start_time": "2023-04-03T17:41:30.882Z"
   },
   {
    "duration": 37,
    "start_time": "2023-04-03T17:41:30.914Z"
   },
   {
    "duration": 400,
    "start_time": "2023-04-03T17:41:45.925Z"
   },
   {
    "duration": 188,
    "start_time": "2023-04-03T17:41:46.327Z"
   },
   {
    "duration": 19,
    "start_time": "2023-04-03T17:41:46.517Z"
   },
   {
    "duration": 53,
    "start_time": "2023-04-03T17:41:46.538Z"
   },
   {
    "duration": 3,
    "start_time": "2023-04-03T17:41:46.592Z"
   },
   {
    "duration": 7,
    "start_time": "2023-04-03T17:41:46.597Z"
   },
   {
    "duration": 13,
    "start_time": "2023-04-03T17:41:46.605Z"
   },
   {
    "duration": 8,
    "start_time": "2023-04-03T17:41:46.620Z"
   },
   {
    "duration": 60,
    "start_time": "2023-04-03T17:41:46.629Z"
   },
   {
    "duration": 30,
    "start_time": "2023-04-03T17:41:46.692Z"
   },
   {
    "duration": 44,
    "start_time": "2023-04-03T17:41:46.724Z"
   },
   {
    "duration": 101,
    "start_time": "2023-04-03T17:41:46.770Z"
   },
   {
    "duration": 103,
    "start_time": "2023-04-03T17:41:46.873Z"
   },
   {
    "duration": 97,
    "start_time": "2023-04-03T17:41:46.978Z"
   },
   {
    "duration": 40,
    "start_time": "2023-04-03T17:41:47.078Z"
   },
   {
    "duration": 103,
    "start_time": "2023-04-03T17:41:47.121Z"
   },
   {
    "duration": 45,
    "start_time": "2023-04-03T17:41:47.226Z"
   },
   {
    "duration": 13,
    "start_time": "2023-04-03T17:41:47.273Z"
   },
   {
    "duration": 18,
    "start_time": "2023-04-03T17:41:47.288Z"
   },
   {
    "duration": 23,
    "start_time": "2023-04-03T17:41:47.308Z"
   },
   {
    "duration": 33,
    "start_time": "2023-04-03T17:41:47.333Z"
   },
   {
    "duration": 15,
    "start_time": "2023-04-03T17:41:47.368Z"
   },
   {
    "duration": 16,
    "start_time": "2023-04-03T17:41:47.385Z"
   },
   {
    "duration": 14,
    "start_time": "2023-04-03T17:41:47.403Z"
   },
   {
    "duration": 43,
    "start_time": "2023-04-03T17:41:47.419Z"
   },
   {
    "duration": 16,
    "start_time": "2023-04-03T17:41:47.464Z"
   },
   {
    "duration": 8,
    "start_time": "2023-04-03T17:41:47.482Z"
   },
   {
    "duration": 10,
    "start_time": "2023-04-03T17:41:55.068Z"
   },
   {
    "duration": 13,
    "start_time": "2023-04-03T17:41:59.906Z"
   },
   {
    "duration": 9,
    "start_time": "2023-04-03T17:42:08.083Z"
   },
   {
    "duration": 66,
    "start_time": "2023-04-03T17:42:30.218Z"
   },
   {
    "duration": 8,
    "start_time": "2023-04-03T17:42:48.327Z"
   },
   {
    "duration": 10,
    "start_time": "2023-04-03T17:42:53.653Z"
   },
   {
    "duration": 5,
    "start_time": "2023-04-03T17:43:01.927Z"
   },
   {
    "duration": 4,
    "start_time": "2023-04-03T17:43:09.903Z"
   },
   {
    "duration": 422,
    "start_time": "2023-04-03T17:43:38.654Z"
   },
   {
    "duration": 180,
    "start_time": "2023-04-03T17:43:39.079Z"
   },
   {
    "duration": 18,
    "start_time": "2023-04-03T17:43:39.261Z"
   },
   {
    "duration": 29,
    "start_time": "2023-04-03T17:43:39.281Z"
   },
   {
    "duration": 3,
    "start_time": "2023-04-03T17:43:39.313Z"
   },
   {
    "duration": 15,
    "start_time": "2023-04-03T17:43:39.317Z"
   },
   {
    "duration": 34,
    "start_time": "2023-04-03T17:43:39.334Z"
   },
   {
    "duration": 31,
    "start_time": "2023-04-03T17:43:39.370Z"
   },
   {
    "duration": 44,
    "start_time": "2023-04-03T17:43:39.403Z"
   },
   {
    "duration": 21,
    "start_time": "2023-04-03T17:43:39.449Z"
   },
   {
    "duration": 25,
    "start_time": "2023-04-03T17:43:39.472Z"
   },
   {
    "duration": 81,
    "start_time": "2023-04-03T17:43:39.498Z"
   },
   {
    "duration": 81,
    "start_time": "2023-04-03T17:43:39.580Z"
   },
   {
    "duration": 66,
    "start_time": "2023-04-03T17:43:39.665Z"
   },
   {
    "duration": 46,
    "start_time": "2023-04-03T17:43:39.733Z"
   },
   {
    "duration": 86,
    "start_time": "2023-04-03T17:43:39.781Z"
   },
   {
    "duration": 35,
    "start_time": "2023-04-03T17:43:39.869Z"
   },
   {
    "duration": 13,
    "start_time": "2023-04-03T17:43:39.905Z"
   },
   {
    "duration": 21,
    "start_time": "2023-04-03T17:43:39.920Z"
   },
   {
    "duration": 18,
    "start_time": "2023-04-03T17:43:39.943Z"
   },
   {
    "duration": 34,
    "start_time": "2023-04-03T17:43:39.964Z"
   },
   {
    "duration": 17,
    "start_time": "2023-04-03T17:43:40.000Z"
   },
   {
    "duration": 24,
    "start_time": "2023-04-03T17:43:40.018Z"
   },
   {
    "duration": 15,
    "start_time": "2023-04-03T17:43:40.062Z"
   },
   {
    "duration": 32,
    "start_time": "2023-04-03T17:43:40.079Z"
   },
   {
    "duration": 17,
    "start_time": "2023-04-03T17:43:40.113Z"
   },
   {
    "duration": 16,
    "start_time": "2023-04-03T17:43:40.132Z"
   },
   {
    "duration": 19,
    "start_time": "2023-04-03T17:43:40.150Z"
   },
   {
    "duration": 12,
    "start_time": "2023-04-03T17:43:40.171Z"
   },
   {
    "duration": 12,
    "start_time": "2023-04-03T17:43:40.185Z"
   },
   {
    "duration": 18,
    "start_time": "2023-04-03T17:43:40.199Z"
   },
   {
    "duration": 13,
    "start_time": "2023-04-03T17:43:40.218Z"
   },
   {
    "duration": 38,
    "start_time": "2023-04-03T17:43:40.233Z"
   },
   {
    "duration": 13,
    "start_time": "2023-04-03T17:43:40.273Z"
   },
   {
    "duration": 109,
    "start_time": "2023-04-03T17:43:40.288Z"
   },
   {
    "duration": 0,
    "start_time": "2023-04-03T17:43:40.399Z"
   },
   {
    "duration": 0,
    "start_time": "2023-04-03T17:43:40.400Z"
   },
   {
    "duration": 0,
    "start_time": "2023-04-03T17:43:40.401Z"
   },
   {
    "duration": 5,
    "start_time": "2023-04-03T17:44:04.247Z"
   },
   {
    "duration": 10,
    "start_time": "2023-04-03T17:46:11.668Z"
   },
   {
    "duration": 10,
    "start_time": "2023-04-03T17:46:33.559Z"
   },
   {
    "duration": 6,
    "start_time": "2023-04-03T17:46:47.321Z"
   },
   {
    "duration": 8,
    "start_time": "2023-04-03T17:47:20.822Z"
   },
   {
    "duration": 7,
    "start_time": "2023-04-03T17:47:29.420Z"
   },
   {
    "duration": 5,
    "start_time": "2023-04-03T17:47:58.379Z"
   },
   {
    "duration": 471,
    "start_time": "2023-04-03T17:48:41.879Z"
   },
   {
    "duration": 186,
    "start_time": "2023-04-03T17:48:42.353Z"
   },
   {
    "duration": 24,
    "start_time": "2023-04-03T17:48:42.541Z"
   },
   {
    "duration": 29,
    "start_time": "2023-04-03T17:48:42.566Z"
   },
   {
    "duration": 9,
    "start_time": "2023-04-03T17:48:42.598Z"
   },
   {
    "duration": 23,
    "start_time": "2023-04-03T17:48:42.609Z"
   },
   {
    "duration": 18,
    "start_time": "2023-04-03T17:48:42.634Z"
   },
   {
    "duration": 13,
    "start_time": "2023-04-03T17:48:42.654Z"
   },
   {
    "duration": 29,
    "start_time": "2023-04-03T17:48:42.668Z"
   },
   {
    "duration": 22,
    "start_time": "2023-04-03T17:48:42.699Z"
   },
   {
    "duration": 47,
    "start_time": "2023-04-03T17:48:42.723Z"
   },
   {
    "duration": 90,
    "start_time": "2023-04-03T17:48:42.772Z"
   },
   {
    "duration": 76,
    "start_time": "2023-04-03T17:48:42.864Z"
   },
   {
    "duration": 80,
    "start_time": "2023-04-03T17:48:42.944Z"
   },
   {
    "duration": 58,
    "start_time": "2023-04-03T17:48:43.026Z"
   },
   {
    "duration": 77,
    "start_time": "2023-04-03T17:48:43.086Z"
   },
   {
    "duration": 36,
    "start_time": "2023-04-03T17:48:43.165Z"
   },
   {
    "duration": 23,
    "start_time": "2023-04-03T17:48:43.203Z"
   },
   {
    "duration": 36,
    "start_time": "2023-04-03T17:48:43.229Z"
   },
   {
    "duration": 4,
    "start_time": "2023-04-03T17:48:43.267Z"
   },
   {
    "duration": 31,
    "start_time": "2023-04-03T17:48:43.273Z"
   },
   {
    "duration": 15,
    "start_time": "2023-04-03T17:48:43.307Z"
   },
   {
    "duration": 43,
    "start_time": "2023-04-03T17:48:43.324Z"
   },
   {
    "duration": 15,
    "start_time": "2023-04-03T17:48:43.368Z"
   },
   {
    "duration": 16,
    "start_time": "2023-04-03T17:48:43.385Z"
   },
   {
    "duration": 16,
    "start_time": "2023-04-03T17:48:43.403Z"
   },
   {
    "duration": 9,
    "start_time": "2023-04-03T17:48:43.421Z"
   },
   {
    "duration": 12,
    "start_time": "2023-04-03T17:48:43.462Z"
   },
   {
    "duration": 14,
    "start_time": "2023-04-03T17:48:43.476Z"
   },
   {
    "duration": 3,
    "start_time": "2023-04-03T17:48:43.492Z"
   },
   {
    "duration": 21,
    "start_time": "2023-04-03T17:48:43.497Z"
   },
   {
    "duration": 11,
    "start_time": "2023-04-03T17:48:43.520Z"
   },
   {
    "duration": 46,
    "start_time": "2023-04-03T17:48:43.533Z"
   },
   {
    "duration": 13,
    "start_time": "2023-04-03T17:48:43.581Z"
   },
   {
    "duration": 13,
    "start_time": "2023-04-03T17:48:43.596Z"
   },
   {
    "duration": 17,
    "start_time": "2023-04-03T17:48:43.611Z"
   },
   {
    "duration": 7,
    "start_time": "2023-04-03T17:48:43.630Z"
   },
   {
    "duration": 7,
    "start_time": "2023-04-03T17:48:43.661Z"
   },
   {
    "duration": 9,
    "start_time": "2023-04-03T17:50:01.973Z"
   },
   {
    "duration": 11,
    "start_time": "2023-04-03T17:50:13.029Z"
   },
   {
    "duration": 7,
    "start_time": "2023-04-03T17:50:49.696Z"
   }
  ],
  "colab": {
   "collapsed_sections": [
    "E0vqbgi9ay0H",
    "VUC88oWjTJw2"
   ],
   "provenance": []
  },
  "kernelspec": {
   "display_name": "Python 3 (ipykernel)",
   "language": "python",
   "name": "python3"
  },
  "language_info": {
   "codemirror_mode": {
    "name": "ipython",
    "version": 3
   },
   "file_extension": ".py",
   "mimetype": "text/x-python",
   "name": "python",
   "nbconvert_exporter": "python",
   "pygments_lexer": "ipython3",
   "version": "3.9.5"
  },
  "toc": {
   "base_numbering": 1,
   "nav_menu": {
    "height": "215px",
    "width": "403px"
   },
   "number_sections": true,
   "sideBar": true,
   "skip_h1_title": true,
   "title_cell": "Table of Contents",
   "title_sidebar": "Contents",
   "toc_cell": false,
   "toc_position": {
    "height": "calc(100% - 180px)",
    "left": "10px",
    "top": "150px",
    "width": "285.825px"
   },
   "toc_section_display": true,
   "toc_window_display": false
  }
 },
 "nbformat": 4,
 "nbformat_minor": 1
}
