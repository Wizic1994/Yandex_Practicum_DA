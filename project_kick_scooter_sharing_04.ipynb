{
 "cells": [
  {
   "cell_type": "markdown",
   "id": "70cf0874",
   "metadata": {},
   "source": [
    "# Исследование статистики сервиса аренды самокатов GoFast\n",
    "\n",
    "**Задача:** Проанализируйте данные и проверьте некоторые гипотезы, которые могут помочь бизнесу вырасти.\n",
    "Чтобы совершать поездки по городу, пользователи сервиса GoFast пользуются мобильным приложением. \n",
    "\n",
    "Сервисом можно пользоваться:\n",
    "\n",
    "**без подписки**\n",
    "- абонентская плата отсутствует;\n",
    "- стоимость одной минуты поездки — 8 рублей;\n",
    "- стоимость старта (начала поездки) — 50 рублей;\n",
    "\n",
    "**с подпиской Ultra**\n",
    "- абонентская плата — 199 рублей в месяц;\n",
    "- стоимость одной минуты поездки — 6 рублей;\n",
    "- стоимость старта — бесплатно.\n",
    "\n",
    "**Описание данных**\n",
    "\n",
    "В основных данных есть информация о пользователях, их поездках и подписках.\n",
    "\n",
    "**Пользователи** — users_go.csv (user_data)\n",
    "\n",
    "- user_id - уникальный идентификатор пользователя\n",
    "- name - имя пользователя\n",
    "- age - возраст\n",
    "- city - город\n",
    "- subscription_type - тип подписки (free, ultra)\n",
    "\n",
    "\n",
    "**Поездки** — rides_go.csv (rides_data)\n",
    "\n",
    "- user_id - уникальный идентификатор пользователя\n",
    "- distance - расстояние, которое пользователь проехал в текущей сессии (в метрах)\n",
    "- duration - продолжительность сессии (в минутах) — время с того момента, как пользователь нажал кнопку «Начать поездку» до момента, как он нажал кнопку «Завершить поездку»\n",
    "- date - дата совершения поездки\n",
    "\n",
    "\n",
    "**Подписки** — subscriptions_go.csv (sub_data)\n",
    "- subscription_type - тип подписки\n",
    "- minute_price - стоимость одной минуты поездки по данной подписке\n",
    "- start_ride_price - стоимость начала поездки\n",
    "- subscription_fee - стоимость ежемесячного платежа"
   ]
  },
  {
   "cell_type": "code",
   "execution_count": 7,
   "id": "72576667",
   "metadata": {},
   "outputs": [],
   "source": [
    "import pandas as pd\n",
    "import seaborn as sns\n",
    "import matplotlib.pyplot as plt\n",
    "import os\n",
    "import datetime as dt\n",
    "import numpy as np\n",
    "import scipy.stats as st\n",
    "from math import factorial"
   ]
  },
  {
   "cell_type": "markdown",
   "id": "c42cbe00",
   "metadata": {},
   "source": [
    "#### Шаг 1. Загрузка данных"
   ]
  },
  {
   "cell_type": "code",
   "execution_count": 2,
   "id": "eff9f206",
   "metadata": {},
   "outputs": [],
   "source": [
    "try:\n",
    "    user_data = pd.read_csv('/datasets/users_go.csv')\n",
    "except:\n",
    "    user_data = pd.read_csv('https://code.s3.yandex.net/datasets/users_go.csv')\n",
    "    \n",
    "try:\n",
    "    rides_data = pd.read_csv('/datasets/rides_go.csv')\n",
    "except:\n",
    "    rides_data = pd.read_csv('https://code.s3.yandex.net/datasets/rides_go.csv')\n",
    "    \n",
    "try:\n",
    "    sub_data = pd.read_csv('/datasets/subscriptions_go.csv')\n",
    "except:\n",
    "    sub_data = pd.read_csv('https://code.s3.yandex.net/datasets/subscriptions_go.csv')"
   ]
  },
  {
   "cell_type": "code",
   "execution_count": 3,
   "id": "06e1eb61",
   "metadata": {},
   "outputs": [
    {
     "data": {
      "text/html": [
       "<div>\n",
       "<style scoped>\n",
       "    .dataframe tbody tr th:only-of-type {\n",
       "        vertical-align: middle;\n",
       "    }\n",
       "\n",
       "    .dataframe tbody tr th {\n",
       "        vertical-align: top;\n",
       "    }\n",
       "\n",
       "    .dataframe thead th {\n",
       "        text-align: right;\n",
       "    }\n",
       "</style>\n",
       "<table border=\"1\" class=\"dataframe\">\n",
       "  <thead>\n",
       "    <tr style=\"text-align: right;\">\n",
       "      <th></th>\n",
       "      <th>user_id</th>\n",
       "      <th>name</th>\n",
       "      <th>age</th>\n",
       "      <th>city</th>\n",
       "      <th>subscription_type</th>\n",
       "    </tr>\n",
       "  </thead>\n",
       "  <tbody>\n",
       "    <tr>\n",
       "      <th>0</th>\n",
       "      <td>1</td>\n",
       "      <td>Кира</td>\n",
       "      <td>22</td>\n",
       "      <td>Тюмень</td>\n",
       "      <td>ultra</td>\n",
       "    </tr>\n",
       "    <tr>\n",
       "      <th>1</th>\n",
       "      <td>2</td>\n",
       "      <td>Станислав</td>\n",
       "      <td>31</td>\n",
       "      <td>Омск</td>\n",
       "      <td>ultra</td>\n",
       "    </tr>\n",
       "    <tr>\n",
       "      <th>2</th>\n",
       "      <td>3</td>\n",
       "      <td>Алексей</td>\n",
       "      <td>20</td>\n",
       "      <td>Москва</td>\n",
       "      <td>ultra</td>\n",
       "    </tr>\n",
       "    <tr>\n",
       "      <th>3</th>\n",
       "      <td>4</td>\n",
       "      <td>Константин</td>\n",
       "      <td>26</td>\n",
       "      <td>Ростов-на-Дону</td>\n",
       "      <td>ultra</td>\n",
       "    </tr>\n",
       "    <tr>\n",
       "      <th>4</th>\n",
       "      <td>5</td>\n",
       "      <td>Адель</td>\n",
       "      <td>28</td>\n",
       "      <td>Омск</td>\n",
       "      <td>ultra</td>\n",
       "    </tr>\n",
       "    <tr>\n",
       "      <th>5</th>\n",
       "      <td>6</td>\n",
       "      <td>Регина</td>\n",
       "      <td>25</td>\n",
       "      <td>Краснодар</td>\n",
       "      <td>ultra</td>\n",
       "    </tr>\n",
       "    <tr>\n",
       "      <th>6</th>\n",
       "      <td>7</td>\n",
       "      <td>Игорь</td>\n",
       "      <td>23</td>\n",
       "      <td>Омск</td>\n",
       "      <td>ultra</td>\n",
       "    </tr>\n",
       "    <tr>\n",
       "      <th>7</th>\n",
       "      <td>8</td>\n",
       "      <td>Юрий</td>\n",
       "      <td>23</td>\n",
       "      <td>Краснодар</td>\n",
       "      <td>ultra</td>\n",
       "    </tr>\n",
       "    <tr>\n",
       "      <th>8</th>\n",
       "      <td>9</td>\n",
       "      <td>Ян</td>\n",
       "      <td>21</td>\n",
       "      <td>Пятигорск</td>\n",
       "      <td>ultra</td>\n",
       "    </tr>\n",
       "    <tr>\n",
       "      <th>9</th>\n",
       "      <td>10</td>\n",
       "      <td>Валерий</td>\n",
       "      <td>18</td>\n",
       "      <td>Екатеринбург</td>\n",
       "      <td>ultra</td>\n",
       "    </tr>\n",
       "  </tbody>\n",
       "</table>\n",
       "</div>"
      ],
      "text/plain": [
       "   user_id        name  age            city subscription_type\n",
       "0        1        Кира   22          Тюмень             ultra\n",
       "1        2   Станислав   31            Омск             ultra\n",
       "2        3     Алексей   20          Москва             ultra\n",
       "3        4  Константин   26  Ростов-на-Дону             ultra\n",
       "4        5       Адель   28            Омск             ultra\n",
       "5        6      Регина   25       Краснодар             ultra\n",
       "6        7       Игорь   23            Омск             ultra\n",
       "7        8        Юрий   23       Краснодар             ultra\n",
       "8        9          Ян   21       Пятигорск             ultra\n",
       "9       10     Валерий   18    Екатеринбург             ultra"
      ]
     },
     "metadata": {},
     "output_type": "display_data"
    },
    {
     "name": "stdout",
     "output_type": "stream",
     "text": [
      "<class 'pandas.core.frame.DataFrame'>\n",
      "RangeIndex: 1565 entries, 0 to 1564\n",
      "Data columns (total 5 columns):\n",
      " #   Column             Non-Null Count  Dtype \n",
      "---  ------             --------------  ----- \n",
      " 0   user_id            1565 non-null   int64 \n",
      " 1   name               1565 non-null   object\n",
      " 2   age                1565 non-null   int64 \n",
      " 3   city               1565 non-null   object\n",
      " 4   subscription_type  1565 non-null   object\n",
      "dtypes: int64(2), object(3)\n",
      "memory usage: 61.3+ KB\n"
     ]
    }
   ],
   "source": [
    "display (user_data.head(10))\n",
    "user_data.info()"
   ]
  },
  {
   "cell_type": "markdown",
   "id": "ebe73403",
   "metadata": {},
   "source": [
    "В таблице user_data пропусков нет, типы данных соответствуют."
   ]
  },
  {
   "cell_type": "code",
   "execution_count": 4,
   "id": "e189818f",
   "metadata": {},
   "outputs": [
    {
     "data": {
      "text/html": [
       "<div>\n",
       "<style scoped>\n",
       "    .dataframe tbody tr th:only-of-type {\n",
       "        vertical-align: middle;\n",
       "    }\n",
       "\n",
       "    .dataframe tbody tr th {\n",
       "        vertical-align: top;\n",
       "    }\n",
       "\n",
       "    .dataframe thead th {\n",
       "        text-align: right;\n",
       "    }\n",
       "</style>\n",
       "<table border=\"1\" class=\"dataframe\">\n",
       "  <thead>\n",
       "    <tr style=\"text-align: right;\">\n",
       "      <th></th>\n",
       "      <th>user_id</th>\n",
       "      <th>distance</th>\n",
       "      <th>duration</th>\n",
       "      <th>date</th>\n",
       "    </tr>\n",
       "  </thead>\n",
       "  <tbody>\n",
       "    <tr>\n",
       "      <th>0</th>\n",
       "      <td>1</td>\n",
       "      <td>4409.919140</td>\n",
       "      <td>25.599769</td>\n",
       "      <td>2021-01-01</td>\n",
       "    </tr>\n",
       "    <tr>\n",
       "      <th>1</th>\n",
       "      <td>1</td>\n",
       "      <td>2617.592153</td>\n",
       "      <td>15.816871</td>\n",
       "      <td>2021-01-18</td>\n",
       "    </tr>\n",
       "    <tr>\n",
       "      <th>2</th>\n",
       "      <td>1</td>\n",
       "      <td>754.159807</td>\n",
       "      <td>6.232113</td>\n",
       "      <td>2021-04-20</td>\n",
       "    </tr>\n",
       "    <tr>\n",
       "      <th>3</th>\n",
       "      <td>1</td>\n",
       "      <td>2694.783254</td>\n",
       "      <td>18.511000</td>\n",
       "      <td>2021-08-11</td>\n",
       "    </tr>\n",
       "    <tr>\n",
       "      <th>4</th>\n",
       "      <td>1</td>\n",
       "      <td>4028.687306</td>\n",
       "      <td>26.265803</td>\n",
       "      <td>2021-08-28</td>\n",
       "    </tr>\n",
       "    <tr>\n",
       "      <th>5</th>\n",
       "      <td>1</td>\n",
       "      <td>2770.890808</td>\n",
       "      <td>16.650138</td>\n",
       "      <td>2021-10-09</td>\n",
       "    </tr>\n",
       "    <tr>\n",
       "      <th>6</th>\n",
       "      <td>1</td>\n",
       "      <td>3039.020292</td>\n",
       "      <td>14.927879</td>\n",
       "      <td>2021-10-19</td>\n",
       "    </tr>\n",
       "    <tr>\n",
       "      <th>7</th>\n",
       "      <td>1</td>\n",
       "      <td>2842.118050</td>\n",
       "      <td>23.117468</td>\n",
       "      <td>2021-11-06</td>\n",
       "    </tr>\n",
       "    <tr>\n",
       "      <th>8</th>\n",
       "      <td>1</td>\n",
       "      <td>3412.690668</td>\n",
       "      <td>15.238072</td>\n",
       "      <td>2021-11-14</td>\n",
       "    </tr>\n",
       "    <tr>\n",
       "      <th>9</th>\n",
       "      <td>1</td>\n",
       "      <td>748.690645</td>\n",
       "      <td>15.041884</td>\n",
       "      <td>2021-11-22</td>\n",
       "    </tr>\n",
       "  </tbody>\n",
       "</table>\n",
       "</div>"
      ],
      "text/plain": [
       "   user_id     distance   duration        date\n",
       "0        1  4409.919140  25.599769  2021-01-01\n",
       "1        1  2617.592153  15.816871  2021-01-18\n",
       "2        1   754.159807   6.232113  2021-04-20\n",
       "3        1  2694.783254  18.511000  2021-08-11\n",
       "4        1  4028.687306  26.265803  2021-08-28\n",
       "5        1  2770.890808  16.650138  2021-10-09\n",
       "6        1  3039.020292  14.927879  2021-10-19\n",
       "7        1  2842.118050  23.117468  2021-11-06\n",
       "8        1  3412.690668  15.238072  2021-11-14\n",
       "9        1   748.690645  15.041884  2021-11-22"
      ]
     },
     "metadata": {},
     "output_type": "display_data"
    },
    {
     "name": "stdout",
     "output_type": "stream",
     "text": [
      "<class 'pandas.core.frame.DataFrame'>\n",
      "RangeIndex: 18068 entries, 0 to 18067\n",
      "Data columns (total 4 columns):\n",
      " #   Column    Non-Null Count  Dtype  \n",
      "---  ------    --------------  -----  \n",
      " 0   user_id   18068 non-null  int64  \n",
      " 1   distance  18068 non-null  float64\n",
      " 2   duration  18068 non-null  float64\n",
      " 3   date      18068 non-null  object \n",
      "dtypes: float64(2), int64(1), object(1)\n",
      "memory usage: 564.8+ KB\n"
     ]
    }
   ],
   "source": [
    "display (rides_data.head(10))\n",
    "rides_data.info()"
   ]
  },
  {
   "cell_type": "markdown",
   "id": "40c35509",
   "metadata": {},
   "source": [
    "В таблице rides_data пропусков нет, тип данных нужно изменить в столбце date."
   ]
  },
  {
   "cell_type": "code",
   "execution_count": 5,
   "id": "511c4581",
   "metadata": {},
   "outputs": [
    {
     "data": {
      "text/html": [
       "<div>\n",
       "<style scoped>\n",
       "    .dataframe tbody tr th:only-of-type {\n",
       "        vertical-align: middle;\n",
       "    }\n",
       "\n",
       "    .dataframe tbody tr th {\n",
       "        vertical-align: top;\n",
       "    }\n",
       "\n",
       "    .dataframe thead th {\n",
       "        text-align: right;\n",
       "    }\n",
       "</style>\n",
       "<table border=\"1\" class=\"dataframe\">\n",
       "  <thead>\n",
       "    <tr style=\"text-align: right;\">\n",
       "      <th></th>\n",
       "      <th>subscription_type</th>\n",
       "      <th>minute_price</th>\n",
       "      <th>start_ride_price</th>\n",
       "      <th>subscription_fee</th>\n",
       "    </tr>\n",
       "  </thead>\n",
       "  <tbody>\n",
       "    <tr>\n",
       "      <th>0</th>\n",
       "      <td>free</td>\n",
       "      <td>8</td>\n",
       "      <td>50</td>\n",
       "      <td>0</td>\n",
       "    </tr>\n",
       "    <tr>\n",
       "      <th>1</th>\n",
       "      <td>ultra</td>\n",
       "      <td>6</td>\n",
       "      <td>0</td>\n",
       "      <td>199</td>\n",
       "    </tr>\n",
       "  </tbody>\n",
       "</table>\n",
       "</div>"
      ],
      "text/plain": [
       "  subscription_type  minute_price  start_ride_price  subscription_fee\n",
       "0              free             8                50                 0\n",
       "1             ultra             6                 0               199"
      ]
     },
     "metadata": {},
     "output_type": "display_data"
    },
    {
     "name": "stdout",
     "output_type": "stream",
     "text": [
      "<class 'pandas.core.frame.DataFrame'>\n",
      "RangeIndex: 2 entries, 0 to 1\n",
      "Data columns (total 4 columns):\n",
      " #   Column             Non-Null Count  Dtype \n",
      "---  ------             --------------  ----- \n",
      " 0   subscription_type  2 non-null      object\n",
      " 1   minute_price       2 non-null      int64 \n",
      " 2   start_ride_price   2 non-null      int64 \n",
      " 3   subscription_fee   2 non-null      int64 \n",
      "dtypes: int64(3), object(1)\n",
      "memory usage: 192.0+ bytes\n"
     ]
    }
   ],
   "source": [
    "display (sub_data.head(10))\n",
    "sub_data.info()"
   ]
  },
  {
   "cell_type": "markdown",
   "id": "cd76fc12",
   "metadata": {},
   "source": [
    "В таблице sub_data пропусков нет, с типами данных все в порядке."
   ]
  },
  {
   "cell_type": "markdown",
   "id": "e95ebca7",
   "metadata": {},
   "source": [
    "#### Шаг 2. Предобработка данных"
   ]
  },
  {
   "cell_type": "markdown",
   "id": "4b9b115e",
   "metadata": {},
   "source": [
    "##### Приведите столбец date к типу даты Pandas."
   ]
  },
  {
   "cell_type": "code",
   "execution_count": 6,
   "id": "f6a2379a",
   "metadata": {},
   "outputs": [],
   "source": [
    "rides_data['date'] = pd.to_datetime(rides_data['date'])"
   ]
  },
  {
   "cell_type": "code",
   "execution_count": 7,
   "id": "5ab02624",
   "metadata": {},
   "outputs": [
    {
     "name": "stdout",
     "output_type": "stream",
     "text": [
      "<class 'pandas.core.frame.DataFrame'>\n",
      "RangeIndex: 18068 entries, 0 to 18067\n",
      "Data columns (total 4 columns):\n",
      " #   Column    Non-Null Count  Dtype         \n",
      "---  ------    --------------  -----         \n",
      " 0   user_id   18068 non-null  int64         \n",
      " 1   distance  18068 non-null  float64       \n",
      " 2   duration  18068 non-null  float64       \n",
      " 3   date      18068 non-null  datetime64[ns]\n",
      "dtypes: datetime64[ns](1), float64(2), int64(1)\n",
      "memory usage: 564.8 KB\n"
     ]
    },
    {
     "data": {
      "text/html": [
       "<div>\n",
       "<style scoped>\n",
       "    .dataframe tbody tr th:only-of-type {\n",
       "        vertical-align: middle;\n",
       "    }\n",
       "\n",
       "    .dataframe tbody tr th {\n",
       "        vertical-align: top;\n",
       "    }\n",
       "\n",
       "    .dataframe thead th {\n",
       "        text-align: right;\n",
       "    }\n",
       "</style>\n",
       "<table border=\"1\" class=\"dataframe\">\n",
       "  <thead>\n",
       "    <tr style=\"text-align: right;\">\n",
       "      <th></th>\n",
       "      <th>user_id</th>\n",
       "      <th>distance</th>\n",
       "      <th>duration</th>\n",
       "      <th>date</th>\n",
       "    </tr>\n",
       "  </thead>\n",
       "  <tbody>\n",
       "    <tr>\n",
       "      <th>0</th>\n",
       "      <td>1</td>\n",
       "      <td>4409.919140</td>\n",
       "      <td>25.599769</td>\n",
       "      <td>2021-01-01</td>\n",
       "    </tr>\n",
       "    <tr>\n",
       "      <th>1</th>\n",
       "      <td>1</td>\n",
       "      <td>2617.592153</td>\n",
       "      <td>15.816871</td>\n",
       "      <td>2021-01-18</td>\n",
       "    </tr>\n",
       "    <tr>\n",
       "      <th>2</th>\n",
       "      <td>1</td>\n",
       "      <td>754.159807</td>\n",
       "      <td>6.232113</td>\n",
       "      <td>2021-04-20</td>\n",
       "    </tr>\n",
       "    <tr>\n",
       "      <th>3</th>\n",
       "      <td>1</td>\n",
       "      <td>2694.783254</td>\n",
       "      <td>18.511000</td>\n",
       "      <td>2021-08-11</td>\n",
       "    </tr>\n",
       "    <tr>\n",
       "      <th>4</th>\n",
       "      <td>1</td>\n",
       "      <td>4028.687306</td>\n",
       "      <td>26.265803</td>\n",
       "      <td>2021-08-28</td>\n",
       "    </tr>\n",
       "  </tbody>\n",
       "</table>\n",
       "</div>"
      ],
      "text/plain": [
       "   user_id     distance   duration       date\n",
       "0        1  4409.919140  25.599769 2021-01-01\n",
       "1        1  2617.592153  15.816871 2021-01-18\n",
       "2        1   754.159807   6.232113 2021-04-20\n",
       "3        1  2694.783254  18.511000 2021-08-11\n",
       "4        1  4028.687306  26.265803 2021-08-28"
      ]
     },
     "execution_count": 7,
     "metadata": {},
     "output_type": "execute_result"
    }
   ],
   "source": [
    "rides_data.info()\n",
    "rides_data.head()"
   ]
  },
  {
   "cell_type": "markdown",
   "id": "7b804be7",
   "metadata": {},
   "source": [
    "##### Создайте новый столбец с номером месяца на основе столбца date."
   ]
  },
  {
   "cell_type": "code",
   "execution_count": 8,
   "id": "a440989e",
   "metadata": {},
   "outputs": [
    {
     "data": {
      "text/html": [
       "<div>\n",
       "<style scoped>\n",
       "    .dataframe tbody tr th:only-of-type {\n",
       "        vertical-align: middle;\n",
       "    }\n",
       "\n",
       "    .dataframe tbody tr th {\n",
       "        vertical-align: top;\n",
       "    }\n",
       "\n",
       "    .dataframe thead th {\n",
       "        text-align: right;\n",
       "    }\n",
       "</style>\n",
       "<table border=\"1\" class=\"dataframe\">\n",
       "  <thead>\n",
       "    <tr style=\"text-align: right;\">\n",
       "      <th></th>\n",
       "      <th>user_id</th>\n",
       "      <th>distance</th>\n",
       "      <th>duration</th>\n",
       "      <th>date</th>\n",
       "      <th>month</th>\n",
       "    </tr>\n",
       "  </thead>\n",
       "  <tbody>\n",
       "    <tr>\n",
       "      <th>0</th>\n",
       "      <td>1</td>\n",
       "      <td>4409.919140</td>\n",
       "      <td>25.599769</td>\n",
       "      <td>2021-01-01</td>\n",
       "      <td>1</td>\n",
       "    </tr>\n",
       "    <tr>\n",
       "      <th>1</th>\n",
       "      <td>1</td>\n",
       "      <td>2617.592153</td>\n",
       "      <td>15.816871</td>\n",
       "      <td>2021-01-18</td>\n",
       "      <td>1</td>\n",
       "    </tr>\n",
       "    <tr>\n",
       "      <th>2</th>\n",
       "      <td>1</td>\n",
       "      <td>754.159807</td>\n",
       "      <td>6.232113</td>\n",
       "      <td>2021-04-20</td>\n",
       "      <td>4</td>\n",
       "    </tr>\n",
       "    <tr>\n",
       "      <th>3</th>\n",
       "      <td>1</td>\n",
       "      <td>2694.783254</td>\n",
       "      <td>18.511000</td>\n",
       "      <td>2021-08-11</td>\n",
       "      <td>8</td>\n",
       "    </tr>\n",
       "    <tr>\n",
       "      <th>4</th>\n",
       "      <td>1</td>\n",
       "      <td>4028.687306</td>\n",
       "      <td>26.265803</td>\n",
       "      <td>2021-08-28</td>\n",
       "      <td>8</td>\n",
       "    </tr>\n",
       "  </tbody>\n",
       "</table>\n",
       "</div>"
      ],
      "text/plain": [
       "   user_id     distance   duration       date  month\n",
       "0        1  4409.919140  25.599769 2021-01-01      1\n",
       "1        1  2617.592153  15.816871 2021-01-18      1\n",
       "2        1   754.159807   6.232113 2021-04-20      4\n",
       "3        1  2694.783254  18.511000 2021-08-11      8\n",
       "4        1  4028.687306  26.265803 2021-08-28      8"
      ]
     },
     "metadata": {},
     "output_type": "display_data"
    },
    {
     "name": "stdout",
     "output_type": "stream",
     "text": [
      "Начало исследуемого периода 2021-01-01 00:00:00\n",
      "Конец исследуемого периода 2021-12-30 00:00:00\n"
     ]
    }
   ],
   "source": [
    "rides_data['month'] = rides_data['date'].dt.month\n",
    "display (rides_data.head())\n",
    "print ('Начало исследуемого периода', rides_data['date'].min())\n",
    "print ('Конец исследуемого периода', rides_data['date'].max())"
   ]
  },
  {
   "cell_type": "markdown",
   "id": "30054ebb",
   "metadata": {},
   "source": [
    "Данные предоставлены за 2021 год."
   ]
  },
  {
   "cell_type": "markdown",
   "id": "6fdeddf6",
   "metadata": {},
   "source": [
    "##### Проверьте наличие пропущенных значений и дубликатов в датафреймах. Обработайте их, если такие значения присутствуют."
   ]
  },
  {
   "cell_type": "code",
   "execution_count": 9,
   "id": "02b19fa1",
   "metadata": {},
   "outputs": [
    {
     "name": "stdout",
     "output_type": "stream",
     "text": [
      "Дубликатов в таблице user_data 31\n",
      "Дубликатов в таблице rides_data 0\n"
     ]
    }
   ],
   "source": [
    "print ('Дубликатов в таблице user_data', user_data.duplicated().sum())\n",
    "print ('Дубликатов в таблице rides_data', rides_data.duplicated().sum())"
   ]
  },
  {
   "cell_type": "markdown",
   "id": "05a148c1",
   "metadata": {},
   "source": [
    "В таблице user_data 31 дубликат это чуть меньше 2% от всей таблицы, удалим их. В остальных таблицах дубликатов нет."
   ]
  },
  {
   "cell_type": "code",
   "execution_count": 10,
   "id": "4a8b8f3f",
   "metadata": {},
   "outputs": [
    {
     "name": "stdout",
     "output_type": "stream",
     "text": [
      "Дубликатов в таблице user_data 0\n"
     ]
    }
   ],
   "source": [
    "user_data = user_data.drop_duplicates().reset_index(drop=True)\n",
    "print ('Дубликатов в таблице user_data', user_data.duplicated().sum())"
   ]
  },
  {
   "cell_type": "markdown",
   "id": "87d0b35f",
   "metadata": {},
   "source": [
    "**Вывод:** Пропусков в таблицах не было, в таблице user_data был 31 дубликат (2% от всей таблицы), эти дубликаты удалили. Изменили тип данных столбца date в таблице rides_data на datetime, добавили новый столбце с номером месяца."
   ]
  },
  {
   "cell_type": "markdown",
   "id": "212593c7",
   "metadata": {},
   "source": [
    "#### Шаг 3. Исследовательский анализ данных"
   ]
  },
  {
   "cell_type": "markdown",
   "id": "acda436d",
   "metadata": {},
   "source": [
    "Опишите и визуализируйте общую информацию о пользователях и поездках:\n",
    "\n",
    "- частота встречаемости городов;\n",
    "- соотношение пользователей с подпиской и без подписки;\n",
    "- возраст пользователей;\n",
    "- расстояние, которое пользователь преодолел за одну поездку;\n",
    "- продолжительность поездок."
   ]
  },
  {
   "cell_type": "markdown",
   "id": "fb8c59db",
   "metadata": {},
   "source": [
    "##### Частота встречаемости городов"
   ]
  },
  {
   "cell_type": "code",
   "execution_count": 11,
   "id": "06726e9b",
   "metadata": {},
   "outputs": [
    {
     "name": "stdout",
     "output_type": "stream",
     "text": [
      "city\n",
      "Пятигорск         219\n",
      "Екатеринбург      204\n",
      "Ростов-на-Дону    198\n",
      "Краснодар         193\n",
      "Сочи              189\n",
      "Омск              183\n",
      "Тюмень            180\n",
      "Москва            168\n",
      "dtype: int64\n"
     ]
    },
    {
     "data": {
      "image/png": "[encoded data removed]",
      "text/plain": [
       "<Figure size 720x360 with 1 Axes>"
      ]
     },
     "metadata": {
      "needs_background": "light"
     },
     "output_type": "display_data"
    }
   ],
   "source": [
    "print (user_data.value_counts('city'))\n",
    "\n",
    "user_data.value_counts('city').plot(kind='bar', figsize=(10,5))\n",
    "\n",
    "plt.xticks(rotation=30)\n",
    "plt.xlabel(\"Города\")\n",
    "plt.ylabel(\"Количество пользователей\")  \n",
    "plt.title(\"Распределение пользователей по городам\")\n",
    "plt.show()"
   ]
  },
  {
   "cell_type": "markdown",
   "id": "bdcc8d1f",
   "metadata": {},
   "source": [
    "Больше всего пользователей в Пятигорске - 219, как ни странно, меньше всего в Москве - 168. Количество пользователей по городам распределно достаточно равномерно."
   ]
  },
  {
   "cell_type": "markdown",
   "id": "0f451d22",
   "metadata": {},
   "source": [
    "##### Соотношение пользователей с подпиской и без подписки"
   ]
  },
  {
   "cell_type": "code",
   "execution_count": 12,
   "id": "2dafa3e9",
   "metadata": {},
   "outputs": [
    {
     "name": "stdout",
     "output_type": "stream",
     "text": [
      "subscription_type\n",
      "free     835\n",
      "ultra    699\n",
      "dtype: int64\n"
     ]
    },
    {
     "data": {
      "image/png": "[encoded data removed]",
      "text/plain": [
       "<Figure size 504x504 with 1 Axes>"
      ]
     },
     "metadata": {},
     "output_type": "display_data"
    }
   ],
   "source": [
    "print (user_data.value_counts('subscription_type'))\n",
    "user_data.value_counts('subscription_type').plot(\n",
    "    kind='pie', subplots=True, figsize=(7, 7),\n",
    "    autopct='%.1f', colormap='Set2_r')\n",
    "plt.title('Распределение пользователей по наличию подписки')\n",
    "plt.ylabel(\"\")\n",
    "plt.show()"
   ]
  },
  {
   "cell_type": "markdown",
   "id": "710fce06",
   "metadata": {},
   "source": [
    "Пользователей без подписки больше почти на 9%, 835 без подписки, 699 с подпиской."
   ]
  },
  {
   "cell_type": "markdown",
   "id": "fb9839f2",
   "metadata": {},
   "source": [
    "##### Возраст пользователей"
   ]
  },
  {
   "cell_type": "code",
   "execution_count": 13,
   "id": "cdf288a0",
   "metadata": {},
   "outputs": [
    {
     "name": "stdout",
     "output_type": "stream",
     "text": [
      "age\n",
      "25    145\n",
      "24    132\n",
      "26    131\n",
      "23    129\n",
      "27    119\n",
      "22    119\n",
      "28    112\n",
      "21     93\n",
      "20     71\n",
      "30     68\n",
      "29     68\n",
      "31     48\n",
      "19     47\n",
      "18     46\n",
      "32     41\n",
      "33     39\n",
      "17     26\n",
      "34     19\n",
      "16     19\n",
      "35     15\n",
      "15     13\n",
      "14      9\n",
      "13      8\n",
      "36      6\n",
      "12      4\n",
      "38      3\n",
      "37      2\n",
      "39      1\n",
      "43      1\n",
      "dtype: int64\n",
      "count    1534.000000\n",
      "mean       24.903520\n",
      "std         4.572367\n",
      "min        12.000000\n",
      "25%        22.000000\n",
      "50%        25.000000\n",
      "75%        28.000000\n",
      "max        43.000000\n",
      "Name: age, dtype: float64\n"
     ]
    },
    {
     "data": {
      "image/png": "[encoded data removed]",
      "text/plain": [
       "<Figure size 720x360 with 1 Axes>"
      ]
     },
     "metadata": {
      "needs_background": "light"
     },
     "output_type": "display_data"
    }
   ],
   "source": [
    "print (user_data.value_counts('age'))\n",
    "print (user_data['age'].describe())\n",
    "user_data['age'].hist(bins=100, figsize=(10,5))\n",
    "plt.title('Возраст пользователей')\n",
    "plt.show()"
   ]
  },
  {
   "cell_type": "markdown",
   "id": "9a372945",
   "metadata": {},
   "source": [
    "Основная часть пользователей в возрасте 22-28 лет, средний возраст 25 лет. Пользователи по возрасту распределены нормально."
   ]
  },
  {
   "cell_type": "markdown",
   "id": "22d49167",
   "metadata": {},
   "source": [
    "##### Расстояние, которое пользователь преодолел за одну поездку"
   ]
  },
  {
   "cell_type": "code",
   "execution_count": 14,
   "id": "49b3e1c6",
   "metadata": {},
   "outputs": [
    {
     "name": "stdout",
     "output_type": "stream",
     "text": [
      "count    18068.000000\n",
      "mean      3070.659976\n",
      "std       1116.831209\n",
      "min          0.855683\n",
      "25%       2543.226360\n",
      "50%       3133.609994\n",
      "75%       3776.222735\n",
      "max       7211.007745\n",
      "Name: distance, dtype: float64\n"
     ]
    },
    {
     "data": {
      "image/png": "[encoded data removed]",
      "text/plain": [
       "<Figure size 720x360 with 1 Axes>"
      ]
     },
     "metadata": {
      "needs_background": "light"
     },
     "output_type": "display_data"
    },
    {
     "data": {
      "image/png": "[encoded data removed]",
      "text/plain": [
       "<Figure size 216x432 with 1 Axes>"
      ]
     },
     "metadata": {
      "needs_background": "light"
     },
     "output_type": "display_data"
    }
   ],
   "source": [
    "print(rides_data['distance'].describe())\n",
    "rides_data['distance'].hist(bins=100, figsize=(10,5))\n",
    "plt.title('Расстояние поездок (м)')\n",
    "plt.show()\n",
    "rides_data.boxplot(column='distance', figsize=(3,6))\n",
    "plt.title('Распределение расстояния поездок (м)')\n",
    "plt.show()"
   ]
  },
  {
   "cell_type": "markdown",
   "id": "b77d0f20",
   "metadata": {},
   "source": [
    "Средняя поездка составляет 3 км, в основном пользователи преодолевают за одну поезду 2.5 - 3.7 км. Минимальное значение 0,85 м выглядит странно. Возможно пользователь взял самокат и у него была неисправность или разрядился аккумулятор, либо у пользователя поменялись планы. В столбце есть достаточно большое количество выбросов, в целом распределение выглядит нормально."
   ]
  },
  {
   "cell_type": "markdown",
   "id": "0e86de24",
   "metadata": {},
   "source": [
    "##### Продолжительность поездок"
   ]
  },
  {
   "cell_type": "code",
   "execution_count": 15,
   "id": "5c856ba3",
   "metadata": {},
   "outputs": [
    {
     "name": "stdout",
     "output_type": "stream",
     "text": [
      "count    18068.000000\n",
      "mean        17.805011\n",
      "std          6.091051\n",
      "min          0.500000\n",
      "25%         13.597563\n",
      "50%         17.678395\n",
      "75%         21.724800\n",
      "max         40.823963\n",
      "Name: duration, dtype: float64\n"
     ]
    },
    {
     "data": {
      "image/png": "[encoded data removed]",
      "text/plain": [
       "<Figure size 720x360 with 1 Axes>"
      ]
     },
     "metadata": {
      "needs_background": "light"
     },
     "output_type": "display_data"
    },
    {
     "data": {
      "image/png": "[encoded data removed]",
      "text/plain": [
       "<Figure size 216x432 with 1 Axes>"
      ]
     },
     "metadata": {
      "needs_background": "light"
     },
     "output_type": "display_data"
    }
   ],
   "source": [
    "print(rides_data['duration'].describe())\n",
    "rides_data['duration'].hist(bins=100, figsize=(10,5))\n",
    "plt.title('Продолжительность поездок (мин)')\n",
    "plt.show()\n",
    "rides_data.boxplot(column='distance', figsize=(3,6))\n",
    "plt.title('Распределение продолжительности поездок (мин)')\n",
    "plt.show()"
   ]
  },
  {
   "cell_type": "markdown",
   "id": "7d1ec3d9",
   "metadata": {},
   "source": [
    "Средняя продолжительность поездки 17.8 минут, большая часть поездок находится в диапазоне 13.5 - 21.7 минут. Как и в прошлом столбце есть очень низкие значения, причины возникновения вероятно такие же. Есть выбросы в обе стороны, время поездок распределено нормально."
   ]
  },
  {
   "cell_type": "markdown",
   "id": "1e7004f3",
   "metadata": {},
   "source": [
    "**Вывод:** \n",
    "\n",
    "В целом данные в исследуемых столбцах распределены нормально, серьезных отклонений нет. В столбцах с дистанцией и продолжительностью поездки есть выбросы в обе стороны. Очень низкие значения предположительно связаны либо с технической проблемой с самокатом, либо у пользователя могли поменяться планы.\n",
    "- Больше всего пользователей в Пятигорске - 219, меньше всего в Москве - 168.\n",
    "- Пользователей без подписки больше на 16%, 835 без подписки, 699 с подпиской.\n",
    "- Основная часть пользователей в возрасте 22-28 лет, средний возраст 25 лет.\n",
    "- Средняя поездка длится 17.8 минут, среднее расстояние поездки 3 км. Основная часть поездок находится в диапазонах 13.5 - 21.7 минут и 2.5 - 3.7 км."
   ]
  },
  {
   "cell_type": "markdown",
   "id": "4ef51331",
   "metadata": {},
   "source": [
    "#### Шаг 4. Объединение данных"
   ]
  },
  {
   "cell_type": "markdown",
   "id": "08a1fc2b",
   "metadata": {},
   "source": [
    "4.1 Объедините данные о пользователях, поездках и подписках в один датафрейм. Для этого воспользуйтесь методом merge().\n",
    "\n",
    "4.2 Создайте ещё два датафрейма из датафрейма, созданного на этапе 4.1:\n",
    "- c данными о пользователях без подписки;\n",
    "- с данными о пользователях с подпиской.\n",
    "\n",
    "4.3 Визуализируйте информацию о расстоянии и времени поездок для пользователей обеих категорий."
   ]
  },
  {
   "cell_type": "markdown",
   "id": "44277ed3",
   "metadata": {},
   "source": [
    "##### Объедините данные о пользователях, поездках и подписках в один датафрейм."
   ]
  },
  {
   "cell_type": "code",
   "execution_count": 16,
   "id": "604fa798",
   "metadata": {},
   "outputs": [
    {
     "name": "stdout",
     "output_type": "stream",
     "text": [
      "<class 'pandas.core.frame.DataFrame'>\n",
      "Int64Index: 18068 entries, 0 to 18067\n",
      "Data columns (total 9 columns):\n",
      " #   Column             Non-Null Count  Dtype         \n",
      "---  ------             --------------  -----         \n",
      " 0   user_id            18068 non-null  int64         \n",
      " 1   distance           18068 non-null  float64       \n",
      " 2   duration           18068 non-null  float64       \n",
      " 3   date               18068 non-null  datetime64[ns]\n",
      " 4   month              18068 non-null  int64         \n",
      " 5   name               18068 non-null  object        \n",
      " 6   age                18068 non-null  int64         \n",
      " 7   city               18068 non-null  object        \n",
      " 8   subscription_type  18068 non-null  object        \n",
      "dtypes: datetime64[ns](1), float64(2), int64(3), object(3)\n",
      "memory usage: 1.4+ MB\n"
     ]
    },
    {
     "data": {
      "text/html": [
       "<div>\n",
       "<style scoped>\n",
       "    .dataframe tbody tr th:only-of-type {\n",
       "        vertical-align: middle;\n",
       "    }\n",
       "\n",
       "    .dataframe tbody tr th {\n",
       "        vertical-align: top;\n",
       "    }\n",
       "\n",
       "    .dataframe thead th {\n",
       "        text-align: right;\n",
       "    }\n",
       "</style>\n",
       "<table border=\"1\" class=\"dataframe\">\n",
       "  <thead>\n",
       "    <tr style=\"text-align: right;\">\n",
       "      <th></th>\n",
       "      <th>user_id</th>\n",
       "      <th>distance</th>\n",
       "      <th>duration</th>\n",
       "      <th>date</th>\n",
       "      <th>month</th>\n",
       "      <th>name</th>\n",
       "      <th>age</th>\n",
       "      <th>city</th>\n",
       "      <th>subscription_type</th>\n",
       "    </tr>\n",
       "  </thead>\n",
       "  <tbody>\n",
       "    <tr>\n",
       "      <th>0</th>\n",
       "      <td>1</td>\n",
       "      <td>4409.919140</td>\n",
       "      <td>25.599769</td>\n",
       "      <td>2021-01-01</td>\n",
       "      <td>1</td>\n",
       "      <td>Кира</td>\n",
       "      <td>22</td>\n",
       "      <td>Тюмень</td>\n",
       "      <td>ultra</td>\n",
       "    </tr>\n",
       "    <tr>\n",
       "      <th>1</th>\n",
       "      <td>1</td>\n",
       "      <td>2617.592153</td>\n",
       "      <td>15.816871</td>\n",
       "      <td>2021-01-18</td>\n",
       "      <td>1</td>\n",
       "      <td>Кира</td>\n",
       "      <td>22</td>\n",
       "      <td>Тюмень</td>\n",
       "      <td>ultra</td>\n",
       "    </tr>\n",
       "    <tr>\n",
       "      <th>2</th>\n",
       "      <td>1</td>\n",
       "      <td>754.159807</td>\n",
       "      <td>6.232113</td>\n",
       "      <td>2021-04-20</td>\n",
       "      <td>4</td>\n",
       "      <td>Кира</td>\n",
       "      <td>22</td>\n",
       "      <td>Тюмень</td>\n",
       "      <td>ultra</td>\n",
       "    </tr>\n",
       "    <tr>\n",
       "      <th>3</th>\n",
       "      <td>1</td>\n",
       "      <td>2694.783254</td>\n",
       "      <td>18.511000</td>\n",
       "      <td>2021-08-11</td>\n",
       "      <td>8</td>\n",
       "      <td>Кира</td>\n",
       "      <td>22</td>\n",
       "      <td>Тюмень</td>\n",
       "      <td>ultra</td>\n",
       "    </tr>\n",
       "    <tr>\n",
       "      <th>4</th>\n",
       "      <td>1</td>\n",
       "      <td>4028.687306</td>\n",
       "      <td>26.265803</td>\n",
       "      <td>2021-08-28</td>\n",
       "      <td>8</td>\n",
       "      <td>Кира</td>\n",
       "      <td>22</td>\n",
       "      <td>Тюмень</td>\n",
       "      <td>ultra</td>\n",
       "    </tr>\n",
       "  </tbody>\n",
       "</table>\n",
       "</div>"
      ],
      "text/plain": [
       "   user_id     distance   duration       date  month  name  age    city  \\\n",
       "0        1  4409.919140  25.599769 2021-01-01      1  Кира   22  Тюмень   \n",
       "1        1  2617.592153  15.816871 2021-01-18      1  Кира   22  Тюмень   \n",
       "2        1   754.159807   6.232113 2021-04-20      4  Кира   22  Тюмень   \n",
       "3        1  2694.783254  18.511000 2021-08-11      8  Кира   22  Тюмень   \n",
       "4        1  4028.687306  26.265803 2021-08-28      8  Кира   22  Тюмень   \n",
       "\n",
       "  subscription_type  \n",
       "0             ultra  \n",
       "1             ultra  \n",
       "2             ultra  \n",
       "3             ultra  \n",
       "4             ultra  "
      ]
     },
     "execution_count": 16,
     "metadata": {},
     "output_type": "execute_result"
    }
   ],
   "source": [
    "main_data = rides_data.merge(user_data, on='user_id')\n",
    "main_data.info()\n",
    "main_data.head()"
   ]
  },
  {
   "cell_type": "markdown",
   "id": "c72bac7e",
   "metadata": {},
   "source": [
    "##### Создайте ещё два датафрейма из датафрейма, созданного на этапе 4.1"
   ]
  },
  {
   "cell_type": "markdown",
   "id": "1b2cb2ba",
   "metadata": {},
   "source": [
    "**Без подписки**"
   ]
  },
  {
   "cell_type": "code",
   "execution_count": 17,
   "id": "c74cfca3",
   "metadata": {},
   "outputs": [
    {
     "name": "stdout",
     "output_type": "stream",
     "text": [
      "Уникальные значения столбца subscription_type: ['free']\n"
     ]
    },
    {
     "data": {
      "text/html": [
       "<div>\n",
       "<style scoped>\n",
       "    .dataframe tbody tr th:only-of-type {\n",
       "        vertical-align: middle;\n",
       "    }\n",
       "\n",
       "    .dataframe tbody tr th {\n",
       "        vertical-align: top;\n",
       "    }\n",
       "\n",
       "    .dataframe thead th {\n",
       "        text-align: right;\n",
       "    }\n",
       "</style>\n",
       "<table border=\"1\" class=\"dataframe\">\n",
       "  <thead>\n",
       "    <tr style=\"text-align: right;\">\n",
       "      <th></th>\n",
       "      <th>user_id</th>\n",
       "      <th>distance</th>\n",
       "      <th>duration</th>\n",
       "      <th>date</th>\n",
       "      <th>month</th>\n",
       "      <th>name</th>\n",
       "      <th>age</th>\n",
       "      <th>city</th>\n",
       "      <th>subscription_type</th>\n",
       "    </tr>\n",
       "  </thead>\n",
       "  <tbody>\n",
       "    <tr>\n",
       "      <th>6500</th>\n",
       "      <td>700</td>\n",
       "      <td>2515.690719</td>\n",
       "      <td>14.944286</td>\n",
       "      <td>2021-01-02</td>\n",
       "      <td>1</td>\n",
       "      <td>Айдар</td>\n",
       "      <td>22</td>\n",
       "      <td>Омск</td>\n",
       "      <td>free</td>\n",
       "    </tr>\n",
       "    <tr>\n",
       "      <th>6501</th>\n",
       "      <td>700</td>\n",
       "      <td>846.932642</td>\n",
       "      <td>16.234663</td>\n",
       "      <td>2021-02-01</td>\n",
       "      <td>2</td>\n",
       "      <td>Айдар</td>\n",
       "      <td>22</td>\n",
       "      <td>Омск</td>\n",
       "      <td>free</td>\n",
       "    </tr>\n",
       "    <tr>\n",
       "      <th>6502</th>\n",
       "      <td>700</td>\n",
       "      <td>4004.434142</td>\n",
       "      <td>20.016628</td>\n",
       "      <td>2021-02-04</td>\n",
       "      <td>2</td>\n",
       "      <td>Айдар</td>\n",
       "      <td>22</td>\n",
       "      <td>Омск</td>\n",
       "      <td>free</td>\n",
       "    </tr>\n",
       "    <tr>\n",
       "      <th>6503</th>\n",
       "      <td>700</td>\n",
       "      <td>1205.911290</td>\n",
       "      <td>9.782872</td>\n",
       "      <td>2021-02-10</td>\n",
       "      <td>2</td>\n",
       "      <td>Айдар</td>\n",
       "      <td>22</td>\n",
       "      <td>Омск</td>\n",
       "      <td>free</td>\n",
       "    </tr>\n",
       "    <tr>\n",
       "      <th>6504</th>\n",
       "      <td>700</td>\n",
       "      <td>3047.379435</td>\n",
       "      <td>17.427673</td>\n",
       "      <td>2021-02-14</td>\n",
       "      <td>2</td>\n",
       "      <td>Айдар</td>\n",
       "      <td>22</td>\n",
       "      <td>Омск</td>\n",
       "      <td>free</td>\n",
       "    </tr>\n",
       "  </tbody>\n",
       "</table>\n",
       "</div>"
      ],
      "text/plain": [
       "      user_id     distance   duration       date  month   name  age  city  \\\n",
       "6500      700  2515.690719  14.944286 2021-01-02      1  Айдар   22  Омск   \n",
       "6501      700   846.932642  16.234663 2021-02-01      2  Айдар   22  Омск   \n",
       "6502      700  4004.434142  20.016628 2021-02-04      2  Айдар   22  Омск   \n",
       "6503      700  1205.911290   9.782872 2021-02-10      2  Айдар   22  Омск   \n",
       "6504      700  3047.379435  17.427673 2021-02-14      2  Айдар   22  Омск   \n",
       "\n",
       "     subscription_type  \n",
       "6500              free  \n",
       "6501              free  \n",
       "6502              free  \n",
       "6503              free  \n",
       "6504              free  "
      ]
     },
     "execution_count": 17,
     "metadata": {},
     "output_type": "execute_result"
    }
   ],
   "source": [
    "data_sub_free = main_data.query('subscription_type == \"free\"')\n",
    "print('Уникальные значения столбца subscription_type:', data_sub_free['subscription_type'].unique())\n",
    "data_sub_free.head()"
   ]
  },
  {
   "cell_type": "markdown",
   "id": "8cc6230e",
   "metadata": {},
   "source": [
    "**С подпиской**"
   ]
  },
  {
   "cell_type": "code",
   "execution_count": 18,
   "id": "a5f0269a",
   "metadata": {},
   "outputs": [
    {
     "name": "stdout",
     "output_type": "stream",
     "text": [
      "Уникальные значения столбца subscription_type: ['ultra']\n"
     ]
    },
    {
     "data": {
      "text/html": [
       "<div>\n",
       "<style scoped>\n",
       "    .dataframe tbody tr th:only-of-type {\n",
       "        vertical-align: middle;\n",
       "    }\n",
       "\n",
       "    .dataframe tbody tr th {\n",
       "        vertical-align: top;\n",
       "    }\n",
       "\n",
       "    .dataframe thead th {\n",
       "        text-align: right;\n",
       "    }\n",
       "</style>\n",
       "<table border=\"1\" class=\"dataframe\">\n",
       "  <thead>\n",
       "    <tr style=\"text-align: right;\">\n",
       "      <th></th>\n",
       "      <th>user_id</th>\n",
       "      <th>distance</th>\n",
       "      <th>duration</th>\n",
       "      <th>date</th>\n",
       "      <th>month</th>\n",
       "      <th>name</th>\n",
       "      <th>age</th>\n",
       "      <th>city</th>\n",
       "      <th>subscription_type</th>\n",
       "    </tr>\n",
       "  </thead>\n",
       "  <tbody>\n",
       "    <tr>\n",
       "      <th>0</th>\n",
       "      <td>1</td>\n",
       "      <td>4409.919140</td>\n",
       "      <td>25.599769</td>\n",
       "      <td>2021-01-01</td>\n",
       "      <td>1</td>\n",
       "      <td>Кира</td>\n",
       "      <td>22</td>\n",
       "      <td>Тюмень</td>\n",
       "      <td>ultra</td>\n",
       "    </tr>\n",
       "    <tr>\n",
       "      <th>1</th>\n",
       "      <td>1</td>\n",
       "      <td>2617.592153</td>\n",
       "      <td>15.816871</td>\n",
       "      <td>2021-01-18</td>\n",
       "      <td>1</td>\n",
       "      <td>Кира</td>\n",
       "      <td>22</td>\n",
       "      <td>Тюмень</td>\n",
       "      <td>ultra</td>\n",
       "    </tr>\n",
       "    <tr>\n",
       "      <th>2</th>\n",
       "      <td>1</td>\n",
       "      <td>754.159807</td>\n",
       "      <td>6.232113</td>\n",
       "      <td>2021-04-20</td>\n",
       "      <td>4</td>\n",
       "      <td>Кира</td>\n",
       "      <td>22</td>\n",
       "      <td>Тюмень</td>\n",
       "      <td>ultra</td>\n",
       "    </tr>\n",
       "    <tr>\n",
       "      <th>3</th>\n",
       "      <td>1</td>\n",
       "      <td>2694.783254</td>\n",
       "      <td>18.511000</td>\n",
       "      <td>2021-08-11</td>\n",
       "      <td>8</td>\n",
       "      <td>Кира</td>\n",
       "      <td>22</td>\n",
       "      <td>Тюмень</td>\n",
       "      <td>ultra</td>\n",
       "    </tr>\n",
       "    <tr>\n",
       "      <th>4</th>\n",
       "      <td>1</td>\n",
       "      <td>4028.687306</td>\n",
       "      <td>26.265803</td>\n",
       "      <td>2021-08-28</td>\n",
       "      <td>8</td>\n",
       "      <td>Кира</td>\n",
       "      <td>22</td>\n",
       "      <td>Тюмень</td>\n",
       "      <td>ultra</td>\n",
       "    </tr>\n",
       "  </tbody>\n",
       "</table>\n",
       "</div>"
      ],
      "text/plain": [
       "   user_id     distance   duration       date  month  name  age    city  \\\n",
       "0        1  4409.919140  25.599769 2021-01-01      1  Кира   22  Тюмень   \n",
       "1        1  2617.592153  15.816871 2021-01-18      1  Кира   22  Тюмень   \n",
       "2        1   754.159807   6.232113 2021-04-20      4  Кира   22  Тюмень   \n",
       "3        1  2694.783254  18.511000 2021-08-11      8  Кира   22  Тюмень   \n",
       "4        1  4028.687306  26.265803 2021-08-28      8  Кира   22  Тюмень   \n",
       "\n",
       "  subscription_type  \n",
       "0             ultra  \n",
       "1             ultra  \n",
       "2             ultra  \n",
       "3             ultra  \n",
       "4             ultra  "
      ]
     },
     "execution_count": 18,
     "metadata": {},
     "output_type": "execute_result"
    }
   ],
   "source": [
    "data_sub_ultra = main_data.query('subscription_type == \"ultra\"')\n",
    "print('Уникальные значения столбца subscription_type:', data_sub_ultra['subscription_type'].unique())\n",
    "data_sub_ultra.head()"
   ]
  },
  {
   "cell_type": "markdown",
   "id": "905f520b",
   "metadata": {},
   "source": [
    "##### Визуализируйте информацию о расстоянии и времени поездок для пользователей обеих категорий"
   ]
  },
  {
   "cell_type": "markdown",
   "id": "fe5db063",
   "metadata": {},
   "source": [
    "**Расстояние поездок**"
   ]
  },
  {
   "cell_type": "code",
   "execution_count": 19,
   "id": "61acc3ed",
   "metadata": {},
   "outputs": [
    {
     "name": "stdout",
     "output_type": "stream",
     "text": [
      "Без подписки \n",
      " count    11568.000000\n",
      "mean      3045.495282\n",
      "std       1246.173806\n",
      "min          0.855683\n",
      "25%       2366.562689\n",
      "50%       3114.648465\n",
      "75%       3905.697894\n",
      "max       7211.007745\n",
      "Name: distance, dtype: float64\n",
      "С подпиской \n",
      " count    6500.000000\n",
      "mean     3115.445388\n",
      "std       836.895330\n",
      "min       244.210438\n",
      "25%      2785.444017\n",
      "50%      3148.637229\n",
      "75%      3560.574425\n",
      "max      5699.769662\n",
      "Name: distance, dtype: float64\n"
     ]
    },
    {
     "data": {
      "image/png": "[encoded data removed]",
      "text/plain": [
       "<Figure size 800x400 with 1 Axes>"
      ]
     },
     "metadata": {
      "needs_background": "light"
     },
     "output_type": "display_data"
    }
   ],
   "source": [
    "print('Без подписки', '\\n', data_sub_free['distance'].describe())\n",
    "print('С подпиской', '\\n', data_sub_ultra['distance'].describe())\n",
    "\n",
    "plt.figure(figsize=(10,5), dpi= 80)\n",
    "sns.histplot(\n",
    "    data=main_data,x=\"distance\", hue=\"subscription_type\", \n",
    "    kde=True, element=\"step\", palette=\"Accent\")\n",
    "plt.title('Сравнение расстояния поездок с подпиской и без')\n",
    "plt.show()"
   ]
  },
  {
   "cell_type": "markdown",
   "id": "29345bf3",
   "metadata": {},
   "source": [
    "В обоих случаях (с подпиской и без) распределение похоже на нормальное, если не учитывать \"горб\" в начале. У пользователей без подписки этот горб выше и ближе к 0. В категории без подписки общая дистанция больше. Средняя дистанция поездки отличается совсем немного ultra - 3115м, free - 3045м."
   ]
  },
  {
   "cell_type": "markdown",
   "id": "d56abbf8",
   "metadata": {},
   "source": [
    "**Длительность поездок**"
   ]
  },
  {
   "cell_type": "code",
   "execution_count": 20,
   "id": "2e154272",
   "metadata": {},
   "outputs": [
    {
     "name": "stdout",
     "output_type": "stream",
     "text": [
      "Без подписки \n",
      " count    11568.000000\n",
      "mean        17.390909\n",
      "std          6.326803\n",
      "min          0.500000\n",
      "25%         12.958437\n",
      "50%         17.326890\n",
      "75%         21.594071\n",
      "max         34.948498\n",
      "Name: duration, dtype: float64\n",
      "С подпиской \n",
      " count    6500.000000\n",
      "mean       18.541985\n",
      "std         5.572048\n",
      "min         3.760353\n",
      "25%        14.524654\n",
      "50%        18.178153\n",
      "75%        21.884129\n",
      "max        40.823963\n",
      "Name: duration, dtype: float64\n"
     ]
    },
    {
     "data": {
      "image/png": "[encoded data removed]",
      "text/plain": [
       "<Figure size 800x400 with 1 Axes>"
      ]
     },
     "metadata": {
      "needs_background": "light"
     },
     "output_type": "display_data"
    }
   ],
   "source": [
    "print('Без подписки', '\\n',data_sub_free['duration'].describe())\n",
    "print('С подпиской', '\\n',data_sub_ultra['duration'].describe())\n",
    "\n",
    "plt.figure(figsize=(10,5), dpi= 80)\n",
    "sns.histplot(data=main_data, x=\"duration\",\n",
    "             hue=\"subscription_type\", kde=True,\n",
    "             element=\"step\", palette=\"Accent\")\n",
    "plt.title('Сравнение длительности поездок с подпиской и без')\n",
    "plt.show()"
   ]
  },
  {
   "cell_type": "markdown",
   "id": "ee16e7eb",
   "metadata": {
    "scrolled": true
   },
   "source": [
    "В обоих случаях распределение похоже на нормальное. Пик около нулевых значений есть только у пользователей free. В категории без подписки общая продолжительность поездок больше. Средняя продолжительность поездки отличается на целую минуту: free - 17 минут, ultra - 18 минут. Эта разница выглядит существеннее, чем разница в расстоянии."
   ]
  },
  {
   "cell_type": "markdown",
   "id": "402d620f",
   "metadata": {},
   "source": [
    "#### Шаг 5. Подсчёт выручки"
   ]
  },
  {
   "cell_type": "markdown",
   "id": "20e5ef35",
   "metadata": {},
   "source": [
    "##### Создайте датафрейм с агрегированными данными о поездках на основе датафрейма с объединёнными данными из шага 4: найдите суммарное расстояние, количество поездок и суммарное время для каждого пользователя за каждый месяц."
   ]
  },
  {
   "cell_type": "code",
   "execution_count": 21,
   "id": "475f3b5f",
   "metadata": {},
   "outputs": [
    {
     "data": {
      "text/html": [
       "<div>\n",
       "<style scoped>\n",
       "    .dataframe tbody tr th:only-of-type {\n",
       "        vertical-align: middle;\n",
       "    }\n",
       "\n",
       "    .dataframe tbody tr th {\n",
       "        vertical-align: top;\n",
       "    }\n",
       "\n",
       "    .dataframe thead th {\n",
       "        text-align: right;\n",
       "    }\n",
       "</style>\n",
       "<table border=\"1\" class=\"dataframe\">\n",
       "  <thead>\n",
       "    <tr style=\"text-align: right;\">\n",
       "      <th></th>\n",
       "      <th>user_id</th>\n",
       "      <th>month</th>\n",
       "      <th>subscription_type</th>\n",
       "      <th>trips_count</th>\n",
       "      <th>distance_sum</th>\n",
       "      <th>duration_sum</th>\n",
       "    </tr>\n",
       "  </thead>\n",
       "  <tbody>\n",
       "    <tr>\n",
       "      <th>0</th>\n",
       "      <td>1</td>\n",
       "      <td>1</td>\n",
       "      <td>ultra</td>\n",
       "      <td>2</td>\n",
       "      <td>7027.511294</td>\n",
       "      <td>42.0</td>\n",
       "    </tr>\n",
       "    <tr>\n",
       "      <th>1</th>\n",
       "      <td>1</td>\n",
       "      <td>4</td>\n",
       "      <td>ultra</td>\n",
       "      <td>1</td>\n",
       "      <td>754.159807</td>\n",
       "      <td>7.0</td>\n",
       "    </tr>\n",
       "    <tr>\n",
       "      <th>2</th>\n",
       "      <td>1</td>\n",
       "      <td>8</td>\n",
       "      <td>ultra</td>\n",
       "      <td>2</td>\n",
       "      <td>6723.470560</td>\n",
       "      <td>46.0</td>\n",
       "    </tr>\n",
       "    <tr>\n",
       "      <th>3</th>\n",
       "      <td>1</td>\n",
       "      <td>10</td>\n",
       "      <td>ultra</td>\n",
       "      <td>2</td>\n",
       "      <td>5809.911100</td>\n",
       "      <td>32.0</td>\n",
       "    </tr>\n",
       "    <tr>\n",
       "      <th>4</th>\n",
       "      <td>1</td>\n",
       "      <td>11</td>\n",
       "      <td>ultra</td>\n",
       "      <td>3</td>\n",
       "      <td>7003.499363</td>\n",
       "      <td>56.0</td>\n",
       "    </tr>\n",
       "  </tbody>\n",
       "</table>\n",
       "</div>"
      ],
      "text/plain": [
       "   user_id  month subscription_type  trips_count  distance_sum  duration_sum\n",
       "0        1      1             ultra            2   7027.511294          42.0\n",
       "1        1      4             ultra            1    754.159807           7.0\n",
       "2        1      8             ultra            2   6723.470560          46.0\n",
       "3        1     10             ultra            2   5809.911100          32.0\n",
       "4        1     11             ultra            3   7003.499363          56.0"
      ]
     },
     "execution_count": 21,
     "metadata": {},
     "output_type": "execute_result"
    }
   ],
   "source": [
    "main_data['duration'] = np.ceil(main_data['duration'])\n",
    "\n",
    "agg_data = main_data.pivot_table(\n",
    "    index=['user_id', 'month', 'subscription_type'], values=['distance', 'duration'], \n",
    "    aggfunc=('sum', 'count')).reset_index()\n",
    "\n",
    "agg_data.columns = [\n",
    "    'user_id', 'month', 'subscription_type', 'trips_count',\n",
    "    'distance_sum', 'duration_count', 'duration_sum']\n",
    "\n",
    "agg_data.pop('duration_count')\n",
    "agg_data.head()"
   ]
  },
  {
   "cell_type": "markdown",
   "id": "1344a58f",
   "metadata": {},
   "source": [
    "Создал новую таблицу на основе данных из main_data. subscription_type в индекс добавил для расчетов в следующем пункте, длительность поездок перед агрегацией округлил до следующего целого. Убрал мультииндексы и лишний столбец."
   ]
  },
  {
   "cell_type": "markdown",
   "id": "330df5a0",
   "metadata": {},
   "source": [
    "##### В этот же датафрейм добавьте столбец с помесячной выручкой, которую принёс каждый пользователь. Для этого обратитесь к информации об условиях оплаты для подписчиков и тех, у кого нет подписки. Продолжительность каждой поездки в каждой строке исходного датафрейма для подсчёта стоимости округляется до следующего целого числа: например, значения 25.3, 25.5 и 26.0 должны быть преобразованы к 26."
   ]
  },
  {
   "cell_type": "code",
   "execution_count": 22,
   "id": "a923853f",
   "metadata": {},
   "outputs": [
    {
     "data": {
      "text/html": [
       "<div>\n",
       "<style scoped>\n",
       "    .dataframe tbody tr th:only-of-type {\n",
       "        vertical-align: middle;\n",
       "    }\n",
       "\n",
       "    .dataframe tbody tr th {\n",
       "        vertical-align: top;\n",
       "    }\n",
       "\n",
       "    .dataframe thead th {\n",
       "        text-align: right;\n",
       "    }\n",
       "</style>\n",
       "<table border=\"1\" class=\"dataframe\">\n",
       "  <thead>\n",
       "    <tr style=\"text-align: right;\">\n",
       "      <th></th>\n",
       "      <th>user_id</th>\n",
       "      <th>month</th>\n",
       "      <th>subscription_type</th>\n",
       "      <th>trips_count</th>\n",
       "      <th>distance_sum</th>\n",
       "      <th>duration_sum</th>\n",
       "      <th>revenue</th>\n",
       "    </tr>\n",
       "  </thead>\n",
       "  <tbody>\n",
       "    <tr>\n",
       "      <th>0</th>\n",
       "      <td>1</td>\n",
       "      <td>1</td>\n",
       "      <td>ultra</td>\n",
       "      <td>2</td>\n",
       "      <td>7027.511294</td>\n",
       "      <td>42.0</td>\n",
       "      <td>451</td>\n",
       "    </tr>\n",
       "    <tr>\n",
       "      <th>1</th>\n",
       "      <td>1</td>\n",
       "      <td>4</td>\n",
       "      <td>ultra</td>\n",
       "      <td>1</td>\n",
       "      <td>754.159807</td>\n",
       "      <td>7.0</td>\n",
       "      <td>241</td>\n",
       "    </tr>\n",
       "    <tr>\n",
       "      <th>2</th>\n",
       "      <td>1</td>\n",
       "      <td>8</td>\n",
       "      <td>ultra</td>\n",
       "      <td>2</td>\n",
       "      <td>6723.470560</td>\n",
       "      <td>46.0</td>\n",
       "      <td>475</td>\n",
       "    </tr>\n",
       "    <tr>\n",
       "      <th>3</th>\n",
       "      <td>1</td>\n",
       "      <td>10</td>\n",
       "      <td>ultra</td>\n",
       "      <td>2</td>\n",
       "      <td>5809.911100</td>\n",
       "      <td>32.0</td>\n",
       "      <td>391</td>\n",
       "    </tr>\n",
       "    <tr>\n",
       "      <th>4</th>\n",
       "      <td>1</td>\n",
       "      <td>11</td>\n",
       "      <td>ultra</td>\n",
       "      <td>3</td>\n",
       "      <td>7003.499363</td>\n",
       "      <td>56.0</td>\n",
       "      <td>535</td>\n",
       "    </tr>\n",
       "    <tr>\n",
       "      <th>...</th>\n",
       "      <td>...</td>\n",
       "      <td>...</td>\n",
       "      <td>...</td>\n",
       "      <td>...</td>\n",
       "      <td>...</td>\n",
       "      <td>...</td>\n",
       "      <td>...</td>\n",
       "    </tr>\n",
       "    <tr>\n",
       "      <th>11326</th>\n",
       "      <td>1534</td>\n",
       "      <td>6</td>\n",
       "      <td>free</td>\n",
       "      <td>2</td>\n",
       "      <td>3409.468534</td>\n",
       "      <td>26.0</td>\n",
       "      <td>308</td>\n",
       "    </tr>\n",
       "    <tr>\n",
       "      <th>11327</th>\n",
       "      <td>1534</td>\n",
       "      <td>8</td>\n",
       "      <td>free</td>\n",
       "      <td>2</td>\n",
       "      <td>7622.453034</td>\n",
       "      <td>48.0</td>\n",
       "      <td>484</td>\n",
       "    </tr>\n",
       "    <tr>\n",
       "      <th>11328</th>\n",
       "      <td>1534</td>\n",
       "      <td>9</td>\n",
       "      <td>free</td>\n",
       "      <td>1</td>\n",
       "      <td>4928.173852</td>\n",
       "      <td>23.0</td>\n",
       "      <td>234</td>\n",
       "    </tr>\n",
       "    <tr>\n",
       "      <th>11329</th>\n",
       "      <td>1534</td>\n",
       "      <td>11</td>\n",
       "      <td>free</td>\n",
       "      <td>4</td>\n",
       "      <td>13350.015305</td>\n",
       "      <td>78.0</td>\n",
       "      <td>824</td>\n",
       "    </tr>\n",
       "    <tr>\n",
       "      <th>11330</th>\n",
       "      <td>1534</td>\n",
       "      <td>12</td>\n",
       "      <td>free</td>\n",
       "      <td>1</td>\n",
       "      <td>2371.711192</td>\n",
       "      <td>16.0</td>\n",
       "      <td>178</td>\n",
       "    </tr>\n",
       "  </tbody>\n",
       "</table>\n",
       "<p>11331 rows × 7 columns</p>\n",
       "</div>"
      ],
      "text/plain": [
       "       user_id  month subscription_type  trips_count  distance_sum  \\\n",
       "0            1      1             ultra            2   7027.511294   \n",
       "1            1      4             ultra            1    754.159807   \n",
       "2            1      8             ultra            2   6723.470560   \n",
       "3            1     10             ultra            2   5809.911100   \n",
       "4            1     11             ultra            3   7003.499363   \n",
       "...        ...    ...               ...          ...           ...   \n",
       "11326     1534      6              free            2   3409.468534   \n",
       "11327     1534      8              free            2   7622.453034   \n",
       "11328     1534      9              free            1   4928.173852   \n",
       "11329     1534     11              free            4  13350.015305   \n",
       "11330     1534     12              free            1   2371.711192   \n",
       "\n",
       "       duration_sum  revenue  \n",
       "0              42.0      451  \n",
       "1               7.0      241  \n",
       "2              46.0      475  \n",
       "3              32.0      391  \n",
       "4              56.0      535  \n",
       "...             ...      ...  \n",
       "11326          26.0      308  \n",
       "11327          48.0      484  \n",
       "11328          23.0      234  \n",
       "11329          78.0      824  \n",
       "11330          16.0      178  \n",
       "\n",
       "[11331 rows x 7 columns]"
      ]
     },
     "execution_count": 22,
     "metadata": {},
     "output_type": "execute_result"
    }
   ],
   "source": [
    "agg_data = agg_data.merge(sub_data)\n",
    "\n",
    "agg_data['revenue'] = (\n",
    "    (agg_data['trips_count'] * agg_data['start_ride_price'])\n",
    "    + agg_data['subscription_fee'] + \n",
    "    (agg_data['duration_sum'] * agg_data['minute_price'])\n",
    ").astype(int)\n",
    "\n",
    "\n",
    "agg_data.drop(agg_data.columns[[-2, -3, -4]], axis=1, inplace=True)\n",
    "agg_data"
   ]
  },
  {
   "cell_type": "markdown",
   "id": "ae03ffdc",
   "metadata": {},
   "source": [
    "Добавил в таблицу столбцы из sub_data чтобы произвести все расчеты в одной таблице (другого способа не придумал). Посчитал выручку, изменил тип данных на int, так как выручка у нас получается целое число, но с типом float.\n",
    "Удалил столбцы, которые добавлял для расчетов."
   ]
  },
  {
   "cell_type": "code",
   "execution_count": 23,
   "id": "f45ca676",
   "metadata": {},
   "outputs": [
    {
     "data": {
      "text/plain": [
       "subscription_type\n",
       "free     328.641365\n",
       "ultra    362.792191\n",
       "Name: revenue, dtype: float64"
      ]
     },
     "execution_count": 23,
     "metadata": {},
     "output_type": "execute_result"
    }
   ],
   "source": [
    "agg_data.groupby('subscription_type')['revenue'].mean()"
   ]
  },
  {
   "cell_type": "markdown",
   "id": "41545ac0",
   "metadata": {},
   "source": [
    "#### Шаг 6. Проверка гипотез"
   ]
  },
  {
   "cell_type": "markdown",
   "id": "8998ba37",
   "metadata": {},
   "source": [
    "Продакт-менеджеры сервиса хотят увеличить количество пользователей с подпиской. Для этого они будут проводить различные акции, но сначала нужно выяснить несколько важных моментов."
   ]
  },
  {
   "cell_type": "markdown",
   "id": "35d4fb3e",
   "metadata": {},
   "source": [
    "##### Важно понять, тратят ли пользователи с подпиской больше времени на поездки? Если да, то пользователи с подпиской могут быть «выгоднее» для компании. Проверьте гипотезу. Используйте исходные данные о продолжительности каждой сессии — отдельно для подписчиков и тех, у кого нет подписки."
   ]
  },
  {
   "cell_type": "markdown",
   "id": "56b18813",
   "metadata": {},
   "source": [
    "**Нулевая гипотеза:** средние значения продолжительности поездок из двух групп равны.\n",
    "\n",
    "**Альтернативная гипотеза:** среднее значение продолжительности поездок пользователей ultra больше, чем среднее значение пользователей без подписки"
   ]
  },
  {
   "cell_type": "code",
   "execution_count": 24,
   "id": "2c072f6f",
   "metadata": {},
   "outputs": [
    {
     "name": "stdout",
     "output_type": "stream",
     "text": [
      "p-value: 5.6757813771289775e-37\n",
      "Отвергаем нулевую гипотезу\n"
     ]
    }
   ],
   "source": [
    "alpha = 0.05\n",
    "\n",
    "results = st.ttest_ind(\n",
    "    data_sub_ultra['duration'],\n",
    "    data_sub_free['duration'],\n",
    "    alternative='greater',\n",
    "    equal_var=False)\n",
    "\n",
    "print(f'p-value: {results.pvalue}')\n",
    "\n",
    "if results.pvalue < alpha:\n",
    "    print('Отвергаем нулевую гипотезу')\n",
    "else:\n",
    "    print('Не получилось отвергнуть нулевую гипотезу')"
   ]
  },
  {
   "cell_type": "markdown",
   "id": "b8585749",
   "metadata": {},
   "source": [
    "Полученное значение p-value крайне мало, меньше заданного уровня значимости (даже если бы мы установили уровень значимость в 1%), поэтому можно отвергнуть нулевую гипотезу. Есть основания говорить, что пользователи с подпиской тратят больше времени на поездки."
   ]
  },
  {
   "cell_type": "markdown",
   "id": "9db40a94",
   "metadata": {},
   "source": [
    "##### Расстояние одной поездки в 3130 метров — оптимальное с точки зрения износа самоката. Можно ли сказать, что расстояние, которое проезжают пользователи с подпиской за одну поездку, не превышает 3130 метров? Проверьте гипотезу и сделайте выводы."
   ]
  },
  {
   "cell_type": "markdown",
   "id": "843e791b",
   "metadata": {},
   "source": [
    "**Нулевая гипотеза:** средняя дистанция поездки равна 3130 метров.\n",
    "\n",
    "**Альтернативная гипотеза:** средняя дистанция поездки превышает 3130 метров."
   ]
  },
  {
   "cell_type": "code",
   "execution_count": 25,
   "id": "db3c76a3",
   "metadata": {},
   "outputs": [
    {
     "name": "stdout",
     "output_type": "stream",
     "text": [
      "p-value: 0.9195368847849785\n",
      "Не отвергаем нулевую гипотезу\n"
     ]
    }
   ],
   "source": [
    "distance_value = 3130\n",
    "\n",
    "results = st.ttest_1samp(\n",
    "    data_sub_ultra['distance'],\n",
    "    distance_value,\n",
    "    alternative='greater')\n",
    "\n",
    "print(f'p-value: {results.pvalue}')\n",
    "\n",
    "if results.pvalue < alpha:\n",
    "    print('Отвергаем нулевую гипотезу')\n",
    "else:\n",
    "    print('Не отвергаем нулевую гипотезу')"
   ]
  },
  {
   "cell_type": "markdown",
   "id": "39f679f4",
   "metadata": {},
   "source": [
    "Не можем отвергнуть нулевую гипотезу, так как вероятность получить дистанцию поездки 3130 метров 92%. Из этого можно сделать вывод что в среднем пройденная пользователями дистанция оптимальна с точки зрения износа самоката."
   ]
  },
  {
   "cell_type": "markdown",
   "id": "df2179af",
   "metadata": {},
   "source": [
    "##### Проверьте гипотезу о том, будет ли помесячная выручка от пользователей с подпиской по месяцам выше, чем выручка от пользователей без подписки. Сделайте вывод."
   ]
  },
  {
   "cell_type": "markdown",
   "id": "3fb0b4ce",
   "metadata": {},
   "source": [
    "**Нулевая гипотеза:** средние значения помесячной выручки из двух групп равны.\n",
    "\n",
    "**Альтернативная гипотеза:** среднее значение помесячной выручки от пользователей ultra больше, чем среднее значение помесячной выручки от пользователей без подписки"
   ]
  },
  {
   "cell_type": "code",
   "execution_count": 26,
   "id": "9c0def7e",
   "metadata": {},
   "outputs": [
    {
     "name": "stdout",
     "output_type": "stream",
     "text": [
      "p-value: 8.874140893976874e-40\n",
      "Отвергаем нулевую гипотезу\n"
     ]
    }
   ],
   "source": [
    "revenue_ultra = agg_data.loc[agg_data['subscription_type'] == 'ultra', 'revenue']\n",
    "revenue_free = agg_data.loc[agg_data['subscription_type'] == 'free', 'revenue']\n",
    "\n",
    "results = st.ttest_ind(\n",
    "    revenue_ultra,\n",
    "    revenue_free,\n",
    "    alternative='greater',\n",
    "    equal_var=False)\n",
    "\n",
    "print(f'p-value: {results.pvalue}')\n",
    "\n",
    "if results.pvalue < alpha:\n",
    "    print('Отвергаем нулевую гипотезу')\n",
    "else:\n",
    "    print('Не получилось отвергнуть нулевую гипотезу')"
   ]
  },
  {
   "cell_type": "markdown",
   "id": "b91ee9c2",
   "metadata": {},
   "source": [
    "Полученное значение p-value крайне мало, меньше заданного уровня значимости, поэтому можно отвергнуть нулевую гипотезу. Есть основания говорить, что пользователи с подпиской приносят больше выручки в месяц."
   ]
  },
  {
   "cell_type": "markdown",
   "id": "8986a748",
   "metadata": {},
   "source": [
    "##### Представьте такую ситуацию: техническая команда сервиса обновила сервера, с которыми взаимодействует мобильное приложение. Она надеется, что из-за этого количество обращений в техподдержку значимо снизилось. Некоторый файл содержит для каждого пользователя данные о количестве обращений до обновления и после него. Какой тест вам понадобился бы для проверки этой гипотезы?"
   ]
  },
  {
   "cell_type": "markdown",
   "id": "b517cf68",
   "metadata": {},
   "source": [
    "Здесь нужно проверить гипотезу о равенстве зависимых значений. Мы сравниваем одни и те же данные до и после изменений. Для этого нужно воспользоваться методом ttest_rel."
   ]
  },
  {
   "cell_type": "markdown",
   "id": "a4e9c4d8",
   "metadata": {},
   "source": [
    "#### Вывод"
   ]
  },
  {
   "cell_type": "markdown",
   "id": "d4db5beb",
   "metadata": {},
   "source": [
    "На этапе предобработки удостоверились что пропусков в таблицах нет, в таблице user_data был 31 дубликат (2% от всей таблицы), эти дубликаты удалили. Изменили тип данных столбца date в таблице rides_data на datetime, добавили новый столбце с номером месяца.\n",
    "\n",
    "На этапе исследовательского анализа выяснили что данные в столбцах распределены нормально, серьезных отклонений нет. В столбцах с дистанцией и продолжительностью поездки есть выбросы в обе стороны. Очень низкие значения предположительно связаны либо с технической проблемой с самокатом, либо у пользователя могли поменяться планы. Сделали следующие выводы:\n",
    "\n",
    "- Больше всего пользователей в Пятигорске - 219, меньше всего в Москве - 168.\n",
    "- Пользователей без подписки больше на 16%, 835 без подписки, 699 с подпиской.\n",
    "- Основная часть пользователей в возрасте 22-28 лет, средний возраст 25 лет.\n",
    "- Средняя поездка длится 17.8 минут, среднее расстояние поездки 3 км. Основная часть поездок находится в диапазонах 13.5 - 21.7 минут и 2.5 - 3.7 км.\n",
    "\n",
    "Дальше объединили данные таблиц rides_data и user_data, после создали еще 2 таблице на основе объединеных: таблица с данными пользователей с подпиской ultra и таблица с данными пользователей без подписки. Сравнили дистанцию и длительность поездок пользователей с подпиской и без. Сделали следующие выводы:\n",
    "\n",
    "- В обоих случаях (с подпиской и без) распределение похоже на нормальное, если не учитывать \"горб\" в начале. У пользователей без подписки этот горб выше и ближе к 0. В категории без подписки общая дистанция больше. Средняя дистанция поездки отличается совсем немного ultra - 3115м, free - 3045м.\n",
    "- В обоих случаях распределение похоже на нормальное. Пик около нулевых значений есть только у пользователей free. В категории без подписки общая продолжительность поездок больше. Средняя продолжительность поездки отличается на целую минуту: free - 17 минут, ultra - 18 минут. Эта разница выглядит существеннее, чем разница в расстоянии.\n",
    "\n",
    "Далее создали новую таблицу на основе данных из main_data. В ней расчитали количество поездок, сумму продолжительности и дистанции для каждого пользователя по месяцам. На основе данных из новой таблицы и таблицы sub_data расчитали ежемесячную выручку для каждого пользователя. Эти данные понадобятся для проверки гипотез.\n",
    "\n",
    "Проверили несколько гипотез:\n",
    "\n",
    "- **\"Тратят ли пользователи с подпиской больше времени на поездки?\"** - Полученное значение p-value крайне мало, меньше заданного уровня значимости (даже если бы мы установили уровень значимость в 1%), поэтому можно отвергнуть нулевую гипотезу. Есть основания говорить, что пользователи с подпиской тратят больше времени на поездки.\n",
    "\n",
    "- **\"Можно ли сказать, что расстояние, которое проезжают пользователи с подпиской за одну поездку, не превышает 3130 метров?\"** - Не можем отвергнуть нулевую гипотезу о том что средняя дистанция поездки равна 3130 метров, так как вероятность получить дистанцию поездки 3130 метров 92%. Из этого можно сделать вывод что в среднем пройденная пользователями дистанция оптимальна с точки зрения износа самоката.\n",
    "\n",
    "- **\"Будет ли помесячная выручка от пользователей с подпиской по месяцам выше, чем выручка от пользователей без подписки?\"** - Полученное значение p-value крайне мало, меньше заданного уровня значимости, поэтому можно отвергнуть нулевую гипотезу. Есть основания говорить, что пользователи с подпиской приносят больше выручки в месяц.\n",
    "\n",
    "На основе результатов исследования можно сделать вывод что пользователи с подпиской приносят больше выручки компании."
   ]
  }
 ],
 "metadata": {
  "ExecuteTimeLog": [
   {
    "duration": 1460,
    "start_time": "2023-05-17T09:26:06.913Z"
   },
   {
    "duration": 117,
    "start_time": "2023-05-17T09:28:47.329Z"
   },
   {
    "duration": 121,
    "start_time": "2023-05-17T09:28:49.232Z"
   },
   {
    "duration": 86,
    "start_time": "2023-05-17T09:28:50.653Z"
   },
   {
    "duration": 13,
    "start_time": "2023-05-17T09:29:50.148Z"
   },
   {
    "duration": 129,
    "start_time": "2023-05-17T09:29:58.115Z"
   },
   {
    "duration": 26,
    "start_time": "2023-05-17T09:29:59.780Z"
   },
   {
    "duration": 29,
    "start_time": "2023-05-17T09:30:18.346Z"
   },
   {
    "duration": 9,
    "start_time": "2023-05-17T09:30:20.045Z"
   },
   {
    "duration": 5,
    "start_time": "2023-05-17T09:30:32.632Z"
   },
   {
    "duration": 13,
    "start_time": "2023-05-17T09:30:37.723Z"
   },
   {
    "duration": 12,
    "start_time": "2023-05-17T09:30:41.827Z"
   },
   {
    "duration": 14,
    "start_time": "2023-05-17T09:30:59.824Z"
   },
   {
    "duration": 161,
    "start_time": "2023-05-17T09:32:09.823Z"
   },
   {
    "duration": 14,
    "start_time": "2023-05-17T09:32:36.037Z"
   },
   {
    "duration": 257,
    "start_time": "2023-05-17T09:32:47.353Z"
   },
   {
    "duration": 12,
    "start_time": "2023-05-17T09:32:52.828Z"
   },
   {
    "duration": 13,
    "start_time": "2023-05-17T09:32:59.428Z"
   },
   {
    "duration": 13,
    "start_time": "2023-05-17T09:33:02.726Z"
   },
   {
    "duration": 11,
    "start_time": "2023-05-17T09:33:18.356Z"
   },
   {
    "duration": 63,
    "start_time": "2023-05-17T09:33:38.158Z"
   },
   {
    "duration": 13,
    "start_time": "2023-05-17T09:33:42.330Z"
   },
   {
    "duration": 192,
    "start_time": "2023-05-17T09:34:32.238Z"
   },
   {
    "duration": 9,
    "start_time": "2023-05-17T09:35:00.058Z"
   },
   {
    "duration": 31,
    "start_time": "2023-05-17T09:35:12.016Z"
   },
   {
    "duration": 11,
    "start_time": "2023-05-17T09:35:17.362Z"
   },
   {
    "duration": 133,
    "start_time": "2023-05-17T09:36:01.181Z"
   },
   {
    "duration": 7,
    "start_time": "2023-05-17T09:39:48.834Z"
   },
   {
    "duration": 9,
    "start_time": "2023-05-17T09:40:01.221Z"
   },
   {
    "duration": 12,
    "start_time": "2023-05-17T09:40:10.112Z"
   },
   {
    "duration": 14,
    "start_time": "2023-05-17T09:40:20.541Z"
   },
   {
    "duration": 5,
    "start_time": "2023-05-17T09:41:49.016Z"
   },
   {
    "duration": 9,
    "start_time": "2023-05-17T09:42:10.143Z"
   },
   {
    "duration": 11,
    "start_time": "2023-05-17T09:43:40.353Z"
   },
   {
    "duration": 9,
    "start_time": "2023-05-17T09:44:24.113Z"
   },
   {
    "duration": 108,
    "start_time": "2023-05-17T09:44:42.643Z"
   },
   {
    "duration": 27,
    "start_time": "2023-05-17T09:44:48.383Z"
   },
   {
    "duration": 8,
    "start_time": "2023-05-17T09:49:36.512Z"
   },
   {
    "duration": 8,
    "start_time": "2023-05-17T09:49:50.351Z"
   },
   {
    "duration": 8,
    "start_time": "2023-05-17T09:56:38.419Z"
   },
   {
    "duration": 186,
    "start_time": "2023-05-17T09:56:58.278Z"
   },
   {
    "duration": 124,
    "start_time": "2023-05-17T09:57:03.719Z"
   },
   {
    "duration": 13,
    "start_time": "2023-05-17T09:57:25.419Z"
   },
   {
    "duration": 125,
    "start_time": "2023-05-17T09:57:43.236Z"
   },
   {
    "duration": 168,
    "start_time": "2023-05-17T09:57:53.495Z"
   },
   {
    "duration": 226,
    "start_time": "2023-05-17T09:58:09.624Z"
   },
   {
    "duration": 138,
    "start_time": "2023-05-17T09:59:13.113Z"
   },
   {
    "duration": 299,
    "start_time": "2023-05-17T09:59:24.177Z"
   },
   {
    "duration": 302,
    "start_time": "2023-05-17T10:00:54.418Z"
   },
   {
    "duration": 259,
    "start_time": "2023-05-17T10:00:59.321Z"
   },
   {
    "duration": 373,
    "start_time": "2023-05-17T10:01:06.700Z"
   },
   {
    "duration": 250,
    "start_time": "2023-05-17T10:01:57.232Z"
   },
   {
    "duration": 214,
    "start_time": "2023-05-17T10:02:08.623Z"
   },
   {
    "duration": 363,
    "start_time": "2023-05-17T10:02:24.244Z"
   },
   {
    "duration": 211,
    "start_time": "2023-05-17T10:04:43.203Z"
   },
   {
    "duration": 185,
    "start_time": "2023-05-17T10:05:05.618Z"
   },
   {
    "duration": 33,
    "start_time": "2023-05-17T10:05:32.182Z"
   },
   {
    "duration": 20,
    "start_time": "2023-05-17T10:05:54.211Z"
   },
   {
    "duration": 187,
    "start_time": "2023-05-17T10:05:58.495Z"
   },
   {
    "duration": 155,
    "start_time": "2023-05-17T10:06:05.204Z"
   },
   {
    "duration": 165,
    "start_time": "2023-05-17T10:06:19.944Z"
   },
   {
    "duration": 167,
    "start_time": "2023-05-17T10:06:27.445Z"
   },
   {
    "duration": 172,
    "start_time": "2023-05-17T10:11:06.946Z"
   },
   {
    "duration": 128,
    "start_time": "2023-05-17T10:11:13.127Z"
   },
   {
    "duration": 144,
    "start_time": "2023-05-17T10:11:17.597Z"
   },
   {
    "duration": 169,
    "start_time": "2023-05-17T10:12:24.737Z"
   },
   {
    "duration": 255,
    "start_time": "2023-05-17T10:12:43.123Z"
   },
   {
    "duration": 177,
    "start_time": "2023-05-17T10:12:47.031Z"
   },
   {
    "duration": 324,
    "start_time": "2023-05-17T10:16:34.108Z"
   },
   {
    "duration": 226,
    "start_time": "2023-05-17T10:16:56.202Z"
   },
   {
    "duration": 138,
    "start_time": "2023-05-17T10:20:47.924Z"
   },
   {
    "duration": 117,
    "start_time": "2023-05-17T10:21:11.326Z"
   },
   {
    "duration": 136,
    "start_time": "2023-05-17T10:21:15.936Z"
   },
   {
    "duration": 135,
    "start_time": "2023-05-17T10:21:21.720Z"
   },
   {
    "duration": 113,
    "start_time": "2023-05-17T10:21:35.316Z"
   },
   {
    "duration": 130,
    "start_time": "2023-05-17T10:21:48.641Z"
   },
   {
    "duration": 132,
    "start_time": "2023-05-17T10:21:52.052Z"
   },
   {
    "duration": 149,
    "start_time": "2023-05-17T10:25:04.129Z"
   },
   {
    "duration": 315,
    "start_time": "2023-05-17T10:25:16.551Z"
   },
   {
    "duration": 548,
    "start_time": "2023-05-17T10:26:09.243Z"
   },
   {
    "duration": 12,
    "start_time": "2023-05-17T10:32:20.756Z"
   },
   {
    "duration": 283,
    "start_time": "2023-05-17T10:33:48.556Z"
   },
   {
    "duration": 246,
    "start_time": "2023-05-17T10:34:03.342Z"
   },
   {
    "duration": 244,
    "start_time": "2023-05-17T10:34:38.069Z"
   },
   {
    "duration": 297,
    "start_time": "2023-05-17T10:35:25.809Z"
   },
   {
    "duration": 219,
    "start_time": "2023-05-17T10:35:47.354Z"
   },
   {
    "duration": 326,
    "start_time": "2023-05-17T10:36:34.469Z"
   },
   {
    "duration": 133,
    "start_time": "2023-05-17T10:42:30.074Z"
   },
   {
    "duration": 121,
    "start_time": "2023-05-17T10:42:38.937Z"
   },
   {
    "duration": 123,
    "start_time": "2023-05-17T10:43:01.500Z"
   },
   {
    "duration": 100,
    "start_time": "2023-05-17T10:43:05.415Z"
   },
   {
    "duration": 355,
    "start_time": "2023-05-17T10:44:50.510Z"
   },
   {
    "duration": 110,
    "start_time": "2023-05-17T10:45:32.218Z"
   },
   {
    "duration": 234,
    "start_time": "2023-05-17T10:45:49.228Z"
   },
   {
    "duration": 475,
    "start_time": "2023-05-17T10:46:33.658Z"
   },
   {
    "duration": 602,
    "start_time": "2023-05-17T10:47:54.020Z"
   },
   {
    "duration": 9,
    "start_time": "2023-05-17T11:05:03.740Z"
   },
   {
    "duration": 38,
    "start_time": "2023-05-17T11:05:19.572Z"
   },
   {
    "duration": 45,
    "start_time": "2023-05-17T11:06:10.576Z"
   },
   {
    "duration": 39,
    "start_time": "2023-05-17T11:07:17.474Z"
   },
   {
    "duration": 47,
    "start_time": "2023-05-17T11:07:22.676Z"
   },
   {
    "duration": 26,
    "start_time": "2023-05-17T11:11:45.736Z"
   },
   {
    "duration": 22,
    "start_time": "2023-05-17T11:12:37.247Z"
   },
   {
    "duration": 14,
    "start_time": "2023-05-17T11:13:05.049Z"
   },
   {
    "duration": 24,
    "start_time": "2023-05-17T11:13:20.736Z"
   },
   {
    "duration": 22,
    "start_time": "2023-05-17T11:13:51.839Z"
   },
   {
    "duration": 33,
    "start_time": "2023-05-17T11:14:29.669Z"
   },
   {
    "duration": 1462,
    "start_time": "2023-05-18T10:46:17.509Z"
   },
   {
    "duration": 92,
    "start_time": "2023-05-18T10:46:18.973Z"
   },
   {
    "duration": 188,
    "start_time": "2023-05-18T10:46:19.067Z"
   },
   {
    "duration": 60,
    "start_time": "2023-05-18T10:46:19.257Z"
   },
   {
    "duration": 17,
    "start_time": "2023-05-18T10:46:19.319Z"
   },
   {
    "duration": 15,
    "start_time": "2023-05-18T10:46:19.338Z"
   },
   {
    "duration": 13,
    "start_time": "2023-05-18T10:46:19.355Z"
   },
   {
    "duration": 8,
    "start_time": "2023-05-18T10:46:19.370Z"
   },
   {
    "duration": 22,
    "start_time": "2023-05-18T10:46:19.379Z"
   },
   {
    "duration": 12,
    "start_time": "2023-05-18T10:46:19.403Z"
   },
   {
    "duration": 11,
    "start_time": "2023-05-18T10:46:19.417Z"
   },
   {
    "duration": 10,
    "start_time": "2023-05-18T10:46:19.430Z"
   },
   {
    "duration": 237,
    "start_time": "2023-05-18T10:46:19.441Z"
   },
   {
    "duration": 129,
    "start_time": "2023-05-18T10:46:19.691Z"
   },
   {
    "duration": 313,
    "start_time": "2023-05-18T10:46:19.823Z"
   },
   {
    "duration": 514,
    "start_time": "2023-05-18T10:46:20.137Z"
   },
   {
    "duration": 527,
    "start_time": "2023-05-18T10:46:20.653Z"
   },
   {
    "duration": 57,
    "start_time": "2023-05-18T10:46:21.181Z"
   },
   {
    "duration": 27,
    "start_time": "2023-05-18T10:46:21.240Z"
   },
   {
    "duration": 23,
    "start_time": "2023-05-18T10:46:21.288Z"
   },
   {
    "duration": 430,
    "start_time": "2023-05-18T10:48:31.823Z"
   },
   {
    "duration": 457,
    "start_time": "2023-05-18T10:49:57.588Z"
   },
   {
    "duration": 481,
    "start_time": "2023-05-18T10:51:30.787Z"
   },
   {
    "duration": 561,
    "start_time": "2023-05-18T10:52:12.689Z"
   },
   {
    "duration": 556,
    "start_time": "2023-05-18T10:55:06.369Z"
   },
   {
    "duration": 647,
    "start_time": "2023-05-18T10:55:39.867Z"
   },
   {
    "duration": 49,
    "start_time": "2023-05-18T10:56:06.035Z"
   },
   {
    "duration": 47,
    "start_time": "2023-05-18T10:56:13.571Z"
   },
   {
    "duration": 862,
    "start_time": "2023-05-18T10:56:24.862Z"
   },
   {
    "duration": 560,
    "start_time": "2023-05-18T10:56:45.276Z"
   },
   {
    "duration": 577,
    "start_time": "2023-05-18T10:57:23.490Z"
   },
   {
    "duration": 708,
    "start_time": "2023-05-18T10:57:53.659Z"
   },
   {
    "duration": 724,
    "start_time": "2023-05-18T10:58:01.531Z"
   },
   {
    "duration": 670,
    "start_time": "2023-05-18T10:58:38.455Z"
   },
   {
    "duration": 355,
    "start_time": "2023-05-18T10:59:14.858Z"
   },
   {
    "duration": 907,
    "start_time": "2023-05-18T10:59:44.997Z"
   },
   {
    "duration": 1079,
    "start_time": "2023-05-18T11:01:14.285Z"
   },
   {
    "duration": 1101,
    "start_time": "2023-05-18T11:01:52.798Z"
   },
   {
    "duration": 1079,
    "start_time": "2023-05-18T11:02:15.818Z"
   },
   {
    "duration": 1359,
    "start_time": "2023-05-18T11:29:19.679Z"
   },
   {
    "duration": 1504,
    "start_time": "2023-05-18T11:30:23.748Z"
   },
   {
    "duration": 1624,
    "start_time": "2023-05-18T11:30:31.212Z"
   },
   {
    "duration": 1339,
    "start_time": "2023-05-18T11:31:01.315Z"
   },
   {
    "duration": 513,
    "start_time": "2023-05-18T11:37:55.866Z"
   },
   {
    "duration": 468,
    "start_time": "2023-05-18T11:38:11.183Z"
   },
   {
    "duration": 474,
    "start_time": "2023-05-18T11:38:39.854Z"
   },
   {
    "duration": 526,
    "start_time": "2023-05-18T11:38:56.000Z"
   },
   {
    "duration": 563,
    "start_time": "2023-05-18T11:39:59.655Z"
   },
   {
    "duration": 468,
    "start_time": "2023-05-18T11:42:00.482Z"
   },
   {
    "duration": 366,
    "start_time": "2023-05-18T11:42:48.271Z"
   },
   {
    "duration": 433,
    "start_time": "2023-05-18T11:43:01.486Z"
   },
   {
    "duration": 20,
    "start_time": "2023-05-18T11:43:10.948Z"
   },
   {
    "duration": 291,
    "start_time": "2023-05-18T11:43:19.852Z"
   },
   {
    "duration": 19,
    "start_time": "2023-05-18T11:43:46.608Z"
   },
   {
    "duration": 484,
    "start_time": "2023-05-18T11:46:54.152Z"
   },
   {
    "duration": 581,
    "start_time": "2023-05-18T11:47:26.373Z"
   },
   {
    "duration": 551,
    "start_time": "2023-05-18T11:47:33.711Z"
   },
   {
    "duration": 236,
    "start_time": "2023-05-18T11:47:51.077Z"
   },
   {
    "duration": 596,
    "start_time": "2023-05-18T11:48:01.785Z"
   },
   {
    "duration": 653,
    "start_time": "2023-05-18T11:48:13.060Z"
   },
   {
    "duration": 930,
    "start_time": "2023-05-18T11:53:41.285Z"
   },
   {
    "duration": 895,
    "start_time": "2023-05-18T11:54:42.190Z"
   },
   {
    "duration": 906,
    "start_time": "2023-05-18T11:54:48.698Z"
   },
   {
    "duration": 1089,
    "start_time": "2023-05-18T11:55:31.182Z"
   },
   {
    "duration": 890,
    "start_time": "2023-05-18T11:55:47.676Z"
   },
   {
    "duration": 647,
    "start_time": "2023-05-18T11:56:03.157Z"
   },
   {
    "duration": 573,
    "start_time": "2023-05-18T11:56:21.749Z"
   },
   {
    "duration": 630,
    "start_time": "2023-05-18T11:56:34.379Z"
   },
   {
    "duration": 654,
    "start_time": "2023-05-18T11:59:03.049Z"
   },
   {
    "duration": 665,
    "start_time": "2023-05-18T11:59:08.157Z"
   },
   {
    "duration": 707,
    "start_time": "2023-05-18T12:01:03.953Z"
   },
   {
    "duration": 848,
    "start_time": "2023-05-18T12:01:50.706Z"
   },
   {
    "duration": 636,
    "start_time": "2023-05-18T12:01:58.669Z"
   },
   {
    "duration": 562,
    "start_time": "2023-05-18T12:02:07.745Z"
   },
   {
    "duration": 610,
    "start_time": "2023-05-18T12:02:12.410Z"
   },
   {
    "duration": 677,
    "start_time": "2023-05-18T12:02:16.449Z"
   },
   {
    "duration": 49,
    "start_time": "2023-05-18T12:03:52.523Z"
   },
   {
    "duration": 656,
    "start_time": "2023-05-18T12:04:25.569Z"
   },
   {
    "duration": 641,
    "start_time": "2023-05-18T12:04:35.104Z"
   },
   {
    "duration": 611,
    "start_time": "2023-05-18T12:04:45.412Z"
   },
   {
    "duration": 600,
    "start_time": "2023-05-18T12:04:50.962Z"
   },
   {
    "duration": 629,
    "start_time": "2023-05-18T12:04:59.096Z"
   },
   {
    "duration": 611,
    "start_time": "2023-05-18T12:05:06.611Z"
   },
   {
    "duration": 591,
    "start_time": "2023-05-18T12:05:15.459Z"
   },
   {
    "duration": 31,
    "start_time": "2023-05-18T12:05:21.649Z"
   },
   {
    "duration": 731,
    "start_time": "2023-05-18T12:05:33.480Z"
   },
   {
    "duration": 595,
    "start_time": "2023-05-18T12:05:40.324Z"
   },
   {
    "duration": 720,
    "start_time": "2023-05-18T12:05:45.609Z"
   },
   {
    "duration": 947,
    "start_time": "2023-05-18T12:06:07.069Z"
   },
   {
    "duration": 611,
    "start_time": "2023-05-18T12:06:12.016Z"
   },
   {
    "duration": 605,
    "start_time": "2023-05-18T12:06:26.702Z"
   },
   {
    "duration": 605,
    "start_time": "2023-05-18T12:07:24.114Z"
   },
   {
    "duration": 1509,
    "start_time": "2023-05-18T12:09:03.860Z"
   },
   {
    "duration": 1359,
    "start_time": "2023-05-18T12:09:30.681Z"
   },
   {
    "duration": 1543,
    "start_time": "2023-05-18T12:10:26.060Z"
   },
   {
    "duration": 1167,
    "start_time": "2023-05-18T12:11:25.874Z"
   },
   {
    "duration": 1063,
    "start_time": "2023-05-18T12:11:34.083Z"
   },
   {
    "duration": 1124,
    "start_time": "2023-05-18T12:11:59.375Z"
   },
   {
    "duration": 62,
    "start_time": "2023-05-18T12:58:31.428Z"
   },
   {
    "duration": 56,
    "start_time": "2023-05-18T12:58:43.369Z"
   },
   {
    "duration": 57,
    "start_time": "2023-05-18T13:04:07.161Z"
   },
   {
    "duration": 53,
    "start_time": "2023-05-18T13:05:36.123Z"
   },
   {
    "duration": 42,
    "start_time": "2023-05-18T13:06:04.283Z"
   },
   {
    "duration": 83,
    "start_time": "2023-05-18T13:49:37.109Z"
   },
   {
    "duration": 1313,
    "start_time": "2023-05-18T13:49:49.242Z"
   },
   {
    "duration": 32,
    "start_time": "2023-05-18T13:49:50.559Z"
   },
   {
    "duration": 44,
    "start_time": "2023-05-18T13:49:50.598Z"
   },
   {
    "duration": 20,
    "start_time": "2023-05-18T13:49:50.648Z"
   },
   {
    "duration": 24,
    "start_time": "2023-05-18T13:49:50.671Z"
   },
   {
    "duration": 33,
    "start_time": "2023-05-18T13:49:50.697Z"
   },
   {
    "duration": 16,
    "start_time": "2023-05-18T13:49:50.732Z"
   },
   {
    "duration": 33,
    "start_time": "2023-05-18T13:49:50.750Z"
   },
   {
    "duration": 29,
    "start_time": "2023-05-18T13:49:50.785Z"
   },
   {
    "duration": 13,
    "start_time": "2023-05-18T13:49:50.816Z"
   },
   {
    "duration": 11,
    "start_time": "2023-05-18T13:49:50.832Z"
   },
   {
    "duration": 10,
    "start_time": "2023-05-18T13:49:50.845Z"
   },
   {
    "duration": 283,
    "start_time": "2023-05-18T13:49:50.857Z"
   },
   {
    "duration": 163,
    "start_time": "2023-05-18T13:49:51.144Z"
   },
   {
    "duration": 368,
    "start_time": "2023-05-18T13:49:51.310Z"
   },
   {
    "duration": 477,
    "start_time": "2023-05-18T13:49:51.680Z"
   },
   {
    "duration": 596,
    "start_time": "2023-05-18T13:49:52.159Z"
   },
   {
    "duration": 60,
    "start_time": "2023-05-18T13:49:52.757Z"
   },
   {
    "duration": 30,
    "start_time": "2023-05-18T13:49:52.820Z"
   },
   {
    "duration": 59,
    "start_time": "2023-05-18T13:49:52.852Z"
   },
   {
    "duration": 950,
    "start_time": "2023-05-18T13:49:52.913Z"
   },
   {
    "duration": 947,
    "start_time": "2023-05-18T13:49:53.866Z"
   },
   {
    "duration": 59,
    "start_time": "2023-05-18T13:49:54.815Z"
   },
   {
    "duration": 39,
    "start_time": "2023-05-18T13:50:34.646Z"
   },
   {
    "duration": 1443,
    "start_time": "2023-05-18T13:54:37.738Z"
   },
   {
    "duration": 70,
    "start_time": "2023-05-18T13:54:47.454Z"
   },
   {
    "duration": 59,
    "start_time": "2023-05-18T13:55:22.563Z"
   },
   {
    "duration": 58,
    "start_time": "2023-05-18T13:55:54.150Z"
   },
   {
    "duration": 58,
    "start_time": "2023-05-18T13:57:16.496Z"
   },
   {
    "duration": 9,
    "start_time": "2023-05-18T14:04:58.291Z"
   },
   {
    "duration": 23,
    "start_time": "2023-05-18T14:06:21.704Z"
   },
   {
    "duration": 25,
    "start_time": "2023-05-18T14:06:42.464Z"
   },
   {
    "duration": 20,
    "start_time": "2023-05-18T14:07:10.722Z"
   },
   {
    "duration": 6,
    "start_time": "2023-05-18T14:07:35.201Z"
   },
   {
    "duration": 21,
    "start_time": "2023-05-18T14:07:45.295Z"
   },
   {
    "duration": 23,
    "start_time": "2023-05-18T14:08:00.081Z"
   },
   {
    "duration": 26,
    "start_time": "2023-05-18T14:08:06.769Z"
   },
   {
    "duration": 17,
    "start_time": "2023-05-18T14:10:13.191Z"
   },
   {
    "duration": 21,
    "start_time": "2023-05-18T15:00:55.126Z"
   },
   {
    "duration": 18,
    "start_time": "2023-05-18T15:01:14.457Z"
   },
   {
    "duration": 27,
    "start_time": "2023-05-18T15:01:44.698Z"
   },
   {
    "duration": 29,
    "start_time": "2023-05-18T15:02:04.380Z"
   },
   {
    "duration": 11,
    "start_time": "2023-05-18T15:02:28.857Z"
   },
   {
    "duration": 24,
    "start_time": "2023-05-18T15:02:40.004Z"
   },
   {
    "duration": 53,
    "start_time": "2023-05-18T15:03:38.913Z"
   },
   {
    "duration": 20,
    "start_time": "2023-05-18T15:03:58.673Z"
   },
   {
    "duration": 11,
    "start_time": "2023-05-18T15:04:06.477Z"
   },
   {
    "duration": 13,
    "start_time": "2023-05-18T15:04:37.581Z"
   },
   {
    "duration": 26,
    "start_time": "2023-05-18T15:04:47.444Z"
   },
   {
    "duration": 13,
    "start_time": "2023-05-18T15:05:00.755Z"
   },
   {
    "duration": 21,
    "start_time": "2023-05-18T15:05:26.413Z"
   },
   {
    "duration": 63,
    "start_time": "2023-05-18T15:05:51.686Z"
   },
   {
    "duration": 18,
    "start_time": "2023-05-18T15:05:55.185Z"
   },
   {
    "duration": 26,
    "start_time": "2023-05-18T15:06:24.707Z"
   },
   {
    "duration": 33,
    "start_time": "2023-05-18T15:07:40.973Z"
   },
   {
    "duration": 16,
    "start_time": "2023-05-18T15:12:01.048Z"
   },
   {
    "duration": 14,
    "start_time": "2023-05-18T15:13:29.709Z"
   },
   {
    "duration": 4,
    "start_time": "2023-05-18T15:14:06.882Z"
   },
   {
    "duration": 12,
    "start_time": "2023-05-18T15:14:11.478Z"
   },
   {
    "duration": 17,
    "start_time": "2023-05-18T15:14:15.855Z"
   },
   {
    "duration": 12,
    "start_time": "2023-05-18T15:15:08.856Z"
   },
   {
    "duration": 10,
    "start_time": "2023-05-18T15:15:17.806Z"
   },
   {
    "duration": 10,
    "start_time": "2023-05-18T15:18:41.920Z"
   },
   {
    "duration": 11,
    "start_time": "2023-05-18T15:18:45.045Z"
   },
   {
    "duration": 680,
    "start_time": "2023-05-18T15:19:01.408Z"
   },
   {
    "duration": 15,
    "start_time": "2023-05-18T15:19:27.279Z"
   },
   {
    "duration": 908,
    "start_time": "2023-05-18T15:20:59.396Z"
   },
   {
    "duration": 38,
    "start_time": "2023-05-18T15:21:16.079Z"
   },
   {
    "duration": 27,
    "start_time": "2023-05-18T15:21:24.928Z"
   },
   {
    "duration": 27,
    "start_time": "2023-05-18T15:26:54.815Z"
   },
   {
    "duration": 27,
    "start_time": "2023-05-18T15:29:58.359Z"
   },
   {
    "duration": 24,
    "start_time": "2023-05-18T15:30:10.153Z"
   },
   {
    "duration": 59,
    "start_time": "2023-05-18T15:30:16.986Z"
   },
   {
    "duration": 21,
    "start_time": "2023-05-18T15:32:44.956Z"
   },
   {
    "duration": 42,
    "start_time": "2023-05-18T15:33:10.525Z"
   },
   {
    "duration": 36,
    "start_time": "2023-05-18T15:33:25.857Z"
   },
   {
    "duration": 38,
    "start_time": "2023-05-18T15:33:31.741Z"
   },
   {
    "duration": 58,
    "start_time": "2023-05-18T15:33:47.281Z"
   },
   {
    "duration": 1272,
    "start_time": "2023-05-18T15:34:45.052Z"
   },
   {
    "duration": 32,
    "start_time": "2023-05-18T15:34:46.327Z"
   },
   {
    "duration": 61,
    "start_time": "2023-05-18T15:34:46.363Z"
   },
   {
    "duration": 30,
    "start_time": "2023-05-18T15:34:46.426Z"
   },
   {
    "duration": 22,
    "start_time": "2023-05-18T15:34:46.461Z"
   },
   {
    "duration": 35,
    "start_time": "2023-05-18T15:34:46.485Z"
   },
   {
    "duration": 16,
    "start_time": "2023-05-18T15:34:46.522Z"
   },
   {
    "duration": 17,
    "start_time": "2023-05-18T15:34:46.540Z"
   },
   {
    "duration": 42,
    "start_time": "2023-05-18T15:34:46.559Z"
   },
   {
    "duration": 16,
    "start_time": "2023-05-18T15:34:46.606Z"
   },
   {
    "duration": 13,
    "start_time": "2023-05-18T15:34:46.624Z"
   },
   {
    "duration": 12,
    "start_time": "2023-05-18T15:34:46.639Z"
   },
   {
    "duration": 271,
    "start_time": "2023-05-18T15:34:46.653Z"
   },
   {
    "duration": 149,
    "start_time": "2023-05-18T15:34:46.927Z"
   },
   {
    "duration": 355,
    "start_time": "2023-05-18T15:34:47.079Z"
   },
   {
    "duration": 533,
    "start_time": "2023-05-18T15:34:47.437Z"
   },
   {
    "duration": 590,
    "start_time": "2023-05-18T15:34:47.972Z"
   },
   {
    "duration": 56,
    "start_time": "2023-05-18T15:34:48.564Z"
   },
   {
    "duration": 30,
    "start_time": "2023-05-18T15:34:48.622Z"
   },
   {
    "duration": 47,
    "start_time": "2023-05-18T15:34:48.655Z"
   },
   {
    "duration": 1012,
    "start_time": "2023-05-18T15:34:48.704Z"
   },
   {
    "duration": 1156,
    "start_time": "2023-05-18T15:34:49.719Z"
   },
   {
    "duration": 83,
    "start_time": "2023-05-18T15:34:50.877Z"
   },
   {
    "duration": 40,
    "start_time": "2023-05-18T15:34:50.963Z"
   },
   {
    "duration": 34,
    "start_time": "2023-05-18T15:34:51.009Z"
   },
   {
    "duration": 139,
    "start_time": "2023-05-18T15:35:27.010Z"
   },
   {
    "duration": 30,
    "start_time": "2023-05-18T15:35:35.186Z"
   },
   {
    "duration": 30,
    "start_time": "2023-05-18T15:35:43.760Z"
   },
   {
    "duration": 1426,
    "start_time": "2023-05-18T15:36:06.866Z"
   },
   {
    "duration": 39,
    "start_time": "2023-05-18T15:36:08.295Z"
   },
   {
    "duration": 39,
    "start_time": "2023-05-18T15:36:08.337Z"
   },
   {
    "duration": 25,
    "start_time": "2023-05-18T15:36:08.378Z"
   },
   {
    "duration": 21,
    "start_time": "2023-05-18T15:36:08.405Z"
   },
   {
    "duration": 17,
    "start_time": "2023-05-18T15:36:08.428Z"
   },
   {
    "duration": 21,
    "start_time": "2023-05-18T15:36:08.448Z"
   },
   {
    "duration": 15,
    "start_time": "2023-05-18T15:36:08.487Z"
   },
   {
    "duration": 26,
    "start_time": "2023-05-18T15:36:08.506Z"
   },
   {
    "duration": 18,
    "start_time": "2023-05-18T15:36:08.534Z"
   },
   {
    "duration": 51,
    "start_time": "2023-05-18T15:36:08.554Z"
   },
   {
    "duration": 11,
    "start_time": "2023-05-18T15:36:08.611Z"
   },
   {
    "duration": 218,
    "start_time": "2023-05-18T15:36:08.624Z"
   },
   {
    "duration": 155,
    "start_time": "2023-05-18T15:36:08.846Z"
   },
   {
    "duration": 328,
    "start_time": "2023-05-18T15:36:09.007Z"
   },
   {
    "duration": 497,
    "start_time": "2023-05-18T15:36:09.337Z"
   },
   {
    "duration": 683,
    "start_time": "2023-05-18T15:36:09.835Z"
   },
   {
    "duration": 59,
    "start_time": "2023-05-18T15:36:10.520Z"
   },
   {
    "duration": 55,
    "start_time": "2023-05-18T15:36:10.582Z"
   },
   {
    "duration": 35,
    "start_time": "2023-05-18T15:36:10.640Z"
   },
   {
    "duration": 970,
    "start_time": "2023-05-18T15:36:10.689Z"
   },
   {
    "duration": 969,
    "start_time": "2023-05-18T15:36:11.661Z"
   },
   {
    "duration": 82,
    "start_time": "2023-05-18T15:36:12.633Z"
   },
   {
    "duration": 20,
    "start_time": "2023-05-18T15:36:12.717Z"
   },
   {
    "duration": 61,
    "start_time": "2023-05-18T15:36:12.740Z"
   },
   {
    "duration": 38,
    "start_time": "2023-05-18T15:36:44.585Z"
   },
   {
    "duration": 125,
    "start_time": "2023-05-18T15:38:46.431Z"
   },
   {
    "duration": 72,
    "start_time": "2023-05-18T15:39:13.057Z"
   },
   {
    "duration": 1423,
    "start_time": "2023-05-18T15:39:17.659Z"
   },
   {
    "duration": 41,
    "start_time": "2023-05-18T15:39:19.085Z"
   },
   {
    "duration": 36,
    "start_time": "2023-05-18T15:39:19.129Z"
   },
   {
    "duration": 17,
    "start_time": "2023-05-18T15:39:19.168Z"
   },
   {
    "duration": 29,
    "start_time": "2023-05-18T15:39:19.188Z"
   },
   {
    "duration": 29,
    "start_time": "2023-05-18T15:39:19.221Z"
   },
   {
    "duration": 24,
    "start_time": "2023-05-18T15:39:19.252Z"
   },
   {
    "duration": 32,
    "start_time": "2023-05-18T15:39:19.278Z"
   },
   {
    "duration": 35,
    "start_time": "2023-05-18T15:39:19.313Z"
   },
   {
    "duration": 13,
    "start_time": "2023-05-18T15:39:19.349Z"
   },
   {
    "duration": 26,
    "start_time": "2023-05-18T15:39:19.365Z"
   },
   {
    "duration": 12,
    "start_time": "2023-05-18T15:39:19.402Z"
   },
   {
    "duration": 218,
    "start_time": "2023-05-18T15:39:19.416Z"
   },
   {
    "duration": 151,
    "start_time": "2023-05-18T15:39:19.638Z"
   },
   {
    "duration": 351,
    "start_time": "2023-05-18T15:39:19.792Z"
   },
   {
    "duration": 593,
    "start_time": "2023-05-18T15:39:20.146Z"
   },
   {
    "duration": 624,
    "start_time": "2023-05-18T15:39:20.741Z"
   },
   {
    "duration": 66,
    "start_time": "2023-05-18T15:39:21.367Z"
   },
   {
    "duration": 28,
    "start_time": "2023-05-18T15:39:21.436Z"
   },
   {
    "duration": 51,
    "start_time": "2023-05-18T15:39:21.466Z"
   },
   {
    "duration": 942,
    "start_time": "2023-05-18T15:39:21.519Z"
   },
   {
    "duration": 1028,
    "start_time": "2023-05-18T15:39:22.463Z"
   },
   {
    "duration": 61,
    "start_time": "2023-05-18T15:39:23.496Z"
   },
   {
    "duration": 32,
    "start_time": "2023-05-18T15:39:23.559Z"
   },
   {
    "duration": 36,
    "start_time": "2023-05-18T15:39:23.593Z"
   },
   {
    "duration": 43,
    "start_time": "2023-05-18T15:41:36.791Z"
   },
   {
    "duration": 1625,
    "start_time": "2023-05-18T15:41:42.691Z"
   },
   {
    "duration": 31,
    "start_time": "2023-05-18T15:41:44.322Z"
   },
   {
    "duration": 32,
    "start_time": "2023-05-18T15:41:44.355Z"
   },
   {
    "duration": 27,
    "start_time": "2023-05-18T15:41:44.392Z"
   },
   {
    "duration": 24,
    "start_time": "2023-05-18T15:41:44.422Z"
   },
   {
    "duration": 26,
    "start_time": "2023-05-18T15:41:44.449Z"
   },
   {
    "duration": 39,
    "start_time": "2023-05-18T15:41:44.478Z"
   },
   {
    "duration": 9,
    "start_time": "2023-05-18T15:41:44.522Z"
   },
   {
    "duration": 36,
    "start_time": "2023-05-18T15:41:44.533Z"
   },
   {
    "duration": 28,
    "start_time": "2023-05-18T15:41:44.571Z"
   },
   {
    "duration": 21,
    "start_time": "2023-05-18T15:41:44.601Z"
   },
   {
    "duration": 12,
    "start_time": "2023-05-18T15:41:44.624Z"
   },
   {
    "duration": 343,
    "start_time": "2023-05-18T15:41:44.638Z"
   },
   {
    "duration": 222,
    "start_time": "2023-05-18T15:41:44.989Z"
   },
   {
    "duration": 492,
    "start_time": "2023-05-18T15:41:45.217Z"
   },
   {
    "duration": 691,
    "start_time": "2023-05-18T15:41:45.712Z"
   },
   {
    "duration": 742,
    "start_time": "2023-05-18T15:41:46.406Z"
   },
   {
    "duration": 57,
    "start_time": "2023-05-18T15:41:47.151Z"
   },
   {
    "duration": 33,
    "start_time": "2023-05-18T15:41:47.210Z"
   },
   {
    "duration": 55,
    "start_time": "2023-05-18T15:41:47.246Z"
   },
   {
    "duration": 1315,
    "start_time": "2023-05-18T15:41:47.303Z"
   },
   {
    "duration": 961,
    "start_time": "2023-05-18T15:41:48.622Z"
   },
   {
    "duration": 60,
    "start_time": "2023-05-18T15:41:49.585Z"
   },
   {
    "duration": 57,
    "start_time": "2023-05-18T15:41:49.647Z"
   },
   {
    "duration": 1450,
    "start_time": "2023-05-18T15:42:03.001Z"
   },
   {
    "duration": 36,
    "start_time": "2023-05-18T15:42:04.453Z"
   },
   {
    "duration": 57,
    "start_time": "2023-05-18T15:42:04.491Z"
   },
   {
    "duration": 19,
    "start_time": "2023-05-18T15:42:04.553Z"
   },
   {
    "duration": 22,
    "start_time": "2023-05-18T15:42:04.578Z"
   },
   {
    "duration": 27,
    "start_time": "2023-05-18T15:42:04.602Z"
   },
   {
    "duration": 23,
    "start_time": "2023-05-18T15:42:04.632Z"
   },
   {
    "duration": 39,
    "start_time": "2023-05-18T15:42:04.658Z"
   },
   {
    "duration": 79,
    "start_time": "2023-05-18T15:42:04.700Z"
   },
   {
    "duration": 20,
    "start_time": "2023-05-18T15:42:04.784Z"
   },
   {
    "duration": 20,
    "start_time": "2023-05-18T15:42:04.807Z"
   },
   {
    "duration": 11,
    "start_time": "2023-05-18T15:42:04.830Z"
   },
   {
    "duration": 236,
    "start_time": "2023-05-18T15:42:04.843Z"
   },
   {
    "duration": 162,
    "start_time": "2023-05-18T15:42:05.082Z"
   },
   {
    "duration": 418,
    "start_time": "2023-05-18T15:42:05.247Z"
   },
   {
    "duration": 561,
    "start_time": "2023-05-18T15:42:05.668Z"
   },
   {
    "duration": 756,
    "start_time": "2023-05-18T15:42:06.232Z"
   },
   {
    "duration": 48,
    "start_time": "2023-05-18T15:42:06.992Z"
   },
   {
    "duration": 63,
    "start_time": "2023-05-18T15:42:07.042Z"
   },
   {
    "duration": 52,
    "start_time": "2023-05-18T15:42:07.107Z"
   },
   {
    "duration": 1147,
    "start_time": "2023-05-18T15:42:07.164Z"
   },
   {
    "duration": 1093,
    "start_time": "2023-05-18T15:42:08.313Z"
   },
   {
    "duration": 70,
    "start_time": "2023-05-18T15:42:09.414Z"
   },
   {
    "duration": 166,
    "start_time": "2023-05-18T15:42:09.491Z"
   },
   {
    "duration": 58,
    "start_time": "2023-05-18T15:43:40.519Z"
   },
   {
    "duration": 55,
    "start_time": "2023-05-19T08:22:01.121Z"
   },
   {
    "duration": 1261,
    "start_time": "2023-05-19T08:22:05.317Z"
   },
   {
    "duration": 92,
    "start_time": "2023-05-19T08:22:06.581Z"
   },
   {
    "duration": 154,
    "start_time": "2023-05-19T08:22:06.675Z"
   },
   {
    "duration": 59,
    "start_time": "2023-05-19T08:22:06.831Z"
   },
   {
    "duration": 14,
    "start_time": "2023-05-19T08:22:06.892Z"
   },
   {
    "duration": 12,
    "start_time": "2023-05-19T08:22:06.908Z"
   },
   {
    "duration": 10,
    "start_time": "2023-05-19T08:22:06.922Z"
   },
   {
    "duration": 12,
    "start_time": "2023-05-19T08:22:06.934Z"
   },
   {
    "duration": 31,
    "start_time": "2023-05-19T08:22:06.947Z"
   },
   {
    "duration": 10,
    "start_time": "2023-05-19T08:22:06.980Z"
   },
   {
    "duration": 9,
    "start_time": "2023-05-19T08:22:06.991Z"
   },
   {
    "duration": 6,
    "start_time": "2023-05-19T08:22:07.002Z"
   },
   {
    "duration": 180,
    "start_time": "2023-05-19T08:22:07.009Z"
   },
   {
    "duration": 130,
    "start_time": "2023-05-19T08:22:07.190Z"
   },
   {
    "duration": 255,
    "start_time": "2023-05-19T08:22:07.321Z"
   },
   {
    "duration": 389,
    "start_time": "2023-05-19T08:22:07.578Z"
   },
   {
    "duration": 457,
    "start_time": "2023-05-19T08:22:07.969Z"
   },
   {
    "duration": 44,
    "start_time": "2023-05-19T08:22:08.428Z"
   },
   {
    "duration": 23,
    "start_time": "2023-05-19T08:22:08.474Z"
   },
   {
    "duration": 25,
    "start_time": "2023-05-19T08:22:08.498Z"
   },
   {
    "duration": 595,
    "start_time": "2023-05-19T08:22:08.549Z"
   },
   {
    "duration": 837,
    "start_time": "2023-05-19T08:22:09.145Z"
   },
   {
    "duration": 41,
    "start_time": "2023-05-19T08:22:09.985Z"
   },
   {
    "duration": 41,
    "start_time": "2023-05-19T08:22:10.028Z"
   },
   {
    "duration": 624,
    "start_time": "2023-05-19T08:22:30.545Z"
   },
   {
    "duration": 73,
    "start_time": "2023-05-19T08:31:02.795Z"
   },
   {
    "duration": 43,
    "start_time": "2023-05-19T08:34:51.605Z"
   },
   {
    "duration": 4,
    "start_time": "2023-05-19T09:53:13.027Z"
   },
   {
    "duration": 7,
    "start_time": "2023-05-19T09:56:16.676Z"
   },
   {
    "duration": 6,
    "start_time": "2023-05-19T09:56:39.841Z"
   },
   {
    "duration": 6,
    "start_time": "2023-05-19T09:58:27.572Z"
   },
   {
    "duration": 3,
    "start_time": "2023-05-19T09:59:20.649Z"
   },
   {
    "duration": 6,
    "start_time": "2023-05-19T09:59:23.504Z"
   },
   {
    "duration": 5,
    "start_time": "2023-05-19T10:00:59.780Z"
   },
   {
    "duration": 6,
    "start_time": "2023-05-19T10:04:14.240Z"
   },
   {
    "duration": 5,
    "start_time": "2023-05-19T10:08:35.332Z"
   },
   {
    "duration": 5,
    "start_time": "2023-05-19T10:10:30.271Z"
   },
   {
    "duration": 10,
    "start_time": "2023-05-19T10:22:47.136Z"
   },
   {
    "duration": 10,
    "start_time": "2023-05-19T10:25:33.304Z"
   },
   {
    "duration": 8,
    "start_time": "2023-05-19T10:26:03.402Z"
   },
   {
    "duration": 4,
    "start_time": "2023-05-19T10:27:37.713Z"
   },
   {
    "duration": 5,
    "start_time": "2023-05-19T10:31:37.174Z"
   },
   {
    "duration": 8,
    "start_time": "2023-05-19T10:32:00.292Z"
   },
   {
    "duration": 50,
    "start_time": "2023-05-19T10:51:25.117Z"
   },
   {
    "duration": 1222,
    "start_time": "2023-05-19T11:11:15.413Z"
   },
   {
    "duration": 27,
    "start_time": "2023-05-19T11:11:16.637Z"
   },
   {
    "duration": 28,
    "start_time": "2023-05-19T11:11:16.666Z"
   },
   {
    "duration": 15,
    "start_time": "2023-05-19T11:11:16.695Z"
   },
   {
    "duration": 16,
    "start_time": "2023-05-19T11:11:16.712Z"
   },
   {
    "duration": 15,
    "start_time": "2023-05-19T11:11:16.730Z"
   },
   {
    "duration": 17,
    "start_time": "2023-05-19T11:11:16.747Z"
   },
   {
    "duration": 10,
    "start_time": "2023-05-19T11:11:16.766Z"
   },
   {
    "duration": 30,
    "start_time": "2023-05-19T11:11:16.779Z"
   },
   {
    "duration": 12,
    "start_time": "2023-05-19T11:11:16.811Z"
   },
   {
    "duration": 10,
    "start_time": "2023-05-19T11:11:16.850Z"
   },
   {
    "duration": 7,
    "start_time": "2023-05-19T11:11:16.862Z"
   },
   {
    "duration": 196,
    "start_time": "2023-05-19T11:11:16.871Z"
   },
   {
    "duration": 128,
    "start_time": "2023-05-19T11:11:17.070Z"
   },
   {
    "duration": 290,
    "start_time": "2023-05-19T11:11:17.199Z"
   },
   {
    "duration": 414,
    "start_time": "2023-05-19T11:11:17.491Z"
   },
   {
    "duration": 509,
    "start_time": "2023-05-19T11:11:17.907Z"
   },
   {
    "duration": 44,
    "start_time": "2023-05-19T11:11:18.418Z"
   },
   {
    "duration": 28,
    "start_time": "2023-05-19T11:11:18.464Z"
   },
   {
    "duration": 30,
    "start_time": "2023-05-19T11:11:18.494Z"
   },
   {
    "duration": 587,
    "start_time": "2023-05-19T11:11:18.550Z"
   },
   {
    "duration": 618,
    "start_time": "2023-05-19T11:11:19.139Z"
   },
   {
    "duration": 53,
    "start_time": "2023-05-19T11:11:19.759Z"
   },
   {
    "duration": 38,
    "start_time": "2023-05-19T11:11:19.814Z"
   },
   {
    "duration": 5,
    "start_time": "2023-05-19T11:11:19.854Z"
   },
   {
    "duration": 8,
    "start_time": "2023-05-19T11:11:19.861Z"
   },
   {
    "duration": 11,
    "start_time": "2023-05-19T11:11:19.870Z"
   },
   {
    "duration": 1447,
    "start_time": "2023-05-19T17:47:42.350Z"
   },
   {
    "duration": 87,
    "start_time": "2023-05-19T17:47:43.800Z"
   },
   {
    "duration": 156,
    "start_time": "2023-05-19T17:47:43.889Z"
   },
   {
    "duration": 56,
    "start_time": "2023-05-19T17:47:44.046Z"
   },
   {
    "duration": 17,
    "start_time": "2023-05-19T17:47:44.105Z"
   },
   {
    "duration": 20,
    "start_time": "2023-05-19T17:47:44.124Z"
   },
   {
    "duration": 19,
    "start_time": "2023-05-19T17:47:44.146Z"
   },
   {
    "duration": 32,
    "start_time": "2023-05-19T17:47:44.167Z"
   },
   {
    "duration": 28,
    "start_time": "2023-05-19T17:47:44.201Z"
   },
   {
    "duration": 11,
    "start_time": "2023-05-19T17:47:44.231Z"
   },
   {
    "duration": 12,
    "start_time": "2023-05-19T17:47:44.244Z"
   },
   {
    "duration": 9,
    "start_time": "2023-05-19T17:47:44.257Z"
   },
   {
    "duration": 201,
    "start_time": "2023-05-19T17:47:44.268Z"
   },
   {
    "duration": 130,
    "start_time": "2023-05-19T17:47:44.471Z"
   },
   {
    "duration": 284,
    "start_time": "2023-05-19T17:47:44.603Z"
   },
   {
    "duration": 421,
    "start_time": "2023-05-19T17:47:44.889Z"
   },
   {
    "duration": 486,
    "start_time": "2023-05-19T17:47:45.312Z"
   },
   {
    "duration": 34,
    "start_time": "2023-05-19T17:47:45.800Z"
   },
   {
    "duration": 43,
    "start_time": "2023-05-19T17:47:45.836Z"
   },
   {
    "duration": 21,
    "start_time": "2023-05-19T17:47:45.881Z"
   },
   {
    "duration": 652,
    "start_time": "2023-05-19T17:47:45.904Z"
   },
   {
    "duration": 640,
    "start_time": "2023-05-19T17:47:46.558Z"
   },
   {
    "duration": 60,
    "start_time": "2023-05-19T17:47:47.201Z"
   },
   {
    "duration": 27,
    "start_time": "2023-05-19T17:47:47.263Z"
   },
   {
    "duration": 5,
    "start_time": "2023-05-19T17:47:47.292Z"
   },
   {
    "duration": 13,
    "start_time": "2023-05-19T17:47:47.299Z"
   },
   {
    "duration": 22,
    "start_time": "2023-05-19T17:47:47.313Z"
   },
   {
    "duration": 8,
    "start_time": "2023-05-19T18:01:08.132Z"
   },
   {
    "duration": 27,
    "start_time": "2023-05-19T18:02:13.982Z"
   },
   {
    "duration": 1503,
    "start_time": "2023-05-20T09:43:36.289Z"
   },
   {
    "duration": 315,
    "start_time": "2023-05-20T09:43:39.877Z"
   },
   {
    "duration": 17,
    "start_time": "2023-05-20T09:43:42.971Z"
   },
   {
    "duration": 31,
    "start_time": "2023-05-20T09:43:45.351Z"
   },
   {
    "duration": 28,
    "start_time": "2023-05-20T09:43:54.353Z"
   },
   {
    "duration": 19,
    "start_time": "2023-05-20T09:44:02.872Z"
   },
   {
    "duration": 16,
    "start_time": "2023-05-20T09:45:18.023Z"
   },
   {
    "duration": 200,
    "start_time": "2023-05-20T09:45:36.702Z"
   },
   {
    "duration": 138,
    "start_time": "2023-05-20T09:45:49.951Z"
   },
   {
    "duration": 308,
    "start_time": "2023-05-20T09:45:59.145Z"
   },
   {
    "duration": 8,
    "start_time": "2023-05-20T09:52:01.708Z"
   },
   {
    "duration": 129,
    "start_time": "2023-05-20T09:52:18.802Z"
   },
   {
    "duration": 9,
    "start_time": "2023-05-20T09:52:49.874Z"
   },
   {
    "duration": 48,
    "start_time": "2023-05-20T09:53:34.875Z"
   },
   {
    "duration": 71,
    "start_time": "2023-05-20T09:54:02.250Z"
   },
   {
    "duration": 9,
    "start_time": "2023-05-20T09:55:13.877Z"
   },
   {
    "duration": 15,
    "start_time": "2023-05-20T09:55:33.149Z"
   },
   {
    "duration": 23,
    "start_time": "2023-05-20T09:59:39.021Z"
   },
   {
    "duration": 1265,
    "start_time": "2023-05-20T09:59:47.318Z"
   },
   {
    "duration": 68,
    "start_time": "2023-05-20T09:59:48.585Z"
   },
   {
    "duration": 34,
    "start_time": "2023-05-20T09:59:48.655Z"
   },
   {
    "duration": 20,
    "start_time": "2023-05-20T09:59:48.692Z"
   },
   {
    "duration": 16,
    "start_time": "2023-05-20T09:59:48.714Z"
   },
   {
    "duration": 34,
    "start_time": "2023-05-20T09:59:48.732Z"
   },
   {
    "duration": 25,
    "start_time": "2023-05-20T09:59:48.775Z"
   },
   {
    "duration": 17,
    "start_time": "2023-05-20T09:59:48.803Z"
   },
   {
    "duration": 6,
    "start_time": "2023-05-20T09:59:48.822Z"
   },
   {
    "duration": 21,
    "start_time": "2023-05-20T09:59:48.858Z"
   },
   {
    "duration": 13,
    "start_time": "2023-05-20T09:59:48.881Z"
   },
   {
    "duration": 259,
    "start_time": "2023-05-20T09:59:48.896Z"
   },
   {
    "duration": 133,
    "start_time": "2023-05-20T09:59:49.160Z"
   },
   {
    "duration": 295,
    "start_time": "2023-05-20T09:59:49.295Z"
   },
   {
    "duration": 428,
    "start_time": "2023-05-20T09:59:49.592Z"
   },
   {
    "duration": 548,
    "start_time": "2023-05-20T09:59:50.022Z"
   },
   {
    "duration": 36,
    "start_time": "2023-05-20T09:59:50.572Z"
   },
   {
    "duration": 25,
    "start_time": "2023-05-20T09:59:50.609Z"
   },
   {
    "duration": 41,
    "start_time": "2023-05-20T09:59:50.636Z"
   },
   {
    "duration": 595,
    "start_time": "2023-05-20T09:59:50.679Z"
   },
   {
    "duration": 573,
    "start_time": "2023-05-20T09:59:51.276Z"
   },
   {
    "duration": 52,
    "start_time": "2023-05-20T09:59:51.851Z"
   },
   {
    "duration": 23,
    "start_time": "2023-05-20T09:59:51.905Z"
   },
   {
    "duration": 28,
    "start_time": "2023-05-20T09:59:51.930Z"
   },
   {
    "duration": 12,
    "start_time": "2023-05-20T09:59:51.963Z"
   },
   {
    "duration": 13,
    "start_time": "2023-05-20T09:59:51.977Z"
   },
   {
    "duration": 24,
    "start_time": "2023-05-20T09:59:51.991Z"
   },
   {
    "duration": 9,
    "start_time": "2023-05-20T10:00:13.337Z"
   },
   {
    "duration": 47,
    "start_time": "2023-05-20T10:00:30.075Z"
   },
   {
    "duration": 28,
    "start_time": "2023-05-20T10:00:34.246Z"
   },
   {
    "duration": 47,
    "start_time": "2023-05-20T10:01:01.408Z"
   },
   {
    "duration": 173,
    "start_time": "2023-05-20T10:02:14.320Z"
   },
   {
    "duration": 144,
    "start_time": "2023-05-20T10:02:40.055Z"
   },
   {
    "duration": 218,
    "start_time": "2023-05-20T10:02:59.124Z"
   },
   {
    "duration": 23,
    "start_time": "2023-05-20T10:04:57.850Z"
   },
   {
    "duration": 13,
    "start_time": "2023-05-20T10:05:07.802Z"
   },
   {
    "duration": 24,
    "start_time": "2023-05-20T10:05:24.283Z"
   },
   {
    "duration": 1078,
    "start_time": "2023-05-20T10:05:47.610Z"
   },
   {
    "duration": 187,
    "start_time": "2023-05-20T10:05:55.303Z"
   },
   {
    "duration": 284,
    "start_time": "2023-05-20T10:06:11.614Z"
   },
   {
    "duration": 201,
    "start_time": "2023-05-20T10:06:47.412Z"
   },
   {
    "duration": 19,
    "start_time": "2023-05-20T10:08:57.674Z"
   },
   {
    "duration": 17,
    "start_time": "2023-05-20T10:09:11.000Z"
   },
   {
    "duration": 198,
    "start_time": "2023-05-20T10:09:44.453Z"
   },
   {
    "duration": 193,
    "start_time": "2023-05-20T10:09:56.745Z"
   },
   {
    "duration": 14,
    "start_time": "2023-05-20T10:12:26.093Z"
   },
   {
    "duration": 184,
    "start_time": "2023-05-20T10:13:12.937Z"
   },
   {
    "duration": 288,
    "start_time": "2023-05-20T10:15:13.691Z"
   },
   {
    "duration": 204,
    "start_time": "2023-05-20T10:15:27.408Z"
   },
   {
    "duration": 215,
    "start_time": "2023-05-20T10:15:57.092Z"
   },
   {
    "duration": 288,
    "start_time": "2023-05-20T10:16:48.983Z"
   },
   {
    "duration": 261,
    "start_time": "2023-05-20T10:17:08.083Z"
   },
   {
    "duration": 255,
    "start_time": "2023-05-20T10:17:39.012Z"
   },
   {
    "duration": 318,
    "start_time": "2023-05-20T10:17:51.687Z"
   },
   {
    "duration": 176,
    "start_time": "2023-05-20T10:18:29.919Z"
   },
   {
    "duration": 170,
    "start_time": "2023-05-20T10:19:02.967Z"
   },
   {
    "duration": 925,
    "start_time": "2023-05-20T10:19:41.790Z"
   },
   {
    "duration": 1074,
    "start_time": "2023-05-20T10:20:03.348Z"
   },
   {
    "duration": 191,
    "start_time": "2023-05-20T10:20:15.835Z"
   },
   {
    "duration": 160,
    "start_time": "2023-05-20T10:20:43.931Z"
   },
   {
    "duration": 196,
    "start_time": "2023-05-20T10:21:06.886Z"
   },
   {
    "duration": 29689,
    "start_time": "2023-05-20T10:23:18.344Z"
   },
   {
    "duration": 266,
    "start_time": "2023-05-20T10:25:14.555Z"
   },
   {
    "duration": 183,
    "start_time": "2023-05-20T10:25:44.200Z"
   },
   {
    "duration": 196,
    "start_time": "2023-05-20T10:27:45.584Z"
   },
   {
    "duration": 191,
    "start_time": "2023-05-20T10:27:53.209Z"
   },
   {
    "duration": 185,
    "start_time": "2023-05-20T10:28:16.675Z"
   },
   {
    "duration": 714,
    "start_time": "2023-05-20T10:28:27.511Z"
   },
   {
    "duration": 188,
    "start_time": "2023-05-20T10:28:30.522Z"
   },
   {
    "duration": 166,
    "start_time": "2023-05-20T10:28:33.985Z"
   },
   {
    "duration": 189,
    "start_time": "2023-05-20T10:28:58.274Z"
   },
   {
    "duration": 179,
    "start_time": "2023-05-20T10:29:05.029Z"
   },
   {
    "duration": 270,
    "start_time": "2023-05-20T10:34:55.525Z"
   },
   {
    "duration": 160,
    "start_time": "2023-05-20T10:35:25.212Z"
   },
   {
    "duration": 109,
    "start_time": "2023-05-20T10:35:37.348Z"
   },
   {
    "duration": 101,
    "start_time": "2023-05-20T10:35:49.435Z"
   },
   {
    "duration": 100,
    "start_time": "2023-05-20T10:36:14.950Z"
   },
   {
    "duration": 118,
    "start_time": "2023-05-20T10:36:20.582Z"
   },
   {
    "duration": 98,
    "start_time": "2023-05-20T10:36:24.553Z"
   },
   {
    "duration": 98,
    "start_time": "2023-05-20T10:39:07.403Z"
   },
   {
    "duration": 96,
    "start_time": "2023-05-20T10:39:47.432Z"
   },
   {
    "duration": 246,
    "start_time": "2023-05-20T10:40:34.605Z"
   },
   {
    "duration": 95,
    "start_time": "2023-05-20T10:40:43.636Z"
   },
   {
    "duration": 129,
    "start_time": "2023-05-20T10:40:51.470Z"
   },
   {
    "duration": 96,
    "start_time": "2023-05-20T10:41:17.477Z"
   },
   {
    "duration": 137,
    "start_time": "2023-05-20T10:42:18.677Z"
   },
   {
    "duration": 100,
    "start_time": "2023-05-20T10:42:42.274Z"
   },
   {
    "duration": 139,
    "start_time": "2023-05-20T10:42:52.007Z"
   },
   {
    "duration": 111,
    "start_time": "2023-05-20T10:43:39.102Z"
   },
   {
    "duration": 107,
    "start_time": "2023-05-20T10:43:46.037Z"
   },
   {
    "duration": 91,
    "start_time": "2023-05-20T10:43:54.226Z"
   },
   {
    "duration": 92,
    "start_time": "2023-05-20T10:44:02.502Z"
   },
   {
    "duration": 91,
    "start_time": "2023-05-20T10:44:09.524Z"
   },
   {
    "duration": 101,
    "start_time": "2023-05-20T10:44:20.791Z"
   },
   {
    "duration": 91,
    "start_time": "2023-05-20T10:44:26.196Z"
   },
   {
    "duration": 84,
    "start_time": "2023-05-20T10:44:32.871Z"
   },
   {
    "duration": 254,
    "start_time": "2023-05-20T10:44:41.227Z"
   },
   {
    "duration": 101,
    "start_time": "2023-05-20T10:44:48.393Z"
   },
   {
    "duration": 91,
    "start_time": "2023-05-20T10:44:55.800Z"
   },
   {
    "duration": 89,
    "start_time": "2023-05-20T10:45:07.670Z"
   },
   {
    "duration": 98,
    "start_time": "2023-05-20T10:45:12.412Z"
   },
   {
    "duration": 90,
    "start_time": "2023-05-20T10:45:18.640Z"
   },
   {
    "duration": 89,
    "start_time": "2023-05-20T10:45:23.725Z"
   },
   {
    "duration": 93,
    "start_time": "2023-05-20T10:45:29.787Z"
   },
   {
    "duration": 106,
    "start_time": "2023-05-20T10:45:38.953Z"
   },
   {
    "duration": 119,
    "start_time": "2023-05-20T10:45:55.648Z"
   },
   {
    "duration": 103,
    "start_time": "2023-05-20T10:45:59.031Z"
   },
   {
    "duration": 92,
    "start_time": "2023-05-20T10:46:07.818Z"
   },
   {
    "duration": 88,
    "start_time": "2023-05-20T10:46:15.374Z"
   },
   {
    "duration": 90,
    "start_time": "2023-05-20T10:46:21.300Z"
   },
   {
    "duration": 97,
    "start_time": "2023-05-20T10:46:31.690Z"
   },
   {
    "duration": 96,
    "start_time": "2023-05-20T10:46:37.536Z"
   },
   {
    "duration": 96,
    "start_time": "2023-05-20T10:46:46.034Z"
   },
   {
    "duration": 212,
    "start_time": "2023-05-20T10:47:21.499Z"
   },
   {
    "duration": 96,
    "start_time": "2023-05-20T10:48:40.574Z"
   },
   {
    "duration": 100,
    "start_time": "2023-05-20T10:49:25.769Z"
   },
   {
    "duration": 103,
    "start_time": "2023-05-20T10:49:35.442Z"
   },
   {
    "duration": 99,
    "start_time": "2023-05-20T10:49:43.396Z"
   },
   {
    "duration": 54,
    "start_time": "2023-05-20T10:52:21.821Z"
   },
   {
    "duration": 32,
    "start_time": "2023-05-20T10:52:41.507Z"
   },
   {
    "duration": 38,
    "start_time": "2023-05-20T10:53:48.943Z"
   },
   {
    "duration": 19,
    "start_time": "2023-05-20T10:53:59.589Z"
   },
   {
    "duration": 53,
    "start_time": "2023-05-20T10:55:10.866Z"
   },
   {
    "duration": 45,
    "start_time": "2023-05-20T10:55:19.753Z"
   },
   {
    "duration": 58,
    "start_time": "2023-05-20T10:55:37.985Z"
   },
   {
    "duration": 871,
    "start_time": "2023-05-20T10:56:39.383Z"
   },
   {
    "duration": 42,
    "start_time": "2023-05-20T10:56:51.990Z"
   },
   {
    "duration": 1275,
    "start_time": "2023-05-20T10:57:05.625Z"
   },
   {
    "duration": 88,
    "start_time": "2023-05-20T10:57:06.902Z"
   },
   {
    "duration": 23,
    "start_time": "2023-05-20T10:57:06.992Z"
   },
   {
    "duration": 18,
    "start_time": "2023-05-20T10:57:07.017Z"
   },
   {
    "duration": 14,
    "start_time": "2023-05-20T10:57:07.038Z"
   },
   {
    "duration": 15,
    "start_time": "2023-05-20T10:57:07.053Z"
   },
   {
    "duration": 18,
    "start_time": "2023-05-20T10:57:07.070Z"
   },
   {
    "duration": 18,
    "start_time": "2023-05-20T10:57:07.089Z"
   },
   {
    "duration": 10,
    "start_time": "2023-05-20T10:57:07.109Z"
   },
   {
    "duration": 40,
    "start_time": "2023-05-20T10:57:07.121Z"
   },
   {
    "duration": 217,
    "start_time": "2023-05-20T10:57:07.176Z"
   },
   {
    "duration": 124,
    "start_time": "2023-05-20T10:57:07.395Z"
   },
   {
    "duration": 303,
    "start_time": "2023-05-20T10:57:07.521Z"
   },
   {
    "duration": 449,
    "start_time": "2023-05-20T10:57:07.827Z"
   },
   {
    "duration": 601,
    "start_time": "2023-05-20T10:57:08.278Z"
   },
   {
    "duration": 32,
    "start_time": "2023-05-20T10:57:08.882Z"
   },
   {
    "duration": 23,
    "start_time": "2023-05-20T10:57:08.917Z"
   },
   {
    "duration": 24,
    "start_time": "2023-05-20T10:57:08.959Z"
   },
   {
    "duration": 699,
    "start_time": "2023-05-20T10:57:08.985Z"
   },
   {
    "duration": 708,
    "start_time": "2023-05-20T10:57:09.687Z"
   },
   {
    "duration": 58,
    "start_time": "2023-05-20T10:57:14.345Z"
   },
   {
    "duration": 121,
    "start_time": "2023-05-20T10:58:02.774Z"
   },
   {
    "duration": 54,
    "start_time": "2023-05-20T10:58:14.752Z"
   },
   {
    "duration": 27,
    "start_time": "2023-05-20T10:58:34.078Z"
   },
   {
    "duration": 12,
    "start_time": "2023-05-20T10:58:49.358Z"
   },
   {
    "duration": 13,
    "start_time": "2023-05-20T11:06:57.127Z"
   },
   {
    "duration": 4,
    "start_time": "2023-05-20T11:07:03.984Z"
   },
   {
    "duration": 106,
    "start_time": "2023-05-20T11:07:03.990Z"
   },
   {
    "duration": 20,
    "start_time": "2023-05-20T11:07:04.098Z"
   },
   {
    "duration": 52,
    "start_time": "2023-05-20T11:07:04.120Z"
   },
   {
    "duration": 31,
    "start_time": "2023-05-20T11:07:04.174Z"
   },
   {
    "duration": 19,
    "start_time": "2023-05-20T11:07:04.207Z"
   },
   {
    "duration": 50,
    "start_time": "2023-05-20T11:07:04.228Z"
   },
   {
    "duration": 22,
    "start_time": "2023-05-20T11:07:04.280Z"
   },
   {
    "duration": 42,
    "start_time": "2023-05-20T11:07:04.304Z"
   },
   {
    "duration": 8,
    "start_time": "2023-05-20T11:07:04.349Z"
   },
   {
    "duration": 224,
    "start_time": "2023-05-20T11:07:04.358Z"
   },
   {
    "duration": 117,
    "start_time": "2023-05-20T11:07:04.585Z"
   },
   {
    "duration": 310,
    "start_time": "2023-05-20T11:07:04.704Z"
   },
   {
    "duration": 506,
    "start_time": "2023-05-20T11:07:05.016Z"
   },
   {
    "duration": 595,
    "start_time": "2023-05-20T11:07:05.524Z"
   },
   {
    "duration": 40,
    "start_time": "2023-05-20T11:07:06.121Z"
   },
   {
    "duration": 33,
    "start_time": "2023-05-20T11:07:06.163Z"
   },
   {
    "duration": 20,
    "start_time": "2023-05-20T11:07:06.198Z"
   },
   {
    "duration": 661,
    "start_time": "2023-05-20T11:07:06.220Z"
   },
   {
    "duration": 594,
    "start_time": "2023-05-20T11:07:06.888Z"
   },
   {
    "duration": 53,
    "start_time": "2023-05-20T11:07:07.484Z"
   },
   {
    "duration": 50,
    "start_time": "2023-05-20T11:07:07.539Z"
   },
   {
    "duration": 8,
    "start_time": "2023-05-20T11:07:07.591Z"
   },
   {
    "duration": 11,
    "start_time": "2023-05-20T11:07:07.601Z"
   },
   {
    "duration": 5,
    "start_time": "2023-05-20T11:07:10.744Z"
   },
   {
    "duration": 51,
    "start_time": "2023-05-20T11:10:17.212Z"
   },
   {
    "duration": 3,
    "start_time": "2023-05-20T12:43:45.006Z"
   },
   {
    "duration": 50,
    "start_time": "2023-05-20T13:00:16.059Z"
   },
   {
    "duration": 12,
    "start_time": "2023-05-20T13:00:22.400Z"
   },
   {
    "duration": 13,
    "start_time": "2023-05-20T13:01:38.962Z"
   },
   {
    "duration": 13,
    "start_time": "2023-05-20T13:04:27.424Z"
   },
   {
    "duration": 3,
    "start_time": "2023-05-20T13:04:34.690Z"
   },
   {
    "duration": 11,
    "start_time": "2023-05-20T13:04:37.567Z"
   },
   {
    "duration": 3,
    "start_time": "2023-05-20T13:04:57.836Z"
   },
   {
    "duration": 11,
    "start_time": "2023-05-20T13:05:00.543Z"
   },
   {
    "duration": 1531,
    "start_time": "2023-05-20T13:05:10.978Z"
   },
   {
    "duration": 1576,
    "start_time": "2023-05-20T13:05:24.075Z"
   },
   {
    "duration": 360,
    "start_time": "2023-05-20T13:05:36.589Z"
   },
   {
    "duration": 1659,
    "start_time": "2023-05-20T13:05:46.458Z"
   },
   {
    "duration": 12,
    "start_time": "2023-05-20T13:06:42.491Z"
   },
   {
    "duration": 14,
    "start_time": "2023-05-20T13:06:55.956Z"
   },
   {
    "duration": 198,
    "start_time": "2023-05-20T13:07:19.519Z"
   },
   {
    "duration": 460,
    "start_time": "2023-05-20T13:07:43.858Z"
   },
   {
    "duration": 1229,
    "start_time": "2023-05-20T13:07:53.900Z"
   },
   {
    "duration": 928,
    "start_time": "2023-05-20T13:08:07.203Z"
   },
   {
    "duration": 1242,
    "start_time": "2023-05-20T13:10:11.282Z"
   },
   {
    "duration": 66,
    "start_time": "2023-05-20T13:10:37.318Z"
   },
   {
    "duration": 590,
    "start_time": "2023-05-20T13:10:50.785Z"
   },
   {
    "duration": 1281,
    "start_time": "2023-05-20T13:11:03.328Z"
   },
   {
    "duration": 509,
    "start_time": "2023-05-20T13:12:55.583Z"
   },
   {
    "duration": 1367,
    "start_time": "2023-05-20T13:13:01.012Z"
   },
   {
    "duration": 1253,
    "start_time": "2023-05-20T13:13:05.617Z"
   },
   {
    "duration": 178,
    "start_time": "2023-05-20T13:13:19.323Z"
   },
   {
    "duration": 1741,
    "start_time": "2023-05-20T13:13:29.157Z"
   },
   {
    "duration": 1257,
    "start_time": "2023-05-20T13:13:35.468Z"
   },
   {
    "duration": 222,
    "start_time": "2023-05-20T13:14:02.333Z"
   },
   {
    "duration": 1906,
    "start_time": "2023-05-20T13:14:25.950Z"
   },
   {
    "duration": 1311,
    "start_time": "2023-05-20T13:14:30.586Z"
   },
   {
    "duration": 1927,
    "start_time": "2023-05-20T13:17:24.342Z"
   },
   {
    "duration": 1236,
    "start_time": "2023-05-20T13:17:35.270Z"
   },
   {
    "duration": 1631,
    "start_time": "2023-05-20T13:19:42.034Z"
   },
   {
    "duration": 2229,
    "start_time": "2023-05-20T13:19:57.253Z"
   },
   {
    "duration": 1200,
    "start_time": "2023-05-20T13:22:04.479Z"
   },
   {
    "duration": 4,
    "start_time": "2023-05-20T13:22:18.533Z"
   },
   {
    "duration": 5,
    "start_time": "2023-05-20T13:22:29.093Z"
   },
   {
    "duration": 6,
    "start_time": "2023-05-20T13:22:47.098Z"
   },
   {
    "duration": 6,
    "start_time": "2023-05-20T13:22:51.122Z"
   },
   {
    "duration": 5,
    "start_time": "2023-05-20T13:22:57.476Z"
   },
   {
    "duration": 6,
    "start_time": "2023-05-20T13:23:01.961Z"
   },
   {
    "duration": 5,
    "start_time": "2023-05-20T13:23:05.796Z"
   },
   {
    "duration": 6,
    "start_time": "2023-05-20T13:23:34.452Z"
   },
   {
    "duration": 5,
    "start_time": "2023-05-20T13:23:40.320Z"
   },
   {
    "duration": 6,
    "start_time": "2023-05-20T13:23:49.490Z"
   },
   {
    "duration": 5,
    "start_time": "2023-05-20T13:23:53.384Z"
   },
   {
    "duration": 5,
    "start_time": "2023-05-20T13:23:57.613Z"
   },
   {
    "duration": 5,
    "start_time": "2023-05-20T13:24:10.342Z"
   },
   {
    "duration": 5,
    "start_time": "2023-05-20T13:24:14.235Z"
   },
   {
    "duration": 6,
    "start_time": "2023-05-20T13:24:17.488Z"
   },
   {
    "duration": 5,
    "start_time": "2023-05-20T13:24:20.529Z"
   },
   {
    "duration": 8,
    "start_time": "2023-05-20T13:28:49.175Z"
   },
   {
    "duration": 521,
    "start_time": "2023-05-20T13:32:58.052Z"
   },
   {
    "duration": 553,
    "start_time": "2023-05-20T13:33:22.480Z"
   },
   {
    "duration": 7,
    "start_time": "2023-05-20T13:33:40.267Z"
   },
   {
    "duration": 10,
    "start_time": "2023-05-20T13:33:49.966Z"
   },
   {
    "duration": 10,
    "start_time": "2023-05-20T13:34:06.723Z"
   },
   {
    "duration": 17,
    "start_time": "2023-05-20T13:34:16.408Z"
   },
   {
    "duration": 43,
    "start_time": "2023-05-20T13:34:48.138Z"
   },
   {
    "duration": 50,
    "start_time": "2023-05-20T13:34:52.727Z"
   },
   {
    "duration": 15,
    "start_time": "2023-05-20T13:35:02.951Z"
   },
   {
    "duration": 12,
    "start_time": "2023-05-20T13:35:11.652Z"
   },
   {
    "duration": 11,
    "start_time": "2023-05-20T13:36:49.129Z"
   },
   {
    "duration": 11,
    "start_time": "2023-05-20T13:36:58.726Z"
   },
   {
    "duration": 12,
    "start_time": "2023-05-20T13:37:21.143Z"
   },
   {
    "duration": 13,
    "start_time": "2023-05-20T13:37:32.882Z"
   },
   {
    "duration": 13,
    "start_time": "2023-05-20T13:37:37.146Z"
   },
   {
    "duration": 16,
    "start_time": "2023-05-20T13:37:45.054Z"
   },
   {
    "duration": 15,
    "start_time": "2023-05-20T13:37:57.446Z"
   },
   {
    "duration": 14,
    "start_time": "2023-05-20T13:38:27.946Z"
   },
   {
    "duration": 17,
    "start_time": "2023-05-20T13:39:25.345Z"
   },
   {
    "duration": 14,
    "start_time": "2023-05-20T13:39:37.703Z"
   },
   {
    "duration": 9,
    "start_time": "2023-05-20T13:40:13.471Z"
   },
   {
    "duration": 11,
    "start_time": "2023-05-20T13:40:21.887Z"
   },
   {
    "duration": 13,
    "start_time": "2023-05-20T13:40:29.256Z"
   },
   {
    "duration": 1236,
    "start_time": "2023-05-20T13:40:56.316Z"
   },
   {
    "duration": 68,
    "start_time": "2023-05-20T13:40:57.553Z"
   },
   {
    "duration": 22,
    "start_time": "2023-05-20T13:40:57.623Z"
   },
   {
    "duration": 20,
    "start_time": "2023-05-20T13:40:57.647Z"
   },
   {
    "duration": 16,
    "start_time": "2023-05-20T13:40:57.669Z"
   },
   {
    "duration": 8,
    "start_time": "2023-05-20T13:40:57.687Z"
   },
   {
    "duration": 17,
    "start_time": "2023-05-20T13:40:57.697Z"
   },
   {
    "duration": 47,
    "start_time": "2023-05-20T13:40:57.716Z"
   },
   {
    "duration": 10,
    "start_time": "2023-05-20T13:40:57.766Z"
   },
   {
    "duration": 8,
    "start_time": "2023-05-20T13:40:57.780Z"
   },
   {
    "duration": 210,
    "start_time": "2023-05-20T13:40:57.790Z"
   },
   {
    "duration": 106,
    "start_time": "2023-05-20T13:40:58.003Z"
   },
   {
    "duration": 289,
    "start_time": "2023-05-20T13:40:58.110Z"
   },
   {
    "duration": 438,
    "start_time": "2023-05-20T13:40:58.402Z"
   },
   {
    "duration": 575,
    "start_time": "2023-05-20T13:40:58.843Z"
   },
   {
    "duration": 43,
    "start_time": "2023-05-20T13:40:59.419Z"
   },
   {
    "duration": 20,
    "start_time": "2023-05-20T13:40:59.464Z"
   },
   {
    "duration": 17,
    "start_time": "2023-05-20T13:40:59.486Z"
   },
   {
    "duration": 654,
    "start_time": "2023-05-20T13:40:59.505Z"
   },
   {
    "duration": 607,
    "start_time": "2023-05-20T13:41:00.161Z"
   },
   {
    "duration": 44,
    "start_time": "2023-05-20T13:41:00.771Z"
   },
   {
    "duration": 41,
    "start_time": "2023-05-20T13:41:00.817Z"
   },
   {
    "duration": 57,
    "start_time": "2023-05-20T13:41:00.860Z"
   },
   {
    "duration": 61,
    "start_time": "2023-05-20T13:41:00.919Z"
   },
   {
    "duration": 63,
    "start_time": "2023-05-20T13:41:00.982Z"
   },
   {
    "duration": 41,
    "start_time": "2023-05-20T13:41:01.048Z"
   },
   {
    "duration": 118,
    "start_time": "2023-05-20T13:41:01.091Z"
   },
   {
    "duration": 93,
    "start_time": "2023-05-20T13:41:01.212Z"
   },
   {
    "duration": 7,
    "start_time": "2023-05-20T13:42:45.048Z"
   },
   {
    "duration": 8,
    "start_time": "2023-05-20T13:43:15.540Z"
   },
   {
    "duration": 103,
    "start_time": "2023-05-20T13:43:36.417Z"
   },
   {
    "duration": 7,
    "start_time": "2023-05-20T13:43:48.556Z"
   },
   {
    "duration": 10,
    "start_time": "2023-05-20T13:57:26.086Z"
   },
   {
    "duration": 11,
    "start_time": "2023-05-20T13:58:05.785Z"
   },
   {
    "duration": 2182,
    "start_time": "2023-05-20T13:58:13.670Z"
   },
   {
    "duration": 2569,
    "start_time": "2023-05-20T13:58:46.102Z"
   },
   {
    "duration": 2466,
    "start_time": "2023-05-20T13:59:12.295Z"
   },
   {
    "duration": 12,
    "start_time": "2023-05-20T13:59:57.427Z"
   },
   {
    "duration": 2463,
    "start_time": "2023-05-20T14:00:04.006Z"
   },
   {
    "duration": 780,
    "start_time": "2023-05-20T14:00:20.384Z"
   },
   {
    "duration": 1159,
    "start_time": "2023-05-20T14:00:55.168Z"
   },
   {
    "duration": 812,
    "start_time": "2023-05-20T14:05:17.761Z"
   },
   {
    "duration": 836,
    "start_time": "2023-05-20T14:05:29.161Z"
   },
   {
    "duration": 1319,
    "start_time": "2023-05-20T14:05:32.375Z"
   },
   {
    "duration": 852,
    "start_time": "2023-05-20T14:05:45.793Z"
   },
   {
    "duration": 838,
    "start_time": "2023-05-20T14:06:02.824Z"
   },
   {
    "duration": 2039,
    "start_time": "2023-05-20T14:14:54.832Z"
   },
   {
    "duration": 1889,
    "start_time": "2023-05-20T14:15:53.384Z"
   },
   {
    "duration": 290,
    "start_time": "2023-05-20T14:16:37.999Z"
   },
   {
    "duration": 1864,
    "start_time": "2023-05-20T14:16:53.940Z"
   },
   {
    "duration": 1402,
    "start_time": "2023-05-20T14:17:46.549Z"
   },
   {
    "duration": 2021,
    "start_time": "2023-05-20T14:17:55.371Z"
   },
   {
    "duration": 1971,
    "start_time": "2023-05-20T14:18:00.706Z"
   },
   {
    "duration": 1467,
    "start_time": "2023-05-20T14:19:42.638Z"
   },
   {
    "duration": 2073,
    "start_time": "2023-05-20T14:20:16.007Z"
   },
   {
    "duration": 2058,
    "start_time": "2023-05-20T14:20:37.608Z"
   },
   {
    "duration": 1283,
    "start_time": "2023-05-20T14:20:48.023Z"
   },
   {
    "duration": 68,
    "start_time": "2023-05-20T14:20:49.308Z"
   },
   {
    "duration": 22,
    "start_time": "2023-05-20T14:20:49.378Z"
   },
   {
    "duration": 22,
    "start_time": "2023-05-20T14:20:49.402Z"
   },
   {
    "duration": 31,
    "start_time": "2023-05-20T14:20:49.426Z"
   },
   {
    "duration": 8,
    "start_time": "2023-05-20T14:20:49.459Z"
   },
   {
    "duration": 23,
    "start_time": "2023-05-20T14:20:49.469Z"
   },
   {
    "duration": 13,
    "start_time": "2023-05-20T14:20:49.494Z"
   },
   {
    "duration": 16,
    "start_time": "2023-05-20T14:20:49.509Z"
   },
   {
    "duration": 35,
    "start_time": "2023-05-20T14:20:49.527Z"
   },
   {
    "duration": 202,
    "start_time": "2023-05-20T14:20:49.564Z"
   },
   {
    "duration": 106,
    "start_time": "2023-05-20T14:20:49.768Z"
   },
   {
    "duration": 294,
    "start_time": "2023-05-20T14:20:49.876Z"
   },
   {
    "duration": 423,
    "start_time": "2023-05-20T14:20:50.172Z"
   },
   {
    "duration": 999,
    "start_time": "2023-05-20T14:20:50.597Z"
   },
   {
    "duration": 85,
    "start_time": "2023-05-20T14:20:51.597Z"
   },
   {
    "duration": 74,
    "start_time": "2023-05-20T14:20:51.684Z"
   },
   {
    "duration": 19,
    "start_time": "2023-05-20T14:20:51.760Z"
   },
   {
    "duration": 890,
    "start_time": "2023-05-20T14:20:51.781Z"
   },
   {
    "duration": 594,
    "start_time": "2023-05-20T14:20:52.673Z"
   },
   {
    "duration": 42,
    "start_time": "2023-05-20T14:20:53.270Z"
   },
   {
    "duration": 45,
    "start_time": "2023-05-20T14:20:53.314Z"
   },
   {
    "duration": 7,
    "start_time": "2023-05-20T14:20:53.361Z"
   },
   {
    "duration": 6,
    "start_time": "2023-05-20T14:20:53.370Z"
   },
   {
    "duration": 11,
    "start_time": "2023-05-20T14:20:53.378Z"
   },
   {
    "duration": 21,
    "start_time": "2023-05-20T14:20:53.391Z"
   },
   {
    "duration": 1665,
    "start_time": "2023-05-20T14:20:53.414Z"
   },
   {
    "duration": 5,
    "start_time": "2023-05-20T14:20:55.082Z"
   },
   {
    "duration": 17,
    "start_time": "2023-05-20T14:20:55.089Z"
   },
   {
    "duration": 1712,
    "start_time": "2023-05-20T14:20:58.701Z"
   },
   {
    "duration": 15425,
    "start_time": "2023-05-20T14:21:23.724Z"
   },
   {
    "duration": 3560,
    "start_time": "2023-05-20T14:21:52.848Z"
   },
   {
    "duration": 4,
    "start_time": "2023-05-20T14:23:00.962Z"
   },
   {
    "duration": 2322,
    "start_time": "2023-05-20T14:24:38.955Z"
   },
   {
    "duration": 3,
    "start_time": "2023-05-20T14:28:02.811Z"
   },
   {
    "duration": 5,
    "start_time": "2023-05-20T14:28:10.213Z"
   },
   {
    "duration": 5,
    "start_time": "2023-05-20T14:28:15.454Z"
   },
   {
    "duration": 45,
    "start_time": "2023-05-20T17:34:36.115Z"
   },
   {
    "duration": 1377,
    "start_time": "2023-05-20T17:34:42.911Z"
   },
   {
    "duration": 196,
    "start_time": "2023-05-20T17:34:44.290Z"
   },
   {
    "duration": 23,
    "start_time": "2023-05-20T17:34:44.488Z"
   },
   {
    "duration": 21,
    "start_time": "2023-05-20T17:34:44.513Z"
   },
   {
    "duration": 18,
    "start_time": "2023-05-20T17:34:44.535Z"
   },
   {
    "duration": 10,
    "start_time": "2023-05-20T17:34:44.555Z"
   },
   {
    "duration": 24,
    "start_time": "2023-05-20T17:34:44.596Z"
   },
   {
    "duration": 15,
    "start_time": "2023-05-20T17:34:44.622Z"
   },
   {
    "duration": 14,
    "start_time": "2023-05-20T17:34:44.639Z"
   },
   {
    "duration": 38,
    "start_time": "2023-05-20T17:34:44.656Z"
   },
   {
    "duration": 204,
    "start_time": "2023-05-20T17:34:44.697Z"
   },
   {
    "duration": 125,
    "start_time": "2023-05-20T17:34:44.903Z"
   },
   {
    "duration": 278,
    "start_time": "2023-05-20T17:34:45.030Z"
   },
   {
    "duration": 397,
    "start_time": "2023-05-20T17:34:45.310Z"
   },
   {
    "duration": 459,
    "start_time": "2023-05-20T17:34:45.709Z"
   },
   {
    "duration": 39,
    "start_time": "2023-05-20T17:34:46.170Z"
   },
   {
    "duration": 18,
    "start_time": "2023-05-20T17:34:46.211Z"
   },
   {
    "duration": 15,
    "start_time": "2023-05-20T17:34:46.231Z"
   },
   {
    "duration": 637,
    "start_time": "2023-05-20T17:34:46.248Z"
   },
   {
    "duration": 578,
    "start_time": "2023-05-20T17:34:46.887Z"
   },
   {
    "duration": 46,
    "start_time": "2023-05-20T17:34:47.467Z"
   },
   {
    "duration": 20,
    "start_time": "2023-05-20T17:34:47.515Z"
   },
   {
    "duration": 6,
    "start_time": "2023-05-20T17:34:47.537Z"
   },
   {
    "duration": 9,
    "start_time": "2023-05-20T17:34:47.545Z"
   },
   {
    "duration": 8,
    "start_time": "2023-05-20T17:34:47.556Z"
   },
   {
    "duration": 9,
    "start_time": "2023-05-20T17:34:47.565Z"
   },
   {
    "duration": 1644,
    "start_time": "2023-05-20T17:34:47.595Z"
   },
   {
    "duration": 4,
    "start_time": "2023-05-20T17:34:49.242Z"
   },
   {
    "duration": 96,
    "start_time": "2023-05-20T17:43:54.106Z"
   },
   {
    "duration": 102,
    "start_time": "2023-05-20T17:44:16.656Z"
   },
   {
    "duration": 31961,
    "start_time": "2023-05-20T17:44:39.480Z"
   },
   {
    "duration": 49,
    "start_time": "2023-05-21T08:49:05.053Z"
   },
   {
    "duration": 1364,
    "start_time": "2023-05-21T08:49:10.550Z"
   },
   {
    "duration": 293,
    "start_time": "2023-05-21T08:49:11.917Z"
   },
   {
    "duration": 23,
    "start_time": "2023-05-21T08:49:12.212Z"
   },
   {
    "duration": 17,
    "start_time": "2023-05-21T08:49:12.237Z"
   },
   {
    "duration": 16,
    "start_time": "2023-05-21T08:49:12.256Z"
   },
   {
    "duration": 8,
    "start_time": "2023-05-21T08:49:12.274Z"
   },
   {
    "duration": 20,
    "start_time": "2023-05-21T08:49:12.283Z"
   },
   {
    "duration": 13,
    "start_time": "2023-05-21T08:49:12.305Z"
   },
   {
    "duration": 43,
    "start_time": "2023-05-21T08:49:12.320Z"
   },
   {
    "duration": 8,
    "start_time": "2023-05-21T08:49:12.364Z"
   },
   {
    "duration": 189,
    "start_time": "2023-05-21T08:49:12.374Z"
   },
   {
    "duration": 109,
    "start_time": "2023-05-21T08:49:12.565Z"
   },
   {
    "duration": 274,
    "start_time": "2023-05-21T08:49:12.676Z"
   },
   {
    "duration": 420,
    "start_time": "2023-05-21T08:49:12.957Z"
   },
   {
    "duration": 471,
    "start_time": "2023-05-21T08:49:13.379Z"
   },
   {
    "duration": 32,
    "start_time": "2023-05-21T08:49:13.852Z"
   },
   {
    "duration": 18,
    "start_time": "2023-05-21T08:49:13.886Z"
   },
   {
    "duration": 16,
    "start_time": "2023-05-21T08:49:13.906Z"
   },
   {
    "duration": 632,
    "start_time": "2023-05-21T08:49:13.924Z"
   },
   {
    "duration": 598,
    "start_time": "2023-05-21T08:49:14.558Z"
   },
   {
    "duration": 40,
    "start_time": "2023-05-21T08:49:15.158Z"
   },
   {
    "duration": 23,
    "start_time": "2023-05-21T08:49:15.200Z"
   },
   {
    "duration": 6,
    "start_time": "2023-05-21T08:49:15.225Z"
   },
   {
    "duration": 26,
    "start_time": "2023-05-21T08:49:15.233Z"
   },
   {
    "duration": 6,
    "start_time": "2023-05-21T08:49:15.261Z"
   },
   {
    "duration": 8,
    "start_time": "2023-05-21T08:49:15.269Z"
   },
   {
    "duration": 1813,
    "start_time": "2023-05-21T08:49:15.279Z"
   },
   {
    "duration": 4,
    "start_time": "2023-05-21T08:49:17.094Z"
   },
   {
    "duration": 116,
    "start_time": "2023-05-21T08:49:17.099Z"
   },
   {
    "duration": 0,
    "start_time": "2023-05-21T08:49:17.217Z"
   },
   {
    "duration": 35154,
    "start_time": "2023-05-21T08:50:03.510Z"
   },
   {
    "duration": 34699,
    "start_time": "2023-05-21T08:51:06.794Z"
   },
   {
    "duration": 35724,
    "start_time": "2023-05-21T08:52:07.805Z"
   },
   {
    "duration": 1335,
    "start_time": "2023-05-21T18:29:38.259Z"
   },
   {
    "duration": 299,
    "start_time": "2023-05-21T18:29:39.595Z"
   },
   {
    "duration": 20,
    "start_time": "2023-05-21T18:29:39.896Z"
   },
   {
    "duration": 17,
    "start_time": "2023-05-21T18:29:39.918Z"
   },
   {
    "duration": 16,
    "start_time": "2023-05-21T18:29:39.938Z"
   },
   {
    "duration": 24,
    "start_time": "2023-05-21T18:29:39.955Z"
   },
   {
    "duration": 16,
    "start_time": "2023-05-21T18:29:39.981Z"
   },
   {
    "duration": 14,
    "start_time": "2023-05-21T18:29:39.998Z"
   },
   {
    "duration": 12,
    "start_time": "2023-05-21T18:29:40.013Z"
   },
   {
    "duration": 8,
    "start_time": "2023-05-21T18:29:40.027Z"
   },
   {
    "duration": 210,
    "start_time": "2023-05-21T18:29:40.037Z"
   },
   {
    "duration": 105,
    "start_time": "2023-05-21T18:29:40.248Z"
   },
   {
    "duration": 276,
    "start_time": "2023-05-21T18:29:40.355Z"
   },
   {
    "duration": 398,
    "start_time": "2023-05-21T18:29:40.634Z"
   },
   {
    "duration": 469,
    "start_time": "2023-05-21T18:29:41.034Z"
   },
   {
    "duration": 34,
    "start_time": "2023-05-21T18:29:41.505Z"
   },
   {
    "duration": 38,
    "start_time": "2023-05-21T18:29:41.541Z"
   },
   {
    "duration": 16,
    "start_time": "2023-05-21T18:29:41.580Z"
   },
   {
    "duration": 587,
    "start_time": "2023-05-21T18:29:41.597Z"
   },
   {
    "duration": 566,
    "start_time": "2023-05-21T18:29:42.186Z"
   },
   {
    "duration": 51,
    "start_time": "2023-05-21T18:29:42.754Z"
   },
   {
    "duration": 25,
    "start_time": "2023-05-21T18:29:42.807Z"
   },
   {
    "duration": 7,
    "start_time": "2023-05-21T18:29:42.833Z"
   },
   {
    "duration": 5,
    "start_time": "2023-05-21T18:29:42.841Z"
   },
   {
    "duration": 33,
    "start_time": "2023-05-21T18:29:42.848Z"
   },
   {
    "duration": 10,
    "start_time": "2023-05-21T18:29:42.883Z"
   },
   {
    "duration": 89,
    "start_time": "2023-05-21T18:37:31.496Z"
   },
   {
    "duration": 46,
    "start_time": "2023-05-23T07:49:33.567Z"
   },
   {
    "duration": 7,
    "start_time": "2023-05-23T07:49:39.111Z"
   },
   {
    "duration": 6,
    "start_time": "2023-05-23T07:49:57.013Z"
   },
   {
    "duration": 8,
    "start_time": "2023-05-23T07:50:09.067Z"
   },
   {
    "duration": 6,
    "start_time": "2023-05-23T07:50:21.090Z"
   },
   {
    "duration": 1314,
    "start_time": "2023-05-23T07:50:27.989Z"
   },
   {
    "duration": 3,
    "start_time": "2023-05-23T07:50:30.085Z"
   },
   {
    "duration": 77,
    "start_time": "2023-05-23T07:50:31.206Z"
   },
   {
    "duration": 8,
    "start_time": "2023-05-23T07:50:36.876Z"
   }
  ],
  "kernelspec": {
   "display_name": "Python 3 (ipykernel)",
   "language": "python",
   "name": "python3"
  },
  "language_info": {
   "codemirror_mode": {
    "name": "ipython",
    "version": 3
   },
   "file_extension": ".py",
   "mimetype": "text/x-python",
   "name": "python",
   "nbconvert_exporter": "python",
   "pygments_lexer": "ipython3",
   "version": "3.9.5"
  },
  "toc": {
   "base_numbering": 1,
   "nav_menu": {},
   "number_sections": true,
   "sideBar": true,
   "skip_h1_title": true,
   "title_cell": "Table of Contents",
   "title_sidebar": "Contents",
   "toc_cell": false,
   "toc_position": {
    "height": "calc(100% - 180px)",
    "left": "10px",
    "top": "150px",
    "width": "361.391px"
   },
   "toc_section_display": true,
   "toc_window_display": true
  }
 },
 "nbformat": 4,
 "nbformat_minor": 5
}
