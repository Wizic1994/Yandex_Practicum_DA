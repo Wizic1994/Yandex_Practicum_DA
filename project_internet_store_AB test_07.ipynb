{
 "cells": [
  {
   "cell_type": "markdown",
   "metadata": {},
   "source": [
    "# Проект: Принятие решений в бизнесе"
   ]
  },
  {
   "cell_type": "markdown",
   "metadata": {},
   "source": [
    "## Описание проекта\n",
    "\n",
    "Вы — аналитик крупного интернет-магазина. Вместе с отделом маркетинга вы подготовили список гипотез для увеличения выручки.\n",
    "Приоритизируйте гипотезы, запустите A/B-тест и проанализируйте результаты. \n",
    "\n",
    "**Часть 1. Приоритизация гипотез.**\n",
    "\n",
    "В файле /datasets/hypothesis.csv 9 гипотез по увеличению выручки интернет-магазина с указанными параметрами Reach, Impact, Confidence, Effort.\n",
    "\n",
    "**Задача**\n",
    "\n",
    "- Примените фреймворк ICE для приоритизации гипотез. Отсортируйте их по убыванию приоритета.\n",
    "- Примените фреймворк RICE для приоритизации гипотез. Отсортируйте их по убыванию приоритета.\n",
    "- Укажите, как изменилась приоритизация гипотез при применении RICE вместо ICE. Объясните, почему так произошло.\n",
    "\n",
    "**Часть 2. Анализ A/B-теста**\n",
    "\n",
    "Вы провели A/B-тест и получили результаты, которые описаны в файлах /datasets/orders.csv и /datasets/visitors.csv.\n",
    "\n",
    "**Задача**\n",
    "\n",
    "Проанализируйте A/B-тест:\n",
    "\n",
    "1. Постройте график кумулятивной выручки по группам. Сделайте выводы и предположения.\n",
    "2. Постройте график кумулятивного среднего чека по группам. Сделайте выводы и предположения.\n",
    "3. Постройте график относительного изменения кумулятивного среднего чека группы B к группе A. Сделайте выводы и предположения.\n",
    "4. Постройте график кумулятивного среднего количества заказов на посетителя по группам. Сделайте выводы и предположения.\n",
    "5. Постройте график относительного изменения кумулятивного среднего количества заказов на посетителя группы B к группе A. Сделайте выводы и предположения.\n",
    "6. Постройте точечный график количества заказов по пользователям. Сделайте выводы и предположения.\n",
    "7. Посчитайте 95-й и 99-й перцентили количества заказов на пользователя. Выберите границу для определения аномальных пользователей.\n",
    "8. Постройте точечный график стоимостей заказов. Сделайте выводы и предположения.\n",
    "10. Посчитайте 95-й и 99-й перцентили стоимости заказов. Выберите границу для определения аномальных заказов.\n",
    "11. Посчитайте статистическую значимость различий в среднем количестве заказов на посетителя между группами по «сырым» данным. Сделайте выводы и предположения.\n",
    "12. Посчитайте статистическую значимость различий в среднем чеке заказа между группами по «сырым» данным. Сделайте выводы и предположения.\n",
    "13. Посчитайте статистическую значимость различий в среднем количестве заказов на посетителя между группами по «очищенным» данным. Сделайте выводы и предположения.\n",
    "14. Посчитайте статистическую значимость различий в среднем чеке заказа между группами по «очищенным» данным. Сделайте выводы и предположения.\n",
    "\n",
    "Примите решение по результатам теста и объясните его. Варианты решений:\n",
    "1. Остановить тест, зафиксировать победу одной из групп.\n",
    "2. Остановить тест, зафиксировать отсутствие различий между группами.\n",
    "3. Продолжить тест."
   ]
  },
  {
   "cell_type": "markdown",
   "metadata": {},
   "source": [
    "# Описание данных\n",
    "\n",
    "Данные для первой части\n",
    "\n",
    "**Файл /datasets/hypothesis.csv.**\n",
    "- **Hypothesis** — краткое описание гипотезы;\n",
    "- **Reach** — охват пользователей по 10-балльной шкале;\n",
    "- **Impact** — влияние на пользователей по 10-балльной шкале;\n",
    "- **Confidence** — уверенность в гипотезе по 10-балльной шкале;\n",
    "- **Efforts** — затраты ресурсов на проверку гипотезы по 10-балльной шкале. Чем больше значение Efforts, тем дороже проверка гипотезы.\n",
    "\n",
    "Данные для второй части\n",
    "\n",
    "**Файл /datasets/orders.csv.**\n",
    "- **transactionId** — идентификатор заказа;\n",
    "- **visitorId** — идентификатор пользователя, совершившего заказ;\n",
    "- **date** — дата, когда был совершён заказ;\n",
    "- **revenue** — выручка заказа;\n",
    "- **group** — группа A/B-теста, в которую попал заказ.\n",
    "\n",
    "**Файл /datasets/visitors.csv.**\n",
    "- **group** — группа A/B-теста;\n",
    "- **visitors** — количество пользователей в указанную дату в указанной группе A/B-теста"
   ]
  },
  {
   "cell_type": "code",
   "execution_count": 1,
   "metadata": {},
   "outputs": [],
   "source": [
    "import pandas as pd\n",
    "import matplotlib.pyplot as plt\n",
    "import datetime as dt\n",
    "import numpy as np\n",
    "import scipy.stats as st"
   ]
  },
  {
   "cell_type": "markdown",
   "metadata": {},
   "source": [
    "## Часть 1. Приоритизация гипотез."
   ]
  },
  {
   "cell_type": "markdown",
   "metadata": {},
   "source": [
    "### Загрузка файла с данными и изучение общей информации"
   ]
  },
  {
   "cell_type": "code",
   "execution_count": 2,
   "metadata": {},
   "outputs": [],
   "source": [
    "try:\n",
    "    hypothesis = pd.read_csv('https://code.s3.yandex.net/datasets/hypothesis.csv')\n",
    "except:\n",
    "    hypothesis = pd.read_csv('/datasets/hypothesis.csv')"
   ]
  },
  {
   "cell_type": "code",
   "execution_count": 3,
   "metadata": {},
   "outputs": [
    {
     "data": {
      "text/html": [
       "<div>\n",
       "<style scoped>\n",
       "    .dataframe tbody tr th:only-of-type {\n",
       "        vertical-align: middle;\n",
       "    }\n",
       "\n",
       "    .dataframe tbody tr th {\n",
       "        vertical-align: top;\n",
       "    }\n",
       "\n",
       "    .dataframe thead th {\n",
       "        text-align: right;\n",
       "    }\n",
       "</style>\n",
       "<table border=\"1\" class=\"dataframe\">\n",
       "  <thead>\n",
       "    <tr style=\"text-align: right;\">\n",
       "      <th></th>\n",
       "      <th>Hypothesis</th>\n",
       "      <th>Reach</th>\n",
       "      <th>Impact</th>\n",
       "      <th>Confidence</th>\n",
       "      <th>Efforts</th>\n",
       "    </tr>\n",
       "  </thead>\n",
       "  <tbody>\n",
       "    <tr>\n",
       "      <th>0</th>\n",
       "      <td>Добавить два новых канала привлечения трафика,...</td>\n",
       "      <td>3</td>\n",
       "      <td>10</td>\n",
       "      <td>8</td>\n",
       "      <td>6</td>\n",
       "    </tr>\n",
       "    <tr>\n",
       "      <th>1</th>\n",
       "      <td>Запустить собственную службу доставки, что сок...</td>\n",
       "      <td>2</td>\n",
       "      <td>5</td>\n",
       "      <td>4</td>\n",
       "      <td>10</td>\n",
       "    </tr>\n",
       "    <tr>\n",
       "      <th>2</th>\n",
       "      <td>Добавить блоки рекомендаций товаров на сайт ин...</td>\n",
       "      <td>8</td>\n",
       "      <td>3</td>\n",
       "      <td>7</td>\n",
       "      <td>3</td>\n",
       "    </tr>\n",
       "    <tr>\n",
       "      <th>3</th>\n",
       "      <td>Изменить структура категорий, что увеличит кон...</td>\n",
       "      <td>8</td>\n",
       "      <td>3</td>\n",
       "      <td>3</td>\n",
       "      <td>8</td>\n",
       "    </tr>\n",
       "    <tr>\n",
       "      <th>4</th>\n",
       "      <td>Изменить цвет фона главной страницы, чтобы уве...</td>\n",
       "      <td>3</td>\n",
       "      <td>1</td>\n",
       "      <td>1</td>\n",
       "      <td>1</td>\n",
       "    </tr>\n",
       "    <tr>\n",
       "      <th>5</th>\n",
       "      <td>Добавить страницу отзывов клиентов о магазине,...</td>\n",
       "      <td>3</td>\n",
       "      <td>2</td>\n",
       "      <td>2</td>\n",
       "      <td>3</td>\n",
       "    </tr>\n",
       "    <tr>\n",
       "      <th>6</th>\n",
       "      <td>Показать на главной странице баннеры с актуаль...</td>\n",
       "      <td>5</td>\n",
       "      <td>3</td>\n",
       "      <td>8</td>\n",
       "      <td>3</td>\n",
       "    </tr>\n",
       "    <tr>\n",
       "      <th>7</th>\n",
       "      <td>Добавить форму подписки на все основные страни...</td>\n",
       "      <td>10</td>\n",
       "      <td>7</td>\n",
       "      <td>8</td>\n",
       "      <td>5</td>\n",
       "    </tr>\n",
       "    <tr>\n",
       "      <th>8</th>\n",
       "      <td>Запустить акцию, дающую скидку на товар в день...</td>\n",
       "      <td>1</td>\n",
       "      <td>9</td>\n",
       "      <td>9</td>\n",
       "      <td>5</td>\n",
       "    </tr>\n",
       "  </tbody>\n",
       "</table>\n",
       "</div>"
      ],
      "text/plain": [
       "                                          Hypothesis  Reach  Impact  \\\n",
       "0  Добавить два новых канала привлечения трафика,...      3      10   \n",
       "1  Запустить собственную службу доставки, что сок...      2       5   \n",
       "2  Добавить блоки рекомендаций товаров на сайт ин...      8       3   \n",
       "3  Изменить структура категорий, что увеличит кон...      8       3   \n",
       "4  Изменить цвет фона главной страницы, чтобы уве...      3       1   \n",
       "5  Добавить страницу отзывов клиентов о магазине,...      3       2   \n",
       "6  Показать на главной странице баннеры с актуаль...      5       3   \n",
       "7  Добавить форму подписки на все основные страни...     10       7   \n",
       "8  Запустить акцию, дающую скидку на товар в день...      1       9   \n",
       "\n",
       "   Confidence  Efforts  \n",
       "0           8        6  \n",
       "1           4       10  \n",
       "2           7        3  \n",
       "3           3        8  \n",
       "4           1        1  \n",
       "5           2        3  \n",
       "6           8        3  \n",
       "7           8        5  \n",
       "8           9        5  "
      ]
     },
     "execution_count": 3,
     "metadata": {},
     "output_type": "execute_result"
    }
   ],
   "source": [
    "hypothesis"
   ]
  },
  {
   "cell_type": "code",
   "execution_count": 4,
   "metadata": {},
   "outputs": [],
   "source": [
    "hypothesis.columns = [name.lower() for name in hypothesis.columns]"
   ]
  },
  {
   "cell_type": "markdown",
   "metadata": {},
   "source": [
    "### Фреймворк ICE"
   ]
  },
  {
   "cell_type": "markdown",
   "metadata": {},
   "source": [
    "<br>\n",
    "\n",
    "$$ICE = \\frac{Impact * Confidence}{Efforts}$$\n",
    "\n",
    "<br>"
   ]
  },
  {
   "cell_type": "code",
   "execution_count": 5,
   "metadata": {},
   "outputs": [
    {
     "data": {
      "text/html": [
       "<div>\n",
       "<style scoped>\n",
       "    .dataframe tbody tr th:only-of-type {\n",
       "        vertical-align: middle;\n",
       "    }\n",
       "\n",
       "    .dataframe tbody tr th {\n",
       "        vertical-align: top;\n",
       "    }\n",
       "\n",
       "    .dataframe thead th {\n",
       "        text-align: right;\n",
       "    }\n",
       "</style>\n",
       "<table border=\"1\" class=\"dataframe\">\n",
       "  <thead>\n",
       "    <tr style=\"text-align: right;\">\n",
       "      <th></th>\n",
       "      <th>hypothesis</th>\n",
       "      <th>ICE</th>\n",
       "    </tr>\n",
       "  </thead>\n",
       "  <tbody>\n",
       "    <tr>\n",
       "      <th>8</th>\n",
       "      <td>Запустить акцию, дающую скидку на товар в день...</td>\n",
       "      <td>16.20</td>\n",
       "    </tr>\n",
       "    <tr>\n",
       "      <th>0</th>\n",
       "      <td>Добавить два новых канала привлечения трафика,...</td>\n",
       "      <td>13.33</td>\n",
       "    </tr>\n",
       "    <tr>\n",
       "      <th>7</th>\n",
       "      <td>Добавить форму подписки на все основные страни...</td>\n",
       "      <td>11.20</td>\n",
       "    </tr>\n",
       "    <tr>\n",
       "      <th>6</th>\n",
       "      <td>Показать на главной странице баннеры с актуаль...</td>\n",
       "      <td>8.00</td>\n",
       "    </tr>\n",
       "    <tr>\n",
       "      <th>2</th>\n",
       "      <td>Добавить блоки рекомендаций товаров на сайт ин...</td>\n",
       "      <td>7.00</td>\n",
       "    </tr>\n",
       "    <tr>\n",
       "      <th>1</th>\n",
       "      <td>Запустить собственную службу доставки, что сок...</td>\n",
       "      <td>2.00</td>\n",
       "    </tr>\n",
       "    <tr>\n",
       "      <th>5</th>\n",
       "      <td>Добавить страницу отзывов клиентов о магазине,...</td>\n",
       "      <td>1.33</td>\n",
       "    </tr>\n",
       "    <tr>\n",
       "      <th>3</th>\n",
       "      <td>Изменить структура категорий, что увеличит кон...</td>\n",
       "      <td>1.12</td>\n",
       "    </tr>\n",
       "    <tr>\n",
       "      <th>4</th>\n",
       "      <td>Изменить цвет фона главной страницы, чтобы уве...</td>\n",
       "      <td>1.00</td>\n",
       "    </tr>\n",
       "  </tbody>\n",
       "</table>\n",
       "</div>"
      ],
      "text/plain": [
       "                                          hypothesis    ICE\n",
       "8  Запустить акцию, дающую скидку на товар в день...  16.20\n",
       "0  Добавить два новых канала привлечения трафика,...  13.33\n",
       "7  Добавить форму подписки на все основные страни...  11.20\n",
       "6  Показать на главной странице баннеры с актуаль...   8.00\n",
       "2  Добавить блоки рекомендаций товаров на сайт ин...   7.00\n",
       "1  Запустить собственную службу доставки, что сок...   2.00\n",
       "5  Добавить страницу отзывов клиентов о магазине,...   1.33\n",
       "3  Изменить структура категорий, что увеличит кон...   1.12\n",
       "4  Изменить цвет фона главной страницы, чтобы уве...   1.00"
      ]
     },
     "execution_count": 5,
     "metadata": {},
     "output_type": "execute_result"
    }
   ],
   "source": [
    "hypothesis['ICE'] = (\n",
    "    hypothesis['impact'] * hypothesis['confidence'] / hypothesis['efforts']\n",
    ").round(2)\n",
    "\n",
    "hypothesis[['hypothesis', 'ICE']].sort_values('ICE', ascending=False)"
   ]
  },
  {
   "cell_type": "markdown",
   "metadata": {},
   "source": [
    "### Фреймворк RICE"
   ]
  },
  {
   "cell_type": "markdown",
   "metadata": {},
   "source": [
    "<br>\n",
    "\n",
    "$$RICE = \\frac{Rearch * Impact * Confidence}{Efforts}$$\n",
    "\n",
    "<br>"
   ]
  },
  {
   "cell_type": "code",
   "execution_count": 6,
   "metadata": {},
   "outputs": [
    {
     "data": {
      "text/html": [
       "<div>\n",
       "<style scoped>\n",
       "    .dataframe tbody tr th:only-of-type {\n",
       "        vertical-align: middle;\n",
       "    }\n",
       "\n",
       "    .dataframe tbody tr th {\n",
       "        vertical-align: top;\n",
       "    }\n",
       "\n",
       "    .dataframe thead th {\n",
       "        text-align: right;\n",
       "    }\n",
       "</style>\n",
       "<table border=\"1\" class=\"dataframe\">\n",
       "  <thead>\n",
       "    <tr style=\"text-align: right;\">\n",
       "      <th></th>\n",
       "      <th>hypothesis</th>\n",
       "      <th>RICE</th>\n",
       "    </tr>\n",
       "  </thead>\n",
       "  <tbody>\n",
       "    <tr>\n",
       "      <th>7</th>\n",
       "      <td>Добавить форму подписки на все основные страни...</td>\n",
       "      <td>112.00</td>\n",
       "    </tr>\n",
       "    <tr>\n",
       "      <th>2</th>\n",
       "      <td>Добавить блоки рекомендаций товаров на сайт ин...</td>\n",
       "      <td>56.00</td>\n",
       "    </tr>\n",
       "    <tr>\n",
       "      <th>6</th>\n",
       "      <td>Показать на главной странице баннеры с актуаль...</td>\n",
       "      <td>40.00</td>\n",
       "    </tr>\n",
       "    <tr>\n",
       "      <th>0</th>\n",
       "      <td>Добавить два новых канала привлечения трафика,...</td>\n",
       "      <td>39.99</td>\n",
       "    </tr>\n",
       "    <tr>\n",
       "      <th>8</th>\n",
       "      <td>Запустить акцию, дающую скидку на товар в день...</td>\n",
       "      <td>16.20</td>\n",
       "    </tr>\n",
       "    <tr>\n",
       "      <th>3</th>\n",
       "      <td>Изменить структура категорий, что увеличит кон...</td>\n",
       "      <td>8.96</td>\n",
       "    </tr>\n",
       "    <tr>\n",
       "      <th>1</th>\n",
       "      <td>Запустить собственную службу доставки, что сок...</td>\n",
       "      <td>4.00</td>\n",
       "    </tr>\n",
       "    <tr>\n",
       "      <th>5</th>\n",
       "      <td>Добавить страницу отзывов клиентов о магазине,...</td>\n",
       "      <td>3.99</td>\n",
       "    </tr>\n",
       "    <tr>\n",
       "      <th>4</th>\n",
       "      <td>Изменить цвет фона главной страницы, чтобы уве...</td>\n",
       "      <td>3.00</td>\n",
       "    </tr>\n",
       "  </tbody>\n",
       "</table>\n",
       "</div>"
      ],
      "text/plain": [
       "                                          hypothesis    RICE\n",
       "7  Добавить форму подписки на все основные страни...  112.00\n",
       "2  Добавить блоки рекомендаций товаров на сайт ин...   56.00\n",
       "6  Показать на главной странице баннеры с актуаль...   40.00\n",
       "0  Добавить два новых канала привлечения трафика,...   39.99\n",
       "8  Запустить акцию, дающую скидку на товар в день...   16.20\n",
       "3  Изменить структура категорий, что увеличит кон...    8.96\n",
       "1  Запустить собственную службу доставки, что сок...    4.00\n",
       "5  Добавить страницу отзывов клиентов о магазине,...    3.99\n",
       "4  Изменить цвет фона главной страницы, чтобы уве...    3.00"
      ]
     },
     "execution_count": 6,
     "metadata": {},
     "output_type": "execute_result"
    }
   ],
   "source": [
    "hypothesis['RICE'] = (\n",
    "    hypothesis['reach'] * hypothesis['ICE']\n",
    ")\n",
    "\n",
    "hypothesis[['hypothesis', 'RICE']].sort_values('RICE', ascending=False)"
   ]
  },
  {
   "cell_type": "markdown",
   "metadata": {},
   "source": [
    "### Вывод"
   ]
  },
  {
   "cell_type": "code",
   "execution_count": 7,
   "metadata": {},
   "outputs": [
    {
     "data": {
      "text/html": [
       "<style  type=\"text/css\" >\n",
       "#T_ceb64_row0_col2,#T_ceb64_row4_col1{\n",
       "            background-color:  lightgreen;\n",
       "        }#T_ceb64_row8_col1,#T_ceb64_row8_col2{\n",
       "            background-color:  #cd4f39;\n",
       "        }</style><table id=\"T_ceb64_\" ><thead>    <tr>        <th class=\"blank level0\" ></th>        <th class=\"col_heading level0 col0\" >hypothesis</th>        <th class=\"col_heading level0 col1\" >ICE</th>        <th class=\"col_heading level0 col2\" >RICE</th>    </tr></thead><tbody>\n",
       "                <tr>\n",
       "                        <th id=\"T_ceb64_level0_row0\" class=\"row_heading level0 row0\" >7</th>\n",
       "                        <td id=\"T_ceb64_row0_col0\" class=\"data row0 col0\" >Добавить форму подписки на все основные страницы, чтобы собрать базу клиентов для email-рассылок</td>\n",
       "                        <td id=\"T_ceb64_row0_col1\" class=\"data row0 col1\" >11.200000</td>\n",
       "                        <td id=\"T_ceb64_row0_col2\" class=\"data row0 col2\" >112.000000</td>\n",
       "            </tr>\n",
       "            <tr>\n",
       "                        <th id=\"T_ceb64_level0_row1\" class=\"row_heading level0 row1\" >2</th>\n",
       "                        <td id=\"T_ceb64_row1_col0\" class=\"data row1 col0\" >Добавить блоки рекомендаций товаров на сайт интернет магазина, чтобы повысить конверсию и средний чек заказа</td>\n",
       "                        <td id=\"T_ceb64_row1_col1\" class=\"data row1 col1\" >7.000000</td>\n",
       "                        <td id=\"T_ceb64_row1_col2\" class=\"data row1 col2\" >56.000000</td>\n",
       "            </tr>\n",
       "            <tr>\n",
       "                        <th id=\"T_ceb64_level0_row2\" class=\"row_heading level0 row2\" >6</th>\n",
       "                        <td id=\"T_ceb64_row2_col0\" class=\"data row2 col0\" >Показать на главной странице баннеры с актуальными акциями и распродажами, чтобы увеличить конверсию</td>\n",
       "                        <td id=\"T_ceb64_row2_col1\" class=\"data row2 col1\" >8.000000</td>\n",
       "                        <td id=\"T_ceb64_row2_col2\" class=\"data row2 col2\" >40.000000</td>\n",
       "            </tr>\n",
       "            <tr>\n",
       "                        <th id=\"T_ceb64_level0_row3\" class=\"row_heading level0 row3\" >0</th>\n",
       "                        <td id=\"T_ceb64_row3_col0\" class=\"data row3 col0\" >Добавить два новых канала привлечения трафика, что позволит привлекать на 30% больше пользователей</td>\n",
       "                        <td id=\"T_ceb64_row3_col1\" class=\"data row3 col1\" >13.330000</td>\n",
       "                        <td id=\"T_ceb64_row3_col2\" class=\"data row3 col2\" >39.990000</td>\n",
       "            </tr>\n",
       "            <tr>\n",
       "                        <th id=\"T_ceb64_level0_row4\" class=\"row_heading level0 row4\" >8</th>\n",
       "                        <td id=\"T_ceb64_row4_col0\" class=\"data row4 col0\" >Запустить акцию, дающую скидку на товар в день рождения</td>\n",
       "                        <td id=\"T_ceb64_row4_col1\" class=\"data row4 col1\" >16.200000</td>\n",
       "                        <td id=\"T_ceb64_row4_col2\" class=\"data row4 col2\" >16.200000</td>\n",
       "            </tr>\n",
       "            <tr>\n",
       "                        <th id=\"T_ceb64_level0_row5\" class=\"row_heading level0 row5\" >3</th>\n",
       "                        <td id=\"T_ceb64_row5_col0\" class=\"data row5 col0\" >Изменить структура категорий, что увеличит конверсию, т.к. пользователи быстрее найдут нужный товар</td>\n",
       "                        <td id=\"T_ceb64_row5_col1\" class=\"data row5 col1\" >1.120000</td>\n",
       "                        <td id=\"T_ceb64_row5_col2\" class=\"data row5 col2\" >8.960000</td>\n",
       "            </tr>\n",
       "            <tr>\n",
       "                        <th id=\"T_ceb64_level0_row6\" class=\"row_heading level0 row6\" >1</th>\n",
       "                        <td id=\"T_ceb64_row6_col0\" class=\"data row6 col0\" >Запустить собственную службу доставки, что сократит срок доставки заказов</td>\n",
       "                        <td id=\"T_ceb64_row6_col1\" class=\"data row6 col1\" >2.000000</td>\n",
       "                        <td id=\"T_ceb64_row6_col2\" class=\"data row6 col2\" >4.000000</td>\n",
       "            </tr>\n",
       "            <tr>\n",
       "                        <th id=\"T_ceb64_level0_row7\" class=\"row_heading level0 row7\" >5</th>\n",
       "                        <td id=\"T_ceb64_row7_col0\" class=\"data row7 col0\" >Добавить страницу отзывов клиентов о магазине, что позволит увеличить количество заказов</td>\n",
       "                        <td id=\"T_ceb64_row7_col1\" class=\"data row7 col1\" >1.330000</td>\n",
       "                        <td id=\"T_ceb64_row7_col2\" class=\"data row7 col2\" >3.990000</td>\n",
       "            </tr>\n",
       "            <tr>\n",
       "                        <th id=\"T_ceb64_level0_row8\" class=\"row_heading level0 row8\" >4</th>\n",
       "                        <td id=\"T_ceb64_row8_col0\" class=\"data row8 col0\" >Изменить цвет фона главной страницы, чтобы увеличить вовлеченность пользователей</td>\n",
       "                        <td id=\"T_ceb64_row8_col1\" class=\"data row8 col1\" >1.000000</td>\n",
       "                        <td id=\"T_ceb64_row8_col2\" class=\"data row8 col2\" >3.000000</td>\n",
       "            </tr>\n",
       "    </tbody></table>"
      ],
      "text/plain": [
       "<pandas.io.formats.style.Styler at 0x7f2af218fbe0>"
      ]
     },
     "execution_count": 7,
     "metadata": {},
     "output_type": "execute_result"
    }
   ],
   "source": [
    "pd.options.display.max_colwidth = 100\n",
    "\n",
    "hypothesis[['hypothesis','ICE','RICE']].sort_values('RICE', ascending=False).\\\n",
    "style.highlight_max(color='lightgreen').highlight_min(color='#cd4f39')"
   ]
  },
  {
   "cell_type": "markdown",
   "metadata": {},
   "source": [
    "Заметно увеличился приоритет RICE относительно ICE гипотез 7, 2, 6 и 3. Это связано с высоким охватом пользователей. Гипотеза 2 переместилась с пятой позиции на вторую, гипотеза 3 с девятой - на седьмую. Наибольший приоритет имеет седьмая гипотеза."
   ]
  },
  {
   "cell_type": "markdown",
   "metadata": {},
   "source": [
    "## Часть 2. Анализ A/B-теста"
   ]
  },
  {
   "cell_type": "markdown",
   "metadata": {},
   "source": [
    "### Загрузка файлов с данными и изучение общей информации"
   ]
  },
  {
   "cell_type": "code",
   "execution_count": 8,
   "metadata": {},
   "outputs": [],
   "source": [
    "try:\n",
    "    orders = pd.read_csv('https://code.s3.yandex.net/datasets/orders.csv')\n",
    "    visitors = pd.read_csv('https://code.s3.yandex.net/datasets/visitors.csv')\n",
    "except:\n",
    "    orders = pd.read_csv('/datasets/orders.csv')\n",
    "    visitors = pd.read_csv('/datasets/visitors.csv')"
   ]
  },
  {
   "cell_type": "code",
   "execution_count": 9,
   "metadata": {},
   "outputs": [],
   "source": [
    "def first_view(df):\n",
    "    df.columns = [name.lower().replace(' ', '_') for name in df.columns]\n",
    "    display(df.head())\n",
    "    df.info()\n",
    "    print('*'*50)\n",
    "    for column in df:\n",
    "        print('Столбец {}'.format(column))\n",
    "        print(df[column].value_counts().head())\n",
    "        print(df[column].describe())\n",
    "        print('Пропусков в столбце: {}'.format(df[column].isna().sum()))\n",
    "        print('*'*50)\n",
    "      \n",
    "    print('Дубликатов в таблице:', df.duplicated().sum())"
   ]
  },
  {
   "cell_type": "code",
   "execution_count": 10,
   "metadata": {},
   "outputs": [
    {
     "data": {
      "text/html": [
       "<div>\n",
       "<style scoped>\n",
       "    .dataframe tbody tr th:only-of-type {\n",
       "        vertical-align: middle;\n",
       "    }\n",
       "\n",
       "    .dataframe tbody tr th {\n",
       "        vertical-align: top;\n",
       "    }\n",
       "\n",
       "    .dataframe thead th {\n",
       "        text-align: right;\n",
       "    }\n",
       "</style>\n",
       "<table border=\"1\" class=\"dataframe\">\n",
       "  <thead>\n",
       "    <tr style=\"text-align: right;\">\n",
       "      <th></th>\n",
       "      <th>transactionid</th>\n",
       "      <th>visitorid</th>\n",
       "      <th>date</th>\n",
       "      <th>revenue</th>\n",
       "      <th>group</th>\n",
       "    </tr>\n",
       "  </thead>\n",
       "  <tbody>\n",
       "    <tr>\n",
       "      <th>0</th>\n",
       "      <td>3667963787</td>\n",
       "      <td>3312258926</td>\n",
       "      <td>2019-08-15</td>\n",
       "      <td>1650</td>\n",
       "      <td>B</td>\n",
       "    </tr>\n",
       "    <tr>\n",
       "      <th>1</th>\n",
       "      <td>2804400009</td>\n",
       "      <td>3642806036</td>\n",
       "      <td>2019-08-15</td>\n",
       "      <td>730</td>\n",
       "      <td>B</td>\n",
       "    </tr>\n",
       "    <tr>\n",
       "      <th>2</th>\n",
       "      <td>2961555356</td>\n",
       "      <td>4069496402</td>\n",
       "      <td>2019-08-15</td>\n",
       "      <td>400</td>\n",
       "      <td>A</td>\n",
       "    </tr>\n",
       "    <tr>\n",
       "      <th>3</th>\n",
       "      <td>3797467345</td>\n",
       "      <td>1196621759</td>\n",
       "      <td>2019-08-15</td>\n",
       "      <td>9759</td>\n",
       "      <td>B</td>\n",
       "    </tr>\n",
       "    <tr>\n",
       "      <th>4</th>\n",
       "      <td>2282983706</td>\n",
       "      <td>2322279887</td>\n",
       "      <td>2019-08-15</td>\n",
       "      <td>2308</td>\n",
       "      <td>B</td>\n",
       "    </tr>\n",
       "  </tbody>\n",
       "</table>\n",
       "</div>"
      ],
      "text/plain": [
       "   transactionid   visitorid        date  revenue group\n",
       "0     3667963787  3312258926  2019-08-15     1650     B\n",
       "1     2804400009  3642806036  2019-08-15      730     B\n",
       "2     2961555356  4069496402  2019-08-15      400     A\n",
       "3     3797467345  1196621759  2019-08-15     9759     B\n",
       "4     2282983706  2322279887  2019-08-15     2308     B"
      ]
     },
     "metadata": {},
     "output_type": "display_data"
    },
    {
     "name": "stdout",
     "output_type": "stream",
     "text": [
      "<class 'pandas.core.frame.DataFrame'>\n",
      "RangeIndex: 1197 entries, 0 to 1196\n",
      "Data columns (total 5 columns):\n",
      " #   Column         Non-Null Count  Dtype \n",
      "---  ------         --------------  ----- \n",
      " 0   transactionid  1197 non-null   int64 \n",
      " 1   visitorid      1197 non-null   int64 \n",
      " 2   date           1197 non-null   object\n",
      " 3   revenue        1197 non-null   int64 \n",
      " 4   group          1197 non-null   object\n",
      "dtypes: int64(3), object(2)\n",
      "memory usage: 46.9+ KB\n",
      "**************************************************\n",
      "Столбец transactionid\n",
      "1658608862    1\n",
      "2211880073    1\n",
      "3913205113    1\n",
      "437656952     1\n",
      "3592105335    1\n",
      "Name: transactionid, dtype: int64\n",
      "count    1.197000e+03\n",
      "mean     2.155621e+09\n",
      "std      1.229085e+09\n",
      "min      1.062393e+06\n",
      "25%      1.166776e+09\n",
      "50%      2.145194e+09\n",
      "75%      3.237740e+09\n",
      "max      4.293856e+09\n",
      "Name: transactionid, dtype: float64\n",
      "Пропусков в столбце: 0\n",
      "**************************************************\n",
      "Столбец visitorid\n",
      "4256040402    11\n",
      "2458001652    11\n",
      "2378935119     9\n",
      "2038680547     8\n",
      "199603092      5\n",
      "Name: visitorid, dtype: int64\n",
      "count    1.197000e+03\n",
      "mean     2.165960e+09\n",
      "std      1.236014e+09\n",
      "min      5.114589e+06\n",
      "25%      1.111826e+09\n",
      "50%      2.217985e+09\n",
      "75%      3.177606e+09\n",
      "max      4.283872e+09\n",
      "Name: visitorid, dtype: float64\n",
      "Пропусков в столбце: 0\n",
      "**************************************************\n",
      "Столбец date\n",
      "2019-08-05    48\n",
      "2019-08-14    47\n",
      "2019-08-12    47\n",
      "2019-08-06    46\n",
      "2019-08-15    46\n",
      "Name: date, dtype: int64\n",
      "count           1197\n",
      "unique            31\n",
      "top       2019-08-05\n",
      "freq              48\n",
      "Name: date, dtype: object\n",
      "Пропусков в столбце: 0\n",
      "**************************************************\n",
      "Столбец revenue\n",
      "990     17\n",
      "890     13\n",
      "390     13\n",
      "1190    10\n",
      "400     10\n",
      "Name: revenue, dtype: int64\n",
      "count    1.197000e+03\n",
      "mean     8.348006e+03\n",
      "std      3.919113e+04\n",
      "min      5.000000e+01\n",
      "25%      1.220000e+03\n",
      "50%      2.978000e+03\n",
      "75%      8.290000e+03\n",
      "max      1.294500e+06\n",
      "Name: revenue, dtype: float64\n",
      "Пропусков в столбце: 0\n",
      "**************************************************\n",
      "Столбец group\n",
      "B    640\n",
      "A    557\n",
      "Name: group, dtype: int64\n",
      "count     1197\n",
      "unique       2\n",
      "top          B\n",
      "freq       640\n",
      "Name: group, dtype: object\n",
      "Пропусков в столбце: 0\n",
      "**************************************************\n",
      "Дубликатов в таблице: 0\n"
     ]
    }
   ],
   "source": [
    "first_view(orders)"
   ]
  },
  {
   "cell_type": "code",
   "execution_count": 11,
   "metadata": {},
   "outputs": [],
   "source": [
    "orders['date'] = orders['date'].map(\n",
    "    lambda x: dt.datetime.strptime(x, '%Y-%m-%d'))"
   ]
  },
  {
   "cell_type": "code",
   "execution_count": 12,
   "metadata": {
    "scrolled": true
   },
   "outputs": [
    {
     "data": {
      "text/html": [
       "<div>\n",
       "<style scoped>\n",
       "    .dataframe tbody tr th:only-of-type {\n",
       "        vertical-align: middle;\n",
       "    }\n",
       "\n",
       "    .dataframe tbody tr th {\n",
       "        vertical-align: top;\n",
       "    }\n",
       "\n",
       "    .dataframe thead th {\n",
       "        text-align: right;\n",
       "    }\n",
       "</style>\n",
       "<table border=\"1\" class=\"dataframe\">\n",
       "  <thead>\n",
       "    <tr style=\"text-align: right;\">\n",
       "      <th></th>\n",
       "      <th>date</th>\n",
       "      <th>group</th>\n",
       "      <th>visitors</th>\n",
       "    </tr>\n",
       "  </thead>\n",
       "  <tbody>\n",
       "    <tr>\n",
       "      <th>0</th>\n",
       "      <td>2019-08-01</td>\n",
       "      <td>A</td>\n",
       "      <td>719</td>\n",
       "    </tr>\n",
       "    <tr>\n",
       "      <th>1</th>\n",
       "      <td>2019-08-02</td>\n",
       "      <td>A</td>\n",
       "      <td>619</td>\n",
       "    </tr>\n",
       "    <tr>\n",
       "      <th>2</th>\n",
       "      <td>2019-08-03</td>\n",
       "      <td>A</td>\n",
       "      <td>507</td>\n",
       "    </tr>\n",
       "    <tr>\n",
       "      <th>3</th>\n",
       "      <td>2019-08-04</td>\n",
       "      <td>A</td>\n",
       "      <td>717</td>\n",
       "    </tr>\n",
       "    <tr>\n",
       "      <th>4</th>\n",
       "      <td>2019-08-05</td>\n",
       "      <td>A</td>\n",
       "      <td>756</td>\n",
       "    </tr>\n",
       "  </tbody>\n",
       "</table>\n",
       "</div>"
      ],
      "text/plain": [
       "         date group  visitors\n",
       "0  2019-08-01     A       719\n",
       "1  2019-08-02     A       619\n",
       "2  2019-08-03     A       507\n",
       "3  2019-08-04     A       717\n",
       "4  2019-08-05     A       756"
      ]
     },
     "metadata": {},
     "output_type": "display_data"
    },
    {
     "name": "stdout",
     "output_type": "stream",
     "text": [
      "<class 'pandas.core.frame.DataFrame'>\n",
      "RangeIndex: 62 entries, 0 to 61\n",
      "Data columns (total 3 columns):\n",
      " #   Column    Non-Null Count  Dtype \n",
      "---  ------    --------------  ----- \n",
      " 0   date      62 non-null     object\n",
      " 1   group     62 non-null     object\n",
      " 2   visitors  62 non-null     int64 \n",
      "dtypes: int64(1), object(2)\n",
      "memory usage: 1.6+ KB\n",
      "**************************************************\n",
      "Столбец date\n",
      "2019-08-21    2\n",
      "2019-08-14    2\n",
      "2019-08-04    2\n",
      "2019-08-05    2\n",
      "2019-08-16    2\n",
      "Name: date, dtype: int64\n",
      "count             62\n",
      "unique            31\n",
      "top       2019-08-21\n",
      "freq               2\n",
      "Name: date, dtype: object\n",
      "Пропусков в столбце: 0\n",
      "**************************************************\n",
      "Столбец group\n",
      "A    31\n",
      "B    31\n",
      "Name: group, dtype: int64\n",
      "count     62\n",
      "unique     2\n",
      "top        A\n",
      "freq      31\n",
      "Name: group, dtype: object\n",
      "Пропусков в столбце: 0\n",
      "**************************************************\n",
      "Столбец visitors\n",
      "610    2\n",
      "718    2\n",
      "654    2\n",
      "490    2\n",
      "609    1\n",
      "Name: visitors, dtype: int64\n",
      "count     62.000000\n",
      "mean     607.290323\n",
      "std      114.400560\n",
      "min      361.000000\n",
      "25%      534.000000\n",
      "50%      624.500000\n",
      "75%      710.500000\n",
      "max      770.000000\n",
      "Name: visitors, dtype: float64\n",
      "Пропусков в столбце: 0\n",
      "**************************************************\n",
      "Дубликатов в таблице: 0\n"
     ]
    }
   ],
   "source": [
    "first_view(visitors)"
   ]
  },
  {
   "cell_type": "code",
   "execution_count": 13,
   "metadata": {},
   "outputs": [],
   "source": [
    " visitors['date'] = visitors['date'].map(\n",
    "    lambda x: dt.datetime.strptime(x, '%Y-%m-%d'))"
   ]
  },
  {
   "cell_type": "markdown",
   "metadata": {},
   "source": [
    "С данными предварительно все в порядке, пропусков нет. Привели названия столбцов к нижнему регистру, изменили тип данных столбцов с датой."
   ]
  },
  {
   "cell_type": "markdown",
   "metadata": {},
   "source": [
    "### График кумулятивной выручки по группам"
   ]
  },
  {
   "cell_type": "code",
   "execution_count": 14,
   "metadata": {},
   "outputs": [],
   "source": [
    "dates_groups = orders[['date', 'group']].drop_duplicates()\n",
    "\n",
    "orders_agg = dates_groups.apply(\n",
    "    lambda x: orders[\n",
    "        np.logical_and(\n",
    "            orders['date'] <= x['date'],\n",
    "            orders['group'] == x['group']\n",
    "        )\n",
    "    ].agg(\n",
    "        {\n",
    "            'date': 'max',\n",
    "            'group': 'max',\n",
    "            'transactionid': 'nunique',\n",
    "            'visitorid': 'nunique',\n",
    "            'revenue': 'sum',\n",
    "        }\n",
    "    ),\n",
    "    axis=1,\n",
    ").sort_values(by=['date', 'group'])\n",
    "\n",
    "visitors_agg = dates_groups.apply(\n",
    "    lambda x: visitors[\n",
    "        np.logical_and(\n",
    "            visitors['date'] <= x['date'],\n",
    "            visitors['group'] == x['group']\n",
    "        )\n",
    "    ].agg({'date': 'max',\n",
    "           'group': 'max',\n",
    "           'visitors': 'sum'}),\n",
    "    axis=1,\n",
    ").sort_values(by=['date', 'group'])\n",
    "\n",
    "cum_data = orders_agg.merge(\n",
    "    visitors_agg, left_on=['date', 'group'],\n",
    "    right_on=['date', 'group']\n",
    ")\n",
    "cum_data.columns = [\n",
    "    'date',\n",
    "    'group',\n",
    "    'orders',\n",
    "    'buyers',\n",
    "    'revenue',\n",
    "    'visitors',\n",
    "]"
   ]
  },
  {
   "cell_type": "code",
   "execution_count": 15,
   "metadata": {},
   "outputs": [
    {
     "data": {
      "image/png": "[encoded data removed]",
      "text/plain": [
       "<Figure size 720x360 with 1 Axes>"
      ]
     },
     "metadata": {
      "needs_background": "light"
     },
     "output_type": "display_data"
    }
   ],
   "source": [
    "cum_revenue_a = cum_data[cum_data['group']=='A'][\n",
    "    ['date','revenue', 'orders']\n",
    "]\n",
    "\n",
    "cum_revenue_b = cum_data[cum_data['group']=='B'][\n",
    "    ['date','revenue', 'orders']\n",
    "]\n",
    "plt.figure(figsize=(10,5))\n",
    "\n",
    "plt.plot(cum_revenue_a['date'],\n",
    "         cum_revenue_a['revenue'],\n",
    "         label='A')\n",
    "\n",
    "plt.plot(cum_revenue_b['date'],\n",
    "         cum_revenue_b['revenue'],\n",
    "         label='B')\n",
    "\n",
    "plt.ylabel('Выручка')\n",
    "plt.xlabel('Дата')\n",
    "plt.xticks(rotation=30)\n",
    "plt.title('Динамика кумулятивной выручки по группам')\n",
    "plt.legend()\n",
    "plt.show()"
   ]
  },
  {
   "cell_type": "markdown",
   "metadata": {},
   "source": [
    "**Вывод:** \n",
    "\n",
    "Выручка почти равномерно увеличивается в течение всего теста. Выручка по группе B стабильно немного выше. За исключением одного резкого скачка. Это может сигнализировать о всплесках числа заказов, либо о появлении очень дорогих заказов в группе B. Проверим это позже."
   ]
  },
  {
   "cell_type": "markdown",
   "metadata": {},
   "source": [
    "### График кумулятивного среднего чека по группам"
   ]
  },
  {
   "cell_type": "code",
   "execution_count": 16,
   "metadata": {},
   "outputs": [
    {
     "data": {
      "image/png": "[encoded data removed]",
      "text/plain": [
       "<Figure size 720x360 with 1 Axes>"
      ]
     },
     "metadata": {
      "needs_background": "light"
     },
     "output_type": "display_data"
    }
   ],
   "source": [
    "plt.figure(figsize=(10,5))\n",
    "\n",
    "plt.plot(cum_revenue_a['date'],\n",
    "         cum_revenue_a['revenue']/cum_revenue_a['orders'],\n",
    "         label='A')\n",
    "\n",
    "plt.plot(cum_revenue_b['date'],\n",
    "         cum_revenue_b['revenue']/cum_revenue_b['orders'],\n",
    "         label='B')\n",
    "\n",
    "\n",
    "plt.ylabel('Средний чек')\n",
    "plt.xlabel('Дата')\n",
    "plt.xticks(rotation=30)\n",
    "plt.title('Динамика кумулятивной среднего чека по группам')\n",
    "plt.legend()\n",
    "plt.show()"
   ]
  },
  {
   "cell_type": "markdown",
   "metadata": {},
   "source": [
    "**Вывод:** \n",
    "\n",
    "Средний чек становится равномерным ближе к концу теста: установился для группы A и продолжает падать для группы B. Возможно, в группу B во второй половине теста попали крупные заказы (резкий всплеск на графике). Группе B нужно больше данных, чтобы прийти к реальному среднему чеку и установиться на его уровне."
   ]
  },
  {
   "cell_type": "markdown",
   "metadata": {},
   "source": [
    "### График относительного изменения кумулятивного среднего чека группы B к группе A"
   ]
  },
  {
   "cell_type": "code",
   "execution_count": 17,
   "metadata": {},
   "outputs": [
    {
     "data": {
      "image/png": "[encoded data removed]",
      "text/plain": [
       "<Figure size 720x360 with 1 Axes>"
      ]
     },
     "metadata": {
      "needs_background": "light"
     },
     "output_type": "display_data"
    }
   ],
   "source": [
    "merged_cum_revenue = cum_revenue_a.merge(\n",
    "    cum_revenue_b, left_on='date', right_on='date', \n",
    "how='left', suffixes=['A', 'B'])\n",
    "\n",
    "plt.figure(figsize=(10,5))\n",
    "\n",
    "plt.plot(merged_cum_revenue['date'],\n",
    "         (merged_cum_revenue['revenueB']/merged_cum_revenue['ordersB'])/\n",
    "        (merged_cum_revenue['revenueA']/merged_cum_revenue['ordersA'])-1)\n",
    "\n",
    "plt.axhline(y=0, color='black', linestyle='--') \n",
    "\n",
    "plt.ylabel('Относительная разница')\n",
    "plt.xlabel('Дата')\n",
    "plt.xticks(rotation=30)\n",
    "plt.title('Относительное изменениe кумулятивного среднего чека группы B к группе A')\n",
    "plt.show()"
   ]
  },
  {
   "cell_type": "markdown",
   "metadata": {},
   "source": [
    "**Вывод:**\n",
    "\n",
    "В нескольких точках график различия между сегментами резко «скачет». Это говорит о том что есть крупные заказы, выбросы. Они и создают эти скачки. Найдём их позже."
   ]
  },
  {
   "cell_type": "markdown",
   "metadata": {},
   "source": [
    "### График кумулятивного среднего количества заказов на посетителя по группам"
   ]
  },
  {
   "cell_type": "code",
   "execution_count": 18,
   "metadata": {},
   "outputs": [
    {
     "data": {
      "image/png": "[encoded data removed]",
      "text/plain": [
       "<Figure size 720x360 with 1 Axes>"
      ]
     },
     "metadata": {
      "needs_background": "light"
     },
     "output_type": "display_data"
    }
   ],
   "source": [
    "cum_data['conversion'] = cum_data['orders']/cum_data['visitors']\n",
    "\n",
    "cum_data_a = cum_data[cum_data['group']=='A']\n",
    "cum_data_b = cum_data[cum_data['group']=='B']\n",
    "\n",
    "plt.figure(figsize=(10,5))\n",
    "\n",
    "plt.plot(cum_data_a['date'], cum_data_a['conversion'], label='A')\n",
    "plt.plot(cum_data_b['date'], cum_data_b['conversion'], label='B')\n",
    "plt.axis([dt.datetime(2019, 8, 5), dt.datetime(2019, 9, 1), 0.027, 0.04])\n",
    "plt.legend()\n",
    "\n",
    "plt.ylabel('Конверсия')\n",
    "plt.xlabel('Дата')\n",
    "plt.xticks(rotation=30)\n",
    "plt.title('Динамика кумулятивного количества заказов на посетителя по группам')\n",
    "plt.show()"
   ]
  },
  {
   "cell_type": "markdown",
   "metadata": {},
   "source": [
    "**Вывод:**\n",
    "\n",
    "Графики колеблются, к концу теста колебания уменьшаются, но еще не стабилизировались. Количество заказов на пользователя группы B стабильно выше."
   ]
  },
  {
   "cell_type": "markdown",
   "metadata": {},
   "source": [
    "### График относительного изменения кумулятивного среднего количества заказов на посетителя группы B к группе A"
   ]
  },
  {
   "cell_type": "code",
   "execution_count": 19,
   "metadata": {},
   "outputs": [
    {
     "data": {
      "image/png": "[encoded data removed]",
      "text/plain": [
       "<Figure size 720x360 with 1 Axes>"
      ]
     },
     "metadata": {
      "needs_background": "light"
     },
     "output_type": "display_data"
    }
   ],
   "source": [
    "merged_сum_сonversions = cum_data_a[\n",
    "    ['date', 'conversion']].merge(\n",
    "cum_data_b[\n",
    "    ['date', 'conversion']], left_on='date',\n",
    "    right_on='date',\n",
    "    how='left',\n",
    "    suffixes=['A', 'B'])\n",
    "\n",
    "plt.figure(figsize=(10,5))\n",
    "\n",
    "plt.plot(\n",
    "    merged_сum_сonversions['date'],\n",
    "    merged_сum_сonversions['conversionB']/merged_сum_сonversions['conversionA']-1)\n",
    "\n",
    "plt.axhline(y=0, color='black', linestyle='--')\n",
    "plt.axhline(y=0.15, color='grey', linestyle='--')\n",
    "plt.axis([dt.datetime(2019, 8, 5), dt.datetime(2019, 9, 1), -0.1, 0.25])\n",
    "\n",
    "plt.xlabel('Дата')\n",
    "plt.xticks(rotation=30)\n",
    "plt.title('Относительное изменение конверсии группы B к группе A')\n",
    "plt.show()"
   ]
  },
  {
   "cell_type": "markdown",
   "metadata": {},
   "source": [
    "**Вывод:**\n",
    "\n",
    "Почти с самого начала теста группа B лидирует по конверсии. В начале теста есть сильный скачок. Разница растет до 20% к середине теста, затем снижается до 10% и стремится примерно к 15%."
   ]
  },
  {
   "cell_type": "markdown",
   "metadata": {},
   "source": [
    "### Точечный график количества заказов по пользователям"
   ]
  },
  {
   "cell_type": "code",
   "execution_count": 20,
   "metadata": {},
   "outputs": [
    {
     "data": {
      "text/html": [
       "<div>\n",
       "<style scoped>\n",
       "    .dataframe tbody tr th:only-of-type {\n",
       "        vertical-align: middle;\n",
       "    }\n",
       "\n",
       "    .dataframe tbody tr th {\n",
       "        vertical-align: top;\n",
       "    }\n",
       "\n",
       "    .dataframe thead th {\n",
       "        text-align: right;\n",
       "    }\n",
       "</style>\n",
       "<table border=\"1\" class=\"dataframe\">\n",
       "  <thead>\n",
       "    <tr style=\"text-align: right;\">\n",
       "      <th></th>\n",
       "      <th>visitorid</th>\n",
       "      <th>orders</th>\n",
       "    </tr>\n",
       "  </thead>\n",
       "  <tbody>\n",
       "    <tr>\n",
       "      <th>1023</th>\n",
       "      <td>4256040402</td>\n",
       "      <td>11</td>\n",
       "    </tr>\n",
       "    <tr>\n",
       "      <th>591</th>\n",
       "      <td>2458001652</td>\n",
       "      <td>11</td>\n",
       "    </tr>\n",
       "    <tr>\n",
       "      <th>569</th>\n",
       "      <td>2378935119</td>\n",
       "      <td>9</td>\n",
       "    </tr>\n",
       "    <tr>\n",
       "      <th>487</th>\n",
       "      <td>2038680547</td>\n",
       "      <td>8</td>\n",
       "    </tr>\n",
       "    <tr>\n",
       "      <th>44</th>\n",
       "      <td>199603092</td>\n",
       "      <td>5</td>\n",
       "    </tr>\n",
       "    <tr>\n",
       "      <th>744</th>\n",
       "      <td>3062433592</td>\n",
       "      <td>5</td>\n",
       "    </tr>\n",
       "    <tr>\n",
       "      <th>55</th>\n",
       "      <td>237748145</td>\n",
       "      <td>5</td>\n",
       "    </tr>\n",
       "    <tr>\n",
       "      <th>917</th>\n",
       "      <td>3803269165</td>\n",
       "      <td>5</td>\n",
       "    </tr>\n",
       "    <tr>\n",
       "      <th>299</th>\n",
       "      <td>1230306981</td>\n",
       "      <td>5</td>\n",
       "    </tr>\n",
       "    <tr>\n",
       "      <th>897</th>\n",
       "      <td>3717692402</td>\n",
       "      <td>5</td>\n",
       "    </tr>\n",
       "  </tbody>\n",
       "</table>\n",
       "</div>"
      ],
      "text/plain": [
       "       visitorid  orders\n",
       "1023  4256040402      11\n",
       "591   2458001652      11\n",
       "569   2378935119       9\n",
       "487   2038680547       8\n",
       "44     199603092       5\n",
       "744   3062433592       5\n",
       "55     237748145       5\n",
       "917   3803269165       5\n",
       "299   1230306981       5\n",
       "897   3717692402       5"
      ]
     },
     "metadata": {},
     "output_type": "display_data"
    },
    {
     "data": {
      "image/png": "[encoded data removed]",
      "text/plain": [
       "<Figure size 720x360 with 1 Axes>"
      ]
     },
     "metadata": {
      "needs_background": "light"
     },
     "output_type": "display_data"
    }
   ],
   "source": [
    "orders_by_users = (\n",
    "    orders.groupby('visitorid', as_index=False)\n",
    "    .agg({'transactionid': 'nunique'})\n",
    ")\n",
    "orders_by_users.columns = ['visitorid', 'orders']\n",
    "\n",
    "display(orders_by_users.sort_values(by='orders', ascending=False).head(10))\n",
    "\n",
    "x_values = pd.Series(range(0, len(orders_by_users)))\n",
    "\n",
    "plt.figure(figsize=(10,5))\n",
    "\n",
    "plt.scatter(x_values, orders_by_users['orders'])\n",
    "\n",
    "plt.title('Количество заказов по пользователям')\n",
    "plt.ylabel('Количество заказов')\n",
    "plt.show()"
   ]
  },
  {
   "cell_type": "markdown",
   "metadata": {},
   "source": [
    "**Вывод:**\n",
    "\n",
    "Есть немного пользователей с большим количеством заказов. По графику можно выбрать границу аномального количества заказов между 2 и 4. Однако принято отсеивать от 1% до 5% наблюдений с крайними значениями. Дальше посмотрим какое количество заказов находится на этих перцентилях."
   ]
  },
  {
   "cell_type": "markdown",
   "metadata": {},
   "source": [
    "### 95-й и 99-й перцентили количества заказов на пользователя"
   ]
  },
  {
   "cell_type": "code",
   "execution_count": 21,
   "metadata": {},
   "outputs": [
    {
     "data": {
      "text/html": [
       "<div>\n",
       "<style scoped>\n",
       "    .dataframe tbody tr th:only-of-type {\n",
       "        vertical-align: middle;\n",
       "    }\n",
       "\n",
       "    .dataframe tbody tr th {\n",
       "        vertical-align: top;\n",
       "    }\n",
       "\n",
       "    .dataframe thead th {\n",
       "        text-align: right;\n",
       "    }\n",
       "</style>\n",
       "<table border=\"1\" class=\"dataframe\">\n",
       "  <thead>\n",
       "    <tr style=\"text-align: right;\">\n",
       "      <th></th>\n",
       "      <th>visitorid</th>\n",
       "      <th>orders</th>\n",
       "    </tr>\n",
       "  </thead>\n",
       "  <tbody>\n",
       "    <tr>\n",
       "      <th>1023</th>\n",
       "      <td>4256040402</td>\n",
       "      <td>11</td>\n",
       "    </tr>\n",
       "    <tr>\n",
       "      <th>591</th>\n",
       "      <td>2458001652</td>\n",
       "      <td>11</td>\n",
       "    </tr>\n",
       "    <tr>\n",
       "      <th>569</th>\n",
       "      <td>2378935119</td>\n",
       "      <td>9</td>\n",
       "    </tr>\n",
       "    <tr>\n",
       "      <th>487</th>\n",
       "      <td>2038680547</td>\n",
       "      <td>8</td>\n",
       "    </tr>\n",
       "    <tr>\n",
       "      <th>44</th>\n",
       "      <td>199603092</td>\n",
       "      <td>5</td>\n",
       "    </tr>\n",
       "    <tr>\n",
       "      <th>744</th>\n",
       "      <td>3062433592</td>\n",
       "      <td>5</td>\n",
       "    </tr>\n",
       "    <tr>\n",
       "      <th>55</th>\n",
       "      <td>237748145</td>\n",
       "      <td>5</td>\n",
       "    </tr>\n",
       "    <tr>\n",
       "      <th>917</th>\n",
       "      <td>3803269165</td>\n",
       "      <td>5</td>\n",
       "    </tr>\n",
       "    <tr>\n",
       "      <th>299</th>\n",
       "      <td>1230306981</td>\n",
       "      <td>5</td>\n",
       "    </tr>\n",
       "    <tr>\n",
       "      <th>897</th>\n",
       "      <td>3717692402</td>\n",
       "      <td>5</td>\n",
       "    </tr>\n",
       "  </tbody>\n",
       "</table>\n",
       "</div>"
      ],
      "text/plain": [
       "       visitorid  orders\n",
       "1023  4256040402      11\n",
       "591   2458001652      11\n",
       "569   2378935119       9\n",
       "487   2038680547       8\n",
       "44     199603092       5\n",
       "744   3062433592       5\n",
       "55     237748145       5\n",
       "917   3803269165       5\n",
       "299   1230306981       5\n",
       "897   3717692402       5"
      ]
     },
     "metadata": {},
     "output_type": "display_data"
    },
    {
     "name": "stdout",
     "output_type": "stream",
     "text": [
      "95-й перцентиль количества заказов на пользователя: 2.0\n",
      "99-й перцентиль количества заказов на пользователя: 4.0\n"
     ]
    }
   ],
   "source": [
    "display(orders_by_users.sort_values(by='orders', ascending=False).head(10))\n",
    "\n",
    "print('95-й перцентиль количества заказов на пользователя: {}'.format(\n",
    "    np.percentile(orders_by_users['orders'], 95)))\n",
    "print('99-й перцентиль количества заказов на пользователя: {}'.format(\n",
    "    np.percentile(orders_by_users['orders'], 99)))"
   ]
  },
  {
   "cell_type": "markdown",
   "metadata": {},
   "source": [
    "**Вывод:**\n",
    "\n",
    "На удивление точно попали в перцентили на основании графика. Будем считать аномальным количество заказов больше 2."
   ]
  },
  {
   "cell_type": "markdown",
   "metadata": {},
   "source": [
    "### Точечный график стоимостей заказов"
   ]
  },
  {
   "cell_type": "code",
   "execution_count": 22,
   "metadata": {},
   "outputs": [
    {
     "data": {
      "text/html": [
       "<div>\n",
       "<style scoped>\n",
       "    .dataframe tbody tr th:only-of-type {\n",
       "        vertical-align: middle;\n",
       "    }\n",
       "\n",
       "    .dataframe tbody tr th {\n",
       "        vertical-align: top;\n",
       "    }\n",
       "\n",
       "    .dataframe thead th {\n",
       "        text-align: right;\n",
       "    }\n",
       "</style>\n",
       "<table border=\"1\" class=\"dataframe\">\n",
       "  <thead>\n",
       "    <tr style=\"text-align: right;\">\n",
       "      <th></th>\n",
       "      <th>transactionid</th>\n",
       "      <th>visitorid</th>\n",
       "      <th>date</th>\n",
       "      <th>revenue</th>\n",
       "      <th>group</th>\n",
       "    </tr>\n",
       "  </thead>\n",
       "  <tbody>\n",
       "    <tr>\n",
       "      <th>425</th>\n",
       "      <td>590470918</td>\n",
       "      <td>1920142716</td>\n",
       "      <td>2019-08-19</td>\n",
       "      <td>1294500</td>\n",
       "      <td>B</td>\n",
       "    </tr>\n",
       "    <tr>\n",
       "      <th>1196</th>\n",
       "      <td>3936777065</td>\n",
       "      <td>2108080724</td>\n",
       "      <td>2019-08-15</td>\n",
       "      <td>202740</td>\n",
       "      <td>B</td>\n",
       "    </tr>\n",
       "    <tr>\n",
       "      <th>858</th>\n",
       "      <td>192721366</td>\n",
       "      <td>1316129916</td>\n",
       "      <td>2019-08-27</td>\n",
       "      <td>93940</td>\n",
       "      <td>A</td>\n",
       "    </tr>\n",
       "    <tr>\n",
       "      <th>1136</th>\n",
       "      <td>666610489</td>\n",
       "      <td>1307669133</td>\n",
       "      <td>2019-08-13</td>\n",
       "      <td>92550</td>\n",
       "      <td>A</td>\n",
       "    </tr>\n",
       "    <tr>\n",
       "      <th>744</th>\n",
       "      <td>3668308183</td>\n",
       "      <td>888512513</td>\n",
       "      <td>2019-08-27</td>\n",
       "      <td>86620</td>\n",
       "      <td>B</td>\n",
       "    </tr>\n",
       "    <tr>\n",
       "      <th>682</th>\n",
       "      <td>1216533772</td>\n",
       "      <td>4266935830</td>\n",
       "      <td>2019-08-29</td>\n",
       "      <td>78990</td>\n",
       "      <td>B</td>\n",
       "    </tr>\n",
       "    <tr>\n",
       "      <th>662</th>\n",
       "      <td>1811671147</td>\n",
       "      <td>4266935830</td>\n",
       "      <td>2019-08-29</td>\n",
       "      <td>78990</td>\n",
       "      <td>A</td>\n",
       "    </tr>\n",
       "    <tr>\n",
       "      <th>743</th>\n",
       "      <td>3603576309</td>\n",
       "      <td>4133034833</td>\n",
       "      <td>2019-08-09</td>\n",
       "      <td>67990</td>\n",
       "      <td>A</td>\n",
       "    </tr>\n",
       "    <tr>\n",
       "      <th>1103</th>\n",
       "      <td>1348774318</td>\n",
       "      <td>1164614297</td>\n",
       "      <td>2019-08-12</td>\n",
       "      <td>66350</td>\n",
       "      <td>A</td>\n",
       "    </tr>\n",
       "    <tr>\n",
       "      <th>1099</th>\n",
       "      <td>316924019</td>\n",
       "      <td>148427295</td>\n",
       "      <td>2019-08-12</td>\n",
       "      <td>65710</td>\n",
       "      <td>A</td>\n",
       "    </tr>\n",
       "  </tbody>\n",
       "</table>\n",
       "</div>"
      ],
      "text/plain": [
       "      transactionid   visitorid       date  revenue group\n",
       "425       590470918  1920142716 2019-08-19  1294500     B\n",
       "1196     3936777065  2108080724 2019-08-15   202740     B\n",
       "858       192721366  1316129916 2019-08-27    93940     A\n",
       "1136      666610489  1307669133 2019-08-13    92550     A\n",
       "744      3668308183   888512513 2019-08-27    86620     B\n",
       "682      1216533772  4266935830 2019-08-29    78990     B\n",
       "662      1811671147  4266935830 2019-08-29    78990     A\n",
       "743      3603576309  4133034833 2019-08-09    67990     A\n",
       "1103     1348774318  1164614297 2019-08-12    66350     A\n",
       "1099      316924019   148427295 2019-08-12    65710     A"
      ]
     },
     "metadata": {},
     "output_type": "display_data"
    },
    {
     "data": {
      "image/png": "[encoded data removed]",
      "text/plain": [
       "<Figure size 720x360 with 1 Axes>"
      ]
     },
     "metadata": {
      "needs_background": "light"
     },
     "output_type": "display_data"
    }
   ],
   "source": [
    "display(orders.sort_values(by='revenue', ascending=False).head(10))\n",
    "\n",
    "x_values = pd.Series(range(0, len(orders['revenue'])))\n",
    "\n",
    "plt.figure(figsize=(10,5))\n",
    "\n",
    "plt.scatter(x_values, orders['revenue'])\n",
    "\n",
    "plt.title('График стоимостей заказов')\n",
    "plt.ylabel('Стоимость заказа')\n",
    "plt.show()"
   ]
  },
  {
   "cell_type": "markdown",
   "metadata": {},
   "source": [
    "**Вывод:**\n",
    "\n",
    "Есть один очень большой заказ, из-за него сложно понять примерные границы аномальной стоимости заказа. По графику можно сказать что почти все заказы расположены в интервале 0 - 100000. Посмортим далее какие значения находятся на 95-й и 99-й перцентили."
   ]
  },
  {
   "cell_type": "markdown",
   "metadata": {},
   "source": [
    "### 95-й и 99-й перцентили стоимости заказов"
   ]
  },
  {
   "cell_type": "code",
   "execution_count": 23,
   "metadata": {},
   "outputs": [
    {
     "data": {
      "text/html": [
       "<div>\n",
       "<style scoped>\n",
       "    .dataframe tbody tr th:only-of-type {\n",
       "        vertical-align: middle;\n",
       "    }\n",
       "\n",
       "    .dataframe tbody tr th {\n",
       "        vertical-align: top;\n",
       "    }\n",
       "\n",
       "    .dataframe thead th {\n",
       "        text-align: right;\n",
       "    }\n",
       "</style>\n",
       "<table border=\"1\" class=\"dataframe\">\n",
       "  <thead>\n",
       "    <tr style=\"text-align: right;\">\n",
       "      <th></th>\n",
       "      <th>transactionid</th>\n",
       "      <th>visitorid</th>\n",
       "      <th>date</th>\n",
       "      <th>revenue</th>\n",
       "      <th>group</th>\n",
       "    </tr>\n",
       "  </thead>\n",
       "  <tbody>\n",
       "    <tr>\n",
       "      <th>425</th>\n",
       "      <td>590470918</td>\n",
       "      <td>1920142716</td>\n",
       "      <td>2019-08-19</td>\n",
       "      <td>1294500</td>\n",
       "      <td>B</td>\n",
       "    </tr>\n",
       "    <tr>\n",
       "      <th>1196</th>\n",
       "      <td>3936777065</td>\n",
       "      <td>2108080724</td>\n",
       "      <td>2019-08-15</td>\n",
       "      <td>202740</td>\n",
       "      <td>B</td>\n",
       "    </tr>\n",
       "    <tr>\n",
       "      <th>858</th>\n",
       "      <td>192721366</td>\n",
       "      <td>1316129916</td>\n",
       "      <td>2019-08-27</td>\n",
       "      <td>93940</td>\n",
       "      <td>A</td>\n",
       "    </tr>\n",
       "    <tr>\n",
       "      <th>1136</th>\n",
       "      <td>666610489</td>\n",
       "      <td>1307669133</td>\n",
       "      <td>2019-08-13</td>\n",
       "      <td>92550</td>\n",
       "      <td>A</td>\n",
       "    </tr>\n",
       "    <tr>\n",
       "      <th>744</th>\n",
       "      <td>3668308183</td>\n",
       "      <td>888512513</td>\n",
       "      <td>2019-08-27</td>\n",
       "      <td>86620</td>\n",
       "      <td>B</td>\n",
       "    </tr>\n",
       "    <tr>\n",
       "      <th>682</th>\n",
       "      <td>1216533772</td>\n",
       "      <td>4266935830</td>\n",
       "      <td>2019-08-29</td>\n",
       "      <td>78990</td>\n",
       "      <td>B</td>\n",
       "    </tr>\n",
       "    <tr>\n",
       "      <th>662</th>\n",
       "      <td>1811671147</td>\n",
       "      <td>4266935830</td>\n",
       "      <td>2019-08-29</td>\n",
       "      <td>78990</td>\n",
       "      <td>A</td>\n",
       "    </tr>\n",
       "    <tr>\n",
       "      <th>743</th>\n",
       "      <td>3603576309</td>\n",
       "      <td>4133034833</td>\n",
       "      <td>2019-08-09</td>\n",
       "      <td>67990</td>\n",
       "      <td>A</td>\n",
       "    </tr>\n",
       "    <tr>\n",
       "      <th>1103</th>\n",
       "      <td>1348774318</td>\n",
       "      <td>1164614297</td>\n",
       "      <td>2019-08-12</td>\n",
       "      <td>66350</td>\n",
       "      <td>A</td>\n",
       "    </tr>\n",
       "    <tr>\n",
       "      <th>1099</th>\n",
       "      <td>316924019</td>\n",
       "      <td>148427295</td>\n",
       "      <td>2019-08-12</td>\n",
       "      <td>65710</td>\n",
       "      <td>A</td>\n",
       "    </tr>\n",
       "  </tbody>\n",
       "</table>\n",
       "</div>"
      ],
      "text/plain": [
       "      transactionid   visitorid       date  revenue group\n",
       "425       590470918  1920142716 2019-08-19  1294500     B\n",
       "1196     3936777065  2108080724 2019-08-15   202740     B\n",
       "858       192721366  1316129916 2019-08-27    93940     A\n",
       "1136      666610489  1307669133 2019-08-13    92550     A\n",
       "744      3668308183   888512513 2019-08-27    86620     B\n",
       "682      1216533772  4266935830 2019-08-29    78990     B\n",
       "662      1811671147  4266935830 2019-08-29    78990     A\n",
       "743      3603576309  4133034833 2019-08-09    67990     A\n",
       "1103     1348774318  1164614297 2019-08-12    66350     A\n",
       "1099      316924019   148427295 2019-08-12    65710     A"
      ]
     },
     "metadata": {},
     "output_type": "display_data"
    },
    {
     "name": "stdout",
     "output_type": "stream",
     "text": [
      "95-й перцентиль стоимости заказов: 28000.0\n",
      "99-й перцентиль стоимости заказов: 58233.2\n"
     ]
    }
   ],
   "source": [
    "display(orders.sort_values(by='revenue', ascending=False).head(10))\n",
    "\n",
    "print('95-й перцентиль стоимости заказов: {}'.format(\n",
    "    np.percentile(orders['revenue'], 95).round(2)))\n",
    "print('99-й перцентиль стоимости заказов: {}'.format(\n",
    "    np.percentile(orders['revenue'], 99).round(2)))"
   ]
  },
  {
   "cell_type": "markdown",
   "metadata": {},
   "source": [
    "**Вывод:**\n",
    "\n",
    "Больше 28000 всего 5% заказов и 1% заказов превышают сумму 58233. Отсекать как выбросы будем заказы, которые дороже 28000."
   ]
  },
  {
   "cell_type": "markdown",
   "metadata": {},
   "source": [
    "### Статистическая значимость различий в среднем количестве заказов на посетителя между группами по «сырым» данным"
   ]
  },
  {
   "cell_type": "code",
   "execution_count": 24,
   "metadata": {},
   "outputs": [
    {
     "data": {
      "text/html": [
       "<div>\n",
       "<style scoped>\n",
       "    .dataframe tbody tr th:only-of-type {\n",
       "        vertical-align: middle;\n",
       "    }\n",
       "\n",
       "    .dataframe tbody tr th {\n",
       "        vertical-align: top;\n",
       "    }\n",
       "\n",
       "    .dataframe thead th {\n",
       "        text-align: right;\n",
       "    }\n",
       "</style>\n",
       "<table border=\"1\" class=\"dataframe\">\n",
       "  <thead>\n",
       "    <tr style=\"text-align: right;\">\n",
       "      <th></th>\n",
       "      <th>date</th>\n",
       "      <th>ordersPerDateA</th>\n",
       "      <th>revenuePerDateA</th>\n",
       "      <th>ordersCummulativeB</th>\n",
       "      <th>revenueCummulativeB</th>\n",
       "      <th>ordersCummulativeA</th>\n",
       "      <th>revenueCummulativeA</th>\n",
       "      <th>ordersPerDateB</th>\n",
       "      <th>revenuePerDateB</th>\n",
       "      <th>visitorsPerDateA</th>\n",
       "      <th>visitorsPerDateB</th>\n",
       "      <th>visitorsCummulativeA</th>\n",
       "      <th>visitorsCummulativeB</th>\n",
       "    </tr>\n",
       "  </thead>\n",
       "  <tbody>\n",
       "    <tr>\n",
       "      <th>0</th>\n",
       "      <td>2019-08-01</td>\n",
       "      <td>24</td>\n",
       "      <td>148579</td>\n",
       "      <td>21</td>\n",
       "      <td>101217</td>\n",
       "      <td>24</td>\n",
       "      <td>148579</td>\n",
       "      <td>21</td>\n",
       "      <td>101217</td>\n",
       "      <td>719</td>\n",
       "      <td>713</td>\n",
       "      <td>719</td>\n",
       "      <td>713</td>\n",
       "    </tr>\n",
       "    <tr>\n",
       "      <th>1</th>\n",
       "      <td>2019-08-02</td>\n",
       "      <td>20</td>\n",
       "      <td>93822</td>\n",
       "      <td>24</td>\n",
       "      <td>165531</td>\n",
       "      <td>44</td>\n",
       "      <td>242401</td>\n",
       "      <td>45</td>\n",
       "      <td>266748</td>\n",
       "      <td>619</td>\n",
       "      <td>581</td>\n",
       "      <td>1338</td>\n",
       "      <td>1294</td>\n",
       "    </tr>\n",
       "    <tr>\n",
       "      <th>2</th>\n",
       "      <td>2019-08-03</td>\n",
       "      <td>24</td>\n",
       "      <td>112473</td>\n",
       "      <td>16</td>\n",
       "      <td>114248</td>\n",
       "      <td>68</td>\n",
       "      <td>354874</td>\n",
       "      <td>61</td>\n",
       "      <td>380996</td>\n",
       "      <td>507</td>\n",
       "      <td>509</td>\n",
       "      <td>1845</td>\n",
       "      <td>1803</td>\n",
       "    </tr>\n",
       "    <tr>\n",
       "      <th>3</th>\n",
       "      <td>2019-08-04</td>\n",
       "      <td>16</td>\n",
       "      <td>70825</td>\n",
       "      <td>17</td>\n",
       "      <td>108571</td>\n",
       "      <td>84</td>\n",
       "      <td>425699</td>\n",
       "      <td>78</td>\n",
       "      <td>489567</td>\n",
       "      <td>717</td>\n",
       "      <td>770</td>\n",
       "      <td>2562</td>\n",
       "      <td>2573</td>\n",
       "    </tr>\n",
       "    <tr>\n",
       "      <th>4</th>\n",
       "      <td>2019-08-05</td>\n",
       "      <td>25</td>\n",
       "      <td>124218</td>\n",
       "      <td>23</td>\n",
       "      <td>92428</td>\n",
       "      <td>109</td>\n",
       "      <td>549917</td>\n",
       "      <td>101</td>\n",
       "      <td>581995</td>\n",
       "      <td>756</td>\n",
       "      <td>707</td>\n",
       "      <td>3318</td>\n",
       "      <td>3280</td>\n",
       "    </tr>\n",
       "  </tbody>\n",
       "</table>\n",
       "</div>"
      ],
      "text/plain": [
       "        date  ordersPerDateA  revenuePerDateA  ordersCummulativeB  \\\n",
       "0 2019-08-01              24           148579                  21   \n",
       "1 2019-08-02              20            93822                  24   \n",
       "2 2019-08-03              24           112473                  16   \n",
       "3 2019-08-04              16            70825                  17   \n",
       "4 2019-08-05              25           124218                  23   \n",
       "\n",
       "   revenueCummulativeB  ordersCummulativeA  revenueCummulativeA  \\\n",
       "0               101217                  24               148579   \n",
       "1               165531                  44               242401   \n",
       "2               114248                  68               354874   \n",
       "3               108571                  84               425699   \n",
       "4                92428                 109               549917   \n",
       "\n",
       "   ordersPerDateB  revenuePerDateB  visitorsPerDateA  visitorsPerDateB  \\\n",
       "0              21           101217               719               713   \n",
       "1              45           266748               619               581   \n",
       "2              61           380996               507               509   \n",
       "3              78           489567               717               770   \n",
       "4             101           581995               756               707   \n",
       "\n",
       "   visitorsCummulativeA  visitorsCummulativeB  \n",
       "0                   719                   713  \n",
       "1                  1338                  1294  \n",
       "2                  1845                  1803  \n",
       "3                  2562                  2573  \n",
       "4                  3318                  3280  "
      ]
     },
     "metadata": {},
     "output_type": "display_data"
    }
   ],
   "source": [
    "visitors_daily_a = visitors[visitors['group'] == 'A'][['date', 'visitors']]\n",
    "visitors_daily_a.columns = ['date', 'visitorsPerDateA']\n",
    "\n",
    "visitors_cum_a = visitors_daily_a.apply(\n",
    "    lambda x: visitors_daily_a[visitors_daily_a['date'] <= x['date']].agg(\n",
    "        {'date': 'max', 'visitorsPerDateA': 'sum'}\n",
    "    ),\n",
    "    axis=1,\n",
    ")\n",
    "visitors_cum_a.columns = ['date', 'visitorsCummulativeA']\n",
    "\n",
    "visitors_daily_b = visitors[visitors['group'] == 'B'][['date', 'visitors']]\n",
    "visitors_daily_b.columns = ['date', 'visitorsPerDateB']\n",
    "\n",
    "visitors_cum_b = visitors_daily_b.apply(\n",
    "    lambda x: visitors_daily_b[visitors_daily_b['date'] <= x['date']].agg(\n",
    "        {'date': 'max', 'visitorsPerDateB': 'sum'}\n",
    "    ),\n",
    "    axis=1,\n",
    ")\n",
    "visitors_cum_b.columns = ['date', 'visitorsCummulativeB']\n",
    "\n",
    "orders_daily_a = (\n",
    "    orders[orders['group'] == 'A'][['date', 'transactionid', 'visitorid', 'revenue']]\n",
    "    .groupby('date', as_index=False)\n",
    "    .agg({'transactionid': pd.Series.nunique, 'revenue': 'sum'})\n",
    ")\n",
    "orders_daily_a.columns = ['date', 'ordersPerDateA', 'revenuePerDateA']\n",
    "\n",
    "orders_cum_a = orders_daily_a.apply(\n",
    "    lambda x: orders_daily_a[orders_daily_a['date'] <= x['date']].agg(\n",
    "        {'date': 'max', 'ordersPerDateA': 'sum', 'revenuePerDateA': 'sum'}\n",
    "    ),\n",
    "    axis=1,\n",
    ").sort_values(by=['date'])\n",
    "\n",
    "orders_cum_a.columns = [\n",
    "    'date',\n",
    "    'ordersCummulativeA',\n",
    "    'revenueCummulativeA',\n",
    "]\n",
    "\n",
    "orders_daily_b = (\n",
    "    orders[orders['group'] == 'B'][['date', 'transactionid', 'visitorid', 'revenue']]\n",
    "    .groupby('date', as_index=False)\n",
    "    .agg({'transactionid': pd.Series.nunique, 'revenue': 'sum'})\n",
    ")\n",
    "orders_daily_b.columns = ['date', 'ordersPerDateB', 'revenuePerDateB']\n",
    "\n",
    "orders_cum_b = orders_daily_b.apply(\n",
    "    lambda x: orders_daily_b[orders_daily_b['date'] <= x['date']].agg(\n",
    "        {'date': 'max', 'ordersPerDateB': 'sum', 'revenuePerDateB': 'sum'}\n",
    "    ),\n",
    "    axis=1,\n",
    ").sort_values(by=['date'])\n",
    "\n",
    "orders_daily_b.columns = [\n",
    "    'date',\n",
    "    'ordersCummulativeB',\n",
    "    'revenueCummulativeB',\n",
    "]\n",
    "\n",
    "data = (\n",
    "    orders_daily_a.merge(\n",
    "        orders_daily_b, left_on='date', right_on='date', how='left'\n",
    "    )\n",
    "    .merge(orders_cum_a, left_on='date', right_on='date', how='left')\n",
    "    .merge(orders_cum_b, left_on='date', right_on='date', how='left')\n",
    "    .merge(visitors_daily_a, left_on='date', right_on='date', how='left')\n",
    "    .merge(visitors_daily_b, left_on='date', right_on='date', how='left')\n",
    "    .merge(visitors_cum_a, left_on='date', right_on='date', how='left')\n",
    "    .merge(visitors_cum_b, left_on='date', right_on='date', how='left')\n",
    ")\n",
    "\n",
    "display(data.head(5))\n",
    "\n",
    "orders_by_users_a = (\n",
    "    orders[orders['group'] == 'A']\n",
    "    .groupby('visitorid', as_index=False)\n",
    "    .agg({'transactionid': pd.Series.nunique})\n",
    ")\n",
    "orders_by_users_a.columns = ['visitorid', 'orders']\n",
    "\n",
    "orders_by_users_b = (\n",
    "    orders[orders['group'] == 'B']\n",
    "    .groupby('visitorid', as_index=False)\n",
    "    .agg({'transactionid': pd.Series.nunique})\n",
    ")\n",
    "orders_by_users_b.columns = ['visitorid', 'orders']"
   ]
  },
  {
   "cell_type": "code",
   "execution_count": 25,
   "metadata": {},
   "outputs": [
    {
     "data": {
      "text/html": [
       "<div>\n",
       "<style scoped>\n",
       "    .dataframe tbody tr th:only-of-type {\n",
       "        vertical-align: middle;\n",
       "    }\n",
       "\n",
       "    .dataframe tbody tr th {\n",
       "        vertical-align: top;\n",
       "    }\n",
       "\n",
       "    .dataframe thead th {\n",
       "        text-align: right;\n",
       "    }\n",
       "</style>\n",
       "<table border=\"1\" class=\"dataframe\">\n",
       "  <thead>\n",
       "    <tr style=\"text-align: right;\">\n",
       "      <th></th>\n",
       "      <th>date</th>\n",
       "      <th>visitorsPerDateA</th>\n",
       "    </tr>\n",
       "  </thead>\n",
       "  <tbody>\n",
       "    <tr>\n",
       "      <th>0</th>\n",
       "      <td>2019-08-01</td>\n",
       "      <td>719</td>\n",
       "    </tr>\n",
       "    <tr>\n",
       "      <th>1</th>\n",
       "      <td>2019-08-02</td>\n",
       "      <td>619</td>\n",
       "    </tr>\n",
       "    <tr>\n",
       "      <th>2</th>\n",
       "      <td>2019-08-03</td>\n",
       "      <td>507</td>\n",
       "    </tr>\n",
       "    <tr>\n",
       "      <th>3</th>\n",
       "      <td>2019-08-04</td>\n",
       "      <td>717</td>\n",
       "    </tr>\n",
       "    <tr>\n",
       "      <th>4</th>\n",
       "      <td>2019-08-05</td>\n",
       "      <td>756</td>\n",
       "    </tr>\n",
       "    <tr>\n",
       "      <th>5</th>\n",
       "      <td>2019-08-06</td>\n",
       "      <td>667</td>\n",
       "    </tr>\n",
       "    <tr>\n",
       "      <th>6</th>\n",
       "      <td>2019-08-07</td>\n",
       "      <td>644</td>\n",
       "    </tr>\n",
       "    <tr>\n",
       "      <th>7</th>\n",
       "      <td>2019-08-08</td>\n",
       "      <td>610</td>\n",
       "    </tr>\n",
       "    <tr>\n",
       "      <th>8</th>\n",
       "      <td>2019-08-09</td>\n",
       "      <td>617</td>\n",
       "    </tr>\n",
       "    <tr>\n",
       "      <th>9</th>\n",
       "      <td>2019-08-10</td>\n",
       "      <td>406</td>\n",
       "    </tr>\n",
       "    <tr>\n",
       "      <th>10</th>\n",
       "      <td>2019-08-11</td>\n",
       "      <td>718</td>\n",
       "    </tr>\n",
       "    <tr>\n",
       "      <th>11</th>\n",
       "      <td>2019-08-12</td>\n",
       "      <td>595</td>\n",
       "    </tr>\n",
       "    <tr>\n",
       "      <th>12</th>\n",
       "      <td>2019-08-13</td>\n",
       "      <td>748</td>\n",
       "    </tr>\n",
       "    <tr>\n",
       "      <th>13</th>\n",
       "      <td>2019-08-14</td>\n",
       "      <td>735</td>\n",
       "    </tr>\n",
       "    <tr>\n",
       "      <th>14</th>\n",
       "      <td>2019-08-15</td>\n",
       "      <td>628</td>\n",
       "    </tr>\n",
       "    <tr>\n",
       "      <th>15</th>\n",
       "      <td>2019-08-16</td>\n",
       "      <td>361</td>\n",
       "    </tr>\n",
       "    <tr>\n",
       "      <th>16</th>\n",
       "      <td>2019-08-17</td>\n",
       "      <td>412</td>\n",
       "    </tr>\n",
       "    <tr>\n",
       "      <th>17</th>\n",
       "      <td>2019-08-18</td>\n",
       "      <td>668</td>\n",
       "    </tr>\n",
       "    <tr>\n",
       "      <th>18</th>\n",
       "      <td>2019-08-19</td>\n",
       "      <td>502</td>\n",
       "    </tr>\n",
       "    <tr>\n",
       "      <th>19</th>\n",
       "      <td>2019-08-20</td>\n",
       "      <td>575</td>\n",
       "    </tr>\n",
       "    <tr>\n",
       "      <th>20</th>\n",
       "      <td>2019-08-21</td>\n",
       "      <td>646</td>\n",
       "    </tr>\n",
       "    <tr>\n",
       "      <th>21</th>\n",
       "      <td>2019-08-22</td>\n",
       "      <td>609</td>\n",
       "    </tr>\n",
       "    <tr>\n",
       "      <th>22</th>\n",
       "      <td>2019-08-23</td>\n",
       "      <td>468</td>\n",
       "    </tr>\n",
       "    <tr>\n",
       "      <th>23</th>\n",
       "      <td>2019-08-24</td>\n",
       "      <td>395</td>\n",
       "    </tr>\n",
       "    <tr>\n",
       "      <th>24</th>\n",
       "      <td>2019-08-25</td>\n",
       "      <td>621</td>\n",
       "    </tr>\n",
       "    <tr>\n",
       "      <th>25</th>\n",
       "      <td>2019-08-26</td>\n",
       "      <td>722</td>\n",
       "    </tr>\n",
       "    <tr>\n",
       "      <th>26</th>\n",
       "      <td>2019-08-27</td>\n",
       "      <td>711</td>\n",
       "    </tr>\n",
       "    <tr>\n",
       "      <th>27</th>\n",
       "      <td>2019-08-28</td>\n",
       "      <td>594</td>\n",
       "    </tr>\n",
       "    <tr>\n",
       "      <th>28</th>\n",
       "      <td>2019-08-29</td>\n",
       "      <td>577</td>\n",
       "    </tr>\n",
       "    <tr>\n",
       "      <th>29</th>\n",
       "      <td>2019-08-30</td>\n",
       "      <td>490</td>\n",
       "    </tr>\n",
       "    <tr>\n",
       "      <th>30</th>\n",
       "      <td>2019-08-31</td>\n",
       "      <td>699</td>\n",
       "    </tr>\n",
       "  </tbody>\n",
       "</table>\n",
       "</div>"
      ],
      "text/plain": [
       "         date  visitorsPerDateA\n",
       "0  2019-08-01               719\n",
       "1  2019-08-02               619\n",
       "2  2019-08-03               507\n",
       "3  2019-08-04               717\n",
       "4  2019-08-05               756\n",
       "5  2019-08-06               667\n",
       "6  2019-08-07               644\n",
       "7  2019-08-08               610\n",
       "8  2019-08-09               617\n",
       "9  2019-08-10               406\n",
       "10 2019-08-11               718\n",
       "11 2019-08-12               595\n",
       "12 2019-08-13               748\n",
       "13 2019-08-14               735\n",
       "14 2019-08-15               628\n",
       "15 2019-08-16               361\n",
       "16 2019-08-17               412\n",
       "17 2019-08-18               668\n",
       "18 2019-08-19               502\n",
       "19 2019-08-20               575\n",
       "20 2019-08-21               646\n",
       "21 2019-08-22               609\n",
       "22 2019-08-23               468\n",
       "23 2019-08-24               395\n",
       "24 2019-08-25               621\n",
       "25 2019-08-26               722\n",
       "26 2019-08-27               711\n",
       "27 2019-08-28               594\n",
       "28 2019-08-29               577\n",
       "29 2019-08-30               490\n",
       "30 2019-08-31               699"
      ]
     },
     "execution_count": 25,
     "metadata": {},
     "output_type": "execute_result"
    }
   ],
   "source": [
    "visitors_daily_a"
   ]
  },
  {
   "cell_type": "code",
   "execution_count": 26,
   "metadata": {},
   "outputs": [],
   "source": [
    "sample_a = pd.concat(\n",
    "    [orders_by_users_a['orders'],\n",
    "     pd.Series(0,\n",
    "               index=np.arange(\n",
    "                   data['visitorsPerDateA'].sum() - len(orders_by_users_a['orders'])),\n",
    "               name='orders',\n",
    "              ),\n",
    "    ],\n",
    "    axis=0)\n",
    "\n",
    "sample_b = pd.concat(\n",
    "    [orders_by_users_b['orders'],\n",
    "     pd.Series(0,\n",
    "               index=np.arange(\n",
    "                   data['visitorsPerDateB'].sum() - len(orders_by_users_b['orders'])),\n",
    "               name='orders',\n",
    "              ),\n",
    "    ],\n",
    "    axis=0)"
   ]
  },
  {
   "cell_type": "markdown",
   "metadata": {},
   "source": [
    "<div style=\"border:solid green 2px; padding: 20px\">\n",
    "    \n",
    "**Нулевая гипотеза:** различий в среднем количестве заказов на посетителя между группами нет.\n",
    "\n",
    "**Альтернативная гипотеза:** между группами есть статистически значимая разница в среднем количестве заказов на посетителя.\n"
   ]
  },
  {
   "cell_type": "code",
   "execution_count": 27,
   "metadata": {},
   "outputs": [],
   "source": [
    "def mw_test(sample1, sample2):\n",
    "    print('p-value {0:.3f}'.format(\n",
    "    st.mannwhitneyu(sample1, sample2)[1]))\n",
    "\n",
    "    print('Относительный прирост группы B к группе A: {0:.3f}'.format(\n",
    "    sample2.mean()/sample1.mean()-1)) "
   ]
  },
  {
   "cell_type": "code",
   "execution_count": 28,
   "metadata": {},
   "outputs": [
    {
     "name": "stdout",
     "output_type": "stream",
     "text": [
      "p-value 0.017\n",
      "Относительный прирост группы B к группе A: 0.138\n"
     ]
    }
   ],
   "source": [
    "mw_test(sample_a, sample_b)"
   ]
  },
  {
   "cell_type": "markdown",
   "metadata": {},
   "source": [
    "**Вывод:**\n",
    "\n",
    "По «сырым» данным различие в среднем количестве заказов групп A и B есть.\n",
    "\n",
    "p-value = 0.017, это меньше 0.05. Поэтому принять нулевую гипотезу о равенстве групп мы не можем. Показатель группы B, относительно группы A выше почти на 14%. "
   ]
  },
  {
   "cell_type": "markdown",
   "metadata": {},
   "source": [
    "### Статистическая значимость различий в среднем чеке заказа между группами по «сырым» данным"
   ]
  },
  {
   "cell_type": "markdown",
   "metadata": {},
   "source": [
    "<div style=\"border:solid green 2px; padding: 20px\">\n",
    "\n",
    "**Нулевая гипотеза:** различий в среднем чеке заказа между группами нет.\n",
    "\n",
    "**Альтернативная гипотеза:** между группами есть статистически значимая разница в среднем чеке заказа.\n"
   ]
  },
  {
   "cell_type": "code",
   "execution_count": 29,
   "metadata": {},
   "outputs": [],
   "source": [
    "sample_a = orders[orders['group']=='A']['revenue']\n",
    "sample_b = orders[orders['group']=='B']['revenue']"
   ]
  },
  {
   "cell_type": "code",
   "execution_count": 30,
   "metadata": {},
   "outputs": [
    {
     "name": "stdout",
     "output_type": "stream",
     "text": [
      "p-value 0.729\n",
      "Относительный прирост группы B к группе A: 0.259\n"
     ]
    }
   ],
   "source": [
    "mw_test(sample_a, sample_b)"
   ]
  },
  {
   "cell_type": "markdown",
   "metadata": {},
   "source": [
    "**Вывод:**\n",
    "\n",
    "По «сырым» данным различий в среднем чеке групп A и B нет.\n",
    "p-value = 0.729 больше 0.05. Значит, нулевую гипотезу о том, что статистически значимых различий в среднем чеке заказов между группами нет, не отвергаем. Здесь показатель группы B снова выше, относительно группы A, только уже на 25.9%"
   ]
  },
  {
   "cell_type": "markdown",
   "metadata": {},
   "source": [
    "### Статистическая значимость различий в среднем количестве заказов на посетителя между группами по «очищенным» данным"
   ]
  },
  {
   "cell_type": "code",
   "execution_count": 31,
   "metadata": {},
   "outputs": [
    {
     "name": "stdout",
     "output_type": "stream",
     "text": [
      "Количество \"аномальных\" пользователей 74\n",
      "1099    148427295\n",
      "18      199603092\n",
      "928     204675465\n",
      "23      237748145\n",
      "37      249864742\n",
      "Name: visitorid, dtype: int64\n"
     ]
    }
   ],
   "source": [
    "abnormal_users = (pd.concat(\n",
    "    [pd.concat(\n",
    "        [orders_by_users_a[orders_by_users_a['orders'] > 2]['visitorid'],\n",
    "         orders_by_users_b[orders_by_users_b['orders'] > 2]['visitorid']],\n",
    "        axis=0\n",
    "    ),\n",
    "     orders[orders['revenue'] > 28000]['visitorid']],\n",
    "    axis=0\n",
    ").drop_duplicates().sort_values())\n",
    "\n",
    "print('Количество \"аномальных\" пользователей {}'.format(len(abnormal_users)))\n",
    "print(abnormal_users.head(5))"
   ]
  },
  {
   "cell_type": "markdown",
   "metadata": {},
   "source": [
    "Составили список аномальных пользователей, в него вошло 74 id."
   ]
  },
  {
   "cell_type": "markdown",
   "metadata": {},
   "source": [
    "<div style=\"border:solid green 2px; padding: 20px\">\n",
    "    \n",
    "**Нулевая гипотеза:** различий в среднем количестве заказов на посетителя между группами нет.\n",
    "\n",
    "**Альтернативная гипотеза:** между группами есть статистически значимая разница в среднем количестве заказов на посетителя.\n"
   ]
  },
  {
   "cell_type": "code",
   "execution_count": 32,
   "metadata": {},
   "outputs": [
    {
     "name": "stdout",
     "output_type": "stream",
     "text": [
      "p-value 0.013\n",
      "Относительный прирост группы B к группе A: 0.173\n"
     ]
    }
   ],
   "source": [
    "sample_a_filtered = pd.concat(\n",
    "    [\n",
    "        orders_by_users_a[\n",
    "            np.logical_not(orders_by_users_a['visitorid'].isin(abnormal_users))\n",
    "        ]['orders'],\n",
    "        pd.Series(\n",
    "            0,\n",
    "            index=np.arange(\n",
    "                data['visitorsPerDateA'].sum() - len(orders_by_users_a['orders'])\n",
    "            ),\n",
    "            name='orders',\n",
    "        ),\n",
    "    ],\n",
    "    axis=0,\n",
    ")\n",
    "\n",
    "\n",
    "sample_b_filtered = pd.concat([orders_by_users_b[\n",
    "            np.logical_not(orders_by_users_b['visitorid'].isin(abnormal_users))\n",
    "        ]['orders'],pd.Series(\n",
    "            0,\n",
    "            index=np.arange(\n",
    "                data['visitorsPerDateB'].sum() - len(orders_by_users_b['orders'])\n",
    "            ),\n",
    "            name='orders',\n",
    "        ),\n",
    "    ],\n",
    "    axis=0,\n",
    ")\n",
    "\n",
    "mw_test(sample_a_filtered, sample_b_filtered)"
   ]
  },
  {
   "cell_type": "markdown",
   "metadata": {},
   "source": [
    "**Вывод:**\n",
    "\n",
    "После фильтрации p-value практически не изменился, статистически значимая разница в среднем количестве заказов между группами осталась. Относительный прирост группы B немного изменился: с 13.8% до 17.3%."
   ]
  },
  {
   "cell_type": "markdown",
   "metadata": {},
   "source": [
    "### Статистическая значимость различий в среднем чеке заказа между группами по «очищенным» данным"
   ]
  },
  {
   "cell_type": "markdown",
   "metadata": {},
   "source": [
    "<div style=\"border:solid green 2px; padding: 20px\">\n",
    "\n",
    "**Нулевая гипотеза:** различий в среднем чеке заказа между группами нет.\n",
    "\n",
    "**Альтернативная гипотеза:** между группами есть статистически значимая разница в среднем чеке заказа."
   ]
  },
  {
   "cell_type": "code",
   "execution_count": 33,
   "metadata": {},
   "outputs": [
    {
     "name": "stdout",
     "output_type": "stream",
     "text": [
      "p-value 0.738\n",
      "Относительный прирост группы B к группе A: -0.020\n"
     ]
    }
   ],
   "source": [
    "sample_a_filtered = orders[\n",
    "                np.logical_and(\n",
    "                    orders['group'] == 'A',\n",
    "                    np.logical_not(orders['visitorid'].isin(abnormal_users)),\n",
    "                )\n",
    "            ]['revenue']\n",
    "\n",
    "sample_b_filtered = orders[\n",
    "                np.logical_and(\n",
    "                    orders['group'] == 'B',\n",
    "                    np.logical_not(orders['visitorid'].isin(abnormal_users)),\n",
    "                )\n",
    "            ]['revenue']\n",
    "\n",
    "mw_test(sample_a_filtered, sample_b_filtered)"
   ]
  },
  {
   "cell_type": "markdown",
   "metadata": {},
   "source": [
    "Здесь так же p-value практически не изменился. Статистически значимой разницы между группами после фильтрации не появилось. Однако после фильтрации средний чек выше уже у группы A на 2%. До фильтрации был выше у группы B на 26%."
   ]
  },
  {
   "cell_type": "markdown",
   "metadata": {},
   "source": [
    "### Вывод"
   ]
  },
  {
   "cell_type": "markdown",
   "metadata": {},
   "source": [
    "На **этапе предобработки** проблем с данными не обнаружили, исправили только тип данных столбцов с датами в обеих таблицах.\n",
    "\n",
    "**По выручке:** Выручка почти равномерно увеличивается в течение всего теста. Выручка по группе B стабильно немного выше. За исключением одного резкого скачка. Это может сигнализировать о всплесках числа заказов, либо о появлении очень дорогих заказов в группе B.\n",
    "\n",
    "**По среднему чеку:** \n",
    "- Средний чек становится равномерным ближе к концу теста: установился для группы A и продолжает падать для группы B. Возможно, в группу B во второй половине теста попали крупные заказы (резкий всплеск на графике). Группе B нужно больше данных, чтобы прийти к реальному среднему чеку и установиться на его уровне. \n",
    "- В нескольких точках график относительного изменения резко «скачет». Это говорит о том что есть крупные заказы, выбросы. Они и создают эти скачки.\n",
    "- Есть один очень большой заказ, из-за него сложно понять примерные границы аномальной стоимости заказа. По точечному графику стоимостей заказов можно сказать что почти все заказы расположены в интервале 0 - 100000. На 95-й и 99-й перцентилях находятся значения 28000.0 и 58233.2 соответственно.\n",
    "\n",
    "**По среднему количеству заказов на пользователя:** \n",
    "- Графики среднего количества заказов на пользователя колеблются, к концу теста колебания уменьшаются, но еще не стабилизировались. Количество заказов на пользователя группы B стабильно выше. \n",
    "- Почти с самого начала теста группа B лидирует по количеству заказов. В начале теста есть сильный скачок. Разница растет до 20% к середине теста, затем снижается до 10% и стремится примерно к 15%. \n",
    "- Есть немного пользователей с большим количеством заказов. По точечному графику можно выбрать границу аномального количества заказов между 2 и 4. Эти же показатели находятся на 95-й и 99-й перцентилях соответственно. \n",
    "\n",
    "**По сырым данным:**\n",
    "- Различие в среднем количестве заказов групп A и B есть. p-value = 0.017, это меньше 0.05. Поэтому принять нулевую гипотезу о равенстве групп мы не можем. Показатель группы B, относительно группы A выше почти на 14%.\n",
    "- Различий в среднем чеке групп A и B нет. p-value = 0.729 больше 0.05. Значит, нулевую гипотезу о том, что статистически значимых различий в среднем чеке заказов между группами нет, не отвергаем. Здесь показатель группы B снова выше, относительно группы A, только уже на 25.9%\n",
    "\n",
    "**Границы для фильтрации** установили такие:\n",
    "- Стоимость заказа не выше 28000\n",
    "- Не больше двух заказов у пользователя\n",
    "\n",
    "**По данным после фильтрации:**\n",
    "- p-value практически не изменился, статистически значимая разница в среднем количестве заказов между группами осталась. Относительный прирост группы B немного изменился: с 13.8% до 17.3%.\n",
    "- Здесь так же p-value практически не изменился. Статистически значимой разницы в среднем чеке между группами после фильтрации не появилось. Однако после фильтрации средний чек выше уже у группы A на 2%. До фильтрации был выше у группы B на 26%."
   ]
  },
  {
   "cell_type": "markdown",
   "metadata": {},
   "source": [
    "## Общий вывод"
   ]
  },
  {
   "cell_type": "markdown",
   "metadata": {},
   "source": [
    "По результатам анализа можно принять решение об остановке теста и зафиксировать победу группы B. Хоть и разницы в среднем чеке между группами практически нет, среднее количество заказов на пользователя выше у группы B на 17.3%. Соответственно выручка выше у группы B."
   ]
  }
 ],
 "metadata": {
  "ExecuteTimeLog": [
   {
    "duration": 1399,
    "start_time": "2023-07-20T11:02:33.579Z"
   },
   {
    "duration": 108,
    "start_time": "2023-07-20T11:05:53.504Z"
   },
   {
    "duration": 12,
    "start_time": "2023-07-20T11:06:01.501Z"
   },
   {
    "duration": 100,
    "start_time": "2023-07-20T11:10:22.562Z"
   },
   {
    "duration": 3,
    "start_time": "2023-07-20T11:10:37.655Z"
   },
   {
    "duration": 12,
    "start_time": "2023-07-20T11:11:02.884Z"
   },
   {
    "duration": 11,
    "start_time": "2023-07-20T11:11:35.655Z"
   },
   {
    "duration": 12,
    "start_time": "2023-07-20T11:12:00.589Z"
   },
   {
    "duration": 11,
    "start_time": "2023-07-20T11:14:21.109Z"
   },
   {
    "duration": 11,
    "start_time": "2023-07-20T11:14:27.047Z"
   },
   {
    "duration": 10,
    "start_time": "2023-07-20T11:15:59.643Z"
   },
   {
    "duration": 11,
    "start_time": "2023-07-20T11:16:29.606Z"
   },
   {
    "duration": 11,
    "start_time": "2023-07-20T11:16:55.280Z"
   },
   {
    "duration": 228,
    "start_time": "2023-07-20T11:20:18.151Z"
   },
   {
    "duration": 5,
    "start_time": "2023-07-20T11:20:51.846Z"
   },
   {
    "duration": 41,
    "start_time": "2023-07-20T11:20:53.192Z"
   },
   {
    "duration": 28,
    "start_time": "2023-07-20T11:21:15.159Z"
   },
   {
    "duration": 5,
    "start_time": "2023-07-20T11:24:48.051Z"
   },
   {
    "duration": 42,
    "start_time": "2023-07-20T11:24:49.575Z"
   },
   {
    "duration": 26,
    "start_time": "2023-07-20T11:24:54.852Z"
   },
   {
    "duration": 29,
    "start_time": "2023-07-20T11:28:50.880Z"
   },
   {
    "duration": 155,
    "start_time": "2023-07-20T11:38:01.205Z"
   },
   {
    "duration": 136,
    "start_time": "2023-07-20T11:38:32.157Z"
   },
   {
    "duration": 128,
    "start_time": "2023-07-20T11:38:37.136Z"
   },
   {
    "duration": 182,
    "start_time": "2023-07-20T11:38:46.271Z"
   },
   {
    "duration": 635,
    "start_time": "2023-07-20T11:38:59.941Z"
   },
   {
    "duration": 627,
    "start_time": "2023-07-20T11:39:29.695Z"
   },
   {
    "duration": 14,
    "start_time": "2023-07-20T11:39:49.535Z"
   },
   {
    "duration": 589,
    "start_time": "2023-07-20T11:40:35.444Z"
   },
   {
    "duration": 1262,
    "start_time": "2023-07-20T11:40:45.841Z"
   },
   {
    "duration": 74,
    "start_time": "2023-07-20T11:40:47.105Z"
   },
   {
    "duration": 11,
    "start_time": "2023-07-20T11:40:47.181Z"
   },
   {
    "duration": 13,
    "start_time": "2023-07-20T11:40:47.194Z"
   },
   {
    "duration": 16,
    "start_time": "2023-07-20T11:40:47.209Z"
   },
   {
    "duration": 12,
    "start_time": "2023-07-20T11:40:47.227Z"
   },
   {
    "duration": 18,
    "start_time": "2023-07-20T11:40:47.241Z"
   },
   {
    "duration": 113,
    "start_time": "2023-07-20T11:40:47.261Z"
   },
   {
    "duration": 5,
    "start_time": "2023-07-20T11:40:47.375Z"
   },
   {
    "duration": 46,
    "start_time": "2023-07-20T11:40:47.382Z"
   },
   {
    "duration": 25,
    "start_time": "2023-07-20T11:40:47.429Z"
   },
   {
    "duration": 36,
    "start_time": "2023-07-20T11:40:47.474Z"
   },
   {
    "duration": 1405,
    "start_time": "2023-07-20T11:41:49.745Z"
   },
   {
    "duration": 43,
    "start_time": "2023-07-20T11:41:51.152Z"
   },
   {
    "duration": 15,
    "start_time": "2023-07-20T11:41:51.197Z"
   },
   {
    "duration": 14,
    "start_time": "2023-07-20T11:41:51.214Z"
   },
   {
    "duration": 36,
    "start_time": "2023-07-20T11:41:51.231Z"
   },
   {
    "duration": 19,
    "start_time": "2023-07-20T11:41:51.269Z"
   },
   {
    "duration": 19,
    "start_time": "2023-07-20T11:41:51.290Z"
   },
   {
    "duration": 112,
    "start_time": "2023-07-20T11:41:51.311Z"
   },
   {
    "duration": 5,
    "start_time": "2023-07-20T11:41:51.424Z"
   },
   {
    "duration": 45,
    "start_time": "2023-07-20T11:41:51.431Z"
   },
   {
    "duration": 12,
    "start_time": "2023-07-20T11:41:51.478Z"
   },
   {
    "duration": 50,
    "start_time": "2023-07-20T11:41:51.492Z"
   },
   {
    "duration": 4,
    "start_time": "2023-07-20T11:41:51.543Z"
   },
   {
    "duration": 13,
    "start_time": "2023-07-20T11:42:53.691Z"
   },
   {
    "duration": 1252,
    "start_time": "2023-07-20T11:50:44.684Z"
   },
   {
    "duration": 63,
    "start_time": "2023-07-20T11:50:45.938Z"
   },
   {
    "duration": 12,
    "start_time": "2023-07-20T11:50:46.003Z"
   },
   {
    "duration": 3,
    "start_time": "2023-07-20T11:50:46.017Z"
   },
   {
    "duration": 17,
    "start_time": "2023-07-20T11:50:46.022Z"
   },
   {
    "duration": 36,
    "start_time": "2023-07-20T11:50:46.041Z"
   },
   {
    "duration": 22,
    "start_time": "2023-07-20T11:50:46.079Z"
   },
   {
    "duration": 104,
    "start_time": "2023-07-20T11:50:46.102Z"
   },
   {
    "duration": 5,
    "start_time": "2023-07-20T11:50:46.208Z"
   },
   {
    "duration": 55,
    "start_time": "2023-07-20T11:50:46.216Z"
   },
   {
    "duration": 17,
    "start_time": "2023-07-20T11:50:46.273Z"
   },
   {
    "duration": 53,
    "start_time": "2023-07-20T11:50:46.292Z"
   },
   {
    "duration": 6,
    "start_time": "2023-07-20T11:50:46.347Z"
   },
   {
    "duration": 49,
    "start_time": "2023-07-21T07:32:39.139Z"
   },
   {
    "duration": 1426,
    "start_time": "2023-07-21T07:32:43.938Z"
   },
   {
    "duration": 106,
    "start_time": "2023-07-21T07:32:45.367Z"
   },
   {
    "duration": 12,
    "start_time": "2023-07-21T07:32:45.475Z"
   },
   {
    "duration": 3,
    "start_time": "2023-07-21T07:32:45.488Z"
   },
   {
    "duration": 46,
    "start_time": "2023-07-21T07:32:45.493Z"
   },
   {
    "duration": 16,
    "start_time": "2023-07-21T07:32:45.541Z"
   },
   {
    "duration": 31,
    "start_time": "2023-07-21T07:32:45.559Z"
   },
   {
    "duration": 35,
    "start_time": "2023-07-21T07:32:45.593Z"
   },
   {
    "duration": 209,
    "start_time": "2023-07-21T07:32:45.630Z"
   },
   {
    "duration": 5,
    "start_time": "2023-07-21T07:32:45.842Z"
   },
   {
    "duration": 51,
    "start_time": "2023-07-21T07:32:45.849Z"
   },
   {
    "duration": 16,
    "start_time": "2023-07-21T07:32:45.902Z"
   },
   {
    "duration": 92,
    "start_time": "2023-07-21T07:32:45.920Z"
   },
   {
    "duration": 12,
    "start_time": "2023-07-21T07:32:46.015Z"
   },
   {
    "duration": 6,
    "start_time": "2023-07-21T07:33:14.304Z"
   },
   {
    "duration": 4,
    "start_time": "2023-07-21T07:33:22.391Z"
   },
   {
    "duration": 9,
    "start_time": "2023-07-21T07:40:20.539Z"
   },
   {
    "duration": 100,
    "start_time": "2023-07-21T07:44:30.963Z"
   },
   {
    "duration": 532,
    "start_time": "2023-07-21T07:44:42.938Z"
   },
   {
    "duration": 398,
    "start_time": "2023-07-21T07:45:01.008Z"
   },
   {
    "duration": 492,
    "start_time": "2023-07-21T07:45:18.905Z"
   },
   {
    "duration": 408,
    "start_time": "2023-07-21T07:45:25.853Z"
   },
   {
    "duration": 417,
    "start_time": "2023-07-21T07:45:32.576Z"
   },
   {
    "duration": 430,
    "start_time": "2023-07-21T07:46:59.523Z"
   },
   {
    "duration": 10,
    "start_time": "2023-07-21T07:49:02.728Z"
   },
   {
    "duration": 201,
    "start_time": "2023-07-21T07:49:19.922Z"
   },
   {
    "duration": 338,
    "start_time": "2023-07-21T07:49:29.817Z"
   },
   {
    "duration": 177,
    "start_time": "2023-07-21T07:49:37.422Z"
   },
   {
    "duration": 359,
    "start_time": "2023-07-21T07:52:33.594Z"
   },
   {
    "duration": 314,
    "start_time": "2023-07-21T07:53:29.111Z"
   },
   {
    "duration": 290,
    "start_time": "2023-07-21T07:53:37.247Z"
   },
   {
    "duration": 368,
    "start_time": "2023-07-21T07:53:41.201Z"
   },
   {
    "duration": 319,
    "start_time": "2023-07-21T07:54:27.745Z"
   },
   {
    "duration": 182,
    "start_time": "2023-07-21T08:32:16.203Z"
   },
   {
    "duration": 207,
    "start_time": "2023-07-21T08:32:37.163Z"
   },
   {
    "duration": 211,
    "start_time": "2023-07-21T08:33:47.053Z"
   },
   {
    "duration": 213,
    "start_time": "2023-07-21T08:33:55.502Z"
   },
   {
    "duration": 422,
    "start_time": "2023-07-21T08:35:42.478Z"
   },
   {
    "duration": 291,
    "start_time": "2023-07-21T08:36:00.973Z"
   },
   {
    "duration": 259,
    "start_time": "2023-07-21T08:36:38.157Z"
   },
   {
    "duration": 284,
    "start_time": "2023-07-21T08:37:13.017Z"
   },
   {
    "duration": 273,
    "start_time": "2023-07-21T08:37:22.229Z"
   },
   {
    "duration": 269,
    "start_time": "2023-07-21T08:37:33.964Z"
   },
   {
    "duration": 341,
    "start_time": "2023-07-21T08:38:33.112Z"
   },
   {
    "duration": 11,
    "start_time": "2023-07-21T08:41:53.749Z"
   },
   {
    "duration": 10,
    "start_time": "2023-07-21T08:43:31.888Z"
   },
   {
    "duration": 125,
    "start_time": "2023-07-21T08:43:43.678Z"
   },
   {
    "duration": 118,
    "start_time": "2023-07-21T08:45:25.500Z"
   },
   {
    "duration": 123,
    "start_time": "2023-07-21T08:46:17.296Z"
   },
   {
    "duration": 7,
    "start_time": "2023-07-21T08:47:52.241Z"
   },
   {
    "duration": 6,
    "start_time": "2023-07-21T08:49:36.076Z"
   },
   {
    "duration": 9,
    "start_time": "2023-07-21T08:49:54.866Z"
   },
   {
    "duration": 9,
    "start_time": "2023-07-21T08:50:03.368Z"
   },
   {
    "duration": 201,
    "start_time": "2023-07-21T08:51:25.263Z"
   },
   {
    "duration": 9,
    "start_time": "2023-07-21T08:51:28.003Z"
   },
   {
    "duration": 136,
    "start_time": "2023-07-21T08:51:50.501Z"
   },
   {
    "duration": 138,
    "start_time": "2023-07-21T08:52:50.140Z"
   },
   {
    "duration": 150,
    "start_time": "2023-07-21T08:53:31.515Z"
   },
   {
    "duration": 8,
    "start_time": "2023-07-21T08:55:01.643Z"
   },
   {
    "duration": 4463,
    "start_time": "2023-07-21T08:55:06.253Z"
   },
   {
    "duration": 7,
    "start_time": "2023-07-21T08:55:21.191Z"
   },
   {
    "duration": 7,
    "start_time": "2023-07-21T08:55:52.233Z"
   },
   {
    "duration": 9,
    "start_time": "2023-07-21T08:56:15.672Z"
   },
   {
    "duration": 13,
    "start_time": "2023-07-21T08:57:26.011Z"
   },
   {
    "duration": 30,
    "start_time": "2023-07-21T11:50:03.646Z"
   },
   {
    "duration": 101,
    "start_time": "2023-07-21T11:50:29.869Z"
   },
   {
    "duration": 161,
    "start_time": "2023-07-21T11:50:52.545Z"
   },
   {
    "duration": 356,
    "start_time": "2023-07-21T11:51:28.953Z"
   },
   {
    "duration": 365,
    "start_time": "2023-07-21T11:51:58.500Z"
   },
   {
    "duration": 348,
    "start_time": "2023-07-21T11:54:31.548Z"
   },
   {
    "duration": 404,
    "start_time": "2023-07-21T11:55:05.346Z"
   },
   {
    "duration": 10,
    "start_time": "2023-07-21T11:59:17.017Z"
   },
   {
    "duration": 12,
    "start_time": "2023-07-21T11:59:23.953Z"
   },
   {
    "duration": 14,
    "start_time": "2023-07-21T12:02:13.981Z"
   },
   {
    "duration": 7,
    "start_time": "2023-07-21T12:04:49.392Z"
   },
   {
    "duration": 1093,
    "start_time": "2023-07-21T12:04:54.097Z"
   },
   {
    "duration": 120,
    "start_time": "2023-07-21T12:04:55.192Z"
   },
   {
    "duration": 10,
    "start_time": "2023-07-21T12:04:55.313Z"
   },
   {
    "duration": 38,
    "start_time": "2023-07-21T12:04:55.325Z"
   },
   {
    "duration": 32,
    "start_time": "2023-07-21T12:04:55.364Z"
   },
   {
    "duration": 16,
    "start_time": "2023-07-21T12:04:55.397Z"
   },
   {
    "duration": 51,
    "start_time": "2023-07-21T12:04:55.414Z"
   },
   {
    "duration": 292,
    "start_time": "2023-07-21T12:04:55.467Z"
   },
   {
    "duration": 4,
    "start_time": "2023-07-21T12:04:55.761Z"
   },
   {
    "duration": 48,
    "start_time": "2023-07-21T12:04:55.767Z"
   },
   {
    "duration": 13,
    "start_time": "2023-07-21T12:04:55.816Z"
   },
   {
    "duration": 54,
    "start_time": "2023-07-21T12:04:55.831Z"
   },
   {
    "duration": 14,
    "start_time": "2023-07-21T12:04:55.887Z"
   },
   {
    "duration": 292,
    "start_time": "2023-07-21T12:04:55.902Z"
   },
   {
    "duration": 278,
    "start_time": "2023-07-21T12:04:56.196Z"
   },
   {
    "duration": 202,
    "start_time": "2023-07-21T12:04:56.476Z"
   },
   {
    "duration": 277,
    "start_time": "2023-07-21T12:04:56.680Z"
   },
   {
    "duration": 209,
    "start_time": "2023-07-21T12:04:56.958Z"
   },
   {
    "duration": 282,
    "start_time": "2023-07-21T12:04:57.168Z"
   },
   {
    "duration": 133,
    "start_time": "2023-07-21T12:04:57.451Z"
   },
   {
    "duration": 8,
    "start_time": "2023-07-21T12:04:57.586Z"
   },
   {
    "duration": 186,
    "start_time": "2023-07-21T12:04:57.596Z"
   },
   {
    "duration": 12,
    "start_time": "2023-07-21T12:04:57.784Z"
   },
   {
    "duration": 393,
    "start_time": "2023-07-21T12:04:57.798Z"
   },
   {
    "duration": 9,
    "start_time": "2023-07-21T12:04:58.192Z"
   },
   {
    "duration": 113,
    "start_time": "2023-07-21T12:04:58.203Z"
   },
   {
    "duration": 8,
    "start_time": "2023-07-21T12:05:06.646Z"
   },
   {
    "duration": 2336,
    "start_time": "2023-07-21T12:07:55.163Z"
   },
   {
    "duration": 37,
    "start_time": "2023-07-21T12:08:04.937Z"
   },
   {
    "duration": 14,
    "start_time": "2023-07-21T12:09:23.079Z"
   },
   {
    "duration": 13,
    "start_time": "2023-07-21T12:09:48.957Z"
   },
   {
    "duration": 17,
    "start_time": "2023-07-21T12:09:53.808Z"
   },
   {
    "duration": 13,
    "start_time": "2023-07-21T12:09:57.082Z"
   },
   {
    "duration": 26,
    "start_time": "2023-07-21T12:10:43.545Z"
   },
   {
    "duration": 13,
    "start_time": "2023-07-21T12:10:46.773Z"
   },
   {
    "duration": 15,
    "start_time": "2023-07-21T12:10:51.180Z"
   },
   {
    "duration": 1087,
    "start_time": "2023-07-21T12:12:02.363Z"
   },
   {
    "duration": 43,
    "start_time": "2023-07-21T12:12:03.452Z"
   },
   {
    "duration": 381,
    "start_time": "2023-07-21T12:12:03.497Z"
   },
   {
    "duration": 38,
    "start_time": "2023-07-21T12:12:03.879Z"
   },
   {
    "duration": 28,
    "start_time": "2023-07-21T12:12:03.919Z"
   },
   {
    "duration": 17,
    "start_time": "2023-07-21T12:12:03.948Z"
   },
   {
    "duration": 26,
    "start_time": "2023-07-21T12:12:03.967Z"
   },
   {
    "duration": 188,
    "start_time": "2023-07-21T12:12:03.995Z"
   },
   {
    "duration": 4,
    "start_time": "2023-07-21T12:12:04.185Z"
   },
   {
    "duration": 57,
    "start_time": "2023-07-21T12:12:04.191Z"
   },
   {
    "duration": 16,
    "start_time": "2023-07-21T12:12:04.250Z"
   },
   {
    "duration": 43,
    "start_time": "2023-07-21T12:12:04.268Z"
   },
   {
    "duration": 16,
    "start_time": "2023-07-21T12:12:04.312Z"
   },
   {
    "duration": 341,
    "start_time": "2023-07-21T12:12:04.330Z"
   },
   {
    "duration": 350,
    "start_time": "2023-07-21T12:12:04.674Z"
   },
   {
    "duration": 221,
    "start_time": "2023-07-21T12:12:05.026Z"
   },
   {
    "duration": 315,
    "start_time": "2023-07-21T12:12:05.248Z"
   },
   {
    "duration": 244,
    "start_time": "2023-07-21T12:12:05.565Z"
   },
   {
    "duration": 309,
    "start_time": "2023-07-21T12:12:05.810Z"
   },
   {
    "duration": 142,
    "start_time": "2023-07-21T12:12:06.121Z"
   },
   {
    "duration": 8,
    "start_time": "2023-07-21T12:12:06.264Z"
   },
   {
    "duration": 174,
    "start_time": "2023-07-21T12:12:06.274Z"
   },
   {
    "duration": 12,
    "start_time": "2023-07-21T12:12:06.450Z"
   },
   {
    "duration": 396,
    "start_time": "2023-07-21T12:12:06.464Z"
   },
   {
    "duration": 10,
    "start_time": "2023-07-21T12:12:06.862Z"
   },
   {
    "duration": 29,
    "start_time": "2023-07-21T12:12:06.874Z"
   },
   {
    "duration": 59,
    "start_time": "2023-07-21T12:12:06.905Z"
   },
   {
    "duration": 35,
    "start_time": "2023-07-21T12:12:06.966Z"
   },
   {
    "duration": 53,
    "start_time": "2023-07-22T09:39:43.522Z"
   },
   {
    "duration": 1363,
    "start_time": "2023-07-22T09:39:48.527Z"
   },
   {
    "duration": 86,
    "start_time": "2023-07-22T09:39:49.891Z"
   },
   {
    "duration": 16,
    "start_time": "2023-07-22T09:39:49.979Z"
   },
   {
    "duration": 9,
    "start_time": "2023-07-22T09:39:49.998Z"
   },
   {
    "duration": 27,
    "start_time": "2023-07-22T09:39:50.009Z"
   },
   {
    "duration": 29,
    "start_time": "2023-07-22T09:39:50.038Z"
   },
   {
    "duration": 33,
    "start_time": "2023-07-22T09:39:50.069Z"
   },
   {
    "duration": 166,
    "start_time": "2023-07-22T09:39:50.104Z"
   },
   {
    "duration": 6,
    "start_time": "2023-07-22T09:39:50.272Z"
   },
   {
    "duration": 105,
    "start_time": "2023-07-22T09:39:50.281Z"
   },
   {
    "duration": 38,
    "start_time": "2023-07-22T09:39:50.388Z"
   },
   {
    "duration": 78,
    "start_time": "2023-07-22T09:39:50.429Z"
   },
   {
    "duration": 85,
    "start_time": "2023-07-22T09:39:50.509Z"
   },
   {
    "duration": 302,
    "start_time": "2023-07-22T09:39:50.596Z"
   },
   {
    "duration": 297,
    "start_time": "2023-07-22T09:39:50.900Z"
   },
   {
    "duration": 206,
    "start_time": "2023-07-22T09:39:51.199Z"
   },
   {
    "duration": 361,
    "start_time": "2023-07-22T09:39:51.407Z"
   },
   {
    "duration": 375,
    "start_time": "2023-07-22T09:39:51.769Z"
   },
   {
    "duration": 311,
    "start_time": "2023-07-22T09:39:52.146Z"
   },
   {
    "duration": 142,
    "start_time": "2023-07-22T09:39:52.458Z"
   },
   {
    "duration": 19,
    "start_time": "2023-07-22T09:39:52.601Z"
   },
   {
    "duration": 165,
    "start_time": "2023-07-22T09:39:52.622Z"
   },
   {
    "duration": 16,
    "start_time": "2023-07-22T09:39:52.789Z"
   },
   {
    "duration": 451,
    "start_time": "2023-07-22T09:39:52.807Z"
   },
   {
    "duration": 9,
    "start_time": "2023-07-22T09:39:53.260Z"
   },
   {
    "duration": 33,
    "start_time": "2023-07-22T09:39:53.271Z"
   },
   {
    "duration": 90,
    "start_time": "2023-07-22T09:39:53.305Z"
   },
   {
    "duration": 17,
    "start_time": "2023-07-22T09:39:53.399Z"
   },
   {
    "duration": 202,
    "start_time": "2023-07-22T09:40:04.924Z"
   },
   {
    "duration": 177,
    "start_time": "2023-07-22T09:40:20.353Z"
   },
   {
    "duration": 189,
    "start_time": "2023-07-22T09:40:24.494Z"
   },
   {
    "duration": 170,
    "start_time": "2023-07-22T09:40:34.542Z"
   },
   {
    "duration": 176,
    "start_time": "2023-07-22T09:40:49.953Z"
   },
   {
    "duration": 472,
    "start_time": "2023-07-22T09:42:19.008Z"
   },
   {
    "duration": 315,
    "start_time": "2023-07-22T09:42:40.391Z"
   },
   {
    "duration": 298,
    "start_time": "2023-07-22T09:42:56.398Z"
   },
   {
    "duration": 8,
    "start_time": "2023-07-22T10:15:54.394Z"
   },
   {
    "duration": 10,
    "start_time": "2023-07-22T10:17:52.799Z"
   },
   {
    "duration": 1121,
    "start_time": "2023-07-22T10:19:08.947Z"
   },
   {
    "duration": 79,
    "start_time": "2023-07-22T10:19:10.070Z"
   },
   {
    "duration": 10,
    "start_time": "2023-07-22T10:19:10.151Z"
   },
   {
    "duration": 3,
    "start_time": "2023-07-22T10:19:10.163Z"
   },
   {
    "duration": 20,
    "start_time": "2023-07-22T10:19:10.167Z"
   },
   {
    "duration": 11,
    "start_time": "2023-07-22T10:19:10.188Z"
   },
   {
    "duration": 10,
    "start_time": "2023-07-22T10:19:10.201Z"
   },
   {
    "duration": 106,
    "start_time": "2023-07-22T10:19:10.212Z"
   },
   {
    "duration": 5,
    "start_time": "2023-07-22T10:19:10.320Z"
   },
   {
    "duration": 45,
    "start_time": "2023-07-22T10:19:10.329Z"
   },
   {
    "duration": 10,
    "start_time": "2023-07-22T10:19:10.375Z"
   },
   {
    "duration": 50,
    "start_time": "2023-07-22T10:19:10.387Z"
   },
   {
    "duration": 4,
    "start_time": "2023-07-22T10:19:10.439Z"
   },
   {
    "duration": 306,
    "start_time": "2023-07-22T10:19:10.445Z"
   },
   {
    "duration": 313,
    "start_time": "2023-07-22T10:19:10.753Z"
   },
   {
    "duration": 208,
    "start_time": "2023-07-22T10:19:11.068Z"
   },
   {
    "duration": 297,
    "start_time": "2023-07-22T10:19:11.277Z"
   },
   {
    "duration": 212,
    "start_time": "2023-07-22T10:19:11.576Z"
   },
   {
    "duration": 354,
    "start_time": "2023-07-22T10:19:11.789Z"
   },
   {
    "duration": 154,
    "start_time": "2023-07-22T10:19:12.145Z"
   },
   {
    "duration": 21,
    "start_time": "2023-07-22T10:19:12.300Z"
   },
   {
    "duration": 166,
    "start_time": "2023-07-22T10:19:12.323Z"
   },
   {
    "duration": 11,
    "start_time": "2023-07-22T10:19:12.490Z"
   },
   {
    "duration": 421,
    "start_time": "2023-07-22T10:19:12.503Z"
   },
   {
    "duration": 13,
    "start_time": "2023-07-22T10:19:12.926Z"
   },
   {
    "duration": 8,
    "start_time": "2023-07-22T10:19:12.940Z"
   },
   {
    "duration": 28,
    "start_time": "2023-07-22T10:19:12.949Z"
   },
   {
    "duration": 12,
    "start_time": "2023-07-22T10:19:12.980Z"
   },
   {
    "duration": 8,
    "start_time": "2023-07-22T10:26:56.350Z"
   },
   {
    "duration": 25,
    "start_time": "2023-07-22T10:28:18.239Z"
   },
   {
    "duration": 65,
    "start_time": "2023-07-23T12:38:16.059Z"
   },
   {
    "duration": 1240,
    "start_time": "2023-07-23T12:38:20.546Z"
   },
   {
    "duration": 76,
    "start_time": "2023-07-23T12:38:21.788Z"
   },
   {
    "duration": 10,
    "start_time": "2023-07-23T12:38:21.865Z"
   },
   {
    "duration": 3,
    "start_time": "2023-07-23T12:38:21.876Z"
   },
   {
    "duration": 13,
    "start_time": "2023-07-23T12:38:21.881Z"
   },
   {
    "duration": 10,
    "start_time": "2023-07-23T12:38:21.895Z"
   },
   {
    "duration": 11,
    "start_time": "2023-07-23T12:38:21.906Z"
   },
   {
    "duration": 161,
    "start_time": "2023-07-23T12:38:21.918Z"
   },
   {
    "duration": 4,
    "start_time": "2023-07-23T12:38:22.080Z"
   },
   {
    "duration": 50,
    "start_time": "2023-07-23T12:38:22.086Z"
   },
   {
    "duration": 11,
    "start_time": "2023-07-23T12:38:22.137Z"
   },
   {
    "duration": 29,
    "start_time": "2023-07-23T12:38:22.149Z"
   },
   {
    "duration": 4,
    "start_time": "2023-07-23T12:38:22.179Z"
   },
   {
    "duration": 291,
    "start_time": "2023-07-23T12:38:22.186Z"
   },
   {
    "duration": 286,
    "start_time": "2023-07-23T12:38:22.479Z"
   },
   {
    "duration": 193,
    "start_time": "2023-07-23T12:38:22.767Z"
   },
   {
    "duration": 351,
    "start_time": "2023-07-23T12:38:22.961Z"
   },
   {
    "duration": 203,
    "start_time": "2023-07-23T12:38:23.313Z"
   },
   {
    "duration": 325,
    "start_time": "2023-07-23T12:38:23.517Z"
   },
   {
    "duration": 140,
    "start_time": "2023-07-23T12:38:23.843Z"
   },
   {
    "duration": 9,
    "start_time": "2023-07-23T12:38:23.984Z"
   },
   {
    "duration": 153,
    "start_time": "2023-07-23T12:38:23.995Z"
   },
   {
    "duration": 12,
    "start_time": "2023-07-23T12:38:24.149Z"
   },
   {
    "duration": 362,
    "start_time": "2023-07-23T12:38:24.162Z"
   },
   {
    "duration": 13,
    "start_time": "2023-07-23T12:38:24.526Z"
   },
   {
    "duration": 9,
    "start_time": "2023-07-23T12:38:24.541Z"
   },
   {
    "duration": 27,
    "start_time": "2023-07-23T12:38:24.551Z"
   },
   {
    "duration": 12,
    "start_time": "2023-07-23T12:38:24.580Z"
   },
   {
    "duration": 340,
    "start_time": "2023-07-23T12:38:41.266Z"
   },
   {
    "duration": 195,
    "start_time": "2023-07-23T12:38:53.518Z"
   },
   {
    "duration": 212,
    "start_time": "2023-07-23T12:38:57.646Z"
   },
   {
    "duration": 292,
    "start_time": "2023-07-23T12:39:04.049Z"
   },
   {
    "duration": 180,
    "start_time": "2023-07-23T12:39:09.780Z"
   },
   {
    "duration": 190,
    "start_time": "2023-07-23T12:39:16.165Z"
   },
   {
    "duration": 265,
    "start_time": "2023-07-23T12:39:25.855Z"
   },
   {
    "duration": 8,
    "start_time": "2023-07-23T12:46:09.878Z"
   },
   {
    "duration": 14,
    "start_time": "2023-07-23T12:48:34.354Z"
   },
   {
    "duration": 13,
    "start_time": "2023-07-23T12:48:38.851Z"
   },
   {
    "duration": 15,
    "start_time": "2023-07-23T12:48:43.417Z"
   },
   {
    "duration": 4,
    "start_time": "2023-07-23T12:52:58.710Z"
   },
   {
    "duration": 8,
    "start_time": "2023-07-23T12:53:20.160Z"
   },
   {
    "duration": 22,
    "start_time": "2023-07-23T12:53:59.975Z"
   },
   {
    "duration": 25,
    "start_time": "2023-07-23T12:54:53.385Z"
   },
   {
    "duration": 7,
    "start_time": "2023-07-23T12:57:25.141Z"
   },
   {
    "duration": 7,
    "start_time": "2023-07-23T12:57:47.543Z"
   },
   {
    "duration": 330,
    "start_time": "2023-07-23T12:59:33.816Z"
   },
   {
    "duration": 1175,
    "start_time": "2023-07-23T13:03:08.805Z"
   },
   {
    "duration": 115,
    "start_time": "2023-07-23T13:03:09.982Z"
   },
   {
    "duration": 11,
    "start_time": "2023-07-23T13:03:10.099Z"
   },
   {
    "duration": 9,
    "start_time": "2023-07-23T13:03:10.111Z"
   },
   {
    "duration": 30,
    "start_time": "2023-07-23T13:03:10.122Z"
   },
   {
    "duration": 10,
    "start_time": "2023-07-23T13:03:10.154Z"
   },
   {
    "duration": 17,
    "start_time": "2023-07-23T13:03:10.166Z"
   },
   {
    "duration": 112,
    "start_time": "2023-07-23T13:03:10.184Z"
   },
   {
    "duration": 4,
    "start_time": "2023-07-23T13:03:10.297Z"
   },
   {
    "duration": 56,
    "start_time": "2023-07-23T13:03:10.303Z"
   },
   {
    "duration": 12,
    "start_time": "2023-07-23T13:03:10.360Z"
   },
   {
    "duration": 41,
    "start_time": "2023-07-23T13:03:10.374Z"
   },
   {
    "duration": 3,
    "start_time": "2023-07-23T13:03:10.417Z"
   },
   {
    "duration": 276,
    "start_time": "2023-07-23T13:03:10.431Z"
   },
   {
    "duration": 276,
    "start_time": "2023-07-23T13:03:10.709Z"
   },
   {
    "duration": 195,
    "start_time": "2023-07-23T13:03:10.986Z"
   },
   {
    "duration": 271,
    "start_time": "2023-07-23T13:03:11.183Z"
   },
   {
    "duration": 193,
    "start_time": "2023-07-23T13:03:11.456Z"
   },
   {
    "duration": 269,
    "start_time": "2023-07-23T13:03:11.650Z"
   },
   {
    "duration": 139,
    "start_time": "2023-07-23T13:03:11.921Z"
   },
   {
    "duration": 9,
    "start_time": "2023-07-23T13:03:12.061Z"
   },
   {
    "duration": 163,
    "start_time": "2023-07-23T13:03:12.071Z"
   },
   {
    "duration": 11,
    "start_time": "2023-07-23T13:03:12.236Z"
   },
   {
    "duration": 324,
    "start_time": "2023-07-23T13:03:12.248Z"
   },
   {
    "duration": 6,
    "start_time": "2023-07-23T13:03:12.574Z"
   },
   {
    "duration": 4,
    "start_time": "2023-07-23T13:03:12.582Z"
   },
   {
    "duration": 48,
    "start_time": "2023-07-23T13:03:12.588Z"
   },
   {
    "duration": 31,
    "start_time": "2023-07-23T13:03:12.638Z"
   },
   {
    "duration": 24,
    "start_time": "2023-07-23T13:03:12.671Z"
   },
   {
    "duration": 19,
    "start_time": "2023-07-23T13:03:12.697Z"
   },
   {
    "duration": 33,
    "start_time": "2023-07-23T13:03:12.717Z"
   },
   {
    "duration": 10,
    "start_time": "2023-07-23T13:03:12.751Z"
   },
   {
    "duration": 1070,
    "start_time": "2023-07-23T13:53:29.615Z"
   },
   {
    "duration": 61,
    "start_time": "2023-07-23T13:53:30.687Z"
   },
   {
    "duration": 12,
    "start_time": "2023-07-23T13:53:30.750Z"
   },
   {
    "duration": 37,
    "start_time": "2023-07-23T13:53:30.764Z"
   },
   {
    "duration": 43,
    "start_time": "2023-07-23T13:53:30.805Z"
   },
   {
    "duration": 27,
    "start_time": "2023-07-23T13:53:30.849Z"
   },
   {
    "duration": 55,
    "start_time": "2023-07-23T13:53:30.878Z"
   },
   {
    "duration": 239,
    "start_time": "2023-07-23T13:53:30.935Z"
   },
   {
    "duration": 4,
    "start_time": "2023-07-23T13:53:31.176Z"
   },
   {
    "duration": 67,
    "start_time": "2023-07-23T13:53:31.184Z"
   },
   {
    "duration": 23,
    "start_time": "2023-07-23T13:53:31.252Z"
   },
   {
    "duration": 96,
    "start_time": "2023-07-23T13:53:31.276Z"
   },
   {
    "duration": 26,
    "start_time": "2023-07-23T13:53:31.373Z"
   },
   {
    "duration": 303,
    "start_time": "2023-07-23T13:53:31.401Z"
   },
   {
    "duration": 259,
    "start_time": "2023-07-23T13:53:31.706Z"
   },
   {
    "duration": 188,
    "start_time": "2023-07-23T13:53:31.967Z"
   },
   {
    "duration": 301,
    "start_time": "2023-07-23T13:53:32.156Z"
   },
   {
    "duration": 194,
    "start_time": "2023-07-23T13:53:32.459Z"
   },
   {
    "duration": 268,
    "start_time": "2023-07-23T13:53:32.655Z"
   },
   {
    "duration": 136,
    "start_time": "2023-07-23T13:53:32.925Z"
   },
   {
    "duration": 9,
    "start_time": "2023-07-23T13:53:33.062Z"
   },
   {
    "duration": 150,
    "start_time": "2023-07-23T13:53:33.072Z"
   },
   {
    "duration": 11,
    "start_time": "2023-07-23T13:53:33.231Z"
   },
   {
    "duration": 334,
    "start_time": "2023-07-23T13:53:33.244Z"
   },
   {
    "duration": 5,
    "start_time": "2023-07-23T13:53:33.580Z"
   },
   {
    "duration": 14,
    "start_time": "2023-07-23T13:53:33.586Z"
   },
   {
    "duration": 25,
    "start_time": "2023-07-23T13:53:33.602Z"
   },
   {
    "duration": 4,
    "start_time": "2023-07-23T13:53:33.632Z"
   },
   {
    "duration": 15,
    "start_time": "2023-07-23T13:53:33.638Z"
   },
   {
    "duration": 13,
    "start_time": "2023-07-23T13:53:33.654Z"
   },
   {
    "duration": 45,
    "start_time": "2023-07-23T13:53:33.668Z"
   },
   {
    "duration": 10,
    "start_time": "2023-07-23T13:53:33.715Z"
   },
   {
    "duration": 1326,
    "start_time": "2023-07-24T06:42:37.995Z"
   },
   {
    "duration": 68,
    "start_time": "2023-07-24T06:42:39.323Z"
   },
   {
    "duration": 11,
    "start_time": "2023-07-24T06:42:39.393Z"
   },
   {
    "duration": 9,
    "start_time": "2023-07-24T06:42:39.407Z"
   },
   {
    "duration": 31,
    "start_time": "2023-07-24T06:42:39.418Z"
   },
   {
    "duration": 21,
    "start_time": "2023-07-24T06:42:39.451Z"
   },
   {
    "duration": 24,
    "start_time": "2023-07-24T06:42:39.474Z"
   },
   {
    "duration": 255,
    "start_time": "2023-07-24T06:42:39.499Z"
   },
   {
    "duration": 4,
    "start_time": "2023-07-24T06:42:39.756Z"
   },
   {
    "duration": 71,
    "start_time": "2023-07-24T06:42:39.763Z"
   },
   {
    "duration": 11,
    "start_time": "2023-07-24T06:42:39.836Z"
   },
   {
    "duration": 91,
    "start_time": "2023-07-24T06:42:39.849Z"
   },
   {
    "duration": 38,
    "start_time": "2023-07-24T06:42:39.942Z"
   },
   {
    "duration": 317,
    "start_time": "2023-07-24T06:42:39.981Z"
   },
   {
    "duration": 266,
    "start_time": "2023-07-24T06:42:40.300Z"
   },
   {
    "duration": 185,
    "start_time": "2023-07-24T06:42:40.569Z"
   },
   {
    "duration": 326,
    "start_time": "2023-07-24T06:42:40.756Z"
   },
   {
    "duration": 194,
    "start_time": "2023-07-24T06:42:41.083Z"
   },
   {
    "duration": 322,
    "start_time": "2023-07-24T06:42:41.279Z"
   },
   {
    "duration": 133,
    "start_time": "2023-07-24T06:42:41.603Z"
   },
   {
    "duration": 11,
    "start_time": "2023-07-24T06:42:41.738Z"
   },
   {
    "duration": 161,
    "start_time": "2023-07-24T06:42:41.750Z"
   },
   {
    "duration": 11,
    "start_time": "2023-07-24T06:42:41.912Z"
   },
   {
    "duration": 319,
    "start_time": "2023-07-24T06:42:41.925Z"
   },
   {
    "duration": 6,
    "start_time": "2023-07-24T06:42:42.245Z"
   },
   {
    "duration": 18,
    "start_time": "2023-07-24T06:42:42.253Z"
   },
   {
    "duration": 33,
    "start_time": "2023-07-24T06:42:42.272Z"
   },
   {
    "duration": 6,
    "start_time": "2023-07-24T06:42:42.308Z"
   },
   {
    "duration": 26,
    "start_time": "2023-07-24T06:42:42.315Z"
   },
   {
    "duration": 18,
    "start_time": "2023-07-24T06:42:42.342Z"
   },
   {
    "duration": 28,
    "start_time": "2023-07-24T06:42:42.361Z"
   },
   {
    "duration": 11,
    "start_time": "2023-07-24T06:42:42.391Z"
   },
   {
    "duration": 1445,
    "start_time": "2023-07-24T08:06:58.384Z"
   },
   {
    "duration": 56,
    "start_time": "2023-07-24T08:06:59.831Z"
   },
   {
    "duration": 122,
    "start_time": "2023-07-24T08:06:59.889Z"
   },
   {
    "duration": 0,
    "start_time": "2023-07-24T08:07:00.014Z"
   },
   {
    "duration": 0,
    "start_time": "2023-07-24T08:07:00.015Z"
   },
   {
    "duration": 0,
    "start_time": "2023-07-24T08:07:00.017Z"
   },
   {
    "duration": 0,
    "start_time": "2023-07-24T08:07:00.018Z"
   },
   {
    "duration": 0,
    "start_time": "2023-07-24T08:07:00.019Z"
   },
   {
    "duration": 0,
    "start_time": "2023-07-24T08:07:00.021Z"
   },
   {
    "duration": 0,
    "start_time": "2023-07-24T08:07:00.022Z"
   },
   {
    "duration": 0,
    "start_time": "2023-07-24T08:07:00.024Z"
   },
   {
    "duration": 0,
    "start_time": "2023-07-24T08:07:00.024Z"
   },
   {
    "duration": 0,
    "start_time": "2023-07-24T08:07:00.025Z"
   },
   {
    "duration": 0,
    "start_time": "2023-07-24T08:07:00.027Z"
   },
   {
    "duration": 0,
    "start_time": "2023-07-24T08:07:00.028Z"
   },
   {
    "duration": 0,
    "start_time": "2023-07-24T08:07:00.028Z"
   },
   {
    "duration": 0,
    "start_time": "2023-07-24T08:07:00.029Z"
   },
   {
    "duration": 0,
    "start_time": "2023-07-24T08:07:00.031Z"
   },
   {
    "duration": 0,
    "start_time": "2023-07-24T08:07:00.032Z"
   },
   {
    "duration": 0,
    "start_time": "2023-07-24T08:07:00.033Z"
   },
   {
    "duration": 0,
    "start_time": "2023-07-24T08:07:00.035Z"
   },
   {
    "duration": 0,
    "start_time": "2023-07-24T08:07:00.036Z"
   },
   {
    "duration": 0,
    "start_time": "2023-07-24T08:07:00.037Z"
   },
   {
    "duration": 0,
    "start_time": "2023-07-24T08:07:00.038Z"
   },
   {
    "duration": 0,
    "start_time": "2023-07-24T08:07:00.039Z"
   },
   {
    "duration": 0,
    "start_time": "2023-07-24T08:07:00.040Z"
   },
   {
    "duration": 1,
    "start_time": "2023-07-24T08:07:00.041Z"
   },
   {
    "duration": 0,
    "start_time": "2023-07-24T08:07:00.043Z"
   },
   {
    "duration": 0,
    "start_time": "2023-07-24T08:07:00.044Z"
   },
   {
    "duration": 0,
    "start_time": "2023-07-24T08:07:00.045Z"
   },
   {
    "duration": 0,
    "start_time": "2023-07-24T08:07:00.046Z"
   },
   {
    "duration": 0,
    "start_time": "2023-07-24T08:07:00.047Z"
   },
   {
    "duration": 0,
    "start_time": "2023-07-24T08:07:00.048Z"
   },
   {
    "duration": 5,
    "start_time": "2023-07-24T08:07:13.063Z"
   },
   {
    "duration": 3,
    "start_time": "2023-07-24T08:08:40.722Z"
   },
   {
    "duration": 3,
    "start_time": "2023-07-24T08:08:45.267Z"
   },
   {
    "duration": 16,
    "start_time": "2023-07-24T08:08:45.947Z"
   },
   {
    "duration": 3,
    "start_time": "2023-07-24T08:11:30.638Z"
   },
   {
    "duration": 1228,
    "start_time": "2023-07-24T08:11:35.365Z"
   },
   {
    "duration": 78,
    "start_time": "2023-07-24T08:11:36.596Z"
   },
   {
    "duration": 3,
    "start_time": "2023-07-24T08:11:36.676Z"
   },
   {
    "duration": 28,
    "start_time": "2023-07-24T08:11:36.682Z"
   },
   {
    "duration": 88,
    "start_time": "2023-07-24T08:11:36.712Z"
   },
   {
    "duration": 22,
    "start_time": "2023-07-24T08:11:36.802Z"
   },
   {
    "duration": 10,
    "start_time": "2023-07-24T08:11:36.826Z"
   },
   {
    "duration": 16,
    "start_time": "2023-07-24T08:11:36.838Z"
   },
   {
    "duration": 336,
    "start_time": "2023-07-24T08:11:36.855Z"
   },
   {
    "duration": 5,
    "start_time": "2023-07-24T08:11:37.194Z"
   },
   {
    "duration": 68,
    "start_time": "2023-07-24T08:11:37.200Z"
   },
   {
    "duration": 12,
    "start_time": "2023-07-24T08:11:37.270Z"
   },
   {
    "duration": 44,
    "start_time": "2023-07-24T08:11:37.284Z"
   },
   {
    "duration": 6,
    "start_time": "2023-07-24T08:11:37.330Z"
   },
   {
    "duration": 355,
    "start_time": "2023-07-24T08:11:37.339Z"
   },
   {
    "duration": 299,
    "start_time": "2023-07-24T08:11:37.696Z"
   },
   {
    "duration": 214,
    "start_time": "2023-07-24T08:11:37.996Z"
   },
   {
    "duration": 333,
    "start_time": "2023-07-24T08:11:38.212Z"
   },
   {
    "duration": 233,
    "start_time": "2023-07-24T08:11:38.547Z"
   },
   {
    "duration": 445,
    "start_time": "2023-07-24T08:11:38.782Z"
   },
   {
    "duration": 308,
    "start_time": "2023-07-24T08:11:39.228Z"
   },
   {
    "duration": 63,
    "start_time": "2023-07-24T08:11:39.538Z"
   },
   {
    "duration": 326,
    "start_time": "2023-07-24T08:11:39.603Z"
   },
   {
    "duration": 66,
    "start_time": "2023-07-24T08:11:39.930Z"
   },
   {
    "duration": 802,
    "start_time": "2023-07-24T08:11:39.998Z"
   },
   {
    "duration": 9,
    "start_time": "2023-07-24T08:11:40.802Z"
   },
   {
    "duration": 9,
    "start_time": "2023-07-24T08:11:40.813Z"
   },
   {
    "duration": 82,
    "start_time": "2023-07-24T08:11:40.825Z"
   },
   {
    "duration": 7,
    "start_time": "2023-07-24T08:11:40.908Z"
   },
   {
    "duration": 11,
    "start_time": "2023-07-24T08:11:40.917Z"
   },
   {
    "duration": 13,
    "start_time": "2023-07-24T08:11:40.930Z"
   },
   {
    "duration": 53,
    "start_time": "2023-07-24T08:11:40.945Z"
   },
   {
    "duration": 12,
    "start_time": "2023-07-24T08:11:41.000Z"
   },
   {
    "duration": 4,
    "start_time": "2023-07-24T08:11:46.558Z"
   },
   {
    "duration": 10,
    "start_time": "2023-07-24T08:11:47.575Z"
   },
   {
    "duration": 3,
    "start_time": "2023-07-24T08:11:50.843Z"
   },
   {
    "duration": 11,
    "start_time": "2023-07-24T08:11:51.731Z"
   },
   {
    "duration": 153,
    "start_time": "2023-07-24T08:14:30.598Z"
   },
   {
    "duration": 5,
    "start_time": "2023-07-24T08:14:48.566Z"
   },
   {
    "duration": 212,
    "start_time": "2023-07-24T08:14:52.079Z"
   },
   {
    "duration": 43,
    "start_time": "2023-07-24T08:15:20.140Z"
   },
   {
    "duration": 19,
    "start_time": "2023-07-24T08:15:51.594Z"
   },
   {
    "duration": 22,
    "start_time": "2023-07-24T08:16:06.315Z"
   },
   {
    "duration": 20,
    "start_time": "2023-07-24T08:16:15.553Z"
   },
   {
    "duration": 28,
    "start_time": "2023-07-24T08:16:24.242Z"
   },
   {
    "duration": 17,
    "start_time": "2023-07-24T08:16:51.854Z"
   },
   {
    "duration": 14,
    "start_time": "2023-07-24T08:17:02.906Z"
   },
   {
    "duration": 18,
    "start_time": "2023-07-24T08:17:12.804Z"
   },
   {
    "duration": 10,
    "start_time": "2023-07-24T08:17:24.223Z"
   },
   {
    "duration": 118,
    "start_time": "2023-07-24T08:17:53.773Z"
   },
   {
    "duration": 18,
    "start_time": "2023-07-24T08:18:30.948Z"
   },
   {
    "duration": 17,
    "start_time": "2023-07-24T08:18:52.864Z"
   },
   {
    "duration": 18,
    "start_time": "2023-07-24T08:19:10.540Z"
   },
   {
    "duration": 370,
    "start_time": "2023-07-24T08:20:49.248Z"
   },
   {
    "duration": 10,
    "start_time": "2023-07-24T08:24:16.162Z"
   },
   {
    "duration": 5,
    "start_time": "2023-07-24T08:25:18.271Z"
   },
   {
    "duration": 6,
    "start_time": "2023-07-24T08:25:32.843Z"
   },
   {
    "duration": 160,
    "start_time": "2023-07-24T08:25:48.605Z"
   },
   {
    "duration": 130,
    "start_time": "2023-07-24T08:25:56.346Z"
   },
   {
    "duration": 16,
    "start_time": "2023-07-24T08:33:42.602Z"
   },
   {
    "duration": 121,
    "start_time": "2023-07-24T08:39:11.914Z"
   },
   {
    "duration": 221,
    "start_time": "2023-07-24T08:39:30.599Z"
   },
   {
    "duration": 405,
    "start_time": "2023-07-24T08:44:09.656Z"
   },
   {
    "duration": 14,
    "start_time": "2023-07-24T08:48:05.288Z"
   },
   {
    "duration": 8,
    "start_time": "2023-07-24T08:48:26.093Z"
   },
   {
    "duration": 174,
    "start_time": "2023-07-24T08:49:04.691Z"
   },
   {
    "duration": 4758,
    "start_time": "2023-07-24T08:50:24.597Z"
   },
   {
    "duration": 16,
    "start_time": "2023-07-24T08:51:12.046Z"
   },
   {
    "duration": 15,
    "start_time": "2023-07-24T08:51:18.135Z"
   },
   {
    "duration": 15,
    "start_time": "2023-07-24T08:51:20.856Z"
   },
   {
    "duration": 424,
    "start_time": "2023-07-24T08:51:29.792Z"
   },
   {
    "duration": 13,
    "start_time": "2023-07-24T08:52:08.439Z"
   },
   {
    "duration": 12,
    "start_time": "2023-07-24T08:52:31.166Z"
   },
   {
    "duration": 12,
    "start_time": "2023-07-24T08:52:50.490Z"
   },
   {
    "duration": 12,
    "start_time": "2023-07-24T08:53:02.958Z"
   },
   {
    "duration": 8,
    "start_time": "2023-07-24T08:54:16.146Z"
   },
   {
    "duration": 62,
    "start_time": "2023-07-24T08:54:40.942Z"
   },
   {
    "duration": 12,
    "start_time": "2023-07-24T08:55:43.443Z"
   },
   {
    "duration": 9,
    "start_time": "2023-07-24T08:55:48.746Z"
   },
   {
    "duration": 4,
    "start_time": "2023-07-24T08:56:09.339Z"
   },
   {
    "duration": 8,
    "start_time": "2023-07-24T08:56:13.642Z"
   },
   {
    "duration": 9,
    "start_time": "2023-07-24T08:58:15.318Z"
   },
   {
    "duration": 10,
    "start_time": "2023-07-24T09:00:21.039Z"
   },
   {
    "duration": 6,
    "start_time": "2023-07-24T09:00:55.567Z"
   },
   {
    "duration": 12,
    "start_time": "2023-07-24T09:01:39.922Z"
   },
   {
    "duration": 10,
    "start_time": "2023-07-24T09:03:04.241Z"
   },
   {
    "duration": 12,
    "start_time": "2023-07-24T09:03:14.440Z"
   },
   {
    "duration": 728,
    "start_time": "2023-07-24T09:04:10.858Z"
   },
   {
    "duration": 11,
    "start_time": "2023-07-24T09:04:35.365Z"
   },
   {
    "duration": 8,
    "start_time": "2023-07-24T09:04:49.264Z"
   },
   {
    "duration": 8,
    "start_time": "2023-07-24T09:05:34.043Z"
   },
   {
    "duration": 495,
    "start_time": "2023-07-24T09:06:58.837Z"
   },
   {
    "duration": 463,
    "start_time": "2023-07-24T09:07:04.551Z"
   },
   {
    "duration": 337,
    "start_time": "2023-07-24T09:07:18.597Z"
   },
   {
    "duration": 17,
    "start_time": "2023-07-24T09:07:33.640Z"
   },
   {
    "duration": 8,
    "start_time": "2023-07-24T09:08:15.788Z"
   },
   {
    "duration": 5,
    "start_time": "2023-07-24T09:11:01.740Z"
   },
   {
    "duration": 6,
    "start_time": "2023-07-24T09:11:06.337Z"
   },
   {
    "duration": 1297,
    "start_time": "2023-07-24T09:11:13.585Z"
   },
   {
    "duration": 148,
    "start_time": "2023-07-24T09:11:14.884Z"
   },
   {
    "duration": 11,
    "start_time": "2023-07-24T09:11:15.034Z"
   },
   {
    "duration": 19,
    "start_time": "2023-07-24T09:11:15.047Z"
   },
   {
    "duration": 40,
    "start_time": "2023-07-24T09:11:15.067Z"
   },
   {
    "duration": 17,
    "start_time": "2023-07-24T09:11:15.109Z"
   },
   {
    "duration": 58,
    "start_time": "2023-07-24T09:11:15.128Z"
   },
   {
    "duration": 148,
    "start_time": "2023-07-24T09:11:15.188Z"
   },
   {
    "duration": 4,
    "start_time": "2023-07-24T09:11:15.338Z"
   },
   {
    "duration": 54,
    "start_time": "2023-07-24T09:11:15.345Z"
   },
   {
    "duration": 12,
    "start_time": "2023-07-24T09:11:15.401Z"
   },
   {
    "duration": 64,
    "start_time": "2023-07-24T09:11:15.415Z"
   },
   {
    "duration": 4,
    "start_time": "2023-07-24T09:11:15.481Z"
   },
   {
    "duration": 14,
    "start_time": "2023-07-24T09:11:15.486Z"
   },
   {
    "duration": 98,
    "start_time": "2023-07-24T09:11:15.502Z"
   },
   {
    "duration": 0,
    "start_time": "2023-07-24T09:11:15.602Z"
   },
   {
    "duration": 0,
    "start_time": "2023-07-24T09:11:15.603Z"
   },
   {
    "duration": 0,
    "start_time": "2023-07-24T09:11:15.604Z"
   },
   {
    "duration": 0,
    "start_time": "2023-07-24T09:11:15.605Z"
   },
   {
    "duration": 0,
    "start_time": "2023-07-24T09:11:15.607Z"
   },
   {
    "duration": 0,
    "start_time": "2023-07-24T09:11:15.607Z"
   },
   {
    "duration": 0,
    "start_time": "2023-07-24T09:11:15.608Z"
   },
   {
    "duration": 0,
    "start_time": "2023-07-24T09:11:15.609Z"
   },
   {
    "duration": 0,
    "start_time": "2023-07-24T09:11:15.610Z"
   },
   {
    "duration": 1,
    "start_time": "2023-07-24T09:11:15.611Z"
   },
   {
    "duration": 0,
    "start_time": "2023-07-24T09:11:15.613Z"
   },
   {
    "duration": 0,
    "start_time": "2023-07-24T09:11:15.614Z"
   },
   {
    "duration": 0,
    "start_time": "2023-07-24T09:11:15.615Z"
   },
   {
    "duration": 0,
    "start_time": "2023-07-24T09:11:15.615Z"
   },
   {
    "duration": 0,
    "start_time": "2023-07-24T09:11:15.616Z"
   },
   {
    "duration": 0,
    "start_time": "2023-07-24T09:11:15.617Z"
   },
   {
    "duration": 0,
    "start_time": "2023-07-24T09:11:15.618Z"
   },
   {
    "duration": 0,
    "start_time": "2023-07-24T09:11:15.619Z"
   },
   {
    "duration": 0,
    "start_time": "2023-07-24T09:11:15.620Z"
   },
   {
    "duration": 6,
    "start_time": "2023-07-24T09:11:29.822Z"
   },
   {
    "duration": 1145,
    "start_time": "2023-07-24T09:12:25.645Z"
   },
   {
    "duration": 55,
    "start_time": "2023-07-24T09:12:26.792Z"
   },
   {
    "duration": 12,
    "start_time": "2023-07-24T09:12:26.848Z"
   },
   {
    "duration": 6,
    "start_time": "2023-07-24T09:12:26.862Z"
   },
   {
    "duration": 22,
    "start_time": "2023-07-24T09:12:26.871Z"
   },
   {
    "duration": 11,
    "start_time": "2023-07-24T09:12:26.895Z"
   },
   {
    "duration": 57,
    "start_time": "2023-07-24T09:12:26.908Z"
   },
   {
    "duration": 199,
    "start_time": "2023-07-24T09:12:26.967Z"
   },
   {
    "duration": 4,
    "start_time": "2023-07-24T09:12:27.168Z"
   },
   {
    "duration": 60,
    "start_time": "2023-07-24T09:12:27.174Z"
   },
   {
    "duration": 12,
    "start_time": "2023-07-24T09:12:27.236Z"
   },
   {
    "duration": 36,
    "start_time": "2023-07-24T09:12:27.250Z"
   },
   {
    "duration": 4,
    "start_time": "2023-07-24T09:12:27.296Z"
   },
   {
    "duration": 22,
    "start_time": "2023-07-24T09:12:27.302Z"
   },
   {
    "duration": 7,
    "start_time": "2023-07-24T09:12:27.326Z"
   },
   {
    "duration": 287,
    "start_time": "2023-07-24T09:12:27.335Z"
   },
   {
    "duration": 281,
    "start_time": "2023-07-24T09:12:27.624Z"
   },
   {
    "duration": 216,
    "start_time": "2023-07-24T09:12:27.906Z"
   },
   {
    "duration": 289,
    "start_time": "2023-07-24T09:12:28.124Z"
   },
   {
    "duration": 207,
    "start_time": "2023-07-24T09:12:28.414Z"
   },
   {
    "duration": 283,
    "start_time": "2023-07-24T09:12:28.623Z"
   },
   {
    "duration": 156,
    "start_time": "2023-07-24T09:12:28.908Z"
   },
   {
    "duration": 10,
    "start_time": "2023-07-24T09:12:29.066Z"
   },
   {
    "duration": 166,
    "start_time": "2023-07-24T09:12:29.078Z"
   },
   {
    "duration": 12,
    "start_time": "2023-07-24T09:12:29.247Z"
   },
   {
    "duration": 440,
    "start_time": "2023-07-24T09:12:29.261Z"
   },
   {
    "duration": 8,
    "start_time": "2023-07-24T09:12:29.703Z"
   },
   {
    "duration": 13,
    "start_time": "2023-07-24T09:12:29.713Z"
   },
   {
    "duration": 26,
    "start_time": "2023-07-24T09:12:29.728Z"
   },
   {
    "duration": 6,
    "start_time": "2023-07-24T09:12:29.756Z"
   },
   {
    "duration": 15,
    "start_time": "2023-07-24T09:12:29.763Z"
   },
   {
    "duration": 24,
    "start_time": "2023-07-24T09:12:29.780Z"
   },
   {
    "duration": 44,
    "start_time": "2023-07-24T09:12:29.806Z"
   },
   {
    "duration": 11,
    "start_time": "2023-07-24T09:12:29.852Z"
   },
   {
    "duration": 201,
    "start_time": "2023-07-24T09:16:32.653Z"
   },
   {
    "duration": 8,
    "start_time": "2023-07-24T09:16:41.237Z"
   },
   {
    "duration": 4,
    "start_time": "2023-07-24T09:17:21.153Z"
   },
   {
    "duration": 4,
    "start_time": "2023-07-24T09:17:55.990Z"
   },
   {
    "duration": 1254,
    "start_time": "2023-07-24T09:22:46.515Z"
   },
   {
    "duration": 81,
    "start_time": "2023-07-24T09:22:47.771Z"
   },
   {
    "duration": 12,
    "start_time": "2023-07-24T09:22:47.853Z"
   },
   {
    "duration": 11,
    "start_time": "2023-07-24T09:22:47.868Z"
   },
   {
    "duration": 33,
    "start_time": "2023-07-24T09:22:47.880Z"
   },
   {
    "duration": 26,
    "start_time": "2023-07-24T09:22:47.914Z"
   },
   {
    "duration": 84,
    "start_time": "2023-07-24T09:22:47.942Z"
   },
   {
    "duration": 93,
    "start_time": "2023-07-24T09:22:48.027Z"
   },
   {
    "duration": 5,
    "start_time": "2023-07-24T09:22:48.122Z"
   },
   {
    "duration": 103,
    "start_time": "2023-07-24T09:22:48.129Z"
   },
   {
    "duration": 12,
    "start_time": "2023-07-24T09:22:48.234Z"
   },
   {
    "duration": 56,
    "start_time": "2023-07-24T09:22:48.247Z"
   },
   {
    "duration": 14,
    "start_time": "2023-07-24T09:22:48.305Z"
   },
   {
    "duration": 294,
    "start_time": "2023-07-24T09:22:48.321Z"
   },
   {
    "duration": 300,
    "start_time": "2023-07-24T09:22:48.617Z"
   },
   {
    "duration": 215,
    "start_time": "2023-07-24T09:22:48.918Z"
   },
   {
    "duration": 302,
    "start_time": "2023-07-24T09:22:49.135Z"
   },
   {
    "duration": 206,
    "start_time": "2023-07-24T09:22:49.439Z"
   },
   {
    "duration": 277,
    "start_time": "2023-07-24T09:22:49.646Z"
   },
   {
    "duration": 151,
    "start_time": "2023-07-24T09:22:49.924Z"
   },
   {
    "duration": 23,
    "start_time": "2023-07-24T09:22:50.077Z"
   },
   {
    "duration": 158,
    "start_time": "2023-07-24T09:22:50.102Z"
   },
   {
    "duration": 12,
    "start_time": "2023-07-24T09:22:50.262Z"
   },
   {
    "duration": 449,
    "start_time": "2023-07-24T09:22:50.276Z"
   },
   {
    "duration": 6,
    "start_time": "2023-07-24T09:22:50.727Z"
   },
   {
    "duration": 20,
    "start_time": "2023-07-24T09:22:50.734Z"
   },
   {
    "duration": 44,
    "start_time": "2023-07-24T09:22:50.756Z"
   },
   {
    "duration": 5,
    "start_time": "2023-07-24T09:22:50.804Z"
   },
   {
    "duration": 12,
    "start_time": "2023-07-24T09:22:50.811Z"
   },
   {
    "duration": 9,
    "start_time": "2023-07-24T09:22:50.825Z"
   },
   {
    "duration": 33,
    "start_time": "2023-07-24T09:22:50.835Z"
   },
   {
    "duration": 32,
    "start_time": "2023-07-24T09:22:50.869Z"
   },
   {
    "duration": 1361,
    "start_time": "2023-07-24T18:48:05.768Z"
   },
   {
    "duration": 75,
    "start_time": "2023-07-24T18:48:07.132Z"
   },
   {
    "duration": 13,
    "start_time": "2023-07-24T18:48:07.209Z"
   },
   {
    "duration": 9,
    "start_time": "2023-07-24T18:48:07.224Z"
   },
   {
    "duration": 55,
    "start_time": "2023-07-24T18:48:07.235Z"
   },
   {
    "duration": 25,
    "start_time": "2023-07-24T18:48:07.292Z"
   },
   {
    "duration": 85,
    "start_time": "2023-07-24T18:48:07.319Z"
   },
   {
    "duration": 136,
    "start_time": "2023-07-24T18:48:07.406Z"
   },
   {
    "duration": 6,
    "start_time": "2023-07-24T18:48:07.543Z"
   },
   {
    "duration": 65,
    "start_time": "2023-07-24T18:48:07.550Z"
   },
   {
    "duration": 14,
    "start_time": "2023-07-24T18:48:07.617Z"
   },
   {
    "duration": 52,
    "start_time": "2023-07-24T18:48:07.633Z"
   },
   {
    "duration": 4,
    "start_time": "2023-07-24T18:48:07.686Z"
   },
   {
    "duration": 345,
    "start_time": "2023-07-24T18:48:07.694Z"
   },
   {
    "duration": 366,
    "start_time": "2023-07-24T18:48:08.040Z"
   },
   {
    "duration": 274,
    "start_time": "2023-07-24T18:48:08.409Z"
   },
   {
    "duration": 394,
    "start_time": "2023-07-24T18:48:08.685Z"
   },
   {
    "duration": 229,
    "start_time": "2023-07-24T18:48:09.080Z"
   },
   {
    "duration": 308,
    "start_time": "2023-07-24T18:48:09.311Z"
   },
   {
    "duration": 170,
    "start_time": "2023-07-24T18:48:09.621Z"
   },
   {
    "duration": 11,
    "start_time": "2023-07-24T18:48:09.793Z"
   },
   {
    "duration": 190,
    "start_time": "2023-07-24T18:48:09.806Z"
   },
   {
    "duration": 14,
    "start_time": "2023-07-24T18:48:09.997Z"
   },
   {
    "duration": 529,
    "start_time": "2023-07-24T18:48:10.013Z"
   },
   {
    "duration": 11,
    "start_time": "2023-07-24T18:48:10.544Z"
   },
   {
    "duration": 12,
    "start_time": "2023-07-24T18:48:10.561Z"
   },
   {
    "duration": 30,
    "start_time": "2023-07-24T18:48:10.575Z"
   },
   {
    "duration": 6,
    "start_time": "2023-07-24T18:48:10.606Z"
   },
   {
    "duration": 9,
    "start_time": "2023-07-24T18:48:10.614Z"
   },
   {
    "duration": 13,
    "start_time": "2023-07-24T18:48:10.625Z"
   },
   {
    "duration": 31,
    "start_time": "2023-07-24T18:48:10.651Z"
   },
   {
    "duration": 11,
    "start_time": "2023-07-24T18:48:10.684Z"
   },
   {
    "duration": 2195,
    "start_time": "2023-07-25T08:19:51.905Z"
   },
   {
    "duration": 92,
    "start_time": "2023-07-25T08:19:54.104Z"
   },
   {
    "duration": 14,
    "start_time": "2023-07-25T08:19:54.198Z"
   },
   {
    "duration": 14,
    "start_time": "2023-07-25T08:19:54.214Z"
   },
   {
    "duration": 43,
    "start_time": "2023-07-25T08:19:54.230Z"
   },
   {
    "duration": 20,
    "start_time": "2023-07-25T08:19:54.278Z"
   },
   {
    "duration": 81,
    "start_time": "2023-07-25T08:19:54.303Z"
   },
   {
    "duration": 135,
    "start_time": "2023-07-25T08:19:54.387Z"
   },
   {
    "duration": 5,
    "start_time": "2023-07-25T08:19:54.524Z"
   },
   {
    "duration": 68,
    "start_time": "2023-07-25T08:19:54.531Z"
   },
   {
    "duration": 26,
    "start_time": "2023-07-25T08:19:54.600Z"
   },
   {
    "duration": 53,
    "start_time": "2023-07-25T08:19:54.628Z"
   },
   {
    "duration": 37,
    "start_time": "2023-07-25T08:19:54.683Z"
   },
   {
    "duration": 330,
    "start_time": "2023-07-25T08:19:54.723Z"
   },
   {
    "duration": 358,
    "start_time": "2023-07-25T08:19:55.055Z"
   },
   {
    "duration": 244,
    "start_time": "2023-07-25T08:19:55.415Z"
   },
   {
    "duration": 425,
    "start_time": "2023-07-25T08:19:55.660Z"
   },
   {
    "duration": 495,
    "start_time": "2023-07-25T08:19:56.087Z"
   },
   {
    "duration": 632,
    "start_time": "2023-07-25T08:19:56.584Z"
   },
   {
    "duration": 461,
    "start_time": "2023-07-25T08:19:57.218Z"
   },
   {
    "duration": 18,
    "start_time": "2023-07-25T08:19:57.682Z"
   },
   {
    "duration": 480,
    "start_time": "2023-07-25T08:19:57.702Z"
   },
   {
    "duration": 16,
    "start_time": "2023-07-25T08:19:58.184Z"
   },
   {
    "duration": 1139,
    "start_time": "2023-07-25T08:19:58.202Z"
   },
   {
    "duration": 7,
    "start_time": "2023-07-25T08:19:59.343Z"
   },
   {
    "duration": 22,
    "start_time": "2023-07-25T08:19:59.374Z"
   },
   {
    "duration": 43,
    "start_time": "2023-07-25T08:19:59.399Z"
   },
   {
    "duration": 7,
    "start_time": "2023-07-25T08:19:59.443Z"
   },
   {
    "duration": 59,
    "start_time": "2023-07-25T08:19:59.452Z"
   },
   {
    "duration": 28,
    "start_time": "2023-07-25T08:19:59.512Z"
   },
   {
    "duration": 50,
    "start_time": "2023-07-25T08:19:59.542Z"
   },
   {
    "duration": 15,
    "start_time": "2023-07-25T08:19:59.594Z"
   },
   {
    "duration": 48,
    "start_time": "2023-08-02T13:41:59.396Z"
   },
   {
    "duration": 1158,
    "start_time": "2023-08-02T13:42:04.702Z"
   },
   {
    "duration": 150,
    "start_time": "2023-08-02T13:42:05.862Z"
   },
   {
    "duration": 11,
    "start_time": "2023-08-02T13:42:06.014Z"
   },
   {
    "duration": 42,
    "start_time": "2023-08-02T13:42:06.027Z"
   },
   {
    "duration": 61,
    "start_time": "2023-08-02T13:42:06.074Z"
   },
   {
    "duration": 28,
    "start_time": "2023-08-02T13:42:06.136Z"
   },
   {
    "duration": 112,
    "start_time": "2023-08-02T13:42:06.166Z"
   },
   {
    "duration": 225,
    "start_time": "2023-08-02T13:42:06.280Z"
   },
   {
    "duration": 5,
    "start_time": "2023-08-02T13:42:06.507Z"
   },
   {
    "duration": 70,
    "start_time": "2023-08-02T13:42:06.516Z"
   },
   {
    "duration": 18,
    "start_time": "2023-08-02T13:42:06.588Z"
   },
   {
    "duration": 51,
    "start_time": "2023-08-02T13:42:06.608Z"
   },
   {
    "duration": 4,
    "start_time": "2023-08-02T13:42:06.660Z"
   },
   {
    "duration": 329,
    "start_time": "2023-08-02T13:42:06.665Z"
   },
   {
    "duration": 321,
    "start_time": "2023-08-02T13:42:06.996Z"
   },
   {
    "duration": 232,
    "start_time": "2023-08-02T13:42:07.319Z"
   },
   {
    "duration": 363,
    "start_time": "2023-08-02T13:42:07.553Z"
   },
   {
    "duration": 224,
    "start_time": "2023-08-02T13:42:07.918Z"
   },
   {
    "duration": 351,
    "start_time": "2023-08-02T13:42:08.144Z"
   },
   {
    "duration": 148,
    "start_time": "2023-08-02T13:42:08.497Z"
   },
   {
    "duration": 9,
    "start_time": "2023-08-02T13:42:08.647Z"
   },
   {
    "duration": 198,
    "start_time": "2023-08-02T13:42:08.658Z"
   },
   {
    "duration": 26,
    "start_time": "2023-08-02T13:42:08.858Z"
   },
   {
    "duration": 470,
    "start_time": "2023-08-02T13:42:08.885Z"
   },
   {
    "duration": 7,
    "start_time": "2023-08-02T13:42:09.357Z"
   },
   {
    "duration": 39,
    "start_time": "2023-08-02T13:42:09.370Z"
   },
   {
    "duration": 4,
    "start_time": "2023-08-02T13:42:09.411Z"
   },
   {
    "duration": 48,
    "start_time": "2023-08-02T13:42:09.419Z"
   },
   {
    "duration": 31,
    "start_time": "2023-08-02T13:42:09.468Z"
   },
   {
    "duration": 26,
    "start_time": "2023-08-02T13:42:09.501Z"
   },
   {
    "duration": 20,
    "start_time": "2023-08-02T13:42:09.528Z"
   },
   {
    "duration": 55,
    "start_time": "2023-08-02T13:42:09.549Z"
   },
   {
    "duration": 12,
    "start_time": "2023-08-02T13:42:09.605Z"
   }
  ],
  "kernelspec": {
   "display_name": "Python 3 (ipykernel)",
   "language": "python",
   "name": "python3"
  },
  "language_info": {
   "codemirror_mode": {
    "name": "ipython",
    "version": 3
   },
   "file_extension": ".py",
   "mimetype": "text/x-python",
   "name": "python",
   "nbconvert_exporter": "python",
   "pygments_lexer": "ipython3",
   "version": "3.9.5"
  },
  "toc": {
   "base_numbering": 1,
   "nav_menu": {},
   "number_sections": true,
   "sideBar": true,
   "skip_h1_title": true,
   "title_cell": "Table of Contents",
   "title_sidebar": "Contents",
   "toc_cell": false,
   "toc_position": {
    "height": "calc(100% - 180px)",
    "left": "10px",
    "top": "150px",
    "width": "252px"
   },
   "toc_section_display": true,
   "toc_window_display": true
  }
 },
 "nbformat": 4,
 "nbformat_minor": 2
}
